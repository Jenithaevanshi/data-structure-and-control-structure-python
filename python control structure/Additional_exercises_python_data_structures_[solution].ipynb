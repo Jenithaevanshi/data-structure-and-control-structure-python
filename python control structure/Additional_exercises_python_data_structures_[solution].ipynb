{
 "cells": [
  {
   "cell_type": "markdown",
   "metadata": {
    "id": "_dyoAN3t7R4E"
   },
   "source": [
    "### Exercise\n",
    "Study the following code lines:\n",
    "```\n",
    "len('Python') > 2 | len('Python') < 4\n",
    "(len('Python') > 2) | (len('Python') < 4)\n",
    "```\n",
    "Which of these code lines works as expected?"
   ]
  },
  {
   "cell_type": "code",
   "execution_count": 446,
   "metadata": {
    "executionInfo": {
     "elapsed": 813,
     "status": "ok",
     "timestamp": 1722346062083,
     "user": {
      "displayName": "Aditya Shirodkar",
      "userId": "15479199146380146148"
     },
     "user_tz": -330
    },
    "id": "1q2yA58v7R4E"
   },
   "outputs": [],
   "source": [
    "# len('Python') > 2 | len('Python') < 4"
   ]
  },
  {
   "cell_type": "code",
   "execution_count": 447,
   "metadata": {
    "colab": {
     "base_uri": "https://localhost:8080/"
    },
    "executionInfo": {
     "elapsed": 49,
     "status": "ok",
     "timestamp": 1722346063663,
     "user": {
      "displayName": "Aditya Shirodkar",
      "userId": "15479199146380146148"
     },
     "user_tz": -330
    },
    "id": "O_Kuiqb97R4E",
    "outputId": "d699f02b-46ff-491c-87c3-74164cc04c8b"
   },
   "outputs": [
    {
     "data": {
      "text/plain": [
       "True"
      ]
     },
     "execution_count": 447,
     "metadata": {},
     "output_type": "execute_result"
    }
   ],
   "source": [
    "(len('Python') > 2) | (len('Python') < 4)"
   ]
  },
  {
   "cell_type": "markdown",
   "metadata": {
    "id": "bXJb1mY67R4E"
   },
   "source": [
    "### Exercise\n",
    "Study the following code lines:\n",
    "```\n",
    "len('Python') > 2 or len('Python') < 4\n",
    "(len('Python') > 2) or (len('Python') < 4)\n",
    "```\n",
    "Which of these code lines works as expected?"
   ]
  },
  {
   "cell_type": "code",
   "execution_count": 448,
   "metadata": {
    "colab": {
     "base_uri": "https://localhost:8080/"
    },
    "executionInfo": {
     "elapsed": 45,
     "status": "ok",
     "timestamp": 1722346063663,
     "user": {
      "displayName": "Aditya Shirodkar",
      "userId": "15479199146380146148"
     },
     "user_tz": -330
    },
    "id": "wKUrkipP7R4E",
    "outputId": "0b7927c5-38ae-4f9c-c967-791471f9101f"
   },
   "outputs": [
    {
     "data": {
      "text/plain": [
       "True"
      ]
     },
     "execution_count": 448,
     "metadata": {},
     "output_type": "execute_result"
    }
   ],
   "source": [
    "len('Python') > 2 or len('Python') < 4"
   ]
  },
  {
   "cell_type": "code",
   "execution_count": 449,
   "metadata": {
    "colab": {
     "base_uri": "https://localhost:8080/"
    },
    "executionInfo": {
     "elapsed": 44,
     "status": "ok",
     "timestamp": 1722346063664,
     "user": {
      "displayName": "Aditya Shirodkar",
      "userId": "15479199146380146148"
     },
     "user_tz": -330
    },
    "id": "lWGol1O37R4E",
    "outputId": "2fcefbea-00ee-45cf-f4dd-b5087ab1ece1"
   },
   "outputs": [
    {
     "data": {
      "text/plain": [
       "True"
      ]
     },
     "execution_count": 449,
     "metadata": {},
     "output_type": "execute_result"
    }
   ],
   "source": [
    "(len('Python') > 2) or (len('Python') < 4)"
   ]
  },
  {
   "cell_type": "markdown",
   "metadata": {
    "id": "jq4DWYjI7R4E"
   },
   "source": [
    "Generally, it is better to use the `and` and the `or` operators as opposed to the `&` and the `|` operators. In addition, it is better to use parentheses for each logical condition. You are encouraged to explore this further. Try querying an LLM to learn more about the differences in the way these operators work."
   ]
  },
  {
   "cell_type": "markdown",
   "metadata": {
    "id": "emUswuCqhYre"
   },
   "source": [
    "### Exercise\n",
    " Remove leading and trailing whitespaces from the string `'    Hi,   I am a robot.   '` and change the case to uppercase."
   ]
  },
  {
   "cell_type": "code",
   "execution_count": 450,
   "metadata": {
    "colab": {
     "base_uri": "https://localhost:8080/",
     "height": 35
    },
    "executionInfo": {
     "elapsed": 42,
     "status": "ok",
     "timestamp": 1722346063664,
     "user": {
      "displayName": "Aditya Shirodkar",
      "userId": "15479199146380146148"
     },
     "user_tz": -330
    },
    "id": "BV8S2VoIjOfV",
    "outputId": "f5b1561b-389c-46bc-dbf1-d673d08b4403"
   },
   "outputs": [
    {
     "data": {
      "application/vnd.google.colaboratory.intrinsic+json": {
       "type": "string"
      },
      "text/plain": [
       "'HI,   I AM A ROBOT.'"
      ]
     },
     "execution_count": 450,
     "metadata": {},
     "output_type": "execute_result"
    }
   ],
   "source": [
    "exercise_string = '    Hi,   I am a robot.   '\n",
    "exercise_string.strip().upper()"
   ]
  },
  {
   "cell_type": "markdown",
   "metadata": {
    "id": "n829Vl_E7R4G"
   },
   "source": [
    "### Exercise\n",
    "Check if the substrings `'Aarti'` and `'cooks'` both are not present in the string `'David and Ram are excellent coders!'`."
   ]
  },
  {
   "cell_type": "code",
   "execution_count": 451,
   "metadata": {
    "colab": {
     "base_uri": "https://localhost:8080/"
    },
    "executionInfo": {
     "elapsed": 41,
     "status": "ok",
     "timestamp": 1722346063664,
     "user": {
      "displayName": "Aditya Shirodkar",
      "userId": "15479199146380146148"
     },
     "user_tz": -330
    },
    "id": "l4uAkxIv7R4G",
    "outputId": "819e5184-a695-4366-f542-4945d28f2320"
   },
   "outputs": [
    {
     "data": {
      "text/plain": [
       "True"
      ]
     },
     "execution_count": 451,
     "metadata": {},
     "output_type": "execute_result"
    }
   ],
   "source": [
    "exercise_string = 'David and Ram are excellent coders!'\n",
    "'Arti' not in exercise_string and 'cooks' not in exercise_string"
   ]
  },
  {
   "cell_type": "markdown",
   "metadata": {
    "id": "9cHF24K-Nupi"
   },
   "source": [
    "### Exercise\n",
    "What is the index of the `'world'` in the string `'Hello, world of Python!'`."
   ]
  },
  {
   "cell_type": "code",
   "execution_count": 452,
   "metadata": {
    "colab": {
     "base_uri": "https://localhost:8080/"
    },
    "executionInfo": {
     "elapsed": 40,
     "status": "ok",
     "timestamp": 1722346063664,
     "user": {
      "displayName": "Aditya Shirodkar",
      "userId": "15479199146380146148"
     },
     "user_tz": -330
    },
    "id": "4wIDoKiVNupz",
    "outputId": "db7a31e0-c89b-41c1-f1e6-f5e438a4257a"
   },
   "outputs": [
    {
     "data": {
      "text/plain": [
       "7"
      ]
     },
     "execution_count": 452,
     "metadata": {},
     "output_type": "execute_result"
    }
   ],
   "source": [
    "exercise_string = 'Hello, world of Python!'\n",
    "exercise_string.find('world')"
   ]
  },
  {
   "cell_type": "markdown",
   "metadata": {
    "id": "aijzv0-Tik8m"
   },
   "source": [
    "### Exercise\n",
    "Convert the phrase `'Introduction to python programming'` to title case"
   ]
  },
  {
   "cell_type": "code",
   "execution_count": 453,
   "metadata": {
    "colab": {
     "base_uri": "https://localhost:8080/",
     "height": 35
    },
    "executionInfo": {
     "elapsed": 39,
     "status": "ok",
     "timestamp": 1722346063664,
     "user": {
      "displayName": "Aditya Shirodkar",
      "userId": "15479199146380146148"
     },
     "user_tz": -330
    },
    "id": "dHbxrGXFpUbm",
    "outputId": "65045793-8ea4-4fa5-e158-451c757c2a7f"
   },
   "outputs": [
    {
     "data": {
      "application/vnd.google.colaboratory.intrinsic+json": {
       "type": "string"
      },
      "text/plain": [
       "'Introduction To Python Programming'"
      ]
     },
     "execution_count": 453,
     "metadata": {},
     "output_type": "execute_result"
    }
   ],
   "source": [
    "exercise_string = 'Introduction to python programming'\n",
    "exercise_string.title()"
   ]
  },
  {
   "cell_type": "markdown",
   "metadata": {
    "id": "kvp6YqtJ7R4W"
   },
   "source": [
    "### Exercise\n",
    "Rectify the sentence `'Pthyon     programmIng  Is awesome!'`"
   ]
  },
  {
   "cell_type": "code",
   "execution_count": 454,
   "metadata": {
    "colab": {
     "base_uri": "https://localhost:8080/",
     "height": 35
    },
    "executionInfo": {
     "elapsed": 38,
     "status": "ok",
     "timestamp": 1722346063664,
     "user": {
      "displayName": "Aditya Shirodkar",
      "userId": "15479199146380146148"
     },
     "user_tz": -330
    },
    "id": "pa2wFxk67R4W",
    "outputId": "c7bb908f-fbf0-411b-8add-96670125d377"
   },
   "outputs": [
    {
     "data": {
      "application/vnd.google.colaboratory.intrinsic+json": {
       "type": "string"
      },
      "text/plain": [
       "'Python programming is awesome!'"
      ]
     },
     "execution_count": 454,
     "metadata": {},
     "output_type": "execute_result"
    }
   ],
   "source": [
    "exercise_string = 'Pthyon     programmIng  Is awesome!'\n",
    "exercise_string.strip().replace('thy', 'yth').replace('I', 'i').replace('     ', ' ').replace('  ', ' ')"
   ]
  },
  {
   "cell_type": "code",
   "execution_count": 455,
   "metadata": {
    "colab": {
     "base_uri": "https://localhost:8080/",
     "height": 35
    },
    "executionInfo": {
     "elapsed": 37,
     "status": "ok",
     "timestamp": 1722346063664,
     "user": {
      "displayName": "Aditya Shirodkar",
      "userId": "15479199146380146148"
     },
     "user_tz": -330
    },
    "id": "YRFE4vXt7R4W",
    "outputId": "f6ed1e36-1fac-4f6a-dce9-61bbc1d1cad0"
   },
   "outputs": [
    {
     "data": {
      "application/vnd.google.colaboratory.intrinsic+json": {
       "type": "string"
      },
      "text/plain": [
       "'Python programming is awesome!'"
      ]
     },
     "execution_count": 455,
     "metadata": {},
     "output_type": "execute_result"
    }
   ],
   "source": [
    "exercise_string = 'Pthyon     programmIng  Is awesome!'\n",
    "' '.join(exercise_string.split()).replace('thy', 'yth').replace('I', 'i')"
   ]
  },
  {
   "cell_type": "markdown",
   "metadata": {
    "id": "WKa4W9_2ILJ7"
   },
   "source": [
    "### Exercise\n",
    "Print the last element from the following list: `[14, 4.4, 10, -1, [100]]`."
   ]
  },
  {
   "cell_type": "code",
   "execution_count": 456,
   "metadata": {
    "colab": {
     "base_uri": "https://localhost:8080/"
    },
    "executionInfo": {
     "elapsed": 26,
     "status": "ok",
     "timestamp": 1722346063664,
     "user": {
      "displayName": "Aditya Shirodkar",
      "userId": "15479199146380146148"
     },
     "user_tz": -330
    },
    "id": "QYgQgEkxIS-3",
    "outputId": "2ad0a409-7116-48e2-9681-204b620edea7"
   },
   "outputs": [
    {
     "data": {
      "text/plain": [
       "[100]"
      ]
     },
     "execution_count": 456,
     "metadata": {},
     "output_type": "execute_result"
    }
   ],
   "source": [
    "some_list = [14, 4.4, 10, -1, [100]]\n",
    "some_list[4]"
   ]
  },
  {
   "cell_type": "code",
   "execution_count": 457,
   "metadata": {
    "colab": {
     "base_uri": "https://localhost:8080/"
    },
    "executionInfo": {
     "elapsed": 22,
     "status": "ok",
     "timestamp": 1722346063664,
     "user": {
      "displayName": "Aditya Shirodkar",
      "userId": "15479199146380146148"
     },
     "user_tz": -330
    },
    "id": "b2y0SOGtIgyK",
    "outputId": "e1e0da8a-f58c-4bc5-9ebf-f1edfe0899a2"
   },
   "outputs": [
    {
     "data": {
      "text/plain": [
       "[100]"
      ]
     },
     "execution_count": 457,
     "metadata": {},
     "output_type": "execute_result"
    }
   ],
   "source": [
    "some_list = [14, 4.4, 10, -1, [100]]\n",
    "some_list[len(some_list) - 1]"
   ]
  },
  {
   "cell_type": "code",
   "execution_count": 458,
   "metadata": {
    "colab": {
     "base_uri": "https://localhost:8080/"
    },
    "executionInfo": {
     "elapsed": 20,
     "status": "ok",
     "timestamp": 1722346063664,
     "user": {
      "displayName": "Aditya Shirodkar",
      "userId": "15479199146380146148"
     },
     "user_tz": -330
    },
    "id": "iJqMbVFmIm1X",
    "outputId": "de21e7f7-7df1-4831-8bc6-a7888a29f17a"
   },
   "outputs": [
    {
     "data": {
      "text/plain": [
       "[100]"
      ]
     },
     "execution_count": 458,
     "metadata": {},
     "output_type": "execute_result"
    }
   ],
   "source": [
    "some_list = [14, 4.4, 10, -1, [100]]\n",
    "some_list[-1]"
   ]
  },
  {
   "cell_type": "markdown",
   "metadata": {
    "id": "xaUPyZ3XNxPj"
   },
   "source": [
    "### Exercise\n",
    "Find the smallest element in the following list: `[15, 25, 10, 35, 20, -1, 0, -20]`."
   ]
  },
  {
   "cell_type": "code",
   "execution_count": 459,
   "metadata": {
    "colab": {
     "base_uri": "https://localhost:8080/"
    },
    "executionInfo": {
     "elapsed": 19,
     "status": "ok",
     "timestamp": 1722346063665,
     "user": {
      "displayName": "Aditya Shirodkar",
      "userId": "15479199146380146148"
     },
     "user_tz": -330
    },
    "id": "WDLlXzBXOrj-",
    "outputId": "945f26bd-6e1d-47d4-ecf1-e7558492638a"
   },
   "outputs": [
    {
     "data": {
      "text/plain": [
       "-20"
      ]
     },
     "execution_count": 459,
     "metadata": {},
     "output_type": "execute_result"
    }
   ],
   "source": [
    "some_list = [15, 25, 10, 35, 20, -1, 0, -20]\n",
    "min(some_list)"
   ]
  },
  {
   "cell_type": "markdown",
   "metadata": {
    "id": "zV-2tkZ_IV3y"
   },
   "source": [
    "###Quiz\n",
    "\n",
    "You are building a task scheduler application. You have the following list of tasks:\n",
    "\n",
    "`tasks = ['Read', 'Write', 'Code', 'Exercise', 'Sleep']`\n",
    "\n",
    "Add a new task to the list by prompting user."
   ]
  },
  {
   "cell_type": "code",
   "execution_count": 1,
   "metadata": {
    "colab": {
     "base_uri": "https://localhost:8080/"
    },
    "executionInfo": {
     "elapsed": 3592,
     "status": "ok",
     "timestamp": 1722346067241,
     "user": {
      "displayName": "Aditya Shirodkar",
      "userId": "15479199146380146148"
     },
     "user_tz": -330
    },
    "id": "QQTYTE_2qTsJ",
    "outputId": "f8f6f2ed-e211-4006-acbc-223b33b3a4c9"
   },
   "outputs": [
    {
     "name": "stdin",
     "output_type": "stream",
     "text": [
      "Enter new task:  cook\n"
     ]
    },
    {
     "data": {
      "text/plain": [
       "['Read', 'Write', 'Code', 'Exercise', 'cook']"
      ]
     },
     "execution_count": 1,
     "metadata": {},
     "output_type": "execute_result"
    }
   ],
   "source": [
    "tasks = ['Read', 'Write', 'Code', 'Exercise']\n",
    "new_task = input('Enter new task: ')\n",
    "tasks.append(new_task)\n",
    "tasks"
   ]
  },
  {
   "cell_type": "markdown",
   "metadata": {
    "id": "L6M8HhcDL2Ti"
   },
   "source": [
    "### Exercise\n",
    "You are given two lists representing sales data for a month:\n",
    "\n",
    "```\n",
    "dates = [\"2023-01-01\", \"2023-01-02\", \"2023-01-03\", \"2023-01-04\", \"2023-01-05\"]\n",
    "sales = [120.50, 45.20, 200.00, 30.00, 80.60]\n",
    "```\n",
    "\n",
    "Assume the sales are made in the same order as the dates.\n",
    "\n",
    "1. Calculate and print the total sales for the month.\n",
    "2. Identify and print the date(s) with the highest sales.\n",
    "3. Calculate and print the average daily sales.\n",
    "4. Identify and print the date(s) with the lowest sales.\n",
    "\n",
    "\n",
    "\n"
   ]
  },
  {
   "cell_type": "code",
   "execution_count": 461,
   "metadata": {
    "colab": {
     "base_uri": "https://localhost:8080/"
    },
    "executionInfo": {
     "elapsed": 96,
     "status": "ok",
     "timestamp": 1722346067242,
     "user": {
      "displayName": "Aditya Shirodkar",
      "userId": "15479199146380146148"
     },
     "user_tz": -330
    },
    "id": "QYMDZvunMnPI",
    "outputId": "60d11ef3-40d2-41d3-dddb-c222561469d0"
   },
   "outputs": [
    {
     "data": {
      "text/plain": [
       "['2023-01-01', '2023-01-02', '2023-01-03', '2023-01-04', '2023-01-05']"
      ]
     },
     "execution_count": 461,
     "metadata": {},
     "output_type": "execute_result"
    }
   ],
   "source": [
    "dates = [\"2023-01-01\", \"2023-01-02\", \"2023-01-03\", \"2023-01-04\", \"2023-01-05\"]\n",
    "dates"
   ]
  },
  {
   "cell_type": "code",
   "execution_count": 462,
   "metadata": {
    "colab": {
     "base_uri": "https://localhost:8080/"
    },
    "executionInfo": {
     "elapsed": 91,
     "status": "ok",
     "timestamp": 1722346067242,
     "user": {
      "displayName": "Aditya Shirodkar",
      "userId": "15479199146380146148"
     },
     "user_tz": -330
    },
    "id": "4e5HsjRrMrPR",
    "outputId": "4c534b91-1c1d-45a0-d1e1-6af8e1f4dbdc"
   },
   "outputs": [
    {
     "data": {
      "text/plain": [
       "[120.5, 45.2, 200.0, 30.0, 80.6]"
      ]
     },
     "execution_count": 462,
     "metadata": {},
     "output_type": "execute_result"
    }
   ],
   "source": [
    "sales = [120.50, 45.20, 200.00, 30.00, 80.60]\n",
    "sales"
   ]
  },
  {
   "cell_type": "code",
   "execution_count": 463,
   "metadata": {
    "executionInfo": {
     "elapsed": 89,
     "status": "ok",
     "timestamp": 1722346067242,
     "user": {
      "displayName": "Aditya Shirodkar",
      "userId": "15479199146380146148"
     },
     "user_tz": -330
    },
    "id": "EDsnOoqhKLx_"
   },
   "outputs": [],
   "source": [
    "# 1. Solution\n",
    "tot_sales = sum(sales)"
   ]
  },
  {
   "cell_type": "code",
   "execution_count": 464,
   "metadata": {
    "colab": {
     "base_uri": "https://localhost:8080/"
    },
    "executionInfo": {
     "elapsed": 89,
     "status": "ok",
     "timestamp": 1722346067242,
     "user": {
      "displayName": "Aditya Shirodkar",
      "userId": "15479199146380146148"
     },
     "user_tz": -330
    },
    "id": "bwXLWnITM0UE",
    "outputId": "66174a52-a223-4a4c-e385-64bef442dcce"
   },
   "outputs": [
    {
     "data": {
      "text/plain": [
       "476.29999999999995"
      ]
     },
     "execution_count": 464,
     "metadata": {},
     "output_type": "execute_result"
    }
   ],
   "source": [
    "tot_sales"
   ]
  },
  {
   "cell_type": "code",
   "execution_count": 465,
   "metadata": {
    "colab": {
     "base_uri": "https://localhost:8080/"
    },
    "executionInfo": {
     "elapsed": 87,
     "status": "ok",
     "timestamp": 1722346067242,
     "user": {
      "displayName": "Aditya Shirodkar",
      "userId": "15479199146380146148"
     },
     "user_tz": -330
    },
    "id": "cf9HjSdpM6Eb",
    "outputId": "3b0c0705-4411-43eb-c243-c83a1f952b24"
   },
   "outputs": [
    {
     "data": {
      "text/plain": [
       "2"
      ]
     },
     "execution_count": 465,
     "metadata": {},
     "output_type": "execute_result"
    }
   ],
   "source": [
    "# 2. Solution\n",
    "max_sales_pos = sales.index(max(sales))\n",
    "max_sales_pos"
   ]
  },
  {
   "cell_type": "code",
   "execution_count": 466,
   "metadata": {
    "colab": {
     "base_uri": "https://localhost:8080/",
     "height": 35
    },
    "executionInfo": {
     "elapsed": 86,
     "status": "ok",
     "timestamp": 1722346067242,
     "user": {
      "displayName": "Aditya Shirodkar",
      "userId": "15479199146380146148"
     },
     "user_tz": -330
    },
    "id": "LK0-nMIONgxd",
    "outputId": "3d7affae-dbec-4303-f82b-a2af757d1126"
   },
   "outputs": [
    {
     "data": {
      "application/vnd.google.colaboratory.intrinsic+json": {
       "type": "string"
      },
      "text/plain": [
       "'2023-01-03'"
      ]
     },
     "execution_count": 466,
     "metadata": {},
     "output_type": "execute_result"
    }
   ],
   "source": [
    "dates[max_sales_pos]"
   ]
  },
  {
   "cell_type": "code",
   "execution_count": 467,
   "metadata": {
    "executionInfo": {
     "elapsed": 85,
     "status": "ok",
     "timestamp": 1722346067242,
     "user": {
      "displayName": "Aditya Shirodkar",
      "userId": "15479199146380146148"
     },
     "user_tz": -330
    },
    "id": "2XydhhRxNmL0"
   },
   "outputs": [],
   "source": [
    "# 3. Solution"
   ]
  },
  {
   "cell_type": "code",
   "execution_count": 468,
   "metadata": {
    "executionInfo": {
     "elapsed": 85,
     "status": "ok",
     "timestamp": 1722346067242,
     "user": {
      "displayName": "Aditya Shirodkar",
      "userId": "15479199146380146148"
     },
     "user_tz": -330
    },
    "id": "qAOPyiPlNtso"
   },
   "outputs": [],
   "source": [
    "mean_sale = tot_sales / len(sales)"
   ]
  },
  {
   "cell_type": "code",
   "execution_count": 469,
   "metadata": {
    "colab": {
     "base_uri": "https://localhost:8080/"
    },
    "executionInfo": {
     "elapsed": 85,
     "status": "ok",
     "timestamp": 1722346067242,
     "user": {
      "displayName": "Aditya Shirodkar",
      "userId": "15479199146380146148"
     },
     "user_tz": -330
    },
    "id": "CDatG3t7N14J",
    "outputId": "2884d0ed-c56a-4c8d-cbe2-56ca22ade380"
   },
   "outputs": [
    {
     "data": {
      "text/plain": [
       "95.25999999999999"
      ]
     },
     "execution_count": 469,
     "metadata": {},
     "output_type": "execute_result"
    }
   ],
   "source": [
    "mean_sale"
   ]
  },
  {
   "cell_type": "code",
   "execution_count": 470,
   "metadata": {
    "colab": {
     "base_uri": "https://localhost:8080/"
    },
    "executionInfo": {
     "elapsed": 84,
     "status": "ok",
     "timestamp": 1722346067243,
     "user": {
      "displayName": "Aditya Shirodkar",
      "userId": "15479199146380146148"
     },
     "user_tz": -330
    },
    "id": "UOkW2WpVN413",
    "outputId": "5353f7aa-0c7b-4bdc-e273-3a34032a78e6"
   },
   "outputs": [
    {
     "data": {
      "text/plain": [
       "3"
      ]
     },
     "execution_count": 470,
     "metadata": {},
     "output_type": "execute_result"
    }
   ],
   "source": [
    "# 4. Solution\n",
    "min_sales_pos = sales.index(min(sales))\n",
    "min_sales_pos"
   ]
  },
  {
   "cell_type": "code",
   "execution_count": 471,
   "metadata": {
    "colab": {
     "base_uri": "https://localhost:8080/",
     "height": 35
    },
    "executionInfo": {
     "elapsed": 83,
     "status": "ok",
     "timestamp": 1722346067243,
     "user": {
      "displayName": "Aditya Shirodkar",
      "userId": "15479199146380146148"
     },
     "user_tz": -330
    },
    "id": "Tij08n5xOAxz",
    "outputId": "5f0f5400-b04a-4282-bf84-e4666db735d1"
   },
   "outputs": [
    {
     "data": {
      "application/vnd.google.colaboratory.intrinsic+json": {
       "type": "string"
      },
      "text/plain": [
       "'2023-01-04'"
      ]
     },
     "execution_count": 471,
     "metadata": {},
     "output_type": "execute_result"
    }
   ],
   "source": [
    "dates[min_sales_pos]"
   ]
  },
  {
   "cell_type": "markdown",
   "metadata": {
    "id": "EAi2rUGTWdl-"
   },
   "source": [
    "### Exercise\n",
    "What is the output of `int(str(42))`? What is the output of `str(int('42'))`?"
   ]
  },
  {
   "cell_type": "code",
   "execution_count": 472,
   "metadata": {
    "colab": {
     "base_uri": "https://localhost:8080/"
    },
    "executionInfo": {
     "elapsed": 82,
     "status": "ok",
     "timestamp": 1722346067243,
     "user": {
      "displayName": "Aditya Shirodkar",
      "userId": "15479199146380146148"
     },
     "user_tz": -330
    },
    "id": "n0IvmT8yAi5E",
    "outputId": "f5370a3d-e0bf-4600-ffec-6211db453b1f"
   },
   "outputs": [
    {
     "data": {
      "text/plain": [
       "42"
      ]
     },
     "execution_count": 472,
     "metadata": {},
     "output_type": "execute_result"
    }
   ],
   "source": [
    "int(str(42))"
   ]
  },
  {
   "cell_type": "code",
   "execution_count": 473,
   "metadata": {
    "colab": {
     "base_uri": "https://localhost:8080/",
     "height": 35
    },
    "executionInfo": {
     "elapsed": 81,
     "status": "ok",
     "timestamp": 1722346067243,
     "user": {
      "displayName": "Aditya Shirodkar",
      "userId": "15479199146380146148"
     },
     "user_tz": -330
    },
    "id": "7bWaN2Ys7R34",
    "outputId": "d6274145-8728-4b8e-e08b-0ea5dcebff17"
   },
   "outputs": [
    {
     "data": {
      "application/vnd.google.colaboratory.intrinsic+json": {
       "type": "string"
      },
      "text/plain": [
       "'42'"
      ]
     },
     "execution_count": 473,
     "metadata": {},
     "output_type": "execute_result"
    }
   ],
   "source": [
    "str(int('42'))"
   ]
  },
  {
   "cell_type": "markdown",
   "metadata": {
    "id": "-bcRk-01EQoY"
   },
   "source": [
    "### Exercise\n",
    "Store the string `'Hello world!'` in a variable called `hello_str` and print it."
   ]
  },
  {
   "cell_type": "code",
   "execution_count": 474,
   "metadata": {
    "colab": {
     "base_uri": "https://localhost:8080/"
    },
    "executionInfo": {
     "elapsed": 80,
     "status": "ok",
     "timestamp": 1722346067243,
     "user": {
      "displayName": "Aditya Shirodkar",
      "userId": "15479199146380146148"
     },
     "user_tz": -330
    },
    "id": "vgKkBxsmEal2",
    "outputId": "b2e16b0f-f85e-4080-9175-42689d0949c6"
   },
   "outputs": [
    {
     "name": "stdout",
     "output_type": "stream",
     "text": [
      "Hello world!\n"
     ]
    }
   ],
   "source": [
    "hello_str = 'Hello world!'\n",
    "print(hello_str)"
   ]
  },
  {
   "cell_type": "markdown",
   "metadata": {
    "id": "DmzDMCYU7R3_"
   },
   "source": [
    "Print the seventh character from `hello_str`."
   ]
  },
  {
   "cell_type": "code",
   "execution_count": 475,
   "metadata": {
    "colab": {
     "base_uri": "https://localhost:8080/",
     "height": 35
    },
    "executionInfo": {
     "elapsed": 79,
     "status": "ok",
     "timestamp": 1722346067243,
     "user": {
      "displayName": "Aditya Shirodkar",
      "userId": "15479199146380146148"
     },
     "user_tz": -330
    },
    "id": "sy5vho5-7R3_",
    "outputId": "96408257-ee9c-4461-ede9-15e139a988c1"
   },
   "outputs": [
    {
     "data": {
      "application/vnd.google.colaboratory.intrinsic+json": {
       "type": "string"
      },
      "text/plain": [
       "'w'"
      ]
     },
     "execution_count": 475,
     "metadata": {},
     "output_type": "execute_result"
    }
   ],
   "source": [
    "hello_str[6]"
   ]
  },
  {
   "cell_type": "markdown",
   "metadata": {
    "id": "burCs2ov7R3_"
   },
   "source": [
    "Print the last character from `hello_str`."
   ]
  },
  {
   "cell_type": "code",
   "execution_count": 476,
   "metadata": {
    "colab": {
     "base_uri": "https://localhost:8080/",
     "height": 35
    },
    "executionInfo": {
     "elapsed": 77,
     "status": "ok",
     "timestamp": 1722346067243,
     "user": {
      "displayName": "Aditya Shirodkar",
      "userId": "15479199146380146148"
     },
     "user_tz": -330
    },
    "id": "ItON-QGp7R3_",
    "outputId": "ad5520d8-878b-4c41-b26f-68d5db642067"
   },
   "outputs": [
    {
     "data": {
      "application/vnd.google.colaboratory.intrinsic+json": {
       "type": "string"
      },
      "text/plain": [
       "'!'"
      ]
     },
     "execution_count": 476,
     "metadata": {},
     "output_type": "execute_result"
    }
   ],
   "source": [
    "hello_str[-1]"
   ]
  },
  {
   "cell_type": "markdown",
   "metadata": {
    "id": "7bTmovmW7Y6b"
   },
   "source": [
    "### Exercise\n",
    "Extract the string `'program'` from the sentence `'I find Python programming very interesting!'`"
   ]
  },
  {
   "cell_type": "code",
   "execution_count": 477,
   "metadata": {
    "colab": {
     "base_uri": "https://localhost:8080/",
     "height": 35
    },
    "executionInfo": {
     "elapsed": 77,
     "status": "ok",
     "timestamp": 1722346067243,
     "user": {
      "displayName": "Aditya Shirodkar",
      "userId": "15479199146380146148"
     },
     "user_tz": -330
    },
    "id": "TFcx7GfN786E",
    "outputId": "cec796f8-ca3a-4846-bee5-ed58d62ac212"
   },
   "outputs": [
    {
     "data": {
      "application/vnd.google.colaboratory.intrinsic+json": {
       "type": "string"
      },
      "text/plain": [
       "'program'"
      ]
     },
     "execution_count": 477,
     "metadata": {},
     "output_type": "execute_result"
    }
   ],
   "source": [
    "exercise_string = 'I find Python programming very interesting!'\n",
    "exercise_string[14:21]"
   ]
  },
  {
   "cell_type": "markdown",
   "metadata": {
    "id": "zCUW9JiAKGx4"
   },
   "source": [
    "### Exercise\n",
    "How many times does `'I'` occur in the string `'I am Jane. I was born in Canada. I like programming.'`?"
   ]
  },
  {
   "cell_type": "code",
   "execution_count": 478,
   "metadata": {
    "colab": {
     "base_uri": "https://localhost:8080/"
    },
    "executionInfo": {
     "elapsed": 76,
     "status": "ok",
     "timestamp": 1722346067243,
     "user": {
      "displayName": "Aditya Shirodkar",
      "userId": "15479199146380146148"
     },
     "user_tz": -330
    },
    "id": "sjRDWCuCKdtN",
    "outputId": "fd4c474e-a4c2-420e-ef12-75ae76b5f638"
   },
   "outputs": [
    {
     "data": {
      "text/plain": [
       "3"
      ]
     },
     "execution_count": 478,
     "metadata": {},
     "output_type": "execute_result"
    }
   ],
   "source": [
    "exercise_string = 'I am Jane. I was born in Canada. I like programming.'\n",
    "exercise_string.count('I')"
   ]
  },
  {
   "cell_type": "markdown",
   "metadata": {
    "id": "Mh3a7LNx7R4P"
   },
   "source": [
    "### Exercise\n",
    "Sort the following strings lexicographically and print them in the ascending order:\n",
    "```\n",
    "'Python'\n",
    "'programming'\n",
    "'Matlab'\n",
    "'Data'\n",
    "'upGrad'\n",
    "```\n",
    "**Hint:** Obtain the ASCII values of the first character of each string and then print them in ascending order of ASCII values"
   ]
  },
  {
   "cell_type": "code",
   "execution_count": 479,
   "metadata": {
    "colab": {
     "base_uri": "https://localhost:8080/"
    },
    "executionInfo": {
     "elapsed": 74,
     "status": "ok",
     "timestamp": 1722346067243,
     "user": {
      "displayName": "Aditya Shirodkar",
      "userId": "15479199146380146148"
     },
     "user_tz": -330
    },
    "id": "WfKiUEAR7R4P",
    "outputId": "0a76b5a7-d28b-40cb-a7da-77b12103b342"
   },
   "outputs": [
    {
     "name": "stdout",
     "output_type": "stream",
     "text": [
      "80 112 77 68 117\n"
     ]
    }
   ],
   "source": [
    "print(ord('P'), ord('p'), ord('M'), ord('D'), ord('u'))"
   ]
  },
  {
   "cell_type": "code",
   "execution_count": 480,
   "metadata": {
    "colab": {
     "base_uri": "https://localhost:8080/"
    },
    "executionInfo": {
     "elapsed": 73,
     "status": "ok",
     "timestamp": 1722346067243,
     "user": {
      "displayName": "Aditya Shirodkar",
      "userId": "15479199146380146148"
     },
     "user_tz": -330
    },
    "id": "zxYgMIeQ7R4Q",
    "outputId": "00ffd736-e249-4788-bc22-113aa91e9f6f"
   },
   "outputs": [
    {
     "name": "stdout",
     "output_type": "stream",
     "text": [
      "Data Matlab Python programming upGrad\n"
     ]
    }
   ],
   "source": [
    "print('Data', 'Matlab', 'Python', 'programming', 'upGrad')"
   ]
  },
  {
   "cell_type": "markdown",
   "metadata": {
    "id": "0T-qD3rsByxa"
   },
   "source": [
    "### Exercise\n",
    "Sort `[19, 2, 4, 23]` in descending order."
   ]
  },
  {
   "cell_type": "code",
   "execution_count": 481,
   "metadata": {
    "colab": {
     "base_uri": "https://localhost:8080/"
    },
    "executionInfo": {
     "elapsed": 72,
     "status": "ok",
     "timestamp": 1722346067243,
     "user": {
      "displayName": "Aditya Shirodkar",
      "userId": "15479199146380146148"
     },
     "user_tz": -330
    },
    "id": "6gR1UI5HCHrZ",
    "outputId": "7f2e1764-f4d3-4234-f52f-bc021c60a3a5"
   },
   "outputs": [
    {
     "data": {
      "text/plain": [
       "[23, 19, 4, 2]"
      ]
     },
     "execution_count": 481,
     "metadata": {},
     "output_type": "execute_result"
    }
   ],
   "source": [
    "sorted([19, 2, 4, 23], reverse = True)"
   ]
  },
  {
   "cell_type": "markdown",
   "metadata": {
    "id": "EfRk8telTPia"
   },
   "source": [
    "### Exercise\n",
    "Find the sum of all the odd numbers in the list `[10, 20, 5, 30, 40, 15]`."
   ]
  },
  {
   "cell_type": "code",
   "execution_count": 482,
   "metadata": {
    "colab": {
     "base_uri": "https://localhost:8080/"
    },
    "executionInfo": {
     "elapsed": 70,
     "status": "ok",
     "timestamp": 1722346067243,
     "user": {
      "displayName": "Aditya Shirodkar",
      "userId": "15479199146380146148"
     },
     "user_tz": -330
    },
    "id": "GyUnvEmOUPrQ",
    "outputId": "c0eca119-e2eb-4e4e-cf6e-764d855852ff"
   },
   "outputs": [
    {
     "data": {
      "text/plain": [
       "112"
      ]
     },
     "execution_count": 482,
     "metadata": {},
     "output_type": "execute_result"
    }
   ],
   "source": [
    "num_list = [17, 42, 9, 33, 8, 25, 12, 7, 16, 21]\n",
    "odd_nums = [num for num in num_list if num % 2 != 0]\n",
    "sum(odd_nums)"
   ]
  },
  {
   "cell_type": "markdown",
   "metadata": {
    "id": "TKdu1f9F7R4Q"
   },
   "source": [
    "### Exercise\n",
    "Study the following string variables:\n",
    "```\n",
    "name = 'Mehmood'\n",
    "age = 45\n",
    "domain = 'IT'\n",
    "role = 'software developer'\n",
    "```\n",
    "Concatenate these variables to produce the string `'Mehmood is a 45 year old software developer working in the IT team.'` Note that you may need to change the types of certain variables for concatenation to work."
   ]
  },
  {
   "cell_type": "code",
   "execution_count": 483,
   "metadata": {
    "colab": {
     "base_uri": "https://localhost:8080/"
    },
    "executionInfo": {
     "elapsed": 69,
     "status": "ok",
     "timestamp": 1722346067244,
     "user": {
      "displayName": "Aditya Shirodkar",
      "userId": "15479199146380146148"
     },
     "user_tz": -330
    },
    "id": "OOCgK98p7R4Q",
    "outputId": "89480b14-fd17-4905-dccf-f115411961af"
   },
   "outputs": [
    {
     "name": "stdout",
     "output_type": "stream",
     "text": [
      "Mehmood is a 45 year old software developer working in the IT team.\n"
     ]
    }
   ],
   "source": [
    "name = 'Mehmood'\n",
    "age = 45\n",
    "domain = 'IT'\n",
    "role = 'software developer'\n",
    "print(name + ' is a ' + str(age) + ' year old ' + role + ' working in the ' + domain + ' team.')"
   ]
  },
  {
   "cell_type": "markdown",
   "metadata": {
    "id": "xN8U0gymFd8M"
   },
   "source": [
    "### Exercise\n",
    "Print the fourth element from the following list: `[17, 42, 9, 33, 8]`."
   ]
  },
  {
   "cell_type": "code",
   "execution_count": 484,
   "metadata": {
    "colab": {
     "base_uri": "https://localhost:8080/"
    },
    "executionInfo": {
     "elapsed": 67,
     "status": "ok",
     "timestamp": 1722346067244,
     "user": {
      "displayName": "Aditya Shirodkar",
      "userId": "15479199146380146148"
     },
     "user_tz": -330
    },
    "id": "slbAA22PFmCP",
    "outputId": "3db261d4-d776-4383-bf8d-1b9f82c61539"
   },
   "outputs": [
    {
     "data": {
      "text/plain": [
       "33"
      ]
     },
     "execution_count": 484,
     "metadata": {},
     "output_type": "execute_result"
    }
   ],
   "source": [
    "some_list = [17, 42, 9, 33, 8]\n",
    "some_list[3]"
   ]
  },
  {
   "cell_type": "markdown",
   "metadata": {
    "id": "bmNCdQbFNECs"
   },
   "source": [
    "Print the middle two elements from the list `[23, -14, 22, 134]`."
   ]
  },
  {
   "cell_type": "code",
   "execution_count": 485,
   "metadata": {
    "colab": {
     "base_uri": "https://localhost:8080/"
    },
    "executionInfo": {
     "elapsed": 65,
     "status": "ok",
     "timestamp": 1722346067244,
     "user": {
      "displayName": "Aditya Shirodkar",
      "userId": "15479199146380146148"
     },
     "user_tz": -330
    },
    "id": "eoX6S2nENMcp",
    "outputId": "61f42cec-86c4-4b64-a28d-2987f07470e7"
   },
   "outputs": [
    {
     "data": {
      "text/plain": [
       "[-14, 22]"
      ]
     },
     "execution_count": 485,
     "metadata": {},
     "output_type": "execute_result"
    }
   ],
   "source": [
    "some_list = [23, -14, 22, 134]\n",
    "some_list[1:3]"
   ]
  },
  {
   "cell_type": "markdown",
   "metadata": {
    "id": "_ldUFxqb7R4U"
   },
   "source": [
    "### Exercise\n",
    "Replace all commas with semi-colons in the sentence `'Rainy, sunny, cloudy are types of weather'`"
   ]
  },
  {
   "cell_type": "code",
   "execution_count": 486,
   "metadata": {
    "colab": {
     "base_uri": "https://localhost:8080/",
     "height": 35
    },
    "executionInfo": {
     "elapsed": 64,
     "status": "ok",
     "timestamp": 1722346067244,
     "user": {
      "displayName": "Aditya Shirodkar",
      "userId": "15479199146380146148"
     },
     "user_tz": -330
    },
    "id": "jdpDHev27R4U",
    "outputId": "68287bc4-573b-44d4-8e9b-734f0806842a"
   },
   "outputs": [
    {
     "data": {
      "application/vnd.google.colaboratory.intrinsic+json": {
       "type": "string"
      },
      "text/plain": [
       "'Rainy; sunny; cloudy are types of weather'"
      ]
     },
     "execution_count": 486,
     "metadata": {},
     "output_type": "execute_result"
    }
   ],
   "source": [
    "exercise_string = 'Rainy, sunny, cloudy are types of weather'\n",
    "exercise_string.replace(',', ';')"
   ]
  },
  {
   "cell_type": "markdown",
   "metadata": {
    "id": "yWs-aFsniqH_"
   },
   "source": [
    "### Exercise\n",
    "Clean the sentence `' Why is it lkie this? I dont know! '`"
   ]
  },
  {
   "cell_type": "code",
   "execution_count": 487,
   "metadata": {
    "colab": {
     "base_uri": "https://localhost:8080/",
     "height": 35
    },
    "executionInfo": {
     "elapsed": 63,
     "status": "ok",
     "timestamp": 1722346067244,
     "user": {
      "displayName": "Aditya Shirodkar",
      "userId": "15479199146380146148"
     },
     "user_tz": -330
    },
    "id": "bBnlw8F0o7ye",
    "outputId": "34e62320-959c-468b-9e78-0e96c1a3bd1f"
   },
   "outputs": [
    {
     "data": {
      "application/vnd.google.colaboratory.intrinsic+json": {
       "type": "string"
      },
      "text/plain": [
       "\"Why is it like this? I don't know!\""
      ]
     },
     "execution_count": 487,
     "metadata": {},
     "output_type": "execute_result"
    }
   ],
   "source": [
    "exercise_string = ' Why is it lkie this? I dont know! '\n",
    "exercise_string.replace('lkie', 'like').replace('dont', 'don\\'t').strip()"
   ]
  },
  {
   "cell_type": "markdown",
   "metadata": {
    "id": "0QzfP_12ig_P"
   },
   "source": [
    "Split the string `'This#statement#is#hard#to#read.'` using the right separator and join the substrings back to produce a proper sentence"
   ]
  },
  {
   "cell_type": "code",
   "execution_count": 488,
   "metadata": {
    "colab": {
     "base_uri": "https://localhost:8080/",
     "height": 35
    },
    "executionInfo": {
     "elapsed": 62,
     "status": "ok",
     "timestamp": 1722346067244,
     "user": {
      "displayName": "Aditya Shirodkar",
      "userId": "15479199146380146148"
     },
     "user_tz": -330
    },
    "id": "RkWjb9q-uhak",
    "outputId": "a0332f90-02b5-40d8-8cf9-de76c08228d4"
   },
   "outputs": [
    {
     "data": {
      "application/vnd.google.colaboratory.intrinsic+json": {
       "type": "string"
      },
      "text/plain": [
       "'This statement is hard to read.'"
      ]
     },
     "execution_count": 488,
     "metadata": {},
     "output_type": "execute_result"
    }
   ],
   "source": [
    "exercise_string = 'This#statement#is#hard#to#read.'\n",
    "' '.join(exercise_string.split('#'))"
   ]
  },
  {
   "cell_type": "markdown",
   "metadata": {
    "id": "77lDjkZG_0nL"
   },
   "source": [
    "### Exercise\n",
    "Given the following table containing the coordinates of a point in a 3D plane, create a tuple that contains the coordinate values\n",
    "```\n",
    "Variable:  x   y   z\n",
    "Values:    0   1   0\n",
    "```"
   ]
  },
  {
   "cell_type": "code",
   "execution_count": 489,
   "metadata": {
    "colab": {
     "base_uri": "https://localhost:8080/"
    },
    "executionInfo": {
     "elapsed": 62,
     "status": "ok",
     "timestamp": 1722346067244,
     "user": {
      "displayName": "Aditya Shirodkar",
      "userId": "15479199146380146148"
     },
     "user_tz": -330
    },
    "id": "J4nmtf_fAzm8",
    "outputId": "8f267493-8c10-41e9-ca4a-eb26e068d111"
   },
   "outputs": [
    {
     "data": {
      "text/plain": [
       "(0, 1, 0)"
      ]
     },
     "execution_count": 489,
     "metadata": {},
     "output_type": "execute_result"
    }
   ],
   "source": [
    "my_tuple = (0, 1, 0)\n",
    "my_tuple"
   ]
  },
  {
   "cell_type": "markdown",
   "metadata": {
    "id": "N2NbB7ZAI0LF"
   },
   "source": [
    "### Exercise\n",
    "Given two lists of `fruits = ['apple', 'banana', 'avocado', 'mango']` and `price = [150, 40, 100, 50]`, create a tuple of nested tuples where each inner tuple contains a fruit and its price"
   ]
  },
  {
   "cell_type": "code",
   "execution_count": 490,
   "metadata": {
    "executionInfo": {
     "elapsed": 61,
     "status": "ok",
     "timestamp": 1722346067245,
     "user": {
      "displayName": "Aditya Shirodkar",
      "userId": "15479199146380146148"
     },
     "user_tz": -330
    },
    "id": "ZNTdBXPLJcgc"
   },
   "outputs": [],
   "source": [
    "fruits = ['apple', 'banana', 'avocado', 'mango']\n",
    "price = [150, 40, 100, 50]"
   ]
  },
  {
   "cell_type": "code",
   "execution_count": 491,
   "metadata": {
    "executionInfo": {
     "elapsed": 61,
     "status": "ok",
     "timestamp": 1722346067245,
     "user": {
      "displayName": "Aditya Shirodkar",
      "userId": "15479199146380146148"
     },
     "user_tz": -330
    },
    "id": "sqSqCuPbJkKV"
   },
   "outputs": [],
   "source": [
    "item_info = zip(fruits, price)"
   ]
  },
  {
   "cell_type": "code",
   "execution_count": 492,
   "metadata": {
    "colab": {
     "base_uri": "https://localhost:8080/"
    },
    "executionInfo": {
     "elapsed": 60,
     "status": "ok",
     "timestamp": 1722346067245,
     "user": {
      "displayName": "Aditya Shirodkar",
      "userId": "15479199146380146148"
     },
     "user_tz": -330
    },
    "id": "sFTKGitFJqAp",
    "outputId": "23773a87-277b-4fdd-8732-5f4b5acfd009"
   },
   "outputs": [
    {
     "data": {
      "text/plain": [
       "<zip at 0x7f17dd9aa900>"
      ]
     },
     "execution_count": 492,
     "metadata": {},
     "output_type": "execute_result"
    }
   ],
   "source": [
    "item_info"
   ]
  },
  {
   "cell_type": "code",
   "execution_count": 493,
   "metadata": {
    "colab": {
     "base_uri": "https://localhost:8080/"
    },
    "executionInfo": {
     "elapsed": 59,
     "status": "ok",
     "timestamp": 1722346067245,
     "user": {
      "displayName": "Aditya Shirodkar",
      "userId": "15479199146380146148"
     },
     "user_tz": -330
    },
    "id": "m-y2pAoJJrzS",
    "outputId": "c105c627-b486-45ea-f02d-70321aba4721"
   },
   "outputs": [
    {
     "data": {
      "text/plain": [
       "(('apple', 150), ('banana', 40), ('avocado', 100), ('mango', 50))"
      ]
     },
     "execution_count": 493,
     "metadata": {},
     "output_type": "execute_result"
    }
   ],
   "source": [
    "result = tuple(item_info)\n",
    "result"
   ]
  },
  {
   "cell_type": "markdown",
   "metadata": {
    "id": "q9xKvo97ObpL"
   },
   "source": [
    "### Exercise\n",
    "Print the last element of the tuple `some_tuple = (2, 5, 4, 7, 6, 9, 8)`"
   ]
  },
  {
   "cell_type": "code",
   "execution_count": 494,
   "metadata": {
    "executionInfo": {
     "elapsed": 57,
     "status": "ok",
     "timestamp": 1722346067245,
     "user": {
      "displayName": "Aditya Shirodkar",
      "userId": "15479199146380146148"
     },
     "user_tz": -330
    },
    "id": "Rro8Yk-hO5kW"
   },
   "outputs": [],
   "source": [
    "some_tuple = (2, 5, 4, 7, 6, 9, 8)"
   ]
  },
  {
   "cell_type": "code",
   "execution_count": 495,
   "metadata": {
    "executionInfo": {
     "elapsed": 57,
     "status": "ok",
     "timestamp": 1722346067245,
     "user": {
      "displayName": "Aditya Shirodkar",
      "userId": "15479199146380146148"
     },
     "user_tz": -330
    },
    "id": "2MFzWdUuO86e"
   },
   "outputs": [],
   "source": [
    "last_ele = some_tuple[-1]"
   ]
  },
  {
   "cell_type": "code",
   "execution_count": 496,
   "metadata": {
    "colab": {
     "base_uri": "https://localhost:8080/"
    },
    "executionInfo": {
     "elapsed": 57,
     "status": "ok",
     "timestamp": 1722346067245,
     "user": {
      "displayName": "Aditya Shirodkar",
      "userId": "15479199146380146148"
     },
     "user_tz": -330
    },
    "id": "7v-oYV9EPB9C",
    "outputId": "8518e773-a57b-47f9-f603-96504c13d00b"
   },
   "outputs": [
    {
     "data": {
      "text/plain": [
       "8"
      ]
     },
     "execution_count": 496,
     "metadata": {},
     "output_type": "execute_result"
    }
   ],
   "source": [
    "last_ele"
   ]
  },
  {
   "cell_type": "code",
   "execution_count": 497,
   "metadata": {
    "executionInfo": {
     "elapsed": 56,
     "status": "ok",
     "timestamp": 1722346067246,
     "user": {
      "displayName": "Aditya Shirodkar",
      "userId": "15479199146380146148"
     },
     "user_tz": -330
    },
    "id": "fSv39Mt42bsq"
   },
   "outputs": [],
   "source": [
    "last_ele = some_tuple[6]"
   ]
  },
  {
   "cell_type": "code",
   "execution_count": 498,
   "metadata": {
    "colab": {
     "base_uri": "https://localhost:8080/"
    },
    "executionInfo": {
     "elapsed": 56,
     "status": "ok",
     "timestamp": 1722346067246,
     "user": {
      "displayName": "Aditya Shirodkar",
      "userId": "15479199146380146148"
     },
     "user_tz": -330
    },
    "id": "nNVWpqtT2hac",
    "outputId": "f415f21f-726e-4973-ea10-bca5a3b7f681"
   },
   "outputs": [
    {
     "data": {
      "text/plain": [
       "8"
      ]
     },
     "execution_count": 498,
     "metadata": {},
     "output_type": "execute_result"
    }
   ],
   "source": [
    "last_ele"
   ]
  },
  {
   "cell_type": "markdown",
   "metadata": {
    "id": "aBJzV-0HTyMg"
   },
   "source": [
    "### Exercise\n",
    "Consider the following tuples:\n",
    "```\n",
    "some_tuple_1 = ('Adit', 'Chitra', 'David', 'Huzefa', 'Jagannath', 'Monika', 'Tuhina')\n",
    "some_tuple_2 = ('AB018', 'AC626', 'BH782', 'CF663', 'DM787', 'FG098')\n",
    "```\n",
    "Print the middle element(s) of both the tuples"
   ]
  },
  {
   "cell_type": "code",
   "execution_count": 499,
   "metadata": {
    "executionInfo": {
     "elapsed": 55,
     "status": "ok",
     "timestamp": 1722346067246,
     "user": {
      "displayName": "Aditya Shirodkar",
      "userId": "15479199146380146148"
     },
     "user_tz": -330
    },
    "id": "TmY2mAfRUuCL"
   },
   "outputs": [],
   "source": [
    "some_tuple_1 = ('Adit', 'Chitra', 'David', 'Huzefa', 'Jagannath', 'Monika', 'Tuhina')\n",
    "some_tuple_2 = ('AB018', 'AC626', 'BH782', 'CF663', 'DM787', 'FG098')"
   ]
  },
  {
   "cell_type": "code",
   "execution_count": 500,
   "metadata": {
    "colab": {
     "base_uri": "https://localhost:8080/",
     "height": 35
    },
    "executionInfo": {
     "elapsed": 54,
     "status": "ok",
     "timestamp": 1722346067246,
     "user": {
      "displayName": "Aditya Shirodkar",
      "userId": "15479199146380146148"
     },
     "user_tz": -330
    },
    "id": "7nTC_X8RUxDx",
    "outputId": "e4276cd1-0556-42e8-c6ab-6277592d5976"
   },
   "outputs": [
    {
     "data": {
      "application/vnd.google.colaboratory.intrinsic+json": {
       "type": "string"
      },
      "text/plain": [
       "'Huzefa'"
      ]
     },
     "execution_count": 500,
     "metadata": {},
     "output_type": "execute_result"
    }
   ],
   "source": [
    "some_tuple_1[7//2]"
   ]
  },
  {
   "cell_type": "code",
   "execution_count": 501,
   "metadata": {
    "colab": {
     "base_uri": "https://localhost:8080/"
    },
    "executionInfo": {
     "elapsed": 54,
     "status": "ok",
     "timestamp": 1722346067246,
     "user": {
      "displayName": "Aditya Shirodkar",
      "userId": "15479199146380146148"
     },
     "user_tz": -330
    },
    "id": "-Zny0SzqUzGd",
    "outputId": "2a245e10-b095-4fee-f8a1-3271e02c4a73"
   },
   "outputs": [
    {
     "data": {
      "text/plain": [
       "('BH782', 'CF663')"
      ]
     },
     "execution_count": 501,
     "metadata": {},
     "output_type": "execute_result"
    }
   ],
   "source": [
    "some_tuple_2[6//2 - 1: 6//2 + 1]"
   ]
  },
  {
   "cell_type": "markdown",
   "metadata": {
    "id": "JD6aSM-x7vP2"
   },
   "source": [
    "### Exercise\n",
    "What is the length of the tuple `my_tuple = (3.1, 'H', 2.7, 'W', 1.6, (1, 3), 'P', 0.577, 'T')`?"
   ]
  },
  {
   "cell_type": "code",
   "execution_count": 502,
   "metadata": {
    "executionInfo": {
     "elapsed": 52,
     "status": "ok",
     "timestamp": 1722346067246,
     "user": {
      "displayName": "Aditya Shirodkar",
      "userId": "15479199146380146148"
     },
     "user_tz": -330
    },
    "id": "Gq8u1PJV8IO6"
   },
   "outputs": [],
   "source": [
    "my_tuple = (3.1, 'H', 2.7, 'W', 1.6, (1, 3), 'P', 0.577, 'T')"
   ]
  },
  {
   "cell_type": "code",
   "execution_count": 503,
   "metadata": {
    "colab": {
     "base_uri": "https://localhost:8080/"
    },
    "executionInfo": {
     "elapsed": 52,
     "status": "ok",
     "timestamp": 1722346067246,
     "user": {
      "displayName": "Aditya Shirodkar",
      "userId": "15479199146380146148"
     },
     "user_tz": -330
    },
    "id": "bTTiBieU8PHL",
    "outputId": "459ee28c-19bc-4768-c8fd-404612a5591d"
   },
   "outputs": [
    {
     "data": {
      "text/plain": [
       "9"
      ]
     },
     "execution_count": 503,
     "metadata": {},
     "output_type": "execute_result"
    }
   ],
   "source": [
    "len(my_tuple)"
   ]
  },
  {
   "cell_type": "markdown",
   "metadata": {
    "id": "cpA1yY8iC5LU"
   },
   "source": [
    "### Exercise\n",
    "Check if both `'Fe'` and `'N'` are present in the tuple `chem_elements = ('H', 'He', 'Li', 'Be', 'B', 'C', 'N', 'Xe', 'O', 'F', 'Ne')`"
   ]
  },
  {
   "cell_type": "code",
   "execution_count": 504,
   "metadata": {
    "executionInfo": {
     "elapsed": 51,
     "status": "ok",
     "timestamp": 1722346067246,
     "user": {
      "displayName": "Aditya Shirodkar",
      "userId": "15479199146380146148"
     },
     "user_tz": -330
    },
    "id": "4Nq1sS2aD9H9"
   },
   "outputs": [],
   "source": [
    "chem_elements = ('H', 'He', 'Li', 'Be', 'B', 'C', 'N', 'Xe', 'O', 'F', 'Ne')"
   ]
  },
  {
   "cell_type": "code",
   "execution_count": 505,
   "metadata": {
    "colab": {
     "base_uri": "https://localhost:8080/"
    },
    "executionInfo": {
     "elapsed": 50,
     "status": "ok",
     "timestamp": 1722346067246,
     "user": {
      "displayName": "Aditya Shirodkar",
      "userId": "15479199146380146148"
     },
     "user_tz": -330
    },
    "id": "ISaD3jIPE963",
    "outputId": "aceee675-e285-4735-a540-d70106cc36fa",
    "scrolled": true
   },
   "outputs": [
    {
     "data": {
      "text/plain": [
       "False"
      ]
     },
     "execution_count": 505,
     "metadata": {},
     "output_type": "execute_result"
    }
   ],
   "source": [
    "'Fe' in chem_elements and 'N' in chem_elements"
   ]
  },
  {
   "cell_type": "markdown",
   "metadata": {
    "id": "ptunG40P_QdP"
   },
   "source": [
    "### Exercise\n",
    "Consider the following tuple of employee names and ID numbers:\n",
    "```\n",
    "emp_tuple = (['AG8476', 'Chidanand'],\n",
    "             ['MZ6708', 'Anjuman'],\n",
    "             ['HF3876', 'Dinesh'],\n",
    "             ['RT0087', 'Vijay'],\n",
    "             ['UH5307', 'Ankita'])\n",
    "```\n",
    "What is the index of Vijay's information in the tuple?"
   ]
  },
  {
   "cell_type": "code",
   "execution_count": 506,
   "metadata": {
    "executionInfo": {
     "elapsed": 50,
     "status": "ok",
     "timestamp": 1722346067247,
     "user": {
      "displayName": "Aditya Shirodkar",
      "userId": "15479199146380146148"
     },
     "user_tz": -330
    },
    "id": "Q0UCqgG7ALk4"
   },
   "outputs": [],
   "source": [
    "emp_tuple = (['AG8476', 'Chidanand'],\n",
    "             ['MZ6708', 'Anjuman'],\n",
    "             ['HF3876', 'Dinesh'],\n",
    "             ['RT0087', 'Vijay'],\n",
    "             ['UH5307', 'Ankita'])"
   ]
  },
  {
   "cell_type": "code",
   "execution_count": 507,
   "metadata": {
    "colab": {
     "base_uri": "https://localhost:8080/"
    },
    "executionInfo": {
     "elapsed": 50,
     "status": "ok",
     "timestamp": 1722346067247,
     "user": {
      "displayName": "Aditya Shirodkar",
      "userId": "15479199146380146148"
     },
     "user_tz": -330
    },
    "id": "-u0jgWX7ARh0",
    "outputId": "4373ea40-34ce-4b94-e6b9-d54f22055075"
   },
   "outputs": [
    {
     "data": {
      "text/plain": [
       "3"
      ]
     },
     "execution_count": 507,
     "metadata": {},
     "output_type": "execute_result"
    }
   ],
   "source": [
    "emp_tuple.index(['RT0087', 'Vijay'])"
   ]
  },
  {
   "cell_type": "markdown",
   "metadata": {
    "id": "M4cRC-BnCk-W"
   },
   "source": [
    "### Exercise\n",
    "Sort the tuple `(41, 13, 55, 20, 33)` in descending order and return the output as another tuple."
   ]
  },
  {
   "cell_type": "code",
   "execution_count": 508,
   "metadata": {
    "executionInfo": {
     "elapsed": 49,
     "status": "ok",
     "timestamp": 1722346067247,
     "user": {
      "displayName": "Aditya Shirodkar",
      "userId": "15479199146380146148"
     },
     "user_tz": -330
    },
    "id": "OwcLMJqA3ZKA"
   },
   "outputs": [],
   "source": [
    "my_tuple = (41, 13, 55, 20, 33)"
   ]
  },
  {
   "cell_type": "code",
   "execution_count": 509,
   "metadata": {
    "executionInfo": {
     "elapsed": 48,
     "status": "ok",
     "timestamp": 1722346067247,
     "user": {
      "displayName": "Aditya Shirodkar",
      "userId": "15479199146380146148"
     },
     "user_tz": -330
    },
    "id": "H5deE9sm3k0g"
   },
   "outputs": [],
   "source": [
    "descending_list = sorted(my_tuple, reverse = True)"
   ]
  },
  {
   "cell_type": "code",
   "execution_count": 510,
   "metadata": {
    "executionInfo": {
     "elapsed": 48,
     "status": "ok",
     "timestamp": 1722346067247,
     "user": {
      "displayName": "Aditya Shirodkar",
      "userId": "15479199146380146148"
     },
     "user_tz": -330
    },
    "id": "MCVjSQva3xaV"
   },
   "outputs": [],
   "source": [
    "descending_tuple =  tuple(descending_list)"
   ]
  },
  {
   "cell_type": "code",
   "execution_count": 511,
   "metadata": {
    "colab": {
     "base_uri": "https://localhost:8080/"
    },
    "executionInfo": {
     "elapsed": 48,
     "status": "ok",
     "timestamp": 1722346067247,
     "user": {
      "displayName": "Aditya Shirodkar",
      "userId": "15479199146380146148"
     },
     "user_tz": -330
    },
    "id": "UDdcaSGT4Axc",
    "outputId": "8e966966-24fe-44c0-c505-9247444f7501"
   },
   "outputs": [
    {
     "data": {
      "text/plain": [
       "(55, 41, 33, 20, 13)"
      ]
     },
     "execution_count": 511,
     "metadata": {},
     "output_type": "execute_result"
    }
   ],
   "source": [
    "descending_tuple"
   ]
  },
  {
   "cell_type": "markdown",
   "metadata": {
    "id": "e1Qwaxm1vzan"
   },
   "source": [
    "### Exercise\n",
    "Sort `some_tup = (3.14, 2.71, 5.0, 1.618, 0.577, 4.669, 9.81, 2.99, 8.314, 6.022, 1.414)` in descending order"
   ]
  },
  {
   "cell_type": "code",
   "execution_count": 512,
   "metadata": {
    "colab": {
     "base_uri": "https://localhost:8080/"
    },
    "executionInfo": {
     "elapsed": 47,
     "status": "ok",
     "timestamp": 1722346067248,
     "user": {
      "displayName": "Aditya Shirodkar",
      "userId": "15479199146380146148"
     },
     "user_tz": -330
    },
    "id": "F21DYzTjukAw",
    "outputId": "2dfabc6a-cf5c-48d7-9a3b-e735a97bcb52"
   },
   "outputs": [
    {
     "data": {
      "text/plain": [
       "(9.81, 8.314, 6.022, 5.0, 4.669, 3.14, 2.99, 2.71, 1.618, 1.414, 0.577)"
      ]
     },
     "execution_count": 512,
     "metadata": {},
     "output_type": "execute_result"
    }
   ],
   "source": [
    "some_tup = (3.14, 2.71, 5.0, 1.618, 0.577, 4.669, 9.81, 2.99, 8.314, 6.022, 1.414)\n",
    "descending_tuple = tuple(sorted(some_tup, reverse = True))\n",
    "descending_tuple"
   ]
  },
  {
   "cell_type": "markdown",
   "metadata": {
    "id": "hQPjAV5nIrc_"
   },
   "source": [
    "### Exercise\n",
    "Given a tuple of expiry dates `exp_dates = ('2023-01-01', '2023-02-01', '2023-03-01', '2023-04-01', '2023-05-01')` unpack only the first 2 dates into separate variables `'date_1'` and `'date_2'`"
   ]
  },
  {
   "cell_type": "code",
   "execution_count": 513,
   "metadata": {
    "executionInfo": {
     "elapsed": 46,
     "status": "ok",
     "timestamp": 1722346067248,
     "user": {
      "displayName": "Aditya Shirodkar",
      "userId": "15479199146380146148"
     },
     "user_tz": -330
    },
    "id": "8urhdPeaJQWL"
   },
   "outputs": [],
   "source": [
    "exp_dates = ('2023-01-01', '2023-02-01', '2023-03-01', '2023-04-01', '2023-05-01')"
   ]
  },
  {
   "cell_type": "code",
   "execution_count": 514,
   "metadata": {
    "executionInfo": {
     "elapsed": 46,
     "status": "ok",
     "timestamp": 1722346067248,
     "user": {
      "displayName": "Aditya Shirodkar",
      "userId": "15479199146380146148"
     },
     "user_tz": -330
    },
    "id": "Abvdxay-JcL5"
   },
   "outputs": [],
   "source": [
    "date_1, date_2, _, _, _ = exp_dates"
   ]
  },
  {
   "cell_type": "code",
   "execution_count": 515,
   "metadata": {
    "colab": {
     "base_uri": "https://localhost:8080/",
     "height": 35
    },
    "executionInfo": {
     "elapsed": 45,
     "status": "ok",
     "timestamp": 1722346067248,
     "user": {
      "displayName": "Aditya Shirodkar",
      "userId": "15479199146380146148"
     },
     "user_tz": -330
    },
    "id": "se_z-4j95Lng",
    "outputId": "8466237e-2fbd-48f3-bbec-92c4c0bc4c4a"
   },
   "outputs": [
    {
     "data": {
      "application/vnd.google.colaboratory.intrinsic+json": {
       "type": "string"
      },
      "text/plain": [
       "'2023-01-01'"
      ]
     },
     "execution_count": 515,
     "metadata": {},
     "output_type": "execute_result"
    }
   ],
   "source": [
    "date_1"
   ]
  },
  {
   "cell_type": "code",
   "execution_count": 516,
   "metadata": {
    "colab": {
     "base_uri": "https://localhost:8080/",
     "height": 35
    },
    "executionInfo": {
     "elapsed": 45,
     "status": "ok",
     "timestamp": 1722346067248,
     "user": {
      "displayName": "Aditya Shirodkar",
      "userId": "15479199146380146148"
     },
     "user_tz": -330
    },
    "id": "Knm2jkzp5OKc",
    "outputId": "411630a2-5cc1-47be-aadb-02d4ba87abc0"
   },
   "outputs": [
    {
     "data": {
      "application/vnd.google.colaboratory.intrinsic+json": {
       "type": "string"
      },
      "text/plain": [
       "'2023-02-01'"
      ]
     },
     "execution_count": 516,
     "metadata": {},
     "output_type": "execute_result"
    }
   ],
   "source": [
    "date_2"
   ]
  },
  {
   "cell_type": "markdown",
   "metadata": {
    "id": "Dgjq523VsY6k"
   },
   "source": [
    "### Exercise\n",
    "Concatenate the tuples `('a', 'b', 'c')` and `(1, 2, 3)`"
   ]
  },
  {
   "cell_type": "code",
   "execution_count": 517,
   "metadata": {
    "colab": {
     "base_uri": "https://localhost:8080/"
    },
    "executionInfo": {
     "elapsed": 900,
     "status": "ok",
     "timestamp": 1722346068104,
     "user": {
      "displayName": "Aditya Shirodkar",
      "userId": "15479199146380146148"
     },
     "user_tz": -330
    },
    "id": "c0b8CarOtuhu",
    "outputId": "f4860f4a-2b37-46b8-fcd5-84b9660a82d0"
   },
   "outputs": [
    {
     "data": {
      "text/plain": [
       "('a', 'b', 'c', 1, 2, 3)"
      ]
     },
     "execution_count": 517,
     "metadata": {},
     "output_type": "execute_result"
    }
   ],
   "source": [
    "('a', 'b', 'c') + (1, 2, 3)"
   ]
  },
  {
   "cell_type": "markdown",
   "metadata": {
    "id": "O-dGqeFNhVXD"
   },
   "source": [
    "### Exercise\n",
    "The tuple `heights = (1.60, 1.75, 1.62, 1.68, 1.80, 1.55, 1.70, 1.65, 1.75, 1.58)` contains the heights of a students in a class. Find the maximum and minimum heights."
   ]
  },
  {
   "cell_type": "code",
   "execution_count": 518,
   "metadata": {
    "executionInfo": {
     "elapsed": 79,
     "status": "ok",
     "timestamp": 1722346068105,
     "user": {
      "displayName": "Aditya Shirodkar",
      "userId": "15479199146380146148"
     },
     "user_tz": -330
    },
    "id": "i5-4obj8iQGp"
   },
   "outputs": [],
   "source": [
    "heights = (1.60, 1.75, 1.62, 1.68, 1.80, 1.55, 1.70, 1.65, 1.75, 1.58)"
   ]
  },
  {
   "cell_type": "code",
   "execution_count": 519,
   "metadata": {
    "colab": {
     "base_uri": "https://localhost:8080/"
    },
    "executionInfo": {
     "elapsed": 79,
     "status": "ok",
     "timestamp": 1722346068105,
     "user": {
      "displayName": "Aditya Shirodkar",
      "userId": "15479199146380146148"
     },
     "user_tz": -330
    },
    "id": "P7Ci6XSGiTAC",
    "outputId": "4d302a2d-77d3-477c-f429-26c2168b6469"
   },
   "outputs": [
    {
     "data": {
      "text/plain": [
       "1.8"
      ]
     },
     "execution_count": 519,
     "metadata": {},
     "output_type": "execute_result"
    }
   ],
   "source": [
    "max(heights)"
   ]
  },
  {
   "cell_type": "code",
   "execution_count": 520,
   "metadata": {
    "colab": {
     "base_uri": "https://localhost:8080/"
    },
    "executionInfo": {
     "elapsed": 77,
     "status": "ok",
     "timestamp": 1722346068105,
     "user": {
      "displayName": "Aditya Shirodkar",
      "userId": "15479199146380146148"
     },
     "user_tz": -330
    },
    "id": "oFY1VklRiV4U",
    "outputId": "512daee7-7167-4d8f-a1cd-60932c6bea25"
   },
   "outputs": [
    {
     "data": {
      "text/plain": [
       "1.55"
      ]
     },
     "execution_count": 520,
     "metadata": {},
     "output_type": "execute_result"
    }
   ],
   "source": [
    "min(heights)"
   ]
  },
  {
   "cell_type": "markdown",
   "metadata": {
    "id": "WGrejGlBpwnu"
   },
   "source": [
    "### Exercise\n",
    "You are given a tuple containing reviews of seven customers on a certain product, `cust_reviews = (4.5, 3.2, 5.0, 4.8, 2.5, 3.7, 4.0)`. Find the average review of the product to 2 decimal places.\n",
    "\n",
    "**Hint:** Use the `round` method for rounding. Study its documentation to understand how to round to 2 decimal places."
   ]
  },
  {
   "cell_type": "code",
   "execution_count": 521,
   "metadata": {
    "colab": {
     "base_uri": "https://localhost:8080/"
    },
    "executionInfo": {
     "elapsed": 75,
     "status": "ok",
     "timestamp": 1722346068105,
     "user": {
      "displayName": "Aditya Shirodkar",
      "userId": "15479199146380146148"
     },
     "user_tz": -330
    },
    "id": "PDSNfm7gpzW-",
    "outputId": "d21160e3-5f4a-4770-b3ea-6e7da3dabc22"
   },
   "outputs": [
    {
     "data": {
      "text/plain": [
       "3.96"
      ]
     },
     "execution_count": 521,
     "metadata": {},
     "output_type": "execute_result"
    }
   ],
   "source": [
    "cust_reviews = (4.5, 3.2, 5.0, 4.8, 2.5, 3.7, 4.0)\n",
    "average_review = sum(cust_reviews) / len(cust_reviews)\n",
    "round(average_review, 2)"
   ]
  },
  {
   "cell_type": "markdown",
   "metadata": {
    "id": "j8JpXhHT5Ez9"
   },
   "source": [
    "### Exercise\n",
    "Find the smallest element in the tuple `(2.5, 1.8, 3.7, 4.2, 0.9)`.\n",
    "\n",
    "**Note:** You can achieve this by using the `min` function. However, another common approach is to sort the tuple in ascending order and index the first element."
   ]
  },
  {
   "cell_type": "code",
   "execution_count": 522,
   "metadata": {
    "colab": {
     "base_uri": "https://localhost:8080/"
    },
    "executionInfo": {
     "elapsed": 71,
     "status": "ok",
     "timestamp": 1722346068105,
     "user": {
      "displayName": "Aditya Shirodkar",
      "userId": "15479199146380146148"
     },
     "user_tz": -330
    },
    "id": "4doh4J1m5bVW",
    "outputId": "03ab4dab-4ea1-430a-ddb9-e68e82eb086e"
   },
   "outputs": [
    {
     "data": {
      "text/plain": [
       "0.9"
      ]
     },
     "execution_count": 522,
     "metadata": {},
     "output_type": "execute_result"
    }
   ],
   "source": [
    "some_tuple = (2.5, 1.8, 3.7, 4.2, 0.9)\n",
    "ascending_tuple = tuple(sorted(some_tuple))\n",
    "smallest_element = ascending_tuple[0]\n",
    "smallest_element"
   ]
  },
  {
   "cell_type": "markdown",
   "metadata": {
    "id": "OrjxmoZ5dD58"
   },
   "source": [
    "### Exercise\n",
    "The set `{1.5, 2.0, 1.8, 2.2, 1.9, 1.7, 2.5, 1.9, 2.1, 2.3, 2.0, 2.4}` contains weights of rabbits. Determine the number of rabbits in the sample."
   ]
  },
  {
   "cell_type": "code",
   "execution_count": 523,
   "metadata": {
    "colab": {
     "base_uri": "https://localhost:8080/"
    },
    "executionInfo": {
     "elapsed": 70,
     "status": "ok",
     "timestamp": 1722346068105,
     "user": {
      "displayName": "Aditya Shirodkar",
      "userId": "15479199146380146148"
     },
     "user_tz": -330
    },
    "id": "P1K9K2iUeHD3",
    "outputId": "d2120b3d-65af-462b-d6b7-1aec36e835b7"
   },
   "outputs": [
    {
     "name": "stdout",
     "output_type": "stream",
     "text": [
      "Sets only store unique elements, so 10 is the number of unique weights in the sample\n"
     ]
    }
   ],
   "source": [
    "rabbit_weights = {1.5, 2.0, 1.8, 2.2, 1.9, 1.7, 2.5, 1.9, 2.1, 2.3, 2.0, 2.4}\n",
    "print(f'Sets only store unique elements, so {len(rabbit_weights)} is the number of unique weights in the sample')"
   ]
  },
  {
   "cell_type": "markdown",
   "metadata": {
    "id": "tT4FutQRg9CE"
   },
   "source": [
    "### Exercise\n",
    "Consider the following set of country codes:\n",
    "```\n",
    "country_codes = {'US', 'CA', 'UK', 'DE', 'FR', 'IT', 'JP', 'AU', 'BR', 'IN', 'CN', 'RU'}\n",
    "```\n",
    "Is India's code present in the set?"
   ]
  },
  {
   "cell_type": "code",
   "execution_count": 524,
   "metadata": {
    "colab": {
     "base_uri": "https://localhost:8080/"
    },
    "executionInfo": {
     "elapsed": 69,
     "status": "ok",
     "timestamp": 1722346068105,
     "user": {
      "displayName": "Aditya Shirodkar",
      "userId": "15479199146380146148"
     },
     "user_tz": -330
    },
    "id": "9H_tg8zHhTIk",
    "outputId": "072aa8af-0b48-40c9-e458-4dbd1a4d5caa"
   },
   "outputs": [
    {
     "data": {
      "text/plain": [
       "True"
      ]
     },
     "execution_count": 524,
     "metadata": {},
     "output_type": "execute_result"
    }
   ],
   "source": [
    "country_codes = {'US', 'CA', 'UK', 'DE', 'FR', 'IT', 'JP', 'AU', 'BR', 'IN', 'CN', 'RU'}\n",
    "'IN' in country_codes"
   ]
  },
  {
   "cell_type": "markdown",
   "metadata": {
    "id": "Xq0Od1_brHSb"
   },
   "source": [
    "### Exercise\n",
    "Consider the following set of employee names:\n",
    "```\n",
    "current_emp_names = {'Aditya', 'Manoj', 'Eric', 'Sanju', 'Tanveer'}\n",
    "```\n",
    "Suppose that a new employee, Rashi, has joined the compay, and Aditya has resigned. Update the set accordingly."
   ]
  },
  {
   "cell_type": "code",
   "execution_count": 525,
   "metadata": {
    "colab": {
     "base_uri": "https://localhost:8080/"
    },
    "executionInfo": {
     "elapsed": 68,
     "status": "ok",
     "timestamp": 1722346068106,
     "user": {
      "displayName": "Aditya Shirodkar",
      "userId": "15479199146380146148"
     },
     "user_tz": -330
    },
    "id": "ycEO-p4-rv80",
    "outputId": "a99e1c09-4446-410e-970a-2562a46da8d0"
   },
   "outputs": [
    {
     "data": {
      "text/plain": [
       "{'Eric', 'Manoj', 'Rashi', 'Sanju', 'Tanveer'}"
      ]
     },
     "execution_count": 525,
     "metadata": {},
     "output_type": "execute_result"
    }
   ],
   "source": [
    "current_emp_names = {'Aditya', 'Manoj', 'Eric', 'Sanju', 'Tanveer'}\n",
    "current_emp_names.remove('Aditya')\n",
    "current_emp_names.add('Rashi')\n",
    "current_emp_names"
   ]
  },
  {
   "cell_type": "markdown",
   "metadata": {
    "id": "XPcd3NuWjoPn"
   },
   "source": [
    "### Exercise\n",
    "Consider the following two sets:\n",
    "```\n",
    "A = {1, 2, 3, 3.5, 4.2, 5, 5.5}\n",
    "B = {1, 2, 3, 3.5, 4.2, 5, 5, 5.5, 5.5}\n",
    "```\n",
    "Are they equal?"
   ]
  },
  {
   "cell_type": "code",
   "execution_count": 526,
   "metadata": {
    "colab": {
     "base_uri": "https://localhost:8080/"
    },
    "executionInfo": {
     "elapsed": 67,
     "status": "ok",
     "timestamp": 1722346068107,
     "user": {
      "displayName": "Aditya Shirodkar",
      "userId": "15479199146380146148"
     },
     "user_tz": -330
    },
    "id": "Mv7bU9JokOZi",
    "outputId": "e16bd59d-8e07-46e1-a98e-825ea9856eca"
   },
   "outputs": [
    {
     "data": {
      "text/plain": [
       "{1, 2, 3, 3.5, 4.2, 5, 5.5}"
      ]
     },
     "execution_count": 526,
     "metadata": {},
     "output_type": "execute_result"
    }
   ],
   "source": [
    "A = {1, 2, 3, 3.5, 4.2, 5, 5.5}\n",
    "A"
   ]
  },
  {
   "cell_type": "code",
   "execution_count": 527,
   "metadata": {
    "colab": {
     "base_uri": "https://localhost:8080/"
    },
    "executionInfo": {
     "elapsed": 66,
     "status": "ok",
     "timestamp": 1722346068107,
     "user": {
      "displayName": "Aditya Shirodkar",
      "userId": "15479199146380146148"
     },
     "user_tz": -330
    },
    "id": "v9o1T0R5kUIH",
    "outputId": "cb50d9c6-8052-4a83-cbe9-efdb6caa90aa"
   },
   "outputs": [
    {
     "data": {
      "text/plain": [
       "{1, 2, 3, 3.5, 4.2, 5, 5.5}"
      ]
     },
     "execution_count": 527,
     "metadata": {},
     "output_type": "execute_result"
    }
   ],
   "source": [
    "B = {1, 2, 3, 3.5, 4.2, 5, 5, 5.5, 5.5}\n",
    "B"
   ]
  },
  {
   "cell_type": "code",
   "execution_count": 528,
   "metadata": {
    "colab": {
     "base_uri": "https://localhost:8080/"
    },
    "executionInfo": {
     "elapsed": 64,
     "status": "ok",
     "timestamp": 1722346068107,
     "user": {
      "displayName": "Aditya Shirodkar",
      "userId": "15479199146380146148"
     },
     "user_tz": -330
    },
    "id": "mgeF1QwekXeE",
    "outputId": "64fd6883-261a-4f27-8237-0d7a4c7244a7"
   },
   "outputs": [
    {
     "data": {
      "text/plain": [
       "True"
      ]
     },
     "execution_count": 528,
     "metadata": {},
     "output_type": "execute_result"
    }
   ],
   "source": [
    "A == B"
   ]
  },
  {
   "cell_type": "markdown",
   "metadata": {
    "id": "ZJ_KoAeOtPYA"
   },
   "source": [
    "### Exercise\n",
    "The following sets contain the names of students who have enrolled in two different programs, DSAI and MBA:\n",
    "```\n",
    "DSAI = {'Aanya', 'Olivia', 'Kabir', 'Emma', 'Aiden', 'Sophia', 'Arjun',\n",
    "      'Ava', 'Elijah', 'Ishaan', 'Liam', 'Aisha', 'Aditya', 'Ishika',\n",
    "      'Aarav', 'Mia', 'Noah', 'Avni', 'Jackson'}\n",
    "MBA = {'Deepesh', 'Aanya', 'Chandu', 'Olivia', 'Alazar', 'Sofie', 'Kabir',\n",
    "       'Emma', 'Priya', 'Kokila', 'Kabita',  'Aiden', 'Nematullah', 'Sophia',\n",
    "       'Arjun', 'Ava', 'Elijah', 'Ishaan', 'Liam', 'Aisha', 'Aditya', 'Ishika',\n",
    "       'Aarav', 'Mia', 'Noah', 'Avni', 'Jackson'}\n",
    "```\n",
    "Check if all the MBA learners are also part of the DSAI program."
   ]
  },
  {
   "cell_type": "code",
   "execution_count": 529,
   "metadata": {
    "executionInfo": {
     "elapsed": 62,
     "status": "ok",
     "timestamp": 1722346068107,
     "user": {
      "displayName": "Aditya Shirodkar",
      "userId": "15479199146380146148"
     },
     "user_tz": -330
    },
    "id": "Mijq04D0wbOv"
   },
   "outputs": [],
   "source": [
    "DSAI = {'Aanya', 'Olivia', 'Kabir', 'Emma', 'Aiden', 'Sophia', 'Arjun',\n",
    "      'Ava', 'Elijah', 'Ishaan', 'Liam', 'Aisha', 'Aditya', 'Ishika',\n",
    "      'Aarav', 'Mia', 'Noah', 'Avni', 'Jackson'}\n",
    "MBA = {'Deepesh', 'Aanya', 'Chandu', 'Olivia', 'Alazar', 'Sofie', 'Kabir',\n",
    "       'Emma', 'Priya', 'Kokila', 'Kabita',  'Aiden', 'Nematullah', 'Sophia',\n",
    "       'Arjun', 'Ava', 'Elijah', 'Ishaan', 'Liam', 'Aisha', 'Aditya', 'Ishika',\n",
    "       'Aarav', 'Mia', 'Noah', 'Avni', 'Jackson'}"
   ]
  },
  {
   "cell_type": "code",
   "execution_count": 530,
   "metadata": {
    "colab": {
     "base_uri": "https://localhost:8080/"
    },
    "executionInfo": {
     "elapsed": 63,
     "status": "ok",
     "timestamp": 1722346068108,
     "user": {
      "displayName": "Aditya Shirodkar",
      "userId": "15479199146380146148"
     },
     "user_tz": -330
    },
    "id": "khPwDPTcwlMR",
    "outputId": "1d9716b2-be1a-4559-bf88-d13b6ce8d6b3"
   },
   "outputs": [
    {
     "data": {
      "text/plain": [
       "False"
      ]
     },
     "execution_count": 530,
     "metadata": {},
     "output_type": "execute_result"
    }
   ],
   "source": [
    "MBA.issubset(DSAI)"
   ]
  },
  {
   "cell_type": "markdown",
   "metadata": {
    "id": "T8w2jSwcsL_M"
   },
   "source": [
    "### Exercise\n",
    "The following sets contain the names of customers who have opted for either a credit card or a loan from a bank:\n",
    "```\n",
    "credit_card = {'Rahul', 'Priya', 'Amit', 'Ananya', 'Raj', 'Kunal'}\n",
    "loan = {'Sonia', 'Vikram', 'Neha', 'Kunal', 'Anjali', 'Rahul'}\n",
    "```\n",
    "Which customers opted for exactly one of these services?"
   ]
  },
  {
   "cell_type": "code",
   "execution_count": 531,
   "metadata": {
    "colab": {
     "base_uri": "https://localhost:8080/"
    },
    "executionInfo": {
     "elapsed": 62,
     "status": "ok",
     "timestamp": 1722346068108,
     "user": {
      "displayName": "Aditya Shirodkar",
      "userId": "15479199146380146148"
     },
     "user_tz": -330
    },
    "id": "-pME8id3uWan",
    "outputId": "2a0979e2-4254-4fa7-ad00-a10680310091"
   },
   "outputs": [
    {
     "data": {
      "text/plain": [
       "{'Amit', 'Ananya', 'Anjali', 'Neha', 'Priya', 'Raj', 'Sonia', 'Vikram'}"
      ]
     },
     "execution_count": 531,
     "metadata": {},
     "output_type": "execute_result"
    }
   ],
   "source": [
    "credit_card = {'Rahul', 'Priya', 'Amit', 'Ananya', 'Raj', 'Kunal'}\n",
    "loan = {'Sonia', 'Vikram', 'Neha', 'Kunal', 'Anjali', 'Rahul'}\n",
    "credit_card ^ loan"
   ]
  },
  {
   "cell_type": "markdown",
   "metadata": {
    "id": "GC4UMbdlXhWg"
   },
   "source": [
    "### Exercise\n",
    "Store the following data as a dictionary:\n",
    "```\n",
    "name = 'Alice',\n",
    "age = 30\n",
    "city = 'Wonderland'\n",
    "```"
   ]
  },
  {
   "cell_type": "code",
   "execution_count": 532,
   "metadata": {
    "executionInfo": {
     "elapsed": 60,
     "status": "ok",
     "timestamp": 1722346068108,
     "user": {
      "displayName": "Aditya Shirodkar",
      "userId": "15479199146380146148"
     },
     "user_tz": -330
    },
    "id": "K-YfBKsG-nJF"
   },
   "outputs": [],
   "source": [
    "person_data = {'name': 'Alice', 'age': 30, 'city': 'Wonderland'}"
   ]
  },
  {
   "cell_type": "code",
   "execution_count": 533,
   "metadata": {
    "colab": {
     "base_uri": "https://localhost:8080/"
    },
    "executionInfo": {
     "elapsed": 59,
     "status": "ok",
     "timestamp": 1722346068108,
     "user": {
      "displayName": "Aditya Shirodkar",
      "userId": "15479199146380146148"
     },
     "user_tz": -330
    },
    "id": "5qXgGpDzd7p1",
    "outputId": "08c5e3a4-f0f5-45fd-f2a7-4ad6265d2391"
   },
   "outputs": [
    {
     "data": {
      "text/plain": [
       "dict"
      ]
     },
     "execution_count": 533,
     "metadata": {},
     "output_type": "execute_result"
    }
   ],
   "source": [
    "type(person_data)"
   ]
  },
  {
   "cell_type": "code",
   "execution_count": 534,
   "metadata": {
    "colab": {
     "base_uri": "https://localhost:8080/"
    },
    "executionInfo": {
     "elapsed": 58,
     "status": "ok",
     "timestamp": 1722346068108,
     "user": {
      "displayName": "Aditya Shirodkar",
      "userId": "15479199146380146148"
     },
     "user_tz": -330
    },
    "id": "gQv_bt8PemKX",
    "outputId": "58dbcf20-2b89-4757-91fd-7c36ca0c934e"
   },
   "outputs": [
    {
     "data": {
      "text/plain": [
       "{'name': 'Alice', 'age': 30, 'city': 'Wonderland'}"
      ]
     },
     "execution_count": 534,
     "metadata": {},
     "output_type": "execute_result"
    }
   ],
   "source": [
    "person_data"
   ]
  },
  {
   "cell_type": "markdown",
   "metadata": {
    "id": "k2Zu5bcW8s96"
   },
   "source": [
    "Create a dictionary from the same data above using the `dict` constructor with keyword arguments"
   ]
  },
  {
   "cell_type": "code",
   "execution_count": 535,
   "metadata": {
    "executionInfo": {
     "elapsed": 56,
     "status": "ok",
     "timestamp": 1722346068108,
     "user": {
      "displayName": "Aditya Shirodkar",
      "userId": "15479199146380146148"
     },
     "user_tz": -330
    },
    "id": "uA4EfF0q-mnT"
   },
   "outputs": [],
   "source": [
    "person_data = dict(name = 'Alice', age = 30, city = 'Wonderland')"
   ]
  },
  {
   "cell_type": "code",
   "execution_count": 536,
   "metadata": {
    "colab": {
     "base_uri": "https://localhost:8080/"
    },
    "executionInfo": {
     "elapsed": 56,
     "status": "ok",
     "timestamp": 1722346068108,
     "user": {
      "displayName": "Aditya Shirodkar",
      "userId": "15479199146380146148"
     },
     "user_tz": -330
    },
    "id": "KHCY2d0vetLQ",
    "outputId": "12880973-0af7-44ab-eaec-80d1d1ca5db0"
   },
   "outputs": [
    {
     "data": {
      "text/plain": [
       "dict"
      ]
     },
     "execution_count": 536,
     "metadata": {},
     "output_type": "execute_result"
    }
   ],
   "source": [
    "type(person_data)"
   ]
  },
  {
   "cell_type": "code",
   "execution_count": 537,
   "metadata": {
    "colab": {
     "base_uri": "https://localhost:8080/"
    },
    "executionInfo": {
     "elapsed": 54,
     "status": "ok",
     "timestamp": 1722346068108,
     "user": {
      "displayName": "Aditya Shirodkar",
      "userId": "15479199146380146148"
     },
     "user_tz": -330
    },
    "id": "QCcFMivdeptA",
    "outputId": "82cef2e7-570e-4853-d687-095691dea14b"
   },
   "outputs": [
    {
     "data": {
      "text/plain": [
       "{'name': 'Alice', 'age': 30, 'city': 'Wonderland'}"
      ]
     },
     "execution_count": 537,
     "metadata": {},
     "output_type": "execute_result"
    }
   ],
   "source": [
    "person_data"
   ]
  },
  {
   "cell_type": "markdown",
   "metadata": {
    "id": "DyXsrcN4-IM0"
   },
   "source": [
    "### Exercise\n",
    "Study the following information categories that are stored in a list:\n",
    "```\n",
    "info_list = ['name', 'age', 'city']\n",
    "```\n",
    "Create a dictionary using the above keys and store it in a variable called `default_dict` with default values for all categories as `N/A`"
   ]
  },
  {
   "cell_type": "code",
   "execution_count": 538,
   "metadata": {
    "colab": {
     "base_uri": "https://localhost:8080/"
    },
    "executionInfo": {
     "elapsed": 52,
     "status": "ok",
     "timestamp": 1722346068108,
     "user": {
      "displayName": "Aditya Shirodkar",
      "userId": "15479199146380146148"
     },
     "user_tz": -330
    },
    "id": "Y5IGuklnXg1h",
    "outputId": "7b512557-9dfd-4b27-ea68-a34335eaab5d"
   },
   "outputs": [
    {
     "data": {
      "text/plain": [
       "{'name': 'N/A', 'age': 'N/A', 'city': 'N/A'}"
      ]
     },
     "execution_count": 538,
     "metadata": {},
     "output_type": "execute_result"
    }
   ],
   "source": [
    "info_list = ['name', 'age', 'city']\n",
    "default_value = 'N/A'\n",
    "default_dict = dict.fromkeys(info_list, default_value)\n",
    "default_dict"
   ]
  },
  {
   "cell_type": "markdown",
   "metadata": {
    "id": "n8Ijqgdt3i26"
   },
   "source": [
    "### Exercise\n",
    "Print `name` from the dictionary `employee = {'name': 'John', 'age': 30}`"
   ]
  },
  {
   "cell_type": "code",
   "execution_count": 539,
   "metadata": {
    "colab": {
     "base_uri": "https://localhost:8080/"
    },
    "executionInfo": {
     "elapsed": 50,
     "status": "ok",
     "timestamp": 1722346068108,
     "user": {
      "displayName": "Aditya Shirodkar",
      "userId": "15479199146380146148"
     },
     "user_tz": -330
    },
    "id": "kypMMbT73tfM",
    "outputId": "787c160a-ff50-45e6-9e64-493f936a481e"
   },
   "outputs": [
    {
     "data": {
      "text/plain": [
       "{'name': 'John', 'age': 30}"
      ]
     },
     "execution_count": 539,
     "metadata": {},
     "output_type": "execute_result"
    }
   ],
   "source": [
    "employee = {'name': 'John', 'age': 30}\n",
    "employee"
   ]
  },
  {
   "cell_type": "code",
   "execution_count": 540,
   "metadata": {
    "colab": {
     "base_uri": "https://localhost:8080/",
     "height": 35
    },
    "executionInfo": {
     "elapsed": 48,
     "status": "ok",
     "timestamp": 1722346068108,
     "user": {
      "displayName": "Aditya Shirodkar",
      "userId": "15479199146380146148"
     },
     "user_tz": -330
    },
    "id": "cJTw1f_f7PqY",
    "outputId": "33cdd51a-a3e6-4eb9-9136-26f972d456ea"
   },
   "outputs": [
    {
     "data": {
      "application/vnd.google.colaboratory.intrinsic+json": {
       "type": "string"
      },
      "text/plain": [
       "'John'"
      ]
     },
     "execution_count": 540,
     "metadata": {},
     "output_type": "execute_result"
    }
   ],
   "source": [
    "employee['name']"
   ]
  },
  {
   "cell_type": "code",
   "execution_count": 541,
   "metadata": {
    "colab": {
     "base_uri": "https://localhost:8080/",
     "height": 35
    },
    "executionInfo": {
     "elapsed": 47,
     "status": "ok",
     "timestamp": 1722346068108,
     "user": {
      "displayName": "Aditya Shirodkar",
      "userId": "15479199146380146148"
     },
     "user_tz": -330
    },
    "id": "EEOjxPX-ZG0l",
    "outputId": "783a476a-4cc4-4042-be8e-19ab7923694c",
    "scrolled": true
   },
   "outputs": [
    {
     "data": {
      "application/vnd.google.colaboratory.intrinsic+json": {
       "type": "string"
      },
      "text/plain": [
       "'John'"
      ]
     },
     "execution_count": 541,
     "metadata": {},
     "output_type": "execute_result"
    }
   ],
   "source": [
    "employee.get('name', 'Name is not available')"
   ]
  },
  {
   "cell_type": "markdown",
   "metadata": {
    "id": "w4LkWr1H8zGp"
   },
   "source": [
    "### Exercise\n",
    "Consider the following individual dictionaries:\n",
    "```\n",
    "personal_info = {'name': 'Sonali', 'age': 25}\n",
    "address = {'city': 'Mumbai', 'zipcode': 123456}\n",
    "```\n",
    "Create a nested dictionary called `nested_dict` from these dictionaries, first by using `{}` and then by using `dict()`."
   ]
  },
  {
   "cell_type": "code",
   "execution_count": 542,
   "metadata": {
    "executionInfo": {
     "elapsed": 46,
     "status": "ok",
     "timestamp": 1722346068108,
     "user": {
      "displayName": "Aditya Shirodkar",
      "userId": "15479199146380146148"
     },
     "user_tz": -330
    },
    "id": "_Rbeqmxv-l5D"
   },
   "outputs": [],
   "source": [
    "personal_info = {'name': 'Sonali', 'age': 25}\n",
    "address = {'city': 'Mumbai', 'zipcode': 123456}"
   ]
  },
  {
   "cell_type": "code",
   "execution_count": 543,
   "metadata": {
    "colab": {
     "base_uri": "https://localhost:8080/"
    },
    "executionInfo": {
     "elapsed": 47,
     "status": "ok",
     "timestamp": 1722346068109,
     "user": {
      "displayName": "Aditya Shirodkar",
      "userId": "15479199146380146148"
     },
     "user_tz": -330
    },
    "id": "CQ-7OJHQgQgx",
    "outputId": "f569a5b9-3077-46ae-b697-d7b9e044cf73"
   },
   "outputs": [
    {
     "data": {
      "text/plain": [
       "{'personal_info': {'name': 'Sonali', 'age': 25},\n",
       " 'address': {'city': 'Mumbai', 'zipcode': 123456}}"
      ]
     },
     "execution_count": 543,
     "metadata": {},
     "output_type": "execute_result"
    }
   ],
   "source": [
    "nested_dict = {'personal_info': personal_info, 'address': address}\n",
    "nested_dict"
   ]
  },
  {
   "cell_type": "code",
   "execution_count": 544,
   "metadata": {
    "colab": {
     "base_uri": "https://localhost:8080/"
    },
    "executionInfo": {
     "elapsed": 45,
     "status": "ok",
     "timestamp": 1722346068109,
     "user": {
      "displayName": "Aditya Shirodkar",
      "userId": "15479199146380146148"
     },
     "user_tz": -330
    },
    "id": "CbW29iMLgUT_",
    "outputId": "a7a2ccb2-41d4-4f12-ada9-0734ce57966a"
   },
   "outputs": [
    {
     "data": {
      "text/plain": [
       "{'pesonal_info': {'name': 'Sonali', 'age': 25},\n",
       " 'address': {'city': 'Mumbai', 'zipcode': 123456}}"
      ]
     },
     "execution_count": 544,
     "metadata": {},
     "output_type": "execute_result"
    }
   ],
   "source": [
    "nested_dict = dict(pesonal_info = personal_info, address = address)\n",
    "nested_dict"
   ]
  },
  {
   "cell_type": "markdown",
   "metadata": {
    "id": "HUo6YiAB94WP"
   },
   "source": [
    "### Exercise\n",
    "Consider the following dictionary that has details about a university student:\n",
    "```\n",
    "university_student = {'student_id': '123456',\n",
    "                      'name': {'first_name': 'Surendar',\n",
    "                               'last_name': 'Dixit'},\n",
    "                      'age': 21,\n",
    "                      'email': 'emma.j@example.com',\n",
    "                      'phone': '555-987-6543',\n",
    "                      'courses': ['Math', 'English', 'Computer Science'],\n",
    "                      'is_international': False}\n",
    "```\n",
    "Extract and find the length of the list that contains the subjects the student has opted for"
   ]
  },
  {
   "cell_type": "code",
   "execution_count": 545,
   "metadata": {
    "executionInfo": {
     "elapsed": 42,
     "status": "ok",
     "timestamp": 1722346068109,
     "user": {
      "displayName": "Aditya Shirodkar",
      "userId": "15479199146380146148"
     },
     "user_tz": -330
    },
    "id": "CciHlBDJ94WP"
   },
   "outputs": [],
   "source": [
    "university_student = {'student_id': '123456',\n",
    "                      'name': {'first_name': 'Surendar',\n",
    "                               'last_name': 'Dixit'},\n",
    "                      'age': 21,\n",
    "                      'email': 'emma.j@example.com',\n",
    "                      'phone': '555-987-6543',\n",
    "                      'courses': ['Math', 'English', 'Computer Science'],\n",
    "                      'is_international': False}"
   ]
  },
  {
   "cell_type": "code",
   "execution_count": 546,
   "metadata": {
    "colab": {
     "base_uri": "https://localhost:8080/"
    },
    "executionInfo": {
     "elapsed": 42,
     "status": "ok",
     "timestamp": 1722346068109,
     "user": {
      "displayName": "Aditya Shirodkar",
      "userId": "15479199146380146148"
     },
     "user_tz": -330
    },
    "id": "yVTMTtaN94WP",
    "outputId": "1ec25f77-492f-4ded-9924-8d617d962f97",
    "scrolled": true
   },
   "outputs": [
    {
     "data": {
      "text/plain": [
       "3"
      ]
     },
     "execution_count": 546,
     "metadata": {},
     "output_type": "execute_result"
    }
   ],
   "source": [
    "len(university_student['courses'])"
   ]
  },
  {
   "cell_type": "markdown",
   "metadata": {
    "id": "Ysbw0e-El_60"
   },
   "source": [
    "### Exercise\n",
    "Find the length of the following dictionary:\n",
    "```\n",
    "university_student = {'student_id': '123456',\n",
    "                      'name': {'first_name': 'Surendar',\n",
    "                               'last_name': 'Dixit'},\n",
    "                      'personal_details': {'age': 21,\n",
    "                                           'email': 'emma.j@example.com',\n",
    "                                           'phone': '555-987-6543'},\n",
    "                      'courses': ['Math', 'English', 'Computer Science'],\n",
    "                      'is_international': False}\n",
    "```"
   ]
  },
  {
   "cell_type": "code",
   "execution_count": 547,
   "metadata": {
    "colab": {
     "base_uri": "https://localhost:8080/"
    },
    "executionInfo": {
     "elapsed": 41,
     "status": "ok",
     "timestamp": 1722346068109,
     "user": {
      "displayName": "Aditya Shirodkar",
      "userId": "15479199146380146148"
     },
     "user_tz": -330
    },
    "id": "kBKdW-HdmoR4",
    "outputId": "c30e436c-0c69-4665-9b48-6ef424580195"
   },
   "outputs": [
    {
     "data": {
      "text/plain": [
       "5"
      ]
     },
     "execution_count": 547,
     "metadata": {},
     "output_type": "execute_result"
    }
   ],
   "source": [
    "university_student = {'student_id': '123456',\n",
    "                      'name': {'first_name': 'Surendar',\n",
    "                               'last_name': 'Dixit'},\n",
    "                      'personal_details': {'age': 21,\n",
    "                                           'email': 'emma.j@example.com',\n",
    "                                           'phone': '555-987-6543'},\n",
    "                      'courses': ['Math', 'English', 'Computer Science'],\n",
    "                      'is_international': False}\n",
    "len(university_student)"
   ]
  },
  {
   "cell_type": "markdown",
   "metadata": {
    "id": "3J_C1Xx6mgOG"
   },
   "source": [
    "### Exercise\n",
    "List all the keys of the following dictionary:\n",
    "```\n",
    "university_student = {'student_id': '123456',\n",
    "                      'name': {'first_name': 'Surendar',\n",
    "                               'last_name': 'Dixit'},\n",
    "                      'personal_details': {'age': 21,\n",
    "                                           'email': 'emma.j@example.com',\n",
    "                                           'phone': '555-987-6543'},\n",
    "                      'courses': ['Math', 'English', 'Computer Science'],\n",
    "                      'is_international': False}\n",
    "```"
   ]
  },
  {
   "cell_type": "code",
   "execution_count": 548,
   "metadata": {
    "colab": {
     "base_uri": "https://localhost:8080/"
    },
    "executionInfo": {
     "elapsed": 40,
     "status": "ok",
     "timestamp": 1722346068110,
     "user": {
      "displayName": "Aditya Shirodkar",
      "userId": "15479199146380146148"
     },
     "user_tz": -330
    },
    "id": "fJs9YRXqmu-9",
    "outputId": "b9b6dd8a-2608-4f49-eb86-f1e8eede4e71"
   },
   "outputs": [
    {
     "data": {
      "text/plain": [
       "['student_id', 'name', 'personal_details', 'courses', 'is_international']"
      ]
     },
     "execution_count": 548,
     "metadata": {},
     "output_type": "execute_result"
    }
   ],
   "source": [
    "university_student = {'student_id': '123456',\n",
    "                      'name': {'first_name': 'Surendar',\n",
    "                               'last_name': 'Dixit'},\n",
    "                      'personal_details': {'age': 21,\n",
    "                                           'email': 'emma.j@example.com',\n",
    "                                           'phone': '555-987-6543'},\n",
    "                      'courses': ['Math', 'English', 'Computer Science'],\n",
    "                      'is_international': False}\n",
    "list(university_student.keys())"
   ]
  },
  {
   "cell_type": "markdown",
   "metadata": {
    "id": "KD6SSBO_mwP9"
   },
   "source": [
    "### Exercise\n",
    "List all the values of the following dictionary:\n",
    "```\n",
    "university_student = {'student_id': '123456',\n",
    "                      'name': {'first_name': 'Surendar',\n",
    "                               'last_name': 'Dixit'},\n",
    "                      'personal_details': {'age': 21,\n",
    "                                           'email': 'emma.j@example.com',\n",
    "                                           'phone': '555-987-6543'},\n",
    "                      'courses': ['Math', 'English', 'Computer Science'],\n",
    "                      'is_international': False}\n",
    "```"
   ]
  },
  {
   "cell_type": "code",
   "execution_count": 549,
   "metadata": {
    "colab": {
     "base_uri": "https://localhost:8080/"
    },
    "executionInfo": {
     "elapsed": 39,
     "status": "ok",
     "timestamp": 1722346068110,
     "user": {
      "displayName": "Aditya Shirodkar",
      "userId": "15479199146380146148"
     },
     "user_tz": -330
    },
    "id": "oqIG42OHjCHh",
    "outputId": "ff8390ba-bac7-4f46-a49d-9413389a0365",
    "scrolled": true
   },
   "outputs": [
    {
     "data": {
      "text/plain": [
       "['123456',\n",
       " {'first_name': 'Surendar', 'last_name': 'Dixit'},\n",
       " {'age': 21, 'email': 'emma.j@example.com', 'phone': '555-987-6543'},\n",
       " ['Math', 'English', 'Computer Science'],\n",
       " False]"
      ]
     },
     "execution_count": 549,
     "metadata": {},
     "output_type": "execute_result"
    }
   ],
   "source": [
    "university_student = {'student_id': '123456',\n",
    "                      'name': {'first_name': 'Surendar',\n",
    "                               'last_name': 'Dixit'},\n",
    "                      'personal_details': {'age': 21,\n",
    "                                           'email': 'emma.j@example.com',\n",
    "                                           'phone': '555-987-6543'},\n",
    "                      'courses': ['Math', 'English', 'Computer Science'],\n",
    "                      'is_international': False}\n",
    "list(university_student.values())"
   ]
  },
  {
   "cell_type": "markdown",
   "metadata": {
    "id": "G-wxpAehm73W"
   },
   "source": [
    "### Exercise\n",
    "List all the key-value pairs of the following dictionary:\n",
    "```\n",
    "university_student = {'student_id': '123456',\n",
    "                      'name': {'first_name': 'Surendar',\n",
    "                               'last_name': 'Dixit'},\n",
    "                      'personal_details': {'age': 21,\n",
    "                                           'email': 'emma.j@example.com',\n",
    "                                           'phone': '555-987-6543'},\n",
    "                      'courses': ['Math', 'English', 'Computer Science'],\n",
    "                      'is_international': False}\n",
    "```"
   ]
  },
  {
   "cell_type": "code",
   "execution_count": 550,
   "metadata": {
    "colab": {
     "base_uri": "https://localhost:8080/"
    },
    "executionInfo": {
     "elapsed": 37,
     "status": "ok",
     "timestamp": 1722346068110,
     "user": {
      "displayName": "Aditya Shirodkar",
      "userId": "15479199146380146148"
     },
     "user_tz": -330
    },
    "id": "dptLlgU_kALJ",
    "outputId": "fa208301-ffa6-42bd-9587-c009b89620b7"
   },
   "outputs": [
    {
     "data": {
      "text/plain": [
       "[('student_id', '123456'),\n",
       " ('name', {'first_name': 'Surendar', 'last_name': 'Dixit'}),\n",
       " ('personal_details',\n",
       "  {'age': 21, 'email': 'emma.j@example.com', 'phone': '555-987-6543'}),\n",
       " ('courses', ['Math', 'English', 'Computer Science']),\n",
       " ('is_international', False)]"
      ]
     },
     "execution_count": 550,
     "metadata": {},
     "output_type": "execute_result"
    }
   ],
   "source": [
    "university_student = {'student_id': '123456',\n",
    "                      'name': {'first_name': 'Surendar',\n",
    "                               'last_name': 'Dixit'},\n",
    "                      'personal_details': {'age': 21,\n",
    "                                           'email': 'emma.j@example.com',\n",
    "                                           'phone': '555-987-6543'},\n",
    "                      'courses': ['Math', 'English', 'Computer Science'],\n",
    "                      'is_international': False}\n",
    "list(university_student.items())"
   ]
  },
  {
   "cell_type": "markdown",
   "metadata": {
    "id": "IaCnXgZtm-uO"
   },
   "source": [
    "### Exercise\n",
    "Consider the following dictionary that has details about a university student:\n",
    "```\n",
    "university_student = {'student_id': '123456',\n",
    "                      'name': {'first_name': 'Surendar',\n",
    "                               'last_name': 'Dixit'},\n",
    "                      'age': 21,\n",
    "                      'email': 'emma.j@example.com',\n",
    "                      'phone': '555-987-6543',\n",
    "                      'courses': ['Math', 'English', 'Computer Science'],\n",
    "                      'is_international': False}\n",
    "```\n",
    "What is the command to check whether both the keys `'name'` and `'age'` are present in the dictionary?"
   ]
  },
  {
   "cell_type": "code",
   "execution_count": 551,
   "metadata": {
    "executionInfo": {
     "elapsed": 35,
     "status": "ok",
     "timestamp": 1722346068110,
     "user": {
      "displayName": "Aditya Shirodkar",
      "userId": "15479199146380146148"
     },
     "user_tz": -330
    },
    "id": "pSuTtqsPxgvH"
   },
   "outputs": [],
   "source": [
    "university_student = {'student_id': '123456',\n",
    "                      'name': {'first_name': 'Surendar',\n",
    "                               'last_name': 'Dixit'},\n",
    "                      'age': 21,\n",
    "                      'email': 'emma.j@example.com',\n",
    "                      'phone': '555-987-6543',\n",
    "                      'courses': ['Math', 'English', 'Computer Science'],\n",
    "                      'is_international': False}"
   ]
  },
  {
   "cell_type": "code",
   "execution_count": 552,
   "metadata": {
    "colab": {
     "base_uri": "https://localhost:8080/"
    },
    "executionInfo": {
     "elapsed": 35,
     "status": "ok",
     "timestamp": 1722346068110,
     "user": {
      "displayName": "Aditya Shirodkar",
      "userId": "15479199146380146148"
     },
     "user_tz": -330
    },
    "id": "gurl29EtnDze",
    "outputId": "a89c7d75-fef5-46ae-950e-f55e98495f6b"
   },
   "outputs": [
    {
     "data": {
      "text/plain": [
       "True"
      ]
     },
     "execution_count": 552,
     "metadata": {},
     "output_type": "execute_result"
    }
   ],
   "source": [
    "'name' in university_student and 'age' in university_student"
   ]
  },
  {
   "cell_type": "markdown",
   "metadata": {
    "id": "-6VqWLY4Ffa_"
   },
   "source": [
    "### Exercise\n",
    "Are the dictionaries `dict1 = {'a': 1, 'b': 2}` and `dict2 = {'b': 2, 'a': 1}` equal?"
   ]
  },
  {
   "cell_type": "code",
   "execution_count": 553,
   "metadata": {
    "colab": {
     "base_uri": "https://localhost:8080/"
    },
    "executionInfo": {
     "elapsed": 33,
     "status": "ok",
     "timestamp": 1722346068110,
     "user": {
      "displayName": "Aditya Shirodkar",
      "userId": "15479199146380146148"
     },
     "user_tz": -330
    },
    "id": "uUs9lzy-Fi-E",
    "outputId": "ed8c987e-4593-4208-b84d-cd4f2fd772cc"
   },
   "outputs": [
    {
     "data": {
      "text/plain": [
       "True"
      ]
     },
     "execution_count": 553,
     "metadata": {},
     "output_type": "execute_result"
    }
   ],
   "source": [
    "dict1 = {'a': 1, 'b': 2}\n",
    "dict2 = {'b': 2, 'a': 1}\n",
    "dict1 == dict2"
   ]
  },
  {
   "cell_type": "markdown",
   "metadata": {
    "id": "g19V_xDfDxwJ"
   },
   "source": [
    "### Exercise\n",
    "Consider the following dictionary:\n",
    "```\n",
    "employee = {'name': 'Vidya', 'gender': 'F', 'age': 25}\n",
    "```\n",
    "Add the following key-value pair to the dictionary: `'city': 'Chennai'`"
   ]
  },
  {
   "cell_type": "code",
   "execution_count": 554,
   "metadata": {
    "colab": {
     "base_uri": "https://localhost:8080/"
    },
    "executionInfo": {
     "elapsed": 32,
     "status": "ok",
     "timestamp": 1722346068110,
     "user": {
      "displayName": "Aditya Shirodkar",
      "userId": "15479199146380146148"
     },
     "user_tz": -330
    },
    "id": "ZpXOUE4LDxwK",
    "outputId": "0c32415e-84ed-48e1-d232-5aa8118f66a1"
   },
   "outputs": [
    {
     "data": {
      "text/plain": [
       "{'name': 'Vidya', 'gender': 'F', 'age': 25, 'city': 'Chennai'}"
      ]
     },
     "execution_count": 554,
     "metadata": {},
     "output_type": "execute_result"
    }
   ],
   "source": [
    "employee = {'name': 'Vidya', 'gender': 'F', 'age': 25}\n",
    "employee['city'] = 'Chennai'\n",
    "employee"
   ]
  },
  {
   "cell_type": "code",
   "execution_count": 555,
   "metadata": {
    "colab": {
     "base_uri": "https://localhost:8080/"
    },
    "executionInfo": {
     "elapsed": 31,
     "status": "ok",
     "timestamp": 1722346068110,
     "user": {
      "displayName": "Aditya Shirodkar",
      "userId": "15479199146380146148"
     },
     "user_tz": -330
    },
    "id": "hjWpq9HRl-c7",
    "outputId": "b348d387-aef2-4954-dc92-7d5fb879654b"
   },
   "outputs": [
    {
     "data": {
      "text/plain": [
       "{'name': 'Vidya', 'gender': 'F', 'age': 25, 'city': 'Chennai'}"
      ]
     },
     "execution_count": 555,
     "metadata": {},
     "output_type": "execute_result"
    }
   ],
   "source": [
    "employee = {'name': 'Vidya', 'gender': 'F', 'age': 25}\n",
    "employee.update({'city': 'Chennai'})\n",
    "employee"
   ]
  },
  {
   "cell_type": "code",
   "execution_count": 556,
   "metadata": {
    "colab": {
     "base_uri": "https://localhost:8080/"
    },
    "executionInfo": {
     "elapsed": 30,
     "status": "ok",
     "timestamp": 1722346068111,
     "user": {
      "displayName": "Aditya Shirodkar",
      "userId": "15479199146380146148"
     },
     "user_tz": -330
    },
    "id": "NnefFp7P1QUJ",
    "outputId": "d4742514-cad0-4859-80fa-f35c933cc176"
   },
   "outputs": [
    {
     "data": {
      "text/plain": [
       "{'name': 'Vidya', 'gender': 'F', 'age': 25, 'city': 'Chennai'}"
      ]
     },
     "execution_count": 556,
     "metadata": {},
     "output_type": "execute_result"
    }
   ],
   "source": [
    "employee = {'name': 'Vidya', 'gender': 'F', 'age': 25}\n",
    "employee.__setitem__('city', 'Chennai')\n",
    "employee"
   ]
  },
  {
   "cell_type": "markdown",
   "metadata": {
    "id": "iH9uUjwKzlqe"
   },
   "source": [
    "### Exercise\n",
    "Consider the following dictionary:\n",
    "```\n",
    "employee = {'name': 'Vidya', 'gender': 'F', 'age': 25}\n",
    "```\n",
    "Remove the last item from the dictionary"
   ]
  },
  {
   "cell_type": "code",
   "execution_count": 557,
   "metadata": {
    "colab": {
     "base_uri": "https://localhost:8080/"
    },
    "executionInfo": {
     "elapsed": 28,
     "status": "ok",
     "timestamp": 1722346068111,
     "user": {
      "displayName": "Aditya Shirodkar",
      "userId": "15479199146380146148"
     },
     "user_tz": -330
    },
    "id": "30rUDnkP4ke2",
    "outputId": "83d48a83-0011-4186-968e-5065ba9949d2"
   },
   "outputs": [
    {
     "data": {
      "text/plain": [
       "{'name': 'Vidya', 'gender': 'F'}"
      ]
     },
     "execution_count": 557,
     "metadata": {},
     "output_type": "execute_result"
    }
   ],
   "source": [
    "employee = {'name': 'Vidya', 'gender': 'F', 'age': 25}\n",
    "employee.popitem();\n",
    "employee"
   ]
  },
  {
   "cell_type": "markdown",
   "metadata": {
    "id": "vvWxeGRh0CGy"
   },
   "source": [
    "### Exercise\n",
    "Consider the following dictionary:\n",
    "```\n",
    "employee = {'name': 'Vidya', 'gender': 'F', 'age': 25}\n",
    "```\n",
    "Remove the gender from the dictionary"
   ]
  },
  {
   "cell_type": "code",
   "execution_count": 558,
   "metadata": {
    "colab": {
     "base_uri": "https://localhost:8080/"
    },
    "executionInfo": {
     "elapsed": 27,
     "status": "ok",
     "timestamp": 1722346068111,
     "user": {
      "displayName": "Aditya Shirodkar",
      "userId": "15479199146380146148"
     },
     "user_tz": -330
    },
    "id": "pGSRyeVG4mWA",
    "outputId": "2ce27170-0f15-448b-a523-80ba5c433b25"
   },
   "outputs": [
    {
     "data": {
      "text/plain": [
       "{'name': 'Vidya', 'age': 25}"
      ]
     },
     "execution_count": 558,
     "metadata": {},
     "output_type": "execute_result"
    }
   ],
   "source": [
    "employee = {'name': 'Vidya', 'gender': 'F', 'age': 25}\n",
    "del employee['gender']\n",
    "employee"
   ]
  },
  {
   "cell_type": "markdown",
   "metadata": {
    "id": "EeUSEYcza2Xf"
   },
   "source": [
    "### Exercise\n",
    "Consider the following dictionary:\n",
    "```\n",
    "employee = {'name': 'Vidya', 'gender': 'M', 'age': 25}\n",
    "```\n",
    "The name of the employee was incorrectly registered as Vidya instead of Divya. Rectify this and also the mistake in the gender."
   ]
  },
  {
   "cell_type": "code",
   "execution_count": 559,
   "metadata": {
    "colab": {
     "base_uri": "https://localhost:8080/"
    },
    "executionInfo": {
     "elapsed": 26,
     "status": "ok",
     "timestamp": 1722346068111,
     "user": {
      "displayName": "Aditya Shirodkar",
      "userId": "15479199146380146148"
     },
     "user_tz": -330
    },
    "id": "N4M5IW3MqSAr",
    "outputId": "76920d9f-0e6f-4a71-d002-c8d5c7b47bad"
   },
   "outputs": [
    {
     "data": {
      "text/plain": [
       "{'name': 'Divya', 'gender': 'F', 'age': 25}"
      ]
     },
     "execution_count": 559,
     "metadata": {},
     "output_type": "execute_result"
    }
   ],
   "source": [
    "employee = {'name': 'Vidya', 'gender': 'M', 'age': 25}\n",
    "employee.update({'name': 'Divya', 'gender': 'F'})\n",
    "employee"
   ]
  },
  {
   "cell_type": "markdown",
   "metadata": {
    "id": "STHuu6XDUCmu"
   },
   "source": [
    "### Exercise\n",
    "Consider the following dictionary that contains the monthly sales data of a product for the year 2020:\n",
    "```\n",
    "sales_dict = {'Jan': 45, 'Feb': 35, 'Mar': 64,\n",
    "              'Apr': 75, 'May': 83, 'Jun': 108,\n",
    "              'Jul': 112, 'Aug': 95, 'Sep': 87,\n",
    "              'Oct': 65, 'Nov': 74, 'Dec': 70}\n",
    "```\n",
    "Print the top three sales amounts and the months in which those sales were made as a new dictionary"
   ]
  },
  {
   "cell_type": "code",
   "execution_count": 560,
   "metadata": {
    "colab": {
     "base_uri": "https://localhost:8080/"
    },
    "executionInfo": {
     "elapsed": 25,
     "status": "ok",
     "timestamp": 1722346068111,
     "user": {
      "displayName": "Aditya Shirodkar",
      "userId": "15479199146380146148"
     },
     "user_tz": -330
    },
    "id": "qz6jIkFeUCmv",
    "outputId": "eca289b1-4d53-4ba9-e049-e5d3d72bfc31"
   },
   "outputs": [
    {
     "data": {
      "text/plain": [
       "{'Jan': 112, 'Feb': 108, 'Mar': 95}"
      ]
     },
     "execution_count": 560,
     "metadata": {},
     "output_type": "execute_result"
    }
   ],
   "source": [
    "sales_dict = {'Jan': 45, 'Feb': 35, 'Mar': 64,\n",
    "              'Apr': 75, 'May': 83, 'Jun': 108,\n",
    "              'Jul': 112, 'Aug': 95, 'Sep': 87,\n",
    "              'Oct': 65, 'Nov': 74, 'Dec': 70}\n",
    "key_list = list(sales_dict.keys())\n",
    "val_list_sorted = sorted(sales_dict.values())[::-1]\n",
    "req_vals = val_list_sorted[0:3]\n",
    "req_keys = key_list[0:3]\n",
    "new_dict = dict(zip(req_keys, req_vals))\n",
    "new_dict"
   ]
  },
  {
   "cell_type": "markdown",
   "metadata": {
    "id": "K7syNx5zUCIt"
   },
   "source": [
    "### Exercise\n",
    "Consider the following dictionary that contains the monthly sales data of a product for the year 2020:\n",
    "```\n",
    "sales_dict = {'Jan': 45, 'Feb': 35, 'Mar': 64,\n",
    "              'Apr': 75, 'May': 83, 'Jun': 108,\n",
    "              'Jul': 112, 'Aug': 95, 'Sep': 87,\n",
    "              'Oct': 65, 'Nov': 74, 'Dec': 70}\n",
    "```\n",
    "Print the maximum and minimum sales values along with the amounts"
   ]
  },
  {
   "cell_type": "code",
   "execution_count": 561,
   "metadata": {
    "colab": {
     "base_uri": "https://localhost:8080/"
    },
    "executionInfo": {
     "elapsed": 23,
     "status": "ok",
     "timestamp": 1722346068111,
     "user": {
      "displayName": "Aditya Shirodkar",
      "userId": "15479199146380146148"
     },
     "user_tz": -330
    },
    "id": "_whl5kHVUCI-",
    "outputId": "9a045981-d88e-491e-eb6c-0fc41b269913"
   },
   "outputs": [
    {
     "name": "stdout",
     "output_type": "stream",
     "text": [
      "Maximum sales occurred in the month of Jul with a sales amount of 112 units\n",
      "Minimum sales occurred in the month of Feb with a sales amount of 35 units\n"
     ]
    }
   ],
   "source": [
    "sales_dict = {'Jan': 45, 'Feb': 35, 'Mar': 64,\n",
    "              'Apr': 75, 'May': 83, 'Jun': 108,\n",
    "              'Jul': 112, 'Aug': 95, 'Sep': 87,\n",
    "              'Oct': 65, 'Nov': 74, 'Dec': 70}\n",
    "max_sales = max(sales_dict.values())\n",
    "max_sales_month = max(sales_dict, key = sales_dict.get)\n",
    "min_sales = min(sales_dict.values())\n",
    "min_sales_month = min(sales_dict, key = sales_dict.get)\n",
    "print(f'Maximum sales occurred in the month of {max_sales_month} with a sales amount of {max_sales} units')\n",
    "print(f'Minimum sales occurred in the month of {min_sales_month} with a sales amount of {min_sales} units')"
   ]
  }
 ],
 "metadata": {
  "colab": {
   "authorship_tag": "ABX9TyOOZY+ZV/ZKnij47OuTmSWL",
   "provenance": []
  },
  "kernelspec": {
   "display_name": "Python [conda env:base] *",
   "language": "python",
   "name": "conda-base-py"
  },
  "language_info": {
   "codemirror_mode": {
    "name": "ipython",
    "version": 3
   },
   "file_extension": ".py",
   "mimetype": "text/x-python",
   "name": "python",
   "nbconvert_exporter": "python",
   "pygments_lexer": "ipython3",
   "version": "3.12.7"
  }
 },
 "nbformat": 4,
 "nbformat_minor": 4
}
