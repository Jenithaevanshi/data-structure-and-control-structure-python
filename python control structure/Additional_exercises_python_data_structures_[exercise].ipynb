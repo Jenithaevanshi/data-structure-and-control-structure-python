{
 "cells": [
  {
   "cell_type": "markdown",
   "metadata": {
    "id": "_dyoAN3t7R4E"
   },
   "source": [
    "### Exercise\n",
    "Study the following code lines:\n",
    "```\n",
    "len('Python') > 2 | len('Python') < 4\n",
    "(len('Python') > 2) | (len('Python') < 4)\n",
    "```\n",
    "Which of these code lines works as expected?"
   ]
  },
  {
   "cell_type": "code",
   "execution_count": null,
   "metadata": {
    "id": "1q2yA58v7R4E"
   },
   "outputs": [],
   "source": [
    "len('Python') > 2 | len('Python') < 4\n",
    "(len('Python') > 2) | (len('Python') < 4)\n"
   ]
  },
  {
   "cell_type": "code",
   "execution_count": null,
   "metadata": {
    "id": "O_Kuiqb97R4E"
   },
   "outputs": [],
   "source": [
    "True|False\n",
    "=True"
   ]
  },
  {
   "cell_type": "markdown",
   "metadata": {
    "id": "bXJb1mY67R4E"
   },
   "source": [
    "### Exercise\n",
    "Study the following code lines:\n",
    "```\n",
    "len('Python') > 2 or len('Python') < 4\n",
    "(len('Python') > 2) or (len('Python') < 4)\n",
    "```\n",
    "Which of these code lines works as expected?"
   ]
  },
  {
   "cell_type": "code",
   "execution_count": null,
   "metadata": {
    "id": "wKUrkipP7R4E"
   },
   "outputs": [],
   "source": [
    "### YOUR CODE HERE ###"
   ]
  },
  {
   "cell_type": "code",
   "execution_count": null,
   "metadata": {
    "id": "lWGol1O37R4E"
   },
   "outputs": [],
   "source": [
    "### YOUR CODE HERE ###"
   ]
  },
  {
   "cell_type": "markdown",
   "metadata": {
    "id": "jq4DWYjI7R4E"
   },
   "source": [
    "Generally, it is better to use the `and` and the `or` operators as opposed to the `&` and the `|` operators. In addition, it is better to use parentheses for each logical condition. You are encouraged to explore this further. Try querying an LLM to learn more about the differences in the way these operators work."
   ]
  },
  {
   "cell_type": "markdown",
   "metadata": {
    "id": "emUswuCqhYre"
   },
   "source": [
    "### Exercise\n",
    " Remove leading and trailing whitespaces from the string `'    Hi,   I am a robot.   '` and change the case to uppercase."
   ]
  },
  {
   "cell_type": "code",
   "execution_count": null,
   "metadata": {
    "id": "BV8S2VoIjOfV"
   },
   "outputs": [],
   "source": [
    "x='    Hi,   I am a robot.   '\n",
    "x=x.strip()\n",
    "x=x.upper()\n",
    "x"
   ]
  },
  {
   "cell_type": "markdown",
   "metadata": {
    "id": "n829Vl_E7R4G"
   },
   "source": [
    "### Exercise\n",
    "Check if the substrings `'Aarti'` and `'cooks'` both are not present in the string `'David and Ram are excellent coders!'`."
   ]
  },
  {
   "cell_type": "code",
   "execution_count": null,
   "metadata": {
    "id": "l4uAkxIv7R4G"
   },
   "outputs": [],
   "source": [
    "x='David and Ram are excellent coders!'\n",
    "print('Aarti' not in x and 'cooks' not in x)"
   ]
  },
  {
   "cell_type": "markdown",
   "metadata": {
    "id": "9cHF24K-Nupi"
   },
   "source": [
    "### Exercise\n",
    "What is the index of the `'world'` in the string `'Hello, world of Python!'`."
   ]
  },
  {
   "cell_type": "code",
   "execution_count": null,
   "metadata": {
    "id": "4wIDoKiVNupz"
   },
   "outputs": [],
   "source": [
    "x='Hello, world of Python!'\n",
    "x.index('world')\n"
   ]
  },
  {
   "cell_type": "markdown",
   "metadata": {
    "id": "aijzv0-Tik8m"
   },
   "source": [
    "### Exercise\n",
    "Convert the phrase `'Introduction to python programming'` to title case"
   ]
  },
  {
   "cell_type": "code",
   "execution_count": null,
   "metadata": {
    "id": "dHbxrGXFpUbm"
   },
   "outputs": [],
   "source": [
    "x='Introduction to python programming'\n",
    "x.title()"
   ]
  },
  {
   "cell_type": "markdown",
   "metadata": {
    "id": "kvp6YqtJ7R4W"
   },
   "source": [
    "### Exercise\n",
    "Rectify the sentence `'Pthyon     programmIng  Is awesome!'`"
   ]
  },
  {
   "cell_type": "code",
   "execution_count": null,
   "metadata": {
    "id": "pa2wFxk67R4W"
   },
   "outputs": [],
   "source": [
    "x='Pthyon     programmIng  Is awesome!'\n",
    "x.strip().replace('thy','yth').replace('     ',' ').replace('  ',' ').replace('I','i')"
   ]
  },
  {
   "cell_type": "markdown",
   "metadata": {
    "id": "WKa4W9_2ILJ7"
   },
   "source": [
    "### Exercise\n",
    "Print the last element from the following list: `[14, 4.4, 10, -1, [100]]`."
   ]
  },
  {
   "cell_type": "code",
   "execution_count": null,
   "metadata": {
    "id": "QYgQgEkxIS-3"
   },
   "outputs": [],
   "source": [
    "x=[14, 4.4, 10, -1, [100]]\n",
    "x[4]"
   ]
  },
  {
   "cell_type": "markdown",
   "metadata": {
    "id": "xaUPyZ3XNxPj"
   },
   "source": [
    "### Exercise\n",
    "Find the smallest element in the following list: `[15, 25, 10, 35, 20, -1, 0, -20]`."
   ]
  },
  {
   "cell_type": "code",
   "execution_count": null,
   "metadata": {
    "id": "WDLlXzBXOrj-"
   },
   "outputs": [],
   "source": [
    "x=[15, 25, 10, 35, 20, -1, 0, -20]\n",
    "y=sorted(x)\n",
    "min(y)"
   ]
  },
  {
   "cell_type": "markdown",
   "metadata": {
    "id": "zV-2tkZ_IV3y"
   },
   "source": [
    "###Quiz\n",
    "\n",
    "You are building a task scheduler application. You have the following list of tasks:\n",
    "\n",
    "`tasks = ['Read', 'Write', 'Code', 'Exercise', 'Sleep']`\n",
    "\n",
    "Add a new task to the list by prompting user."
   ]
  },
  {
   "cell_type": "code",
   "execution_count": 5,
   "metadata": {
    "id": "QQTYTE_2qTsJ"
   },
   "outputs": [
    {
     "name": "stdin",
     "output_type": "stream",
     "text": [
      "Enter new task:  cook\n"
     ]
    },
    {
     "data": {
      "text/plain": [
       "['Read', 'Write', 'Code', 'Exercise', 'Sleep', 'cook']"
      ]
     },
     "execution_count": 5,
     "metadata": {},
     "output_type": "execute_result"
    }
   ],
   "source": [
    "tasks = ['Read', 'Write', 'Code', 'Exercise','Sleep']\n",
    "new_task = input('Enter new task: ')\n",
    "tasks.append(new_task)\n",
    "tasks"
   ]
  },
  {
   "cell_type": "markdown",
   "metadata": {
    "id": "L6M8HhcDL2Ti"
   },
   "source": [
    "### Exercise\n",
    "You are given two lists representing sales data for a month:\n",
    "\n",
    "```\n",
    "dates = [\"2023-01-01\", \"2023-01-02\", \"2023-01-03\", \"2023-01-04\", \"2023-01-05\"]\n",
    "sales = [120.50, 45.20, 200.00, 30.00, 80.60]\n",
    "```\n",
    "\n",
    "Assume the sales are made in the same order as the dates.\n",
    "\n",
    "1. Calculate and print the total sales for the month.\n",
    "2. Identify and print the date(s) with the highest sales.\n",
    "3. Calculate and print the average daily sales.\n",
    "4. Identify and print the date(s) with the lowest sales.\n",
    "\n",
    "\n",
    "\n"
   ]
  },
  {
   "cell_type": "code",
   "execution_count": null,
   "metadata": {
    "id": "QYMDZvunMnPI"
   },
   "outputs": [],
   "source": [
    "### YOUR CODE HERE ###"
   ]
  },
  {
   "cell_type": "code",
   "execution_count": null,
   "metadata": {
    "id": "EDsnOoqhKLx_"
   },
   "outputs": [],
   "source": [
    "# 1. Solution\n",
    "### YOUR CODE HERE ###"
   ]
  },
  {
   "cell_type": "code",
   "execution_count": null,
   "metadata": {
    "id": "cf9HjSdpM6Eb"
   },
   "outputs": [],
   "source": [
    "# 2. Solution\n",
    "### YOUR CODE HERE ###"
   ]
  },
  {
   "cell_type": "code",
   "execution_count": null,
   "metadata": {
    "id": "2XydhhRxNmL0"
   },
   "outputs": [],
   "source": [
    "# 3. Solution\n",
    "### YOUR CODE HERE ###"
   ]
  },
  {
   "cell_type": "code",
   "execution_count": null,
   "metadata": {
    "id": "UOkW2WpVN413"
   },
   "outputs": [],
   "source": [
    "# 4. Solution\n",
    "### YOUR CODE HERE ###"
   ]
  },
  {
   "cell_type": "markdown",
   "metadata": {
    "id": "EAi2rUGTWdl-"
   },
   "source": [
    "### Exercise\n",
    "What is the output of `int(str(42))`? What is the output of `str(int('42'))`?"
   ]
  },
  {
   "cell_type": "code",
   "execution_count": null,
   "metadata": {
    "id": "n0IvmT8yAi5E"
   },
   "outputs": [],
   "source": [
    "### YOUR CODE HERE ###"
   ]
  },
  {
   "cell_type": "code",
   "execution_count": null,
   "metadata": {
    "id": "7bWaN2Ys7R34"
   },
   "outputs": [],
   "source": [
    "### YOUR CODE HERE ###"
   ]
  },
  {
   "cell_type": "markdown",
   "metadata": {
    "id": "-bcRk-01EQoY"
   },
   "source": [
    "### Exercise\n",
    "Store the string `'Hello world!'` in a variable called `hello_str` and print it."
   ]
  },
  {
   "cell_type": "code",
   "execution_count": null,
   "metadata": {
    "id": "vgKkBxsmEal2"
   },
   "outputs": [],
   "source": [
    "### YOUR CODE HERE ###"
   ]
  },
  {
   "cell_type": "markdown",
   "metadata": {
    "id": "DmzDMCYU7R3_"
   },
   "source": [
    "Print the seventh character from `hello_str`."
   ]
  },
  {
   "cell_type": "code",
   "execution_count": null,
   "metadata": {
    "id": "sy5vho5-7R3_"
   },
   "outputs": [],
   "source": [
    "### YOUR CODE HERE ###"
   ]
  },
  {
   "cell_type": "markdown",
   "metadata": {
    "id": "burCs2ov7R3_"
   },
   "source": [
    "Print the last character from `hello_str`."
   ]
  },
  {
   "cell_type": "code",
   "execution_count": null,
   "metadata": {
    "id": "ItON-QGp7R3_"
   },
   "outputs": [],
   "source": [
    "### YOUR CODE HERE ###"
   ]
  },
  {
   "cell_type": "markdown",
   "metadata": {
    "id": "7bTmovmW7Y6b"
   },
   "source": [
    "### Exercise\n",
    "Extract the string `'program'` from the sentence `'I find Python programming very interesting!'`"
   ]
  },
  {
   "cell_type": "code",
   "execution_count": null,
   "metadata": {
    "id": "TFcx7GfN786E"
   },
   "outputs": [],
   "source": [
    "### YOUR CODE HERE ###"
   ]
  },
  {
   "cell_type": "markdown",
   "metadata": {
    "id": "zCUW9JiAKGx4"
   },
   "source": [
    "### Exercise\n",
    "How many times does `'I'` occur in the string `'I am Jane. I was born in Canada. I like programming.'`?"
   ]
  },
  {
   "cell_type": "code",
   "execution_count": null,
   "metadata": {
    "id": "sjRDWCuCKdtN"
   },
   "outputs": [],
   "source": [
    "### YOUR CODE HERE ###"
   ]
  },
  {
   "cell_type": "markdown",
   "metadata": {
    "id": "Mh3a7LNx7R4P"
   },
   "source": [
    "### Exercise\n",
    "Sort the following strings lexicographically and print them in the ascending order:\n",
    "```\n",
    "'Python'\n",
    "'programming'\n",
    "'Matlab'\n",
    "'Data'\n",
    "'upGrad'\n",
    "```\n",
    "**Hint:** Obtain the ASCII values of the first character of each string and then print them in ascending order of ASCII values"
   ]
  },
  {
   "cell_type": "code",
   "execution_count": null,
   "metadata": {
    "id": "WfKiUEAR7R4P"
   },
   "outputs": [],
   "source": [
    "### YOUR CODE HERE ###"
   ]
  },
  {
   "cell_type": "code",
   "execution_count": null,
   "metadata": {
    "id": "zxYgMIeQ7R4Q"
   },
   "outputs": [],
   "source": [
    "### YOUR CODE HERE ###"
   ]
  },
  {
   "cell_type": "markdown",
   "metadata": {
    "id": "0T-qD3rsByxa"
   },
   "source": [
    "### Exercise\n",
    "Sort `[19, 2, 4, 23]` in descending order."
   ]
  },
  {
   "cell_type": "code",
   "execution_count": null,
   "metadata": {
    "id": "6gR1UI5HCHrZ"
   },
   "outputs": [],
   "source": [
    "### YOUR CODE HERE ###"
   ]
  },
  {
   "cell_type": "markdown",
   "metadata": {
    "id": "EfRk8telTPia"
   },
   "source": [
    "### Exercise\n",
    "Find the sum of all the odd numbers in the list `[10, 20, 5, 30, 40, 15]`."
   ]
  },
  {
   "cell_type": "code",
   "execution_count": null,
   "metadata": {
    "executionInfo": {
     "elapsed": 7,
     "status": "ok",
     "timestamp": 1722345559982,
     "user": {
      "displayName": "Aditya Shirodkar",
      "userId": "15479199146380146148"
     },
     "user_tz": -330
    },
    "id": "GyUnvEmOUPrQ"
   },
   "outputs": [],
   "source": [
    "# Hint: you may want to look up the idea of a list comprehension to solve this exercise.\n",
    "### YOUR CODE HERE ###"
   ]
  },
  {
   "cell_type": "markdown",
   "metadata": {
    "id": "TKdu1f9F7R4Q"
   },
   "source": [
    "### Exercise\n",
    "Study the following string variables:\n",
    "```\n",
    "name = 'Mehmood'\n",
    "age = 45\n",
    "domain = 'IT'\n",
    "role = 'software developer'\n",
    "```\n",
    "Concatenate these variables to produce the string `'Mehmood is a 45 year old software developer working in the IT team.'` Note that you may need to change the types of certain variables for concatenation to work."
   ]
  },
  {
   "cell_type": "code",
   "execution_count": null,
   "metadata": {
    "id": "OOCgK98p7R4Q"
   },
   "outputs": [],
   "source": [
    "### YOUR CODE HERE ###"
   ]
  },
  {
   "cell_type": "markdown",
   "metadata": {
    "id": "xN8U0gymFd8M"
   },
   "source": [
    "### Exercise\n",
    "Print the fourth element from the following list: `[17, 42, 9, 33, 8]`."
   ]
  },
  {
   "cell_type": "code",
   "execution_count": null,
   "metadata": {
    "id": "slbAA22PFmCP"
   },
   "outputs": [],
   "source": [
    "### YOUR CODE HERE ###"
   ]
  },
  {
   "cell_type": "markdown",
   "metadata": {
    "id": "bmNCdQbFNECs"
   },
   "source": [
    "Print the middle two elements from the list `[23, -14, 22, 134]`."
   ]
  },
  {
   "cell_type": "code",
   "execution_count": null,
   "metadata": {
    "id": "eoX6S2nENMcp"
   },
   "outputs": [],
   "source": [
    "### YOUR CODE HERE ###"
   ]
  },
  {
   "cell_type": "markdown",
   "metadata": {
    "id": "_ldUFxqb7R4U"
   },
   "source": [
    "### Exercise\n",
    "Replace all commas with semi-colons in the sentence `'Rainy, sunny, cloudy are types of weather'`"
   ]
  },
  {
   "cell_type": "code",
   "execution_count": null,
   "metadata": {
    "id": "jdpDHev27R4U"
   },
   "outputs": [],
   "source": [
    "### YOUR CODE HERE ###"
   ]
  },
  {
   "cell_type": "markdown",
   "metadata": {
    "id": "yWs-aFsniqH_"
   },
   "source": [
    "### Exercise\n",
    "Clean the sentence `' Why is it lkie this? I dont know! '`"
   ]
  },
  {
   "cell_type": "code",
   "execution_count": null,
   "metadata": {
    "id": "bBnlw8F0o7ye"
   },
   "outputs": [],
   "source": [
    "### YOUR CODE HERE ###"
   ]
  },
  {
   "cell_type": "markdown",
   "metadata": {
    "id": "0QzfP_12ig_P"
   },
   "source": [
    "Split the string `'This#statement#is#hard#to#read.'` using the right separator and join the substrings back to produce a proper sentence"
   ]
  },
  {
   "cell_type": "code",
   "execution_count": null,
   "metadata": {
    "id": "RkWjb9q-uhak"
   },
   "outputs": [],
   "source": [
    "### YOUR CODE HERE ###"
   ]
  },
  {
   "cell_type": "markdown",
   "metadata": {
    "id": "77lDjkZG_0nL"
   },
   "source": [
    "### Exercise\n",
    "Given the following table containing the coordinates of a point in a 3D plane, create a tuple that contains the coordinate values\n",
    "```\n",
    "Variable:  x   y   z\n",
    "Values:    0   1   0\n",
    "```"
   ]
  },
  {
   "cell_type": "code",
   "execution_count": null,
   "metadata": {
    "id": "J4nmtf_fAzm8"
   },
   "outputs": [],
   "source": [
    "### YOUR CODE HERE ###"
   ]
  },
  {
   "cell_type": "markdown",
   "metadata": {
    "id": "N2NbB7ZAI0LF"
   },
   "source": [
    "### Exercise\n",
    "Given two lists of `fruits = ['apple', 'banana', 'avocado', 'mango']` and `price = [150, 40, 100, 50]`, create a tuple of nested tuples where each inner tuple contains a fruit and its price"
   ]
  },
  {
   "cell_type": "code",
   "execution_count": null,
   "metadata": {
    "id": "ZNTdBXPLJcgc"
   },
   "outputs": [],
   "source": [
    "### YOUR CODE HERE ###"
   ]
  },
  {
   "cell_type": "markdown",
   "metadata": {
    "id": "q9xKvo97ObpL"
   },
   "source": [
    "### Exercise\n",
    "Print the last element of the tuple `some_tuple = (2, 5, 4, 7, 6, 9, 8)`"
   ]
  },
  {
   "cell_type": "code",
   "execution_count": null,
   "metadata": {
    "id": "Rro8Yk-hO5kW"
   },
   "outputs": [],
   "source": [
    "### YOUR CODE HERE ###"
   ]
  },
  {
   "cell_type": "markdown",
   "metadata": {
    "id": "aBJzV-0HTyMg"
   },
   "source": [
    "### Exercise\n",
    "Consider the following tuples:\n",
    "```\n",
    "some_tuple_1 = ('Adit', 'Chitra', 'David', 'Huzefa', 'Jagannath', 'Monika', 'Tuhina')\n",
    "some_tuple_2 = ('AB018', 'AC626', 'BH782', 'CF663', 'DM787', 'FG098')\n",
    "```\n",
    "Print the middle element(s) of both the tuples"
   ]
  },
  {
   "cell_type": "code",
   "execution_count": null,
   "metadata": {
    "id": "TmY2mAfRUuCL"
   },
   "outputs": [],
   "source": [
    "### YOUR CODE HERE ###"
   ]
  },
  {
   "cell_type": "code",
   "execution_count": null,
   "metadata": {
    "id": "7nTC_X8RUxDx"
   },
   "outputs": [],
   "source": [
    "### YOUR CODE HERE ###"
   ]
  },
  {
   "cell_type": "markdown",
   "metadata": {
    "id": "JD6aSM-x7vP2"
   },
   "source": [
    "### Exercise\n",
    "What is the length of the tuple `my_tuple = (3.1, 'H', 2.7, 'W', 1.6, (1, 3), 'P', 0.577, 'T')`?"
   ]
  },
  {
   "cell_type": "code",
   "execution_count": null,
   "metadata": {
    "id": "Gq8u1PJV8IO6"
   },
   "outputs": [],
   "source": [
    "### YOUR CODE HERE ###"
   ]
  },
  {
   "cell_type": "markdown",
   "metadata": {
    "id": "cpA1yY8iC5LU"
   },
   "source": [
    "### Exercise\n",
    "Check if both `'Fe'` and `'N'` are present in the tuple `chem_elements = ('H', 'He', 'Li', 'Be', 'B', 'C', 'N', 'Xe', 'O', 'F', 'Ne')`"
   ]
  },
  {
   "cell_type": "code",
   "execution_count": null,
   "metadata": {
    "id": "4Nq1sS2aD9H9"
   },
   "outputs": [],
   "source": [
    "### YOUR CODE HERE ###"
   ]
  },
  {
   "cell_type": "markdown",
   "metadata": {
    "id": "ptunG40P_QdP"
   },
   "source": [
    "### Exercise\n",
    "Consider the following tuple of employee names and ID numbers:\n",
    "```\n",
    "emp_tuple = (['AG8476', 'Chidanand'],\n",
    "             ['MZ6708', 'Anjuman'],\n",
    "             ['HF3876', 'Dinesh'],\n",
    "             ['RT0087', 'Vijay'],\n",
    "             ['UH5307', 'Ankita'])\n",
    "```\n",
    "What is the index of Vijay's information in the tuple?"
   ]
  },
  {
   "cell_type": "code",
   "execution_count": null,
   "metadata": {
    "id": "Q0UCqgG7ALk4"
   },
   "outputs": [],
   "source": [
    "### YOUR CODE HERE ###"
   ]
  },
  {
   "cell_type": "markdown",
   "metadata": {
    "id": "M4cRC-BnCk-W"
   },
   "source": [
    "### Exercise\n",
    "Sort the tuple `(41, 13, 55, 20, 33)` in descending order and return the output as another tuple."
   ]
  },
  {
   "cell_type": "code",
   "execution_count": null,
   "metadata": {
    "id": "OwcLMJqA3ZKA"
   },
   "outputs": [],
   "source": [
    "### YOUR CODE HERE ###"
   ]
  },
  {
   "cell_type": "markdown",
   "metadata": {
    "id": "e1Qwaxm1vzan"
   },
   "source": [
    "### Exercise\n",
    "Sort `some_tup = (3.14, 2.71, 5.0, 1.618, 0.577, 4.669, 9.81, 2.99, 8.314, 6.022, 1.414)` in descending order"
   ]
  },
  {
   "cell_type": "code",
   "execution_count": null,
   "metadata": {
    "id": "F21DYzTjukAw"
   },
   "outputs": [],
   "source": [
    "### YOUR CODE HERE ###"
   ]
  },
  {
   "cell_type": "markdown",
   "metadata": {
    "id": "hQPjAV5nIrc_"
   },
   "source": [
    "### Exercise\n",
    "Given a tuple of expiry dates `exp_dates = ('2023-01-01', '2023-02-01', '2023-03-01', '2023-04-01', '2023-05-01')` unpack only the first 2 dates into separate variables `'date_1'` and `'date_2'`"
   ]
  },
  {
   "cell_type": "code",
   "execution_count": null,
   "metadata": {
    "id": "8urhdPeaJQWL"
   },
   "outputs": [],
   "source": [
    "### YOUR CODE HERE ###"
   ]
  },
  {
   "cell_type": "markdown",
   "metadata": {
    "id": "Dgjq523VsY6k"
   },
   "source": [
    "### Exercise\n",
    "Concatenate the tuples `('a', 'b', 'c')` and `(1, 2, 3)`"
   ]
  },
  {
   "cell_type": "code",
   "execution_count": null,
   "metadata": {
    "id": "c0b8CarOtuhu"
   },
   "outputs": [],
   "source": [
    "### YOUR CODE HERE ###"
   ]
  },
  {
   "cell_type": "markdown",
   "metadata": {
    "id": "O-dGqeFNhVXD"
   },
   "source": [
    "### Exercise\n",
    "The tuple `heights = (1.60, 1.75, 1.62, 1.68, 1.80, 1.55, 1.70, 1.65, 1.75, 1.58)` contains the heights of a students in a class. Find the maximum and minimum heights."
   ]
  },
  {
   "cell_type": "code",
   "execution_count": null,
   "metadata": {
    "id": "i5-4obj8iQGp"
   },
   "outputs": [],
   "source": [
    "### YOUR CODE HERE ###"
   ]
  },
  {
   "cell_type": "code",
   "execution_count": null,
   "metadata": {
    "id": "P7Ci6XSGiTAC"
   },
   "outputs": [],
   "source": [
    "### YOUR CODE HERE ###"
   ]
  },
  {
   "cell_type": "markdown",
   "metadata": {
    "id": "WGrejGlBpwnu"
   },
   "source": [
    "### Exercise\n",
    "You are given a tuple containing reviews of seven customers on a certain product, `cust_reviews = (4.5, 3.2, 5.0, 4.8, 2.5, 3.7, 4.0)`. Find the average review of the product to 2 decimal places.\n",
    "\n",
    "**Hint:** Use the `round` method for rounding. Study its documentation to understand how to round to 2 decimal places."
   ]
  },
  {
   "cell_type": "code",
   "execution_count": null,
   "metadata": {
    "id": "PDSNfm7gpzW-"
   },
   "outputs": [],
   "source": [
    "### YOUR CODE HERE ###"
   ]
  },
  {
   "cell_type": "markdown",
   "metadata": {
    "id": "j8JpXhHT5Ez9"
   },
   "source": [
    "### Exercise\n",
    "Find the smallest element in the tuple `(2.5, 1.8, 3.7, 4.2, 0.9)`.\n",
    "\n",
    "**Note:** You can achieve this by using the `min` function. However, another common approach is to sort the tuple in ascending order and index the first element."
   ]
  },
  {
   "cell_type": "code",
   "execution_count": null,
   "metadata": {
    "id": "4doh4J1m5bVW"
   },
   "outputs": [],
   "source": [
    "### YOUR CODE HERE ###"
   ]
  },
  {
   "cell_type": "markdown",
   "metadata": {
    "id": "OrjxmoZ5dD58"
   },
   "source": [
    "### Exercise\n",
    "The set `{1.5, 2.0, 1.8, 2.2, 1.9, 1.7, 2.5, 1.9, 2.1, 2.3, 2.0, 2.4}` contains weights of rabbits. Determine the number of rabbits in the sample."
   ]
  },
  {
   "cell_type": "code",
   "execution_count": null,
   "metadata": {
    "id": "P1K9K2iUeHD3"
   },
   "outputs": [],
   "source": [
    "### YOUR CODE HERE ###"
   ]
  },
  {
   "cell_type": "markdown",
   "metadata": {
    "id": "tT4FutQRg9CE"
   },
   "source": [
    "### Exercise\n",
    "Consider the following set of country codes:\n",
    "```\n",
    "country_codes = {'US', 'CA', 'UK', 'DE', 'FR', 'IT', 'JP', 'AU', 'BR', 'IN', 'CN', 'RU'}\n",
    "```\n",
    "Is India's code present in the set?"
   ]
  },
  {
   "cell_type": "code",
   "execution_count": null,
   "metadata": {
    "id": "9H_tg8zHhTIk"
   },
   "outputs": [],
   "source": [
    "### YOUR CODE HERE ###"
   ]
  },
  {
   "cell_type": "markdown",
   "metadata": {
    "id": "Xq0Od1_brHSb"
   },
   "source": [
    "### Exercise\n",
    "Consider the following set of employee names:\n",
    "```\n",
    "current_emp_names = {'Aditya', 'Manoj', 'Eric', 'Sanju', 'Tanveer'}\n",
    "```\n",
    "Suppose that a new employee, Rashi, has joined the compay, and Aditya has resigned. Update the set accordingly."
   ]
  },
  {
   "cell_type": "code",
   "execution_count": null,
   "metadata": {
    "id": "ycEO-p4-rv80"
   },
   "outputs": [],
   "source": [
    "### YOUR CODE HERE ###"
   ]
  },
  {
   "cell_type": "markdown",
   "metadata": {
    "id": "XPcd3NuWjoPn"
   },
   "source": [
    "### Exercise\n",
    "Consider the following two sets:\n",
    "```\n",
    "A = {1, 2, 3, 3.5, 4.2, 5, 5.5}\n",
    "B = {1, 2, 3, 3.5, 4.2, 5, 5, 5.5, 5.5}\n",
    "```\n",
    "Are they equal?"
   ]
  },
  {
   "cell_type": "code",
   "execution_count": null,
   "metadata": {
    "id": "Mv7bU9JokOZi"
   },
   "outputs": [],
   "source": [
    "### YOUR CODE HERE ###"
   ]
  },
  {
   "cell_type": "markdown",
   "metadata": {
    "id": "ZJ_KoAeOtPYA"
   },
   "source": [
    "### Exercise\n",
    "The following sets contain the names of students who have enrolled in two different programs, DSAI and MBA:\n",
    "```\n",
    "DSAI = {'Aanya', 'Olivia', 'Kabir', 'Emma', 'Aiden', 'Sophia', 'Arjun',\n",
    "      'Ava', 'Elijah', 'Ishaan', 'Liam', 'Aisha', 'Aditya', 'Ishika',\n",
    "      'Aarav', 'Mia', 'Noah', 'Avni', 'Jackson'}\n",
    "MBA = {'Deepesh', 'Aanya', 'Chandu', 'Olivia', 'Alazar', 'Sofie', 'Kabir',\n",
    "       'Emma', 'Priya', 'Kokila', 'Kabita',  'Aiden', 'Nematullah', 'Sophia',\n",
    "       'Arjun', 'Ava', 'Elijah', 'Ishaan', 'Liam', 'Aisha', 'Aditya', 'Ishika',\n",
    "       'Aarav', 'Mia', 'Noah', 'Avni', 'Jackson'}\n",
    "```\n",
    "Check if all the MBA learners are also part of the DSAI program."
   ]
  },
  {
   "cell_type": "code",
   "execution_count": null,
   "metadata": {
    "id": "Mijq04D0wbOv"
   },
   "outputs": [],
   "source": [
    "### YOUR CODE HERE ###"
   ]
  },
  {
   "cell_type": "markdown",
   "metadata": {
    "id": "T8w2jSwcsL_M"
   },
   "source": [
    "### Exercise\n",
    "The following sets contain the names of customers who have opted for either a credit card or a loan from a bank:\n",
    "```\n",
    "credit_card = {'Rahul', 'Priya', 'Amit', 'Ananya', 'Raj', 'Kunal'}\n",
    "loan = {'Sonia', 'Vikram', 'Neha', 'Kunal', 'Anjali', 'Rahul'}\n",
    "```\n",
    "Which customers opted for exactly one of these services?"
   ]
  },
  {
   "cell_type": "code",
   "execution_count": null,
   "metadata": {
    "id": "-pME8id3uWan"
   },
   "outputs": [],
   "source": [
    "### YOUR CODE HERE ###"
   ]
  },
  {
   "cell_type": "markdown",
   "metadata": {
    "id": "GC4UMbdlXhWg"
   },
   "source": [
    "### Exercise\n",
    "Store the following data as a dictionary:\n",
    "```\n",
    "name = 'Alice',\n",
    "age = 30\n",
    "city = 'Wonderland'\n",
    "```"
   ]
  },
  {
   "cell_type": "code",
   "execution_count": null,
   "metadata": {
    "id": "K-YfBKsG-nJF"
   },
   "outputs": [],
   "source": [
    "### YOUR CODE HERE ###"
   ]
  },
  {
   "cell_type": "markdown",
   "metadata": {
    "id": "k2Zu5bcW8s96"
   },
   "source": [
    "Create a dictionary from the same data above using the `dict` constructor with keyword arguments"
   ]
  },
  {
   "cell_type": "code",
   "execution_count": null,
   "metadata": {
    "id": "uA4EfF0q-mnT"
   },
   "outputs": [],
   "source": [
    "### YOUR CODE HERE ###"
   ]
  },
  {
   "cell_type": "markdown",
   "metadata": {
    "id": "DyXsrcN4-IM0"
   },
   "source": [
    "### Exercise\n",
    "Study the following information categories that are stored in a list:\n",
    "```\n",
    "info_list = ['name', 'age', 'city']\n",
    "```\n",
    "Create a dictionary using the above keys and store it in a variable called `default_dict` with default values for all categories as `N/A`"
   ]
  },
  {
   "cell_type": "code",
   "execution_count": null,
   "metadata": {
    "id": "Y5IGuklnXg1h"
   },
   "outputs": [],
   "source": [
    "### YOUR CODE HERE ###"
   ]
  },
  {
   "cell_type": "markdown",
   "metadata": {
    "id": "n8Ijqgdt3i26"
   },
   "source": [
    "### Exercise\n",
    "Print `name` from the dictionary `employee = {'name': 'John', 'age': 30}`"
   ]
  },
  {
   "cell_type": "code",
   "execution_count": null,
   "metadata": {
    "id": "kypMMbT73tfM"
   },
   "outputs": [],
   "source": [
    "### YOUR CODE HERE ###"
   ]
  },
  {
   "cell_type": "markdown",
   "metadata": {
    "id": "w4LkWr1H8zGp"
   },
   "source": [
    "### Exercise\n",
    "Consider the following individual dictionaries:\n",
    "```\n",
    "personal_info = {'name': 'Sonali', 'age': 25}\n",
    "address = {'city': 'Mumbai', 'zipcode': 123456}\n",
    "```\n",
    "Create a nested dictionary called `nested_dict` from these dictionaries, first by using `{}` and then by using `dict()`."
   ]
  },
  {
   "cell_type": "code",
   "execution_count": null,
   "metadata": {
    "id": "_Rbeqmxv-l5D"
   },
   "outputs": [],
   "source": [
    "### YOUR CODE HERE ###"
   ]
  },
  {
   "cell_type": "markdown",
   "metadata": {
    "id": "HUo6YiAB94WP"
   },
   "source": [
    "### Exercise\n",
    "Consider the following dictionary that has details about a university student:\n",
    "```\n",
    "university_student = {'student_id': '123456',\n",
    "                      'name': {'first_name': 'Surendar',\n",
    "                               'last_name': 'Dixit'},\n",
    "                      'age': 21,\n",
    "                      'email': 'emma.j@example.com',\n",
    "                      'phone': '555-987-6543',\n",
    "                      'courses': ['Math', 'English', 'Computer Science'],\n",
    "                      'is_international': False}\n",
    "```\n",
    "Extract and find the length of the list that contains the subjects the student has opted for"
   ]
  },
  {
   "cell_type": "code",
   "execution_count": null,
   "metadata": {
    "id": "CciHlBDJ94WP"
   },
   "outputs": [],
   "source": [
    "### YOUR CODE HERE ###"
   ]
  },
  {
   "cell_type": "markdown",
   "metadata": {
    "id": "Ysbw0e-El_60"
   },
   "source": [
    "### Exercise\n",
    "Find the length of the following dictionary:\n",
    "```\n",
    "university_student = {'student_id': '123456',\n",
    "                      'name': {'first_name': 'Surendar',\n",
    "                               'last_name': 'Dixit'},\n",
    "                      'personal_details': {'age': 21,\n",
    "                                           'email': 'emma.j@example.com',\n",
    "                                           'phone': '555-987-6543'},\n",
    "                      'courses': ['Math', 'English', 'Computer Science'],\n",
    "                      'is_international': False}\n",
    "```"
   ]
  },
  {
   "cell_type": "code",
   "execution_count": null,
   "metadata": {
    "id": "kBKdW-HdmoR4"
   },
   "outputs": [],
   "source": [
    "### YOUR CODE HERE ###"
   ]
  },
  {
   "cell_type": "markdown",
   "metadata": {
    "id": "3J_C1Xx6mgOG"
   },
   "source": [
    "### Exercise\n",
    "List all the keys of the following dictionary:\n",
    "```\n",
    "university_student = {'student_id': '123456',\n",
    "                      'name': {'first_name': 'Surendar',\n",
    "                               'last_name': 'Dixit'},\n",
    "                      'personal_details': {'age': 21,\n",
    "                                           'email': 'emma.j@example.com',\n",
    "                                           'phone': '555-987-6543'},\n",
    "                      'courses': ['Math', 'English', 'Computer Science'],\n",
    "                      'is_international': False}\n",
    "```"
   ]
  },
  {
   "cell_type": "code",
   "execution_count": null,
   "metadata": {
    "id": "fJs9YRXqmu-9"
   },
   "outputs": [],
   "source": [
    "### YOUR CODE HERE ###"
   ]
  },
  {
   "cell_type": "markdown",
   "metadata": {
    "id": "KD6SSBO_mwP9"
   },
   "source": [
    "### Exercise\n",
    "List all the values of the following dictionary:\n",
    "```\n",
    "university_student = {'student_id': '123456',\n",
    "                      'name': {'first_name': 'Surendar',\n",
    "                               'last_name': 'Dixit'},\n",
    "                      'personal_details': {'age': 21,\n",
    "                                           'email': 'emma.j@example.com',\n",
    "                                           'phone': '555-987-6543'},\n",
    "                      'courses': ['Math', 'English', 'Computer Science'],\n",
    "                      'is_international': False}\n",
    "```"
   ]
  },
  {
   "cell_type": "code",
   "execution_count": null,
   "metadata": {
    "id": "oqIG42OHjCHh",
    "scrolled": true
   },
   "outputs": [],
   "source": [
    "### YOUR CODE HERE ###"
   ]
  },
  {
   "cell_type": "markdown",
   "metadata": {
    "id": "G-wxpAehm73W"
   },
   "source": [
    "### Exercise\n",
    "List all the key-value pairs of the following dictionary:\n",
    "```\n",
    "university_student = {'student_id': '123456',\n",
    "                      'name': {'first_name': 'Surendar',\n",
    "                               'last_name': 'Dixit'},\n",
    "                      'personal_details': {'age': 21,\n",
    "                                           'email': 'emma.j@example.com',\n",
    "                                           'phone': '555-987-6543'},\n",
    "                      'courses': ['Math', 'English', 'Computer Science'],\n",
    "                      'is_international': False}\n",
    "```"
   ]
  },
  {
   "cell_type": "code",
   "execution_count": null,
   "metadata": {
    "id": "dptLlgU_kALJ"
   },
   "outputs": [],
   "source": [
    "### YOUR CODE HERE ###"
   ]
  },
  {
   "cell_type": "markdown",
   "metadata": {
    "id": "IaCnXgZtm-uO"
   },
   "source": [
    "### Exercise\n",
    "Consider the following dictionary that has details about a university student:\n",
    "```\n",
    "university_student = {'student_id': '123456',\n",
    "                      'name': {'first_name': 'Surendar',\n",
    "                               'last_name': 'Dixit'},\n",
    "                      'age': 21,\n",
    "                      'email': 'emma.j@example.com',\n",
    "                      'phone': '555-987-6543',\n",
    "                      'courses': ['Math', 'English', 'Computer Science'],\n",
    "                      'is_international': False}\n",
    "```\n",
    "What is the command to check whether both the keys `'name'` and `'age'` are present in the dictionary?"
   ]
  },
  {
   "cell_type": "code",
   "execution_count": null,
   "metadata": {
    "id": "pSuTtqsPxgvH"
   },
   "outputs": [],
   "source": [
    "### YOUR CODE HERE ###"
   ]
  },
  {
   "cell_type": "markdown",
   "metadata": {
    "id": "-6VqWLY4Ffa_"
   },
   "source": [
    "### Exercise\n",
    "Are the dictionaries `dict1 = {'a': 1, 'b': 2}` and `dict2 = {'b': 2, 'a': 1}` equal?"
   ]
  },
  {
   "cell_type": "code",
   "execution_count": null,
   "metadata": {
    "id": "uUs9lzy-Fi-E"
   },
   "outputs": [],
   "source": [
    "### YOUR CODE HERE ###"
   ]
  },
  {
   "cell_type": "markdown",
   "metadata": {
    "id": "g19V_xDfDxwJ"
   },
   "source": [
    "### Exercise\n",
    "Consider the following dictionary:\n",
    "```\n",
    "employee = {'name': 'Vidya', 'gender': 'F', 'age': 25}\n",
    "```\n",
    "Add the following key-value pair to the dictionary: `'city': 'Chennai'`"
   ]
  },
  {
   "cell_type": "code",
   "execution_count": null,
   "metadata": {
    "id": "ZpXOUE4LDxwK"
   },
   "outputs": [],
   "source": [
    "### YOUR CODE HERE ###"
   ]
  },
  {
   "cell_type": "markdown",
   "metadata": {
    "id": "iH9uUjwKzlqe"
   },
   "source": [
    "### Exercise\n",
    "Consider the following dictionary:\n",
    "```\n",
    "employee = {'name': 'Vidya', 'gender': 'F', 'age': 25}\n",
    "```\n",
    "Remove the last item from the dictionary"
   ]
  },
  {
   "cell_type": "code",
   "execution_count": null,
   "metadata": {
    "id": "30rUDnkP4ke2"
   },
   "outputs": [],
   "source": [
    "### YOUR CODE HERE ###"
   ]
  },
  {
   "cell_type": "markdown",
   "metadata": {
    "id": "vvWxeGRh0CGy"
   },
   "source": [
    "### Exercise\n",
    "Consider the following dictionary:\n",
    "```\n",
    "employee = {'name': 'Vidya', 'gender': 'F', 'age': 25}\n",
    "```\n",
    "Remove the gender from the dictionary"
   ]
  },
  {
   "cell_type": "code",
   "execution_count": null,
   "metadata": {
    "id": "pGSRyeVG4mWA"
   },
   "outputs": [],
   "source": [
    "### YOUR CODE HERE ###"
   ]
  },
  {
   "cell_type": "markdown",
   "metadata": {
    "id": "EeUSEYcza2Xf"
   },
   "source": [
    "### Exercise\n",
    "Consider the following dictionary:\n",
    "```\n",
    "employee = {'name': 'Vidya', 'gender': 'M', 'age': 25}\n",
    "```\n",
    "The name of the employee was incorrectly registered as Vidya instead of Divya. Rectify this and also the mistake in the gender."
   ]
  },
  {
   "cell_type": "code",
   "execution_count": null,
   "metadata": {
    "id": "N4M5IW3MqSAr"
   },
   "outputs": [],
   "source": [
    "### YOUR CODE HERE ###"
   ]
  },
  {
   "cell_type": "markdown",
   "metadata": {
    "id": "STHuu6XDUCmu"
   },
   "source": [
    "### Exercise\n",
    "Consider the following dictionary that contains the monthly sales data of a product for the year 2020:\n",
    "```\n",
    "sales_dict = {'Jan': 45, 'Feb': 35, 'Mar': 64,\n",
    "              'Apr': 75, 'May': 83, 'Jun': 108,\n",
    "              'Jul': 112, 'Aug': 95, 'Sep': 87,\n",
    "              'Oct': 65, 'Nov': 74, 'Dec': 70}\n",
    "```\n",
    "Print the top three sales amounts and the months in which those sales were made as a new dictionary"
   ]
  },
  {
   "cell_type": "code",
   "execution_count": null,
   "metadata": {
    "id": "qz6jIkFeUCmv"
   },
   "outputs": [],
   "source": [
    "### YOUR CODE HERE ###"
   ]
  },
  {
   "cell_type": "markdown",
   "metadata": {
    "id": "K7syNx5zUCIt"
   },
   "source": [
    "### Exercise\n",
    "Consider the following dictionary that contains the monthly sales data of a product for the year 2020:\n",
    "```\n",
    "sales_dict = {'Jan': 45, 'Feb': 35, 'Mar': 64,\n",
    "              'Apr': 75, 'May': 83, 'Jun': 108,\n",
    "              'Jul': 112, 'Aug': 95, 'Sep': 87,\n",
    "              'Oct': 65, 'Nov': 74, 'Dec': 70}\n",
    "```\n",
    "Print the maximum and minimum sales values along with the amounts"
   ]
  },
  {
   "cell_type": "code",
   "execution_count": null,
   "metadata": {
    "id": "_whl5kHVUCI-"
   },
   "outputs": [],
   "source": [
    "### YOUR CODE HERE ###"
   ]
  }
 ],
 "metadata": {
  "colab": {
   "authorship_tag": "ABX9TyP2/2LlZaAEV7w/X+agTcbN",
   "provenance": [
    {
     "file_id": "1UmUea-u0tbgJ5XCU6vVOTyMC8kcrZuMj",
     "timestamp": 1722345271597
    }
   ]
  },
  "kernelspec": {
   "display_name": "Python [conda env:base] *",
   "language": "python",
   "name": "conda-base-py"
  },
  "language_info": {
   "codemirror_mode": {
    "name": "ipython",
    "version": 3
   },
   "file_extension": ".py",
   "mimetype": "text/x-python",
   "name": "python",
   "nbconvert_exporter": "python",
   "pygments_lexer": "ipython3",
   "version": "3.12.7"
  }
 },
 "nbformat": 4,
 "nbformat_minor": 4
}
