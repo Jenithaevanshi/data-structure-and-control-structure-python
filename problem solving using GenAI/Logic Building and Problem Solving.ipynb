{
 "cells": [
  {
   "cell_type": "markdown",
   "id": "a8369ccb-6cc5-4bde-b29a-6c22cfed1cd5",
   "metadata": {},
   "source": [
    "### Example:\n",
    "\n",
    "**Problem** Design a program to add two numbers entered by the user. The program should prompt the user to input two numerical values and then calculate and display the sum of these numbers."
   ]
  },
  {
   "cell_type": "markdown",
   "id": "e75e267e-41c6-4cd2-9435-c22620b35ef1",
   "metadata": {},
   "source": [
    "* 1. Test Cases:\n",
    "\n",
    "* Input:\n",
    "    - Enter the first number: 5\n",
    "    - Enter the second number: 3\n",
    "* Expected Output:\n",
    "    - The sum is 8.0\n",
    " \n",
    "* Input:\n",
    "    - Enter the first number: 10000\n",
    "    - Enter the second number: 5000\n",
    "* Expected Output:\n",
    "    - The sum is 15000.0\n",
    " \n",
    "* Input:\n",
    "    - Enter the first number: abc\n",
    "    - Enter the second number: 50\n",
    "* Expected Output:\n",
    "    - ValueError: We can not convert string to float or number : 'abc'\n",
    " \n"
   ]
  },
  {
   "cell_type": "markdown",
   "id": "ae588d75-04e3-4ea6-a62e-5ea4115faa44",
   "metadata": {},
   "source": [
    "1. Step: Read Number1 and Number2\n",
    "2. Process : sum = Number1 + Number2\n",
    "3. Display: display sum"
   ]
  },
  {
   "cell_type": "code",
   "execution_count": 1,
   "id": "886b4a38-2ced-4df2-99d2-31d645c673ee",
   "metadata": {},
   "outputs": [],
   "source": [
    "# declare variables num1 and num2 are read the two number\n",
    "# find the sum of the two numbers and assign the result to sum\n",
    "# print the sum"
   ]
  },
  {
   "cell_type": "code",
   "execution_count": 3,
   "id": "4bfebe0e-6813-4a26-b8e5-b7774336d642",
   "metadata": {},
   "outputs": [
    {
     "name": "stdin",
     "output_type": "stream",
     "text": [
      "Enter the first number:  abc\n"
     ]
    },
    {
     "ename": "ValueError",
     "evalue": "could not convert string to float: 'abc'",
     "output_type": "error",
     "traceback": [
      "\u001b[31m---------------------------------------------------------------------------\u001b[39m",
      "\u001b[31mValueError\u001b[39m                                Traceback (most recent call last)",
      "\u001b[36mCell\u001b[39m\u001b[36m \u001b[39m\u001b[32mIn[3]\u001b[39m\u001b[32m, line 1\u001b[39m\n\u001b[32m----> \u001b[39m\u001b[32m1\u001b[39m num1 = \u001b[38;5;28;43mfloat\u001b[39;49m\u001b[43m(\u001b[49m\u001b[38;5;28;43minput\u001b[39;49m\u001b[43m(\u001b[49m\u001b[33;43m\"\u001b[39;49m\u001b[33;43mEnter the first number: \u001b[39;49m\u001b[33;43m\"\u001b[39;49m\u001b[43m)\u001b[49m\u001b[43m)\u001b[49m\n\u001b[32m      2\u001b[39m num2 = \u001b[38;5;28mfloat\u001b[39m(\u001b[38;5;28minput\u001b[39m(\u001b[33m\"\u001b[39m\u001b[33mEnter the second number: \u001b[39m\u001b[33m\"\u001b[39m))\n\u001b[32m      3\u001b[39m sum_ = num1 + num2\n",
      "\u001b[31mValueError\u001b[39m: could not convert string to float: 'abc'"
     ]
    }
   ],
   "source": [
    "num1 = float(input(\"Enter the first number: \"))\n",
    "num2 = float(input(\"Enter the second number: \"))\n",
    "sum_ = num1 + num2\n",
    "print(f\"The sum is {sum_}.\")"
   ]
  },
  {
   "cell_type": "markdown",
   "id": "7d0ba930-65be-43c4-8005-15d68ab83fae",
   "metadata": {},
   "source": [
    "### Create a function that takes a string as input and check if the given string is palindrom or not. ignore case. A plaindrom is a word that is symmetric, for example: madam,kayak, malayalam"
   ]
  },
  {
   "cell_type": "markdown",
   "id": "509a06e3-e39a-46a2-b154-aaf45ecaf3b3",
   "metadata": {},
   "source": [
    "1. Read the word input\n",
    "2. convert word input to lowercase\n",
    "3. initialize a variable reversed_word that is reverse of the input string\n",
    "4. check logic if word.lower() == reversed_word and word.lower() != reversed_word\n",
    "5. accordingly print the result"
   ]
  },
  {
   "cell_type": "code",
   "execution_count": 4,
   "id": "bb5b0dca-d6a3-4892-891a-7f196d8f5fac",
   "metadata": {},
   "outputs": [],
   "source": [
    "def is_palindrom(wrd):\n",
    "    reversed_word = wrd.lower()[::-1]\n",
    "    if wrd.lower() == reversed_word:\n",
    "        print(\"Palindrom\")\n",
    "    else:\n",
    "        print(\"NotPlndrm\")"
   ]
  },
  {
   "cell_type": "code",
   "execution_count": 5,
   "id": "4cbda74a-7876-4dee-ad2d-f23cecd10675",
   "metadata": {},
   "outputs": [
    {
     "name": "stdout",
     "output_type": "stream",
     "text": [
      "Palindrom\n"
     ]
    }
   ],
   "source": [
    "is_palindrom(\"Madam\")"
   ]
  },
  {
   "cell_type": "code",
   "execution_count": 14,
   "id": "16713ed7-0d2d-4135-8254-c5d2f9f06860",
   "metadata": {},
   "outputs": [],
   "source": [
    "def analyze_portfolio():\n",
    "    \"\"\"\n",
    "    Analyze the performance of a stock portfolio based on user input.\n",
    "\n",
    "    The function prompts the user to enter the number of stock in their portfolio and the\n",
    "    relevant information for each stock, including stock symbol, initial price and current price.\n",
    "    It calcs the percentage change for each stock, sorts them based on percentage change, and display\n",
    "    the sorted list. \n",
    "    Additionally, it calcs the overall portfolio performance and displays it.\n",
    "    \"\"\"\n",
    "    num_stocks = int(input(\"Enter the number of stocks in your portfolio: \"))\n",
    "    stocks = []\n",
    "\n",
    "    total_intial_price = 0; total_current_price = 0\n",
    "    for _ in range(num_stocks):\n",
    "        symbol = input(\"Enter stock symbol: \")\n",
    "        initial_price = float(input(\"Enter intial price: \"))\n",
    "        current_price = float(input(\"Enter current price: \"))\n",
    "\n",
    "        percentage_change = ((current_price - initial_price) / initial_price) * 100\n",
    "        total_intial_price = total_intial_price + initial_price\n",
    "        total_current_price = total_current_price + current_price\n",
    "\n",
    "        stock_info = {\"symbol\" : symbol,\n",
    "                      'initial_price' : initial_price,\n",
    "                      'current_price' : current_price,\n",
    "                      'percentage_change' : percentage_change}\n",
    "        \n",
    "        stocks.append(stock_info)\n",
    "\n",
    "    overall_performance = (total_current_price - total_intial_price)*100 / total_intial_price\n",
    "    stocks = sorted(stocks, key = lambda x : x['percentage_change'], reverse=True)\n",
    "    print(\"\\nSorted stocks based on percentage change: \")\n",
    "    for stock in stocks:\n",
    "        print(f\"{stock['symbol']} : {stock['percentage_change']:.2f}%\")\n",
    "        \n",
    "    "
   ]
  },
  {
   "cell_type": "code",
   "execution_count": 12,
   "id": "83aa4f5b-ced8-47dc-a02a-b291f5e1e74e",
   "metadata": {},
   "outputs": [
    {
     "name": "stdout",
     "output_type": "stream",
     "text": [
      "Help on function analyze_portfolio in module __main__:\n",
      "\n",
      "analyze_portfolio()\n",
      "    Analyze the performance of a stock portfolio based on user input.\n",
      "\n",
      "    The function prompts the user to enter the number of stock in their portfolio and the\n",
      "    relevant information for each stock, including stock symbol, initial price and current price.\n",
      "    It calcs the percentage change for each stock, sorts them based on percentage change, and display\n",
      "    the sorted list.\n",
      "    Additionally, it calcs the overall portfolio performance and displays it.\n",
      "\n"
     ]
    }
   ],
   "source": [
    "help(analyze_portfolio)"
   ]
  },
  {
   "cell_type": "code",
   "execution_count": 15,
   "id": "4e7398f0-de4f-482c-a6cb-218b08c83f8d",
   "metadata": {},
   "outputs": [
    {
     "name": "stdin",
     "output_type": "stream",
     "text": [
      "Enter the number of stocks in your portfolio:  4\n",
      "Enter stock symbol:  A\n",
      "Enter intial price:  15\n",
      "Enter current price:  14\n",
      "Enter stock symbol:  B\n",
      "Enter intial price:  40\n",
      "Enter current price:  45\n",
      "Enter stock symbol:  C\n",
      "Enter intial price:  100\n",
      "Enter current price:  87\n",
      "Enter stock symbol:  D\n",
      "Enter intial price:  100\n",
      "Enter current price:  101\n"
     ]
    },
    {
     "name": "stdout",
     "output_type": "stream",
     "text": [
      "\n",
      "Sorted stocks based on percentage change: \n",
      "B : 12.50%\n",
      "D : 1.00%\n",
      "A : -6.67%\n",
      "C : -13.00%\n"
     ]
    }
   ],
   "source": [
    "analyze_portfolio()"
   ]
  },
  {
   "cell_type": "code",
   "execution_count": 16,
   "id": "7dbb3f2e-8c79-4ce6-8a18-9aa7475aa490",
   "metadata": {},
   "outputs": [],
   "source": [
    "# can you please add overall formance of my portfolio?"
   ]
  },
  {
   "cell_type": "markdown",
   "id": "878664a7-8665-46b3-a7ba-7fa585867eb7",
   "metadata": {},
   "source": [
    "### Home Task:\n",
    "\n",
    "myprogrammingisfun@gmail.com : m****************n@g****.com\n",
    "anuj.p10@gmail.com : a******0@g****.com\n",
    "abc@gmail.com : a*c@g****.com\n",
    "anuj.test@yahoo.co.in : a*******t@y*******.in\n",
    "\n",
    "\n",
    "From user name I need first char and last char in between all the char should be masked into *\n",
    "\n",
    "From domain first char and everything from the last dot from your domain and in between all the char should in *"
   ]
  },
  {
   "cell_type": "code",
   "execution_count": null,
   "id": "45c21834-6ae1-410d-b334-8b54cc73da51",
   "metadata": {},
   "outputs": [],
   "source": []
  },
  {
   "cell_type": "markdown",
   "id": "1e3235bc-5873-4a3e-b303-d1b127059323",
   "metadata": {},
   "source": [
    "### Python String\n"
   ]
  },
  {
   "cell_type": "code",
   "execution_count": 17,
   "id": "47c58230-a099-4df7-81f9-d0abf033ca26",
   "metadata": {},
   "outputs": [
    {
     "name": "stdout",
     "output_type": "stream",
     "text": [
      "All the functions from strings are :  ['capitalize', 'casefold', 'center', 'count', 'encode', 'endswith', 'expandtabs', 'find', 'format', 'format_map', 'index', 'isalnum', 'isalpha', 'isascii', 'isdecimal', 'isdigit', 'isidentifier', 'islower', 'isnumeric', 'isprintable', 'isspace', 'istitle', 'isupper', 'join', 'ljust', 'lower', 'lstrip', 'maketrans', 'partition', 'removeprefix', 'removesuffix', 'replace', 'rfind', 'rindex', 'rjust', 'rpartition', 'rsplit', 'rstrip', 'split', 'splitlines', 'startswith', 'strip', 'swapcase', 'title', 'translate', 'upper', 'zfill']\n"
     ]
    }
   ],
   "source": [
    "print(\"All the functions from strings are : \", [i for i in dir(str) if \"__\" not in i])"
   ]
  },
  {
   "cell_type": "markdown",
   "id": "4681945d-4ba0-4976-b4b7-43ee1f4b40a5",
   "metadata": {},
   "source": [
    "* Solution sent on : (Solution should be in PDF format : subject : Assignment on String_upGrad)\n",
    "\n",
    "* myprogrammingisfun@gmail.com"
   ]
  },
  {
   "cell_type": "code",
   "execution_count": 18,
   "id": "2f487353-d977-43cb-b2d7-a6d40844d755",
   "metadata": {},
   "outputs": [
    {
     "data": {
      "text/plain": [
       "'/Users/abhisheaksaraswat'"
      ]
     },
     "execution_count": 18,
     "metadata": {},
     "output_type": "execute_result"
    }
   ],
   "source": [
    "import os\n",
    "os.getcwd()"
   ]
  },
  {
   "cell_type": "code",
   "execution_count": null,
   "id": "0ef9b79f-f6b3-4e62-9e0b-6b8064b7728d",
   "metadata": {},
   "outputs": [],
   "source": []
  }
 ],
 "metadata": {
  "kernelspec": {
   "display_name": "Python 3 (ipykernel)",
   "language": "python",
   "name": "python3"
  },
  "language_info": {
   "codemirror_mode": {
    "name": "ipython",
    "version": 3
   },
   "file_extension": ".py",
   "mimetype": "text/x-python",
   "name": "python",
   "nbconvert_exporter": "python",
   "pygments_lexer": "ipython3",
   "version": "3.13.2"
  }
 },
 "nbformat": 4,
 "nbformat_minor": 5
}
