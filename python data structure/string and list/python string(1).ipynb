{
 "cells": [
  {
   "cell_type": "markdown",
   "id": "27613494-994e-443a-bf8f-d56435cfa511",
   "metadata": {},
   "source": [
    "##__python string__"
   ]
  },
  {
   "cell_type": "markdown",
   "id": "dcea2e1b-dbea-4790-88a6-7116c46f17cf",
   "metadata": {},
   "source": [
    "string is enclosed by single or double quotes\n",
    "strings are immutable "
   ]
  },
  {
   "cell_type": "markdown",
   "id": "36a311cc-0bc2-4f96-a9ce-f7aab9b50715",
   "metadata": {},
   "source": [
    "#**Strings\n",
    "\n",
    "Strings are fundamental data structures in Python, widely utilized across diverse domains such as software development, data science, and machine learning. They are essentially sequences of characters, typically associated with one or more languages, both natural and technical.**"
   ]
  },
  {
   "cell_type": "markdown",
   "id": "9d34c109-6e6c-43ec-a4f6-170edd4e898b",
   "metadata": {},
   "source": [
    "**Creating strings\n",
    "Strings can be created by wrapping the desired text in single '' or double \"\" quotes.**"
   ]
  },
  {
   "cell_type": "code",
   "execution_count": null,
   "id": "cec75981-43d6-4642-b3ec-2805fd930fa1",
   "metadata": {},
   "outputs": [],
   "source": [
    "### Example\n",
    "Creating empty strings"
   ]
  },
  {
   "cell_type": "code",
   "execution_count": null,
   "id": "e0b9e962-f47e-449b-9140-4fd7c0978200",
   "metadata": {},
   "outputs": [],
   "source": [
    "st='hello'"
   ]
  },
  {
   "cell_type": "code",
   "execution_count": null,
   "id": "c5bcc927-d63e-47d5-b43e-142994c6f591",
   "metadata": {},
   "outputs": [],
   "source": [
    "type(st)"
   ]
  },
  {
   "cell_type": "code",
   "execution_count": null,
   "id": "a7d66870-93b8-45d8-acff-c3a6fe11f0d2",
   "metadata": {},
   "outputs": [],
   "source": [
    "string='"
   ]
  },
  {
   "cell_type": "code",
   "execution_count": null,
   "id": "ce363650-2b8a-4c8d-9d8c-cb5efbb1e35d",
   "metadata": {},
   "outputs": [],
   "source": [
    "empty_string_1 = ''"
   ]
  },
  {
   "cell_type": "code",
   "execution_count": null,
   "id": "b02b7aba-fe34-4e42-8267-7b01616f98b2",
   "metadata": {},
   "outputs": [],
   "source": [
    "empty_string_1"
   ]
  },
  {
   "cell_type": "code",
   "execution_count": null,
   "id": "c51abcbd-f09a-48c7-97fd-662aed0c9ab1",
   "metadata": {},
   "outputs": [],
   "source": [
    "type(empty_string_1)"
   ]
  },
  {
   "cell_type": "code",
   "execution_count": null,
   "id": "aee76b83-9a93-4142-9d55-7e77fc4e1fde",
   "metadata": {},
   "outputs": [],
   "source": [
    "print(empty_string_1)"
   ]
  },
  {
   "cell_type": "code",
   "execution_count": null,
   "id": "ad9417f0-a59a-43d2-b9bb-92af57783251",
   "metadata": {},
   "outputs": [],
   "source": [
    "empty_string_2 = \"\""
   ]
  },
  {
   "cell_type": "code",
   "execution_count": null,
   "id": "91e35f80-3973-4eba-bc8f-6132235b328e",
   "metadata": {},
   "outputs": [],
   "source": [
    "type(empty_string_2)"
   ]
  },
  {
   "cell_type": "code",
   "execution_count": null,
   "id": "6830aadf-c48d-4a0c-bc1f-d13d018b1298",
   "metadata": {},
   "outputs": [],
   "source": [
    "print(empty_string_2)"
   ]
  },
  {
   "cell_type": "markdown",
   "id": "10033109-7391-44b1-ab8e-20056eeea0e5",
   "metadata": {},
   "source": [
    "**Example¶\n",
    "\n",
    "Creating non-empty strings**"
   ]
  },
  {
   "cell_type": "code",
   "execution_count": null,
   "id": "c72e0ab9-3de4-49bc-981d-c562f37cc5f8",
   "metadata": {},
   "outputs": [],
   "source": [
    "my_string = 'dog'"
   ]
  },
  {
   "cell_type": "code",
   "execution_count": null,
   "id": "784441b1-4a46-44cd-a806-b037240ddf99",
   "metadata": {},
   "outputs": [],
   "source": [
    "type(my_string)"
   ]
  },
  {
   "cell_type": "code",
   "execution_count": null,
   "id": "c22183c0-34d4-4d90-a7a9-02a5ac06d674",
   "metadata": {},
   "outputs": [],
   "source": [
    "print(my_string)"
   ]
  },
  {
   "cell_type": "code",
   "execution_count": null,
   "id": "f8dc934c-b2c5-467f-ac2c-c077b5916c81",
   "metadata": {},
   "outputs": [],
   "source": [
    "some_string = '25'"
   ]
  },
  {
   "cell_type": "code",
   "execution_count": null,
   "id": "550e8317-d7d9-4ae3-bfcb-452b9fbc988b",
   "metadata": {},
   "outputs": [],
   "source": [
    "type(some_string)"
   ]
  },
  {
   "cell_type": "code",
   "execution_count": null,
   "id": "3e23604c-4d6d-4975-bc95-64451c5c6ba0",
   "metadata": {},
   "outputs": [],
   "source": [
    "print(some_string)"
   ]
  },
  {
   "cell_type": "code",
   "execution_count": null,
   "id": "9acb4adf-26d0-46a0-9ecf-4158dab815e8",
   "metadata": {},
   "outputs": [],
   "source": [
    "type(some_string)"
   ]
  },
  {
   "cell_type": "code",
   "execution_count": null,
   "id": "733b0ef0-ab93-4802-b545-6c50c29b79d7",
   "metadata": {},
   "outputs": [],
   "source": [
    "single_quotes_in_string = \"'Python'\""
   ]
  },
  {
   "cell_type": "code",
   "execution_count": null,
   "id": "d4d99404-b5f9-4fa3-bf2c-e07ec18de9cb",
   "metadata": {},
   "outputs": [],
   "source": [
    "type(single_quotes_in_string)"
   ]
  },
  {
   "cell_type": "code",
   "execution_count": null,
   "id": "76f87fad-7fc1-42e8-9376-2433e58e6f1b",
   "metadata": {},
   "outputs": [],
   "source": [
    "print(single_quotes_in_string)"
   ]
  },
  {
   "cell_type": "code",
   "execution_count": null,
   "id": "e44887b7-c7d0-4a7a-8555-d6d23cb4a2b2",
   "metadata": {},
   "outputs": [],
   "source": [
    "double_quotes_in_string = '\"Python\"'"
   ]
  },
  {
   "cell_type": "code",
   "execution_count": null,
   "id": "2ee205aa-408c-4a7b-b81b-b51abbbbc192",
   "metadata": {},
   "outputs": [],
   "source": [
    "print(double_quotes_in_string)"
   ]
  },
  {
   "cell_type": "markdown",
   "id": "da796072-95c9-48b8-949d-6307f74a8d67",
   "metadata": {},
   "source": [
    "__### Example\n",
    "Creating multiline strings__"
   ]
  },
  {
   "cell_type": "code",
   "execution_count": null,
   "id": "d52aa71a-628d-466e-bbb6-9c60cd7d46ab",
   "metadata": {},
   "outputs": [],
   "source": [
    "multiline_string = '''\n",
    "This is a multiline\n",
    "string created using\n",
    "triple quotes.\n",
    "'''"
   ]
  },
  {
   "cell_type": "code",
   "execution_count": null,
   "id": "11a9f388-5d8a-49e3-b544-d0cc574c2764",
   "metadata": {},
   "outputs": [],
   "source": [
    "type(multiline_string)"
   ]
  },
  {
   "cell_type": "code",
   "execution_count": null,
   "id": "d5789441-5ce0-4c22-a1a9-2b92b83ff526",
   "metadata": {},
   "outputs": [],
   "source": [
    "print(multiline_string)"
   ]
  },
  {
   "cell_type": "markdown",
   "id": "0526c6b0-6f26-44f8-847e-bce1040fb1ea",
   "metadata": {},
   "source": [
    "__### Example\n",
    "Creating strings using the `str()` function__"
   ]
  },
  {
   "cell_type": "code",
   "execution_count": null,
   "id": "5457cfce-b2df-495b-ad83-82c486791a48",
   "metadata": {},
   "outputs": [],
   "source": [
    "cup=25"
   ]
  },
  {
   "cell_type": "code",
   "execution_count": null,
   "id": "b64e771c-a263-49f6-bb67-0f33fa3413c7",
   "metadata": {},
   "outputs": [],
   "source": [
    "type(cup)"
   ]
  },
  {
   "cell_type": "code",
   "execution_count": null,
   "id": "3d422154-332e-401b-816a-0c5ae3cf707b",
   "metadata": {},
   "outputs": [],
   "source": [
    "print(cup)"
   ]
  },
  {
   "cell_type": "code",
   "execution_count": null,
   "id": "b965a72c-e49b-46c1-95fa-4ef20f23491e",
   "metadata": {},
   "outputs": [],
   "source": [
    "string_age = str(cup)"
   ]
  },
  {
   "cell_type": "code",
   "execution_count": null,
   "id": "66ed4759-aece-4c62-82e0-7fb1e6b14dd7",
   "metadata": {},
   "outputs": [],
   "source": [
    "type(string_age)"
   ]
  },
  {
   "cell_type": "code",
   "execution_count": null,
   "id": "1e7844be-6e24-4b92-b947-c6c0045bbee8",
   "metadata": {},
   "outputs": [],
   "source": [
    "string_age"
   ]
  },
  {
   "cell_type": "code",
   "execution_count": null,
   "id": "c69f211e-e205-4d87-b1cb-1d8906e2f8e4",
   "metadata": {},
   "outputs": [],
   "source": [
    "print(string_age)"
   ]
  },
  {
   "cell_type": "markdown",
   "id": "2ac62bf8-9486-48f8-b26c-c388d4477aed",
   "metadata": {},
   "source": [
    "__## Indexing and slicing strings\n",
    "Indexing operations can be performed on all Python data structures, and allow one to access elements within that data structure by using its position or index number. Note that in Python, indexing starts from $0$, i.e. the element in the first position is accessed with index $0$.__"
   ]
  },
  {
   "cell_type": "markdown",
   "id": "378ac677-f37a-4f25-a135-190dc8215eb3",
   "metadata": {},
   "source": [
    "__### Example\n",
    "Accessing individual characters in a string__"
   ]
  },
  {
   "cell_type": "code",
   "execution_count": null,
   "id": "2deabd96-d4a9-4877-8739-84a7d801ea72",
   "metadata": {},
   "outputs": [],
   "source": [
    "my_string = 'Python Programming'"
   ]
  },
  {
   "cell_type": "code",
   "execution_count": null,
   "id": "a052ba9a-84a9-4840-898b-f0aa28b2faea",
   "metadata": {},
   "outputs": [],
   "source": [
    "my_string"
   ]
  },
  {
   "cell_type": "code",
   "execution_count": null,
   "id": "7249d612-4ee3-406d-8d37-81dd45c2e773",
   "metadata": {},
   "outputs": [],
   "source": [
    "my_string[0]"
   ]
  },
  {
   "cell_type": "code",
   "execution_count": null,
   "id": "22445ccc-9e61-4c7a-898c-c62af294e632",
   "metadata": {},
   "outputs": [],
   "source": [
    "my_string[3]"
   ]
  },
  {
   "cell_type": "code",
   "execution_count": null,
   "id": "085a3038-cb41-460d-8712-6c360861a547",
   "metadata": {},
   "outputs": [],
   "source": [
    "my_string[-1]"
   ]
  },
  {
   "cell_type": "code",
   "execution_count": null,
   "id": "e997ba67-2989-496d-b296-e0d2e9a031c7",
   "metadata": {},
   "outputs": [],
   "source": [
    "my_string = 'Python Programming'"
   ]
  },
  {
   "cell_type": "code",
   "execution_count": null,
   "id": "cf353749-0754-4f9d-8179-39ecc8b17956",
   "metadata": {},
   "outputs": [],
   "source": [
    "my_string"
   ]
  },
  {
   "cell_type": "code",
   "execution_count": null,
   "id": "3a9dcf99-df95-45e3-8900-b9e0d5572a55",
   "metadata": {},
   "outputs": [],
   "source": [
    "my_string[0]"
   ]
  },
  {
   "cell_type": "markdown",
   "id": "abdbed26-53c7-4bcc-b49d-2e81262e8f4f",
   "metadata": {},
   "source": [
    "__Slice strings to extract substrings__"
   ]
  },
  {
   "cell_type": "code",
   "execution_count": null,
   "id": "5aac79df-d5fc-4ef5-8d60-c4072726a8b0",
   "metadata": {},
   "outputs": [],
   "source": [
    "my_string = 'Python Programming'"
   ]
  },
  {
   "cell_type": "code",
   "execution_count": null,
   "id": "d7ae6f83-2971-4d12-9944-f7093170c342",
   "metadata": {},
   "outputs": [],
   "source": [
    "my_string"
   ]
  },
  {
   "cell_type": "code",
   "execution_count": null,
   "id": "e777d2f6-5c32-4065-8c67-25ed209f6d30",
   "metadata": {},
   "outputs": [],
   "source": [
    "my_string [0:1] ### slice la start at 0 and end at one step before."
   ]
  },
  {
   "cell_type": "code",
   "execution_count": null,
   "id": "d883ba5b-e06c-4e9d-894a-36f1ec47ec7d",
   "metadata": {},
   "outputs": [],
   "source": [
    "my_string [0:2]"
   ]
  },
  {
   "cell_type": "code",
   "execution_count": null,
   "id": "56594cea-b71f-4276-b392-4d9a888c91b7",
   "metadata": {},
   "outputs": [],
   "source": [
    "my_string[6]"
   ]
  },
  {
   "cell_type": "code",
   "execution_count": null,
   "id": "92900d9e-cc27-4d6f-8c82-4915cef81df6",
   "metadata": {},
   "outputs": [],
   "source": [
    "my_string [:1]"
   ]
  },
  {
   "cell_type": "code",
   "execution_count": null,
   "id": "4594509f-c622-4afc-ae98-0cd6b2d26661",
   "metadata": {},
   "outputs": [],
   "source": [
    "my_string [:2]  ## python program"
   ]
  },
  {
   "cell_type": "code",
   "execution_count": null,
   "id": "dee1791e-2644-4dfd-8cca-8afc3ac25622",
   "metadata": {},
   "outputs": [],
   "source": [
    "my_string[1:6] ####[0: n-1]"
   ]
  },
  {
   "cell_type": "code",
   "execution_count": null,
   "id": "d10d3c51-6f59-47cd-9fd5-ef122cde9a7b",
   "metadata": {},
   "outputs": [],
   "source": [
    "my_string[4:11]"
   ]
  },
  {
   "cell_type": "code",
   "execution_count": null,
   "id": "9efa818d-37d5-4580-b3a6-da6968f9ab2e",
   "metadata": {},
   "outputs": [],
   "source": [
    "my_string[:-1]  ## [last value always one step before]"
   ]
  },
  {
   "cell_type": "code",
   "execution_count": null,
   "id": "64885dbb-1bd3-4a82-8f84-78b400bdc352",
   "metadata": {},
   "outputs": [],
   "source": [
    "my_string[:-2]   ### Python Programming"
   ]
  },
  {
   "cell_type": "code",
   "execution_count": null,
   "id": "e7d506e8-f61a-4bd7-b2f2-27a186e9631a",
   "metadata": {},
   "outputs": [],
   "source": [
    "my_string[:-3]"
   ]
  },
  {
   "cell_type": "markdown",
   "id": "f5020fb0-3d77-4fd2-995d-7f120148750f",
   "metadata": {},
   "source": [
    "__### Example\n",
    "Accessing string characters in a pattern __"
   ]
  },
  {
   "cell_type": "code",
   "execution_count": null,
   "id": "dd1f04ad-ed74-4434-a628-e0e996453751",
   "metadata": {},
   "outputs": [],
   "source": [
    "my_string='p#y#t#h#o#n'"
   ]
  },
  {
   "cell_type": "code",
   "execution_count": null,
   "id": "f1e04315-1910-4c6c-99b4-7c6b79a3a922",
   "metadata": {},
   "outputs": [],
   "source": [
    "my_string"
   ]
  },
  {
   "cell_type": "code",
   "execution_count": null,
   "id": "8bab422c-bedc-469c-adb1-96560201feb9",
   "metadata": {},
   "outputs": [],
   "source": [
    "my_string[::1]\n"
   ]
  },
  {
   "cell_type": "code",
   "execution_count": null,
   "id": "ea1e7f88-c994-42a7-b085-9f0bde3d629a",
   "metadata": {},
   "outputs": [],
   "source": [
    "my_string[::2]\n"
   ]
  },
  {
   "cell_type": "code",
   "execution_count": null,
   "id": "8407b830-6cbb-4fc0-96dd-976db4a65d28",
   "metadata": {},
   "outputs": [],
   "source": [
    "my_string[::-1]"
   ]
  },
  {
   "cell_type": "code",
   "execution_count": null,
   "id": "2312158f-9ce8-4b94-bd4a-1853e55a73c5",
   "metadata": {},
   "outputs": [],
   "source": [
    "my_string[1::2]"
   ]
  },
  {
   "cell_type": "code",
   "execution_count": null,
   "id": "db367356-3b06-4544-9800-c5f2866e7ed3",
   "metadata": {},
   "outputs": [],
   "source": [
    "my_string[::-2]"
   ]
  },
  {
   "cell_type": "code",
   "execution_count": null,
   "id": "8854e0a8-7c55-4dee-be6c-499bd40c9ff6",
   "metadata": {},
   "outputs": [],
   "source": [
    "my_string[1:5:1]"
   ]
  },
  {
   "cell_type": "code",
   "execution_count": null,
   "id": "edd31a80-b206-485a-a37f-6b4029cd680e",
   "metadata": {},
   "outputs": [],
   "source": [
    "my_string[-1:-6:-2] #   #n#o#h"
   ]
  },
  {
   "cell_type": "markdown",
   "id": "6d12b5bc-fed3-4586-9ed5-043fb06add75",
   "metadata": {},
   "source": [
    "__quiz__"
   ]
  },
  {
   "cell_type": "code",
   "execution_count": null,
   "id": "998736a0-4c85-422a-b94a-1c4842e5cc0f",
   "metadata": {},
   "outputs": [],
   "source": [
    "Extract `'EDCBA'` from the string `'AXBXCXDXE'`"
   ]
  },
  {
   "cell_type": "code",
   "execution_count": null,
   "id": "7fcf35a3-ed86-4041-9daa-b563da7914d7",
   "metadata": {},
   "outputs": [],
   "source": [
    "my_string='AXBXCXDXE'"
   ]
  },
  {
   "cell_type": "code",
   "execution_count": null,
   "id": "94a8c156-8ae6-4522-bf61-a9e47b68e070",
   "metadata": {},
   "outputs": [],
   "source": [
    "my_string"
   ]
  },
  {
   "cell_type": "code",
   "execution_count": null,
   "id": "db7333e5-8287-4751-942f-67b6b7f67191",
   "metadata": {},
   "outputs": [],
   "source": [
    "my_string[-1::-2]"
   ]
  },
  {
   "cell_type": "markdown",
   "id": "a7e859f5-bbc0-4e3e-9906-d82490a534c9",
   "metadata": {},
   "source": [
    "**Operations on strings - getting information about strings**"
   ]
  },
  {
   "cell_type": "code",
   "execution_count": null,
   "id": "ae378dbd-9125-4f8c-9ff8-8a10167b7014",
   "metadata": {},
   "outputs": [],
   "source": [
    "my_string = 'A'\n"
   ]
  },
  {
   "cell_type": "code",
   "execution_count": null,
   "id": "248027b8-e700-4cb5-8f48-fc8be76d4686",
   "metadata": {},
   "outputs": [],
   "source": [
    "len(my_string)"
   ]
  },
  {
   "cell_type": "code",
   "execution_count": null,
   "id": "874e69ef-3451-44c0-a38b-57cbc076fc53",
   "metadata": {},
   "outputs": [],
   "source": [
    "my_string = 'A B'"
   ]
  },
  {
   "cell_type": "code",
   "execution_count": null,
   "id": "eda58c94-620c-4aa0-b017-f0b3f3f0d956",
   "metadata": {},
   "outputs": [],
   "source": [
    "len(my_string)"
   ]
  },
  {
   "cell_type": "code",
   "execution_count": null,
   "id": "48c5323b-a30e-4cb9-8307-d0f2b4a1b7ef",
   "metadata": {},
   "outputs": [],
   "source": [
    "my_string = 'This string is 34 characters long.'"
   ]
  },
  {
   "cell_type": "code",
   "execution_count": null,
   "id": "b0507d55-b6dd-4f9a-87e2-ee32e1179b9c",
   "metadata": {},
   "outputs": [],
   "source": [
    "my_string"
   ]
  },
  {
   "cell_type": "code",
   "execution_count": null,
   "id": "74f47c78-2a16-462a-9cb2-38b9574bd308",
   "metadata": {},
   "outputs": [],
   "source": [
    "len(my_string)"
   ]
  },
  {
   "cell_type": "markdown",
   "id": "e73b7b94-b2db-410a-a924-ac92cef15e12",
   "metadata": {},
   "source": [
    "**Using the 'in'operator to check whether a substring is present in a string**  in-membership operator"
   ]
  },
  {
   "cell_type": "code",
   "execution_count": null,
   "id": "6672cf4f-1fec-405a-b2b8-ccb2c8ff81c6",
   "metadata": {},
   "outputs": [],
   "source": [
    "my_string = 'I find Python programming very interesting!'"
   ]
  },
  {
   "cell_type": "code",
   "execution_count": null,
   "id": "bfc93a0f-bdce-49bc-afd9-81fb98591d8b",
   "metadata": {},
   "outputs": [],
   "source": [
    "my_string"
   ]
  },
  {
   "cell_type": "code",
   "execution_count": null,
   "id": "33083792-22fa-4d1a-bb6a-e408c1eba836",
   "metadata": {},
   "outputs": [],
   "source": [
    "'o' in my_string"
   ]
  },
  {
   "cell_type": "code",
   "execution_count": null,
   "id": "9e0ac329-0286-4544-a27f-e27a383fef55",
   "metadata": {},
   "outputs": [],
   "source": [
    "'programming' in my_string"
   ]
  },
  {
   "cell_type": "code",
   "execution_count": null,
   "id": "3b787b55-4783-40a1-9915-3fa4c33ed5f5",
   "metadata": {},
   "outputs": [],
   "source": [
    "'Python' in my_string and 'g!' in my_string"
   ]
  },
  {
   "cell_type": "code",
   "execution_count": null,
   "id": "2e86bde9-aaa6-413b-94ea-e765a274bde7",
   "metadata": {},
   "outputs": [],
   "source": [
    "'python' in my_string"
   ]
  },
  {
   "cell_type": "markdown",
   "id": "2337e1a5-c802-4ca4-9ff8-45da0a138e42",
   "metadata": {},
   "source": [
    "##** finding the index of any charcter we use .index() and .find() is used.**"
   ]
  },
  {
   "cell_type": "markdown",
   "id": "e96f488e-39af-4eff-9918-1967b8877249",
   "metadata": {},
   "source": [
    "**.The difference between these methods is thatfind()` returns `-1` if the index is not found, whereas `.index()` throws an exception.**"
   ]
  },
  {
   "cell_type": "code",
   "execution_count": null,
   "id": "c2148dd6-244a-4dc5-92f1-e0076d2ec648",
   "metadata": {},
   "outputs": [],
   "source": [
    "my_string = 'This string is 34 characters long.'"
   ]
  },
  {
   "cell_type": "code",
   "execution_count": null,
   "id": "8c31dac4-2148-4b8f-9dbc-970b4aa38dc2",
   "metadata": {},
   "outputs": [],
   "source": [
    "my_string"
   ]
  },
  {
   "cell_type": "code",
   "execution_count": null,
   "id": "ff64a15b-4904-4535-bb0c-c09ec1158250",
   "metadata": {},
   "outputs": [],
   "source": [
    "my_string.index('I')"
   ]
  },
  {
   "cell_type": "code",
   "execution_count": null,
   "id": "9b452f60-20db-41de-8a6d-6f95a5ea70e1",
   "metadata": {},
   "outputs": [],
   "source": [
    "my_string.index('i')   #i is found in 2nd index"
   ]
  },
  {
   "cell_type": "code",
   "execution_count": null,
   "id": "3e2609c4-606a-43ea-ada6-07bdc10c3737",
   "metadata": {},
   "outputs": [],
   "source": [
    "my_string.index('string is')"
   ]
  },
  {
   "cell_type": "code",
   "execution_count": null,
   "id": "7ac8c775-009b-4ac0-9c5b-3e063c6140f8",
   "metadata": {},
   "outputs": [],
   "source": [
    "my_string.find('I')"
   ]
  },
  {
   "cell_type": "code",
   "execution_count": null,
   "id": "859cb91d-a309-46d1-9d1f-eae1b3e0d455",
   "metadata": {},
   "outputs": [],
   "source": [
    "my_string.find('i')"
   ]
  },
  {
   "cell_type": "code",
   "execution_count": null,
   "id": "15294139-a010-415e-bd58-b4da25aa0705",
   "metadata": {},
   "outputs": [],
   "source": [
    "my_string.find('This string')"
   ]
  },
  {
   "cell_type": "code",
   "execution_count": null,
   "id": "1cafd0e2-d743-4670-bac4-b40e01f942fc",
   "metadata": {},
   "outputs": [],
   "source": [
    "my_string.find('characters long')"
   ]
  },
  {
   "cell_type": "code",
   "execution_count": null,
   "id": "ec407c3d-ce90-4a2b-a2d1-dac473f06c96",
   "metadata": {},
   "outputs": [],
   "source": [
    "my_string.find('R programming')"
   ]
  },
  {
   "cell_type": "markdown",
   "id": "2fa95bac-bcf7-47c5-a5a0-4aef75a5b445",
   "metadata": {},
   "source": [
    "**Counting occurences in a string**"
   ]
  },
  {
   "cell_type": "code",
   "execution_count": null,
   "id": "091363c3-1ddf-4056-8f52-2ca467a3606b",
   "metadata": {},
   "outputs": [],
   "source": [
    "my_string = 'I find Python programming very interesting!'"
   ]
  },
  {
   "cell_type": "code",
   "execution_count": null,
   "id": "813f8711-de8a-44f6-8874-b4eb1b5ed35d",
   "metadata": {},
   "outputs": [],
   "source": [
    "my_string"
   ]
  },
  {
   "cell_type": "code",
   "execution_count": null,
   "id": "8b9bb8a9-500e-4195-9942-5d56fdeba651",
   "metadata": {},
   "outputs": [],
   "source": [
    "my_string.count('A')"
   ]
  },
  {
   "cell_type": "code",
   "execution_count": null,
   "id": "bbfa647b-ab62-4b1c-83cb-21df4787598e",
   "metadata": {},
   "outputs": [],
   "source": [
    "my_string.count('t')"
   ]
  },
  {
   "cell_type": "code",
   "execution_count": null,
   "id": "2ca2a35a-c6ec-412f-aeb0-d3ffb75d9008",
   "metadata": {},
   "outputs": [],
   "source": [
    "my_string.count(' ')"
   ]
  },
  {
   "cell_type": "code",
   "execution_count": null,
   "id": "568632ce-0b4e-4e1c-9898-518023563bb9",
   "metadata": {},
   "outputs": [],
   "source": [
    "my_string.count('in')"
   ]
  },
  {
   "cell_type": "markdown",
   "id": "13251827-6bc4-4286-ab43-40ef8c79ad7f",
   "metadata": {},
   "source": [
    "**\"ASCII\" stands for \"American Standard Code for Information Interchange.\" ASCII assigns numeric values to letters, characters, numbers and other special symbols in order to standardise them across platforms, and allow for a system which can be just as readily understood by humans as by computers.\n",
    "\n",
    "Obtaining ASCII values of string characters and comparing strings lexicographically**"
   ]
  },
  {
   "cell_type": "code",
   "execution_count": null,
   "id": "22c3506c-bd81-45c1-a025-50d67990352b",
   "metadata": {},
   "outputs": [],
   "source": [
    "ord('a')   ## ASCII value for corresponding alphabets"
   ]
  },
  {
   "cell_type": "code",
   "execution_count": null,
   "id": "40c9435b-541b-4114-8e65-162bb4724c18",
   "metadata": {},
   "outputs": [],
   "source": [
    "ord('z')"
   ]
  },
  {
   "cell_type": "code",
   "execution_count": null,
   "id": "d64873ea-1870-43c3-89ed-dc2328a89539",
   "metadata": {},
   "outputs": [],
   "source": [
    "ord('A')"
   ]
  },
  {
   "cell_type": "code",
   "execution_count": null,
   "id": "ea30f929-fa43-4be0-b021-9cae629a303a",
   "metadata": {},
   "outputs": [],
   "source": [
    "ord('Z')"
   ]
  },
  {
   "cell_type": "code",
   "execution_count": null,
   "id": "b9ca0ef0-910c-4ab5-b857-bbb9995f0d7c",
   "metadata": {},
   "outputs": [],
   "source": [
    "ord(' ')"
   ]
  },
  {
   "cell_type": "code",
   "execution_count": null,
   "id": "1d6c35b0-9b0e-48b7-95de-8d9751d908b5",
   "metadata": {},
   "outputs": [],
   "source": [
    "ord('\\'')"
   ]
  },
  {
   "cell_type": "code",
   "execution_count": null,
   "id": "2f03c246-8e4f-4d99-8d38-8ba6d754f623",
   "metadata": {},
   "outputs": [],
   "source": [
    "ord('a') > ord('b')"
   ]
  },
  {
   "cell_type": "code",
   "execution_count": null,
   "id": "fccf097c-d56e-443c-85a7-400d00cb87bc",
   "metadata": {},
   "outputs": [],
   "source": [
    "'a' > 'b'"
   ]
  },
  {
   "cell_type": "code",
   "execution_count": null,
   "id": "b45cb21d-54dc-4a0f-912e-634c80393c6a",
   "metadata": {},
   "outputs": [],
   "source": [
    "'Python' > 'Matlab'"
   ]
  },
  {
   "cell_type": "code",
   "execution_count": null,
   "id": "ca6d6ecb-8056-45c3-8866-761a4c02d59c",
   "metadata": {},
   "outputs": [],
   "source": [
    "'P' > 'M'"
   ]
  },
  {
   "cell_type": "markdown",
   "id": "4416cc89-8743-43ac-8a42-16e60e6ae5ca",
   "metadata": {},
   "source": [
    "**Operation on strings - manipulating strings**\n",
    "\n",
    "\n",
    "**Concatenating strings**"
   ]
  },
  {
   "cell_type": "code",
   "execution_count": null,
   "id": "2646d0de-dbeb-43be-a292-1f02e790a42c",
   "metadata": {},
   "outputs": [],
   "source": [
    "first_name = 'Rahul'\n",
    "last_name = 'Dravid'"
   ]
  },
  {
   "cell_type": "code",
   "execution_count": null,
   "id": "f8f4597b-d0be-4785-9b9d-05a4b334f13a",
   "metadata": {},
   "outputs": [],
   "source": [
    "first_name + last_name"
   ]
  },
  {
   "cell_type": "code",
   "execution_count": null,
   "id": "b5744323-8a36-43a9-a06d-5983c69f5218",
   "metadata": {},
   "outputs": [],
   "source": [
    "first_name + ' ' + last_name"
   ]
  },
  {
   "cell_type": "code",
   "execution_count": null,
   "id": "1138895c-d876-4be2-af95-fcc3351d0d41",
   "metadata": {},
   "outputs": [],
   "source": [
    "middle_name = 'Sharad'"
   ]
  },
  {
   "cell_type": "code",
   "execution_count": null,
   "id": "2c1e5e41-9e76-4f4e-b0c3-f7361ad34875",
   "metadata": {},
   "outputs": [],
   "source": [
    "first_name +middle_name +last_name"
   ]
  },
  {
   "cell_type": "code",
   "execution_count": null,
   "id": "b1d8c4f0-7d2a-460f-b761-0dac12511566",
   "metadata": {},
   "outputs": [],
   "source": [
    "first_name+' '+middle_name +' '+last_name"
   ]
  },
  {
   "cell_type": "markdown",
   "id": "6aa01c02-0cee-4edc-a782-ed557e9cb4e2",
   "metadata": {},
   "source": [
    "__Example\n",
    "\n",
    "Changing the case of a string\n",
    "__"
   ]
  },
  {
   "cell_type": "code",
   "execution_count": null,
   "id": "bb5787a0-9d5a-4be0-8292-6f4f871290d0",
   "metadata": {},
   "outputs": [],
   "source": [
    "my_string = 'I find Python programming very interesting!'"
   ]
  },
  {
   "cell_type": "code",
   "execution_count": null,
   "id": "edc01805-4748-4131-a47e-85df66239a5d",
   "metadata": {},
   "outputs": [],
   "source": [
    "my_string"
   ]
  },
  {
   "cell_type": "code",
   "execution_count": null,
   "id": "81d7434b-584d-46d2-ac69-8fd6f9d32916",
   "metadata": {},
   "outputs": [],
   "source": [
    "my_string.upper()"
   ]
  },
  {
   "cell_type": "code",
   "execution_count": null,
   "id": "4aae8c97-c3a4-4d91-acd4-c60f1d40da93",
   "metadata": {},
   "outputs": [],
   "source": [
    "my_string.upper('very')   ##doubt"
   ]
  },
  {
   "cell_type": "code",
   "execution_count": null,
   "id": "2425f2fd-3010-40e6-b555-87bb999295e7",
   "metadata": {},
   "outputs": [],
   "source": [
    "my_string.lower()"
   ]
  },
  {
   "cell_type": "code",
   "execution_count": null,
   "id": "2626082c-758a-4697-a078-6a75e653347b",
   "metadata": {},
   "outputs": [],
   "source": [
    "my_string.capitalize()"
   ]
  },
  {
   "cell_type": "code",
   "execution_count": null,
   "id": "decaa7a7-e72d-4443-b880-2a22cfd47e03",
   "metadata": {},
   "outputs": [],
   "source": [
    "my_string.title()"
   ]
  },
  {
   "cell_type": "markdown",
   "id": "8f17031b-d852-4214-b1c9-fb531492cb0d",
   "metadata": {},
   "source": [
    "__A lot of these operations do not edit the original object in memory.__"
   ]
  },
  {
   "cell_type": "markdown",
   "id": "03138013-25bc-4089-bd12-3a80db336a6c",
   "metadata": {},
   "source": [
    "__Removing whitespaces__"
   ]
  },
  {
   "cell_type": "code",
   "execution_count": null,
   "id": "c9fc9c80-4647-48d0-995c-8d8637c3daac",
   "metadata": {},
   "outputs": [],
   "source": [
    "my_string = '   Python is fun!   '"
   ]
  },
  {
   "cell_type": "code",
   "execution_count": null,
   "id": "deed9930-342d-410b-8be0-11b9e3034f61",
   "metadata": {},
   "outputs": [],
   "source": [
    "my_string"
   ]
  },
  {
   "cell_type": "code",
   "execution_count": null,
   "id": "e785dec3-1d20-45f0-a1ba-6fa142d82812",
   "metadata": {},
   "outputs": [],
   "source": [
    "my_string.lstrip()"
   ]
  },
  {
   "cell_type": "code",
   "execution_count": null,
   "id": "744b66ae-4ae1-4dd4-9db3-52efd24688bc",
   "metadata": {},
   "outputs": [],
   "source": [
    "my_string.rstrip()"
   ]
  },
  {
   "cell_type": "code",
   "execution_count": null,
   "id": "b9281462-6c76-4034-accf-4ebaa83a48c4",
   "metadata": {},
   "outputs": [],
   "source": [
    "my_string.strip()"
   ]
  },
  {
   "cell_type": "code",
   "execution_count": null,
   "id": "eefd6d3c-d6a9-44cb-bbe1-9f06ecfe517b",
   "metadata": {},
   "outputs": [],
   "source": [
    "my_string"
   ]
  },
  {
   "cell_type": "code",
   "execution_count": null,
   "id": "0344b21a-cd9d-46bd-b428-17c8184d6b1c",
   "metadata": {},
   "outputs": [],
   "source": [
    "my_string=my_string.strip()"
   ]
  },
  {
   "cell_type": "code",
   "execution_count": null,
   "id": "3ef73dc4-e2df-4b1f-88a7-ae1dc9caa05f",
   "metadata": {},
   "outputs": [],
   "source": [
    "print(my_string)"
   ]
  },
  {
   "cell_type": "markdown",
   "id": "b24b7e52-df62-4443-b691-ab23c07ce10e",
   "metadata": {},
   "source": [
    "**Replacing substrings**"
   ]
  },
  {
   "cell_type": "code",
   "execution_count": null,
   "id": "2ae666dd-50a4-44b6-8385-29849ab60591",
   "metadata": {},
   "outputs": [],
   "source": [
    "my_string = 'I find Python programming very interesting!'"
   ]
  },
  {
   "cell_type": "code",
   "execution_count": null,
   "id": "8f4cd00d-2276-4e12-a701-0015e28353ad",
   "metadata": {},
   "outputs": [],
   "source": [
    "my_string"
   ]
  },
  {
   "cell_type": "code",
   "execution_count": null,
   "id": "d3c643a2-115b-4bbe-9f7f-c933749087f0",
   "metadata": {},
   "outputs": [],
   "source": [
    "my_string.replace('I', 'We')"
   ]
  },
  {
   "cell_type": "code",
   "execution_count": null,
   "id": "1ebbc24c-3516-4c82-b0df-377e631de63b",
   "metadata": {},
   "outputs": [],
   "source": [
    "my_string.replace?"
   ]
  },
  {
   "cell_type": "code",
   "execution_count": null,
   "id": "406e33bd-a020-41bd-abaa-6ba7e416f202",
   "metadata": {},
   "outputs": [],
   "source": [
    "my_string"
   ]
  },
  {
   "cell_type": "code",
   "execution_count": null,
   "id": "a795bf5d-87a7-482d-b67c-a28a992f8d12",
   "metadata": {},
   "outputs": [],
   "source": [
    "my_string = my_string.replace('I', 'We')"
   ]
  },
  {
   "cell_type": "code",
   "execution_count": null,
   "id": "99dee412-f5ff-4f69-8d07-474dff5eb2da",
   "metadata": {},
   "outputs": [],
   "source": [
    "my_string"
   ]
  },
  {
   "cell_type": "markdown",
   "id": "02e5d64d-460d-450c-8310-45bef24d4431",
   "metadata": {},
   "source": [
    "__Quiz__"
   ]
  },
  {
   "cell_type": "code",
   "execution_count": null,
   "id": "7902ea04-2e38-4fd1-bd1d-8adaf0e87dcd",
   "metadata": {},
   "outputs": [],
   "source": [
    "my_string='Python programming is fun!'"
   ]
  },
  {
   "cell_type": "code",
   "execution_count": null,
   "id": "d91c4a3b-2e61-4948-8770-32b0e6c0a60c",
   "metadata": {},
   "outputs": [],
   "source": [
    "len(my_string)"
   ]
  },
  {
   "cell_type": "code",
   "execution_count": null,
   "id": "1e17757f-3d0f-4ddd-8a5f-21ab82f08068",
   "metadata": {},
   "outputs": [],
   "source": [
    "my_string.count('n')"
   ]
  },
  {
   "cell_type": "markdown",
   "id": "ffd2d9fc-98f7-4a0f-a5cf-c989b6d19f82",
   "metadata": {},
   "source": [
    "# Lists\n",
    "__A list is a built-in Python data structure which is used to store a collection of items. The items stored can be of any type, and more than one type can be used in a list. Lists are ordered, and the elements within a list can be accessed by indexing. Lists are mutable or can be changed.__"
   ]
  },
  {
   "cell_type": "markdown",
   "id": "c89c35d9-0664-492e-be72-288b0860dc1a",
   "metadata": {},
   "source": [
    "__## Creating lists__"
   ]
  },
  {
   "cell_type": "markdown",
   "id": "769b7083-de08-48dd-9721-81860016e40f",
   "metadata": {},
   "source": [
    "__### Example\n",
    "Creating an empty list__"
   ]
  },
  {
   "cell_type": "code",
   "execution_count": null,
   "id": "1d92aff9-8d8f-4dec-b060-6cdbd3d8327d",
   "metadata": {},
   "outputs": [],
   "source": [
    "my_list = []"
   ]
  },
  {
   "cell_type": "code",
   "execution_count": null,
   "id": "7bda925f-5e76-4920-96c7-aa86522a8824",
   "metadata": {},
   "outputs": [],
   "source": [
    "my_list"
   ]
  },
  {
   "cell_type": "code",
   "execution_count": null,
   "id": "9e3c7bbe-260c-46ae-a93a-7c38b722738a",
   "metadata": {},
   "outputs": [],
   "source": [
    "print(my_list)"
   ]
  },
  {
   "cell_type": "markdown",
   "id": "bf4f1922-5b27-4096-a438-f3156289ce6e",
   "metadata": {},
   "source": [
    "__### Example\n",
    "Creating lists with elements__"
   ]
  },
  {
   "cell_type": "code",
   "execution_count": null,
   "id": "de759394-8cf9-4eba-9981-4d2f16284d06",
   "metadata": {},
   "outputs": [],
   "source": [
    "my_list = [1, 2, 3, 4, 5]"
   ]
  },
  {
   "cell_type": "code",
   "execution_count": null,
   "id": "6a89938d-8cb1-42e6-8f34-abc23168ec29",
   "metadata": {},
   "outputs": [],
   "source": [
    "my_list"
   ]
  },
  {
   "cell_type": "code",
   "execution_count": null,
   "id": "c0865688-7982-41e1-a80d-49422443f8bd",
   "metadata": {},
   "outputs": [],
   "source": [
    "print(my_list)"
   ]
  },
  {
   "cell_type": "markdown",
   "id": "a3aa2896-9353-4982-8cd1-c831e766f0c6",
   "metadata": {},
   "source": [
    "__Example¶\n",
    "\n",
    "Creating lists using the list() function_"
   ]
  },
  {
   "cell_type": "code",
   "execution_count": null,
   "id": "e497a950-c372-453c-9b4e-444d18833d63",
   "metadata": {},
   "outputs": [],
   "source": [
    "my_list = list()"
   ]
  },
  {
   "cell_type": "code",
   "execution_count": null,
   "id": "e57c764e-473b-40e2-88dc-24e265eb20d0",
   "metadata": {},
   "outputs": [],
   "source": [
    "my_list"
   ]
  },
  {
   "cell_type": "code",
   "execution_count": null,
   "id": "6118be3c-0841-44e9-8cb9-3b28e8dd39ad",
   "metadata": {},
   "outputs": [],
   "source": [
    "string = 'Hello'"
   ]
  },
  {
   "cell_type": "code",
   "execution_count": null,
   "id": "200496df-f470-4b27-9e50-af84570171cd",
   "metadata": {},
   "outputs": [],
   "source": [
    "type(string)"
   ]
  },
  {
   "cell_type": "code",
   "execution_count": null,
   "id": "ffa26b68-ded6-4f01-8f6a-7a0da02c1d1a",
   "metadata": {},
   "outputs": [],
   "source": [
    "my_list = list(string)"
   ]
  },
  {
   "cell_type": "code",
   "execution_count": null,
   "id": "83c139a2-c7ea-4158-8fdc-f2fdb39d0a83",
   "metadata": {},
   "outputs": [],
   "source": [
    "my_list"
   ]
  },
  {
   "cell_type": "code",
   "execution_count": null,
   "id": "eb3bdeb6-75ef-425d-ada0-49109f1c58b7",
   "metadata": {},
   "outputs": [],
   "source": [
    "type(my_list)"
   ]
  },
  {
   "cell_type": "markdown",
   "id": "0d6a6308-a61f-4b47-8aa3-ffbe51326ac6",
   "metadata": {},
   "source": [
    "__Example\n",
    "\n",
    "Creating nested lists__"
   ]
  },
  {
   "cell_type": "code",
   "execution_count": null,
   "id": "2fc658a0-d206-4067-b884-3bde9e25c8db",
   "metadata": {},
   "outputs": [],
   "source": [
    "nested_list = [[1, 2], [3, 4], [5, 6, 7]]"
   ]
  },
  {
   "cell_type": "code",
   "execution_count": null,
   "id": "0e882fce-7ecf-46b3-9682-63875e763678",
   "metadata": {},
   "outputs": [],
   "source": [
    "nested_list"
   ]
  },
  {
   "cell_type": "code",
   "execution_count": null,
   "id": "a8430c8d-6426-4773-90fa-ec43cb689a23",
   "metadata": {},
   "outputs": [],
   "source": [
    "nested_list[0]"
   ]
  },
  {
   "cell_type": "code",
   "execution_count": null,
   "id": "fccf1df9-7670-4155-9b3b-e64c8761ec27",
   "metadata": {},
   "outputs": [],
   "source": [
    "nested_list[2]"
   ]
  },
  {
   "cell_type": "markdown",
   "id": "bbda0e06-b5bd-4c98-8992-70594eb8c16a",
   "metadata": {},
   "source": [
    "__Example\n",
    "\n",
    "Lists can also be created with different data types\n",
    "__"
   ]
  },
  {
   "cell_type": "code",
   "execution_count": null,
   "id": "8e72016d-82b7-4772-b2c4-516a5597124c",
   "metadata": {},
   "outputs": [],
   "source": [
    "mix_list=[1,2,3,5,'a',True,False,'a',\"A\",\"B\"]"
   ]
  },
  {
   "cell_type": "code",
   "execution_count": null,
   "id": "67b62a81-93c3-4349-9cee-4ee6c462c9b3",
   "metadata": {},
   "outputs": [],
   "source": [
    "type(mix_list)"
   ]
  },
  {
   "cell_type": "code",
   "execution_count": null,
   "id": "b5e131d0-6a67-416e-a817-f293e107ca3e",
   "metadata": {},
   "outputs": [],
   "source": [
    "print(mix_list)"
   ]
  },
  {
   "cell_type": "code",
   "execution_count": null,
   "id": "1828f283-fd40-47d5-8263-09a38a7024f1",
   "metadata": {},
   "outputs": [],
   "source": [
    "mixed_list = [1, 'hello', 3.14, True, [5, 6]]"
   ]
  },
  {
   "cell_type": "code",
   "execution_count": null,
   "id": "1bb60ec7-59ca-4b67-ad01-f52867248afe",
   "metadata": {},
   "outputs": [],
   "source": [
    "mixed_list"
   ]
  },
  {
   "cell_type": "code",
   "execution_count": null,
   "id": "306cbdf4-b228-4a40-9f3b-d75e93d6068e",
   "metadata": {},
   "outputs": [],
   "source": [
    "type(mixed_list[2])"
   ]
  },
  {
   "cell_type": "code",
   "execution_count": null,
   "id": "2c5f9335-bf23-407d-925e-698b205503bd",
   "metadata": {},
   "outputs": [],
   "source": [
    "type(mixed_list[3])"
   ]
  },
  {
   "cell_type": "code",
   "execution_count": null,
   "id": "5b02e4b1-2a61-46f9-be55-8df1543d4b41",
   "metadata": {},
   "outputs": [],
   "source": [
    "type(mixed_list[4])"
   ]
  },
  {
   "cell_type": "markdown",
   "id": "cdadf8d4-e5c5-4dea-ad08-c9de1617c731",
   "metadata": {},
   "source": [
    "__Indexing and slicing lists__"
   ]
  },
  {
   "cell_type": "markdown",
   "id": "d6ad83c7-7876-4fb2-9256-a0b0735d8460",
   "metadata": {},
   "source": [
    "__Example¶\n",
    "\n",
    "Indexing a specific element from a list__"
   ]
  },
  {
   "cell_type": "code",
   "execution_count": null,
   "id": "bf767198-8cd7-47d8-8fed-c78b75e4c389",
   "metadata": {},
   "outputs": [],
   "source": [
    "my_list = [1, 2, 3, 4, 5]"
   ]
  },
  {
   "cell_type": "code",
   "execution_count": null,
   "id": "d139be2b-21b9-406f-9c5f-13f6baa61867",
   "metadata": {},
   "outputs": [],
   "source": [
    "my_list"
   ]
  },
  {
   "cell_type": "code",
   "execution_count": null,
   "id": "6cafb99a-48b3-4d46-ac86-ecaa0a19449d",
   "metadata": {},
   "outputs": [],
   "source": [
    "my_list[2]"
   ]
  },
  {
   "cell_type": "markdown",
   "id": "3c590be0-9847-4ee1-8614-5d3940d9b6ea",
   "metadata": {},
   "source": [
    "**Example¶\n",
    "\n",
    "Slicing elements from a list**"
   ]
  },
  {
   "cell_type": "code",
   "execution_count": null,
   "id": "f0b502f3-6cad-4ae4-94b2-7a1687e722b3",
   "metadata": {},
   "outputs": [],
   "source": [
    "my_list"
   ]
  },
  {
   "cell_type": "code",
   "execution_count": null,
   "id": "529b2c53-6b92-4b89-8d38-bc5c21622cb2",
   "metadata": {},
   "outputs": [],
   "source": [
    "my_list[0:2]"
   ]
  },
  {
   "cell_type": "code",
   "execution_count": null,
   "id": "a7cc6a73-c326-47f0-9eb0-237f38bb8ba2",
   "metadata": {},
   "outputs": [],
   "source": [
    "my_list[1:4]"
   ]
  },
  {
   "cell_type": "code",
   "execution_count": null,
   "id": "60b661e0-2f07-4ed9-a075-6673bcd72985",
   "metadata": {},
   "outputs": [],
   "source": [
    "my_list[2:]"
   ]
  },
  {
   "cell_type": "code",
   "execution_count": null,
   "id": "2b17a2e8-2f81-47b8-8ecd-1d8236b33290",
   "metadata": {},
   "outputs": [],
   "source": [
    "my_list[:3]"
   ]
  },
  {
   "cell_type": "markdown",
   "id": "0620dad9-8b33-4727-a633-e13fceea92da",
   "metadata": {},
   "source": [
    "__Example¶\n",
    "\n",
    "Accessing elements inside a nested list__"
   ]
  },
  {
   "cell_type": "code",
   "execution_count": null,
   "id": "bb525353-47d9-4efb-9440-4ff28c642e1c",
   "metadata": {},
   "outputs": [],
   "source": [
    "my_list = [[1, 2, 3], ['apple', 'banana', 'orange'], 3.14, ['dog', 'cat', 'bird']]"
   ]
  },
  {
   "cell_type": "code",
   "execution_count": null,
   "id": "2fa195d3-14f7-4483-a5f0-fc31f02ab26d",
   "metadata": {},
   "outputs": [],
   "source": [
    "my_list[0]"
   ]
  },
  {
   "cell_type": "code",
   "execution_count": null,
   "id": "5ba2fc03-78c8-4363-8a57-fbc3d802675b",
   "metadata": {},
   "outputs": [],
   "source": [
    "my_list[3][0]   #accessing dog --[] index and second inside the index"
   ]
  },
  {
   "cell_type": "markdown",
   "id": "6b484082-3307-429a-8d5a-ad4bd7ee43dd",
   "metadata": {},
   "source": [
    "__### Quiz\n",
    "Print `45` from the following list: `[1, -1, 0, [[50, 34], [45]], 23]`.__"
   ]
  },
  {
   "cell_type": "code",
   "execution_count": null,
   "id": "75e7a1a9-78dd-4602-a907-9375e82580af",
   "metadata": {},
   "outputs": [],
   "source": [
    "some_list = [1, -1, 0, [[50, 34], [45]], 23]    ###\n",
    "some_list[3][1][0]"
   ]
  },
  {
   "cell_type": "code",
   "execution_count": null,
   "id": "19e91231-ce25-4bbc-b8d3-94c0e73183f8",
   "metadata": {},
   "outputs": [],
   "source": [
    "some_list = [1, -1, 0, [[50, 34], [45]], 23]\n",
    "some_list"
   ]
  },
  {
   "cell_type": "markdown",
   "id": "08826970-0b98-4e83-af75-d25b80436507",
   "metadata": {},
   "source": [
    "## Operations on lists - getting information about lists"
   ]
  },
  {
   "cell_type": "markdown",
   "id": "0a113cc5-b9e4-4c9f-b6f6-942c5409b3c8",
   "metadata": {},
   "source": [
    "The following examples use `my_list` defined below for every operation:"
   ]
  },
  {
   "cell_type": "code",
   "execution_count": null,
   "id": "9eca8cdf-b30e-4251-94ed-5845e0d38ef2",
   "metadata": {},
   "outputs": [],
   "source": [
    "my_list = [1.0, 4.0, 2.0, 3.0, 5.0, 6.0, 3.0, 4.0, 5.0, 7.0, 5.0, 6.0, 7.0, 3.0, 5.0, 6.0, 7.0]\n",
    "my_list"
   ]
  },
  {
   "cell_type": "markdown",
   "id": "b2e217cf-2ec9-49e8-aae7-8f65df099073",
   "metadata": {},
   "source": [
    "### Example\n",
    "Finding the length of a list"
   ]
  },
  {
   "cell_type": "code",
   "execution_count": null,
   "id": "8e0a97cf-a406-481f-8c02-cdf1dc783de3",
   "metadata": {},
   "outputs": [],
   "source": [
    "len(my_list) ###len(),max(),min()"
   ]
  },
  {
   "cell_type": "code",
   "execution_count": null,
   "id": "6daa24b7-2e94-46b5-aa54-3154f3a4ce64",
   "metadata": {},
   "outputs": [],
   "source": [
    "max_ele = max(my_list)"
   ]
  },
  {
   "cell_type": "code",
   "execution_count": null,
   "id": "e0d0fd96-06ba-4f00-90a9-3ede6d443cdb",
   "metadata": {},
   "outputs": [],
   "source": [
    "max_ele"
   ]
  },
  {
   "cell_type": "code",
   "execution_count": null,
   "id": "2732c07d-cf9f-4aad-8eaf-98bd399306ac",
   "metadata": {},
   "outputs": [],
   "source": [
    "min_ele = min(my_list)"
   ]
  },
  {
   "cell_type": "code",
   "execution_count": null,
   "id": "31393544-4241-4fb5-a6f7-6a69b7c3345b",
   "metadata": {},
   "outputs": [],
   "source": [
    "min_ele"
   ]
  },
  {
   "cell_type": "markdown",
   "id": "031bc6a3-eff1-4436-b9da-3d8161730eee",
   "metadata": {},
   "source": [
    "### Example\n",
    "Finding the index of elements in a list\n"
   ]
  },
  {
   "cell_type": "code",
   "execution_count": null,
   "id": "399d7906-6b90-47c0-87b7-2ac3cc740c40",
   "metadata": {},
   "outputs": [],
   "source": [
    "my_list = [1.0, 4.0, 2.0, 3.0, 5.0, 6.0, 3.0, 4.0, 5.0, 7.0, 5.0, 6.0, 7.0, 3.0, 5.0, 6.0, 7.0]\n"
   ]
  },
  {
   "cell_type": "code",
   "execution_count": null,
   "id": "1bb1ddf9-d1b4-4585-b232-ad3f5e18ab9a",
   "metadata": {},
   "outputs": [],
   "source": [
    "my_list"
   ]
  },
  {
   "cell_type": "code",
   "execution_count": null,
   "id": "c384a6f3-4435-46e8-8ade-f23a5922930a",
   "metadata": {},
   "outputs": [],
   "source": [
    "my_list.index(5.0)"
   ]
  },
  {
   "cell_type": "code",
   "execution_count": null,
   "id": "ee22ec73-c9ee-41d9-a9d6-e26ceb61ecd7",
   "metadata": {},
   "outputs": [],
   "source": [
    "my_list[my_list.index(5.0)]"
   ]
  },
  {
   "cell_type": "code",
   "execution_count": null,
   "id": "a40c6132-3589-436b-a5a7-00e14fd23273",
   "metadata": {},
   "outputs": [],
   "source": [
    "my_list.index(max_ele)"
   ]
  },
  {
   "cell_type": "code",
   "execution_count": null,
   "id": "05042d13-8265-4404-ad17-79b787bba11b",
   "metadata": {},
   "outputs": [],
   "source": [
    "my_list.index(min_ele)"
   ]
  },
  {
   "cell_type": "markdown",
   "id": "ae48b931-cf6a-4fbc-a4da-2f6d02ef184a",
   "metadata": {},
   "source": [
    "### Example\n",
    "Finding the frequency of an element in a list"
   ]
  },
  {
   "cell_type": "code",
   "execution_count": null,
   "id": "9350f36a-99fa-44e3-a2b7-7943b2b3c194",
   "metadata": {},
   "outputs": [],
   "source": [
    "my_list.count(5.0)"
   ]
  },
  {
   "cell_type": "markdown",
   "id": "7e5f2337-cbb3-4046-948d-a3694bcbff0d",
   "metadata": {},
   "source": [
    "### Example\n",
    "Finding the sum of all elements in a list"
   ]
  },
  {
   "cell_type": "code",
   "execution_count": null,
   "id": "539e68b6-909e-4db6-85cb-e556e8959a42",
   "metadata": {},
   "outputs": [],
   "source": [
    "sum(my_list)"
   ]
  },
  {
   "cell_type": "markdown",
   "id": "1490e368-7a99-4762-af24-c75409ffac02",
   "metadata": {},
   "source": [
    "Example¶\n",
    "\n",
    "Checking whether an element is present in a list"
   ]
  },
  {
   "cell_type": "code",
   "execution_count": null,
   "id": "5a5d0a31-f6b1-4cab-8b3b-7f31d6906b87",
   "metadata": {},
   "outputs": [],
   "source": [
    "1.0 in my_list"
   ]
  },
  {
   "cell_type": "code",
   "execution_count": null,
   "id": "617796c2-ad95-476e-93cb-5a6e5f3a0866",
   "metadata": {},
   "outputs": [],
   "source": [
    "1 in my_list"
   ]
  },
  {
   "cell_type": "code",
   "execution_count": null,
   "id": "3aa492b2-e636-4864-841b-c6803bfcdbda",
   "metadata": {},
   "outputs": [],
   "source": [
    "1.0 in my_list and 5.0 in my_list"
   ]
  },
  {
   "cell_type": "code",
   "execution_count": null,
   "id": "0f33ee06-d865-4a4b-8bae-e192930ab7fb",
   "metadata": {},
   "outputs": [],
   "source": [
    "2.2 in my_list"
   ]
  },
  {
   "cell_type": "markdown",
   "id": "7501fbcc-408e-428b-a97d-ddf6c63297de",
   "metadata": {},
   "source": [
    "Quiz\n",
    "\n",
    "Find the mean of the numbers in the list [3, 8.5, 2, 11, 6.7, 9, 4.2, 7, 10, 5.5].\n",
    "\n",
    "Hint: The mean can be calculated by adding all elements in the list and dividing by the length of the list."
   ]
  },
  {
   "cell_type": "code",
   "execution_count": null,
   "id": "f676997c-dd6a-441d-8649-c9dfd7897b69",
   "metadata": {},
   "outputs": [],
   "source": [
    "my_list=[3, 8.5, 2, 11, 6.7, 9, 4.2, 7, 10, 5.5]"
   ]
  },
  {
   "cell_type": "code",
   "execution_count": null,
   "id": "de2eaaca-2301-4cd0-8c90-9331c31d7e21",
   "metadata": {},
   "outputs": [],
   "source": [
    "my_list"
   ]
  },
  {
   "cell_type": "code",
   "execution_count": null,
   "id": "c3358046-4231-4937-9d04-c4d7c248d3bc",
   "metadata": {},
   "outputs": [],
   "source": [
    "sum(my_list)"
   ]
  },
  {
   "cell_type": "code",
   "execution_count": null,
   "id": "7399e906-96e0-4d5c-a9e6-e9c2304d1683",
   "metadata": {},
   "outputs": [],
   "source": [
    "len(my_list)"
   ]
  },
  {
   "cell_type": "code",
   "execution_count": null,
   "id": "2be4e854-e539-4bf8-b6b6-fd641f987829",
   "metadata": {},
   "outputs": [],
   "source": [
    "sum(my_list)/len(my_list)"
   ]
  },
  {
   "cell_type": "markdown",
   "id": "468af8ef-a22f-4c43-b4a2-b10196e324a8",
   "metadata": {},
   "source": [
    "__Operations on lists - manipulating lists__"
   ]
  },
  {
   "cell_type": "markdown",
   "id": "05fb9ca3-71c4-4281-9606-888f43f35ffe",
   "metadata": {},
   "source": [
    "__The following examples use `my_list` defined below for every operation.__"
   ]
  },
  {
   "cell_type": "code",
   "execution_count": null,
   "id": "ba8a2014-7f3d-45f1-95c6-a14453357467",
   "metadata": {},
   "outputs": [],
   "source": [
    "my_list = [\"apple\", \"banana\", \"orange\", \"grape\", \"kiwi\"]\n",
    "my_list"
   ]
  },
  {
   "cell_type": "markdown",
   "id": "4d47f0f8-9f65-4209-8d25-269eac874b8f",
   "metadata": {},
   "source": [
    "### Example\n",
    "Adding elements to a list"
   ]
  },
  {
   "cell_type": "code",
   "execution_count": null,
   "id": "c2baaf28-93b5-4d69-bc01-26129e9a7edf",
   "metadata": {},
   "outputs": [],
   "source": [
    "my_list.append('avocado')"
   ]
  },
  {
   "cell_type": "code",
   "execution_count": null,
   "id": "bd802e22-2ec9-4b0a-b8ae-512348dacb4d",
   "metadata": {},
   "outputs": [],
   "source": [
    "my_list"
   ]
  },
  {
   "cell_type": "markdown",
   "id": "05a30d67-4f47-4a75-a17a-9030f0437dbb",
   "metadata": {},
   "source": [
    "__### Example\n",
    "Deleting last element from a list__     ### push and pop ---pop means taken out ... LIFO..The `pop` method doesn't just delete the last element from a list, but also extracts it."
   ]
  },
  {
   "cell_type": "code",
   "execution_count": null,
   "id": "b9e6fb58-d457-4733-a226-f521b83b5d68",
   "metadata": {},
   "outputs": [],
   "source": [
    "my_list.pop()"
   ]
  },
  {
   "cell_type": "code",
   "execution_count": null,
   "id": "c817daa5-f285-443a-8a6b-4a4537d4b975",
   "metadata": {},
   "outputs": [],
   "source": [
    "my_list"
   ]
  },
  {
   "cell_type": "markdown",
   "id": "c2f388dc-de80-481c-8d45-765278534c15",
   "metadata": {},
   "source": [
    "### Example\n",
    "Deleting an element at specific position"
   ]
  },
  {
   "cell_type": "code",
   "execution_count": null,
   "id": "bdc9372a-92cf-4642-b3a9-9993c37ecd09",
   "metadata": {},
   "outputs": [],
   "source": [
    "del my_list[3]"
   ]
  },
  {
   "cell_type": "code",
   "execution_count": null,
   "id": "c6943777-e6db-4364-97ce-baf3ebea3153",
   "metadata": {},
   "outputs": [],
   "source": [
    "my_list"
   ]
  },
  {
   "cell_type": "markdown",
   "id": "898c4fa0-4fc8-4a89-ba83-442e2136767b",
   "metadata": {},
   "source": [
    "Example\n",
    "\n",
    "Removing a specific element from a list\n"
   ]
  },
  {
   "cell_type": "code",
   "execution_count": null,
   "id": "e43c5d34-3b45-4e58-b237-ad5121c1f7bb",
   "metadata": {},
   "outputs": [],
   "source": [
    "my_list.remove('banana')"
   ]
  },
  {
   "cell_type": "code",
   "execution_count": null,
   "id": "fc3fe923-0c48-402a-ab28-e2161647a1ff",
   "metadata": {},
   "outputs": [],
   "source": [
    "my_list"
   ]
  },
  {
   "cell_type": "markdown",
   "id": "b045ee72-fead-43dc-b240-aacebe17f763",
   "metadata": {},
   "source": [
    "Note how the above operations act in-place, that is, they do not require reassignment to a variable to modify the original lists."
   ]
  },
  {
   "cell_type": "markdown",
   "id": "3fd2aec7-6e57-43a3-8e01-de8ae98ff2d7",
   "metadata": {},
   "source": [
    "### Example\n",
    "Sorting a list"
   ]
  },
  {
   "cell_type": "code",
   "execution_count": null,
   "id": "4ba1f476-4cc9-4082-b331-8fe1baf84f6a",
   "metadata": {},
   "outputs": [],
   "source": [
    "my_list"
   ]
  },
  {
   "cell_type": "code",
   "execution_count": null,
   "id": "76a9d28c-2f61-4883-93ca-49848e2a4a88",
   "metadata": {},
   "outputs": [],
   "source": [
    "ascending_list = sorted(my_list)"
   ]
  },
  {
   "cell_type": "code",
   "execution_count": null,
   "id": "06170f06-f295-45bc-8845-976eb148e84f",
   "metadata": {},
   "outputs": [],
   "source": [
    "ascending_list"
   ]
  },
  {
   "cell_type": "code",
   "execution_count": null,
   "id": "1bec294a-8b2e-4a4d-aa1f-947ab8a525ee",
   "metadata": {},
   "outputs": [],
   "source": [
    "descending_list = sorted(my_list, reverse = True)  # check for sorted?"
   ]
  },
  {
   "cell_type": "code",
   "execution_count": null,
   "id": "8c2e975c-5010-43cc-af5d-c7980e755f83",
   "metadata": {},
   "outputs": [],
   "source": [
    "sorted?    ####reverse=    if is become true then it will show desc"
   ]
  },
  {
   "cell_type": "code",
   "execution_count": null,
   "id": "9ba55c59-c0a0-428b-a575-d80a1345bc63",
   "metadata": {},
   "outputs": [],
   "source": [
    "descending_list"
   ]
  },
  {
   "cell_type": "markdown",
   "id": "7410b492-3eea-4429-8c47-1f8c127cf344",
   "metadata": {},
   "source": [
    "Quiz\n",
    "\n",
    "Find the second smallest element in the list [10, 20, 5, 30, 40, 15].         ###doubt\n",
    "\n"
   ]
  },
  {
   "cell_type": "code",
   "execution_count": null,
   "id": "ce1908f3-41cd-40ab-b131-ddfff07c4121",
   "metadata": {},
   "outputs": [],
   "source": [
    "my_list= list [10, 20, 5, 30, 40, 15]\n",
    "my_list   "
   ]
  },
  {
   "cell_type": "markdown",
   "id": "2c7793be-675d-4f16-b036-f8a781504e39",
   "metadata": {},
   "source": [
    "### Example\n",
    "Reversing a list   ## reverse the list by using sorted desc or using negative slicing"
   ]
  },
  {
   "cell_type": "code",
   "execution_count": null,
   "id": "6f02e796-c704-4c94-82a8-54b60044b088",
   "metadata": {},
   "outputs": [],
   "source": [
    "my_list"
   ]
  },
  {
   "cell_type": "code",
   "execution_count": null,
   "id": "6dab310e-807b-4693-9448-0f8e9edf6a65",
   "metadata": {},
   "outputs": [],
   "source": [
    "my_list[::-1]"
   ]
  },
  {
   "cell_type": "code",
   "execution_count": null,
   "id": "9da8443d-7b77-4f68-b92d-1edc2dc7f231",
   "metadata": {},
   "outputs": [],
   "source": [
    "descending_list=sorted(my_list)"
   ]
  },
  {
   "cell_type": "code",
   "execution_count": null,
   "id": "548b8bae-563f-494e-8473-4bde3cc48b45",
   "metadata": {},
   "outputs": [],
   "source": [
    "descending_list"
   ]
  },
  {
   "cell_type": "code",
   "execution_count": null,
   "id": "3013b2b3-dcc8-41ff-b323-e52544d2d24b",
   "metadata": {},
   "outputs": [],
   "source": [
    "descending_list=sorted(my_list,reverse=True)"
   ]
  },
  {
   "cell_type": "code",
   "execution_count": null,
   "id": "319b57c1-234a-477e-acac-b9586c7391ed",
   "metadata": {},
   "outputs": [],
   "source": [
    "descending_list"
   ]
  },
  {
   "cell_type": "code",
   "execution_count": null,
   "id": "38dfb092-0002-4535-b5c4-e9a8aef0f6bd",
   "metadata": {},
   "outputs": [],
   "source": [
    "my_list=[3, 8.5, 2, 11, 6.7, 9, 4.2, 7, 10, 5.5]"
   ]
  },
  {
   "cell_type": "code",
   "execution_count": null,
   "id": "39e7042c-4e60-4d30-9791-1c68b7fd9ec9",
   "metadata": {},
   "outputs": [],
   "source": [
    "my_list"
   ]
  },
  {
   "cell_type": "code",
   "execution_count": null,
   "id": "3ab99efd-abe5-4cac-a957-569983dd8c87",
   "metadata": {},
   "outputs": [],
   "source": [
    "my_list[::-1] ### negative slicing"
   ]
  },
  {
   "cell_type": "markdown",
   "id": "a64f308a-88dc-4ac7-9e07-1a9d8895ff63",
   "metadata": {},
   "source": [
    "### Example\n",
    "Repeating a list"
   ]
  },
  {
   "cell_type": "code",
   "execution_count": null,
   "id": "ee6c12bb-9084-450a-aee0-f0946f0d2d5a",
   "metadata": {},
   "outputs": [],
   "source": [
    "my_list"
   ]
  },
  {
   "cell_type": "code",
   "execution_count": null,
   "id": "6c71dc41-06fa-41e2-bb21-684167d25244",
   "metadata": {},
   "outputs": [],
   "source": [
    "my_new_list = my_list * 5"
   ]
  },
  {
   "cell_type": "code",
   "execution_count": null,
   "id": "a4932493-7f30-4cd9-8540-08cc2e02a3c6",
   "metadata": {},
   "outputs": [],
   "source": [
    "my_new_list"
   ]
  },
  {
   "cell_type": "markdown",
   "id": "70dbde39-63bd-454f-bee8-4a83c526cf9b",
   "metadata": {},
   "source": [
    "## Example\n",
    "Extending lists"
   ]
  },
  {
   "cell_type": "code",
   "execution_count": null,
   "id": "5509efd9-e353-4d92-8532-7a6547b90e19",
   "metadata": {},
   "outputs": [],
   "source": [
    "my_list=[3, 8.5, 2, 11, 6.7, 9, 4.2, 7, 10, 5.5]"
   ]
  },
  {
   "cell_type": "code",
   "execution_count": null,
   "id": "c677fd36-5f86-4e69-9e4c-b7c6e404648f",
   "metadata": {},
   "outputs": [],
   "source": [
    "my_list"
   ]
  },
  {
   "cell_type": "code",
   "execution_count": null,
   "id": "dd3722fb-952c-4ad5-a2c5-d6180b4c0e56",
   "metadata": {},
   "outputs": [],
   "source": [
    "my_other_list = ['guava', 'pineapple', 'plum', 'pear']"
   ]
  },
  {
   "cell_type": "code",
   "execution_count": null,
   "id": "d0d1a71e-3e0d-4f97-bcc1-6187880f9aed",
   "metadata": {},
   "outputs": [],
   "source": [
    "extended_list = my_list + my_other_list"
   ]
  },
  {
   "cell_type": "code",
   "execution_count": null,
   "id": "67d430d8-6593-4c26-aa0a-e113d3d8da5c",
   "metadata": {},
   "outputs": [],
   "source": [
    "extended_list"
   ]
  },
  {
   "cell_type": "code",
   "execution_count": null,
   "id": "e9d30858-9a6a-4866-9c4b-0ed608ce7654",
   "metadata": {},
   "outputs": [],
   "source": [
    "my_list"
   ]
  },
  {
   "cell_type": "code",
   "execution_count": null,
   "id": "0a6d6d09-397c-4f04-9abb-0d0fa6db7ef5",
   "metadata": {},
   "outputs": [],
   "source": [
    "new_list = my_list.extend(my_other_list)"
   ]
  },
  {
   "cell_type": "code",
   "execution_count": null,
   "id": "bb037dc1-e547-474c-8d02-565d5b1346f6",
   "metadata": {},
   "outputs": [],
   "source": [
    "print(new_list)"
   ]
  },
  {
   "cell_type": "code",
   "execution_count": null,
   "id": "8b238891-e1c5-4edc-bf1a-895918eb9502",
   "metadata": {},
   "outputs": [],
   "source": [
    "my_list"
   ]
  },
  {
   "cell_type": "markdown",
   "id": "e6541e24-cd0d-4baa-8ff3-d41e75ba5139",
   "metadata": {},
   "source": [
    "##Note that the `.extend()` method, like `.append()` and `.pop()`, works in-place, that is, it does not create a new list. Instead it modifies the list upon which it was called."
   ]
  },
  {
   "cell_type": "markdown",
   "id": "82d0f3c4-c56f-498a-972c-d89f4f255a1e",
   "metadata": {},
   "source": [
    "### Example\n",
    "Splitting strings into lists of substrings and joining them back together"
   ]
  },
  {
   "cell_type": "code",
   "execution_count": null,
   "id": "1be74699-636b-477c-b55e-5fd3c43617c6",
   "metadata": {},
   "outputs": [],
   "source": [
    "my_string = 'I find Python programming very interesting!'"
   ]
  },
  {
   "cell_type": "code",
   "execution_count": null,
   "id": "0ac4f6f4-a643-4a43-8a21-9a5d93c34a94",
   "metadata": {},
   "outputs": [],
   "source": [
    "my_string"
   ]
  },
  {
   "cell_type": "code",
   "execution_count": null,
   "id": "2cfb7970-7747-451f-b596-a5d0418fdb89",
   "metadata": {},
   "outputs": [],
   "source": [
    "my_string.split()"
   ]
  },
  {
   "cell_type": "code",
   "execution_count": null,
   "id": "0c9435df-e9cf-4cf1-b632-f01e12460c27",
   "metadata": {},
   "outputs": [],
   "source": [
    "my_string"
   ]
  },
  {
   "cell_type": "code",
   "execution_count": null,
   "id": "17ca2dc5-21a4-4587-b258-201af94ecf7c",
   "metadata": {},
   "outputs": [],
   "source": [
    "my_string=my_string.split()"
   ]
  },
  {
   "cell_type": "code",
   "execution_count": null,
   "id": "433b27a3-9a68-4da1-a204-46f72033fc1d",
   "metadata": {},
   "outputs": [],
   "source": [
    "my_string"
   ]
  },
  {
   "cell_type": "markdown",
   "id": "b600f331-2d96-4e85-a1f2-4b3429dfee09",
   "metadata": {},
   "source": [
    "Note how my_string hasn't changed in spite of applying the .split() method on it. One would have to reassign the output to a variable for the changes to stick."
   ]
  },
  {
   "cell_type": "code",
   "execution_count": null,
   "id": "53c7e960-c148-4dad-97fc-3d16ece4ea8a",
   "metadata": {},
   "outputs": [],
   "source": [
    "my_string='programming is fun'"
   ]
  },
  {
   "cell_type": "code",
   "execution_count": null,
   "id": "01865266-e3d6-4eb6-b814-a2ce4d8c6186",
   "metadata": {},
   "outputs": [],
   "source": [
    "my_string"
   ]
  },
  {
   "cell_type": "code",
   "execution_count": null,
   "id": "e7d59afd-1571-4e2d-a642-4cb9f7cc88f6",
   "metadata": {},
   "outputs": [],
   "source": [
    "my_string.split('i')"
   ]
  },
  {
   "cell_type": "code",
   "execution_count": null,
   "id": "1010039d-36c4-4aec-9709-afd8f57bb95f",
   "metadata": {},
   "outputs": [],
   "source": [
    "my_string.split(' ')"
   ]
  },
  {
   "cell_type": "code",
   "execution_count": null,
   "id": "2600ddd7-2b14-4eab-a505-a505a980517c",
   "metadata": {},
   "outputs": [],
   "source": [
    "my_string"
   ]
  },
  {
   "cell_type": "code",
   "execution_count": null,
   "id": "9c661d74-7ccd-4266-9d79-549d6df25ee6",
   "metadata": {},
   "outputs": [],
   "source": [
    "''.join(my_string)"
   ]
  },
  {
   "cell_type": "code",
   "execution_count": null,
   "id": "2546ca1c-4bde-4502-8807-f1da36fa2e78",
   "metadata": {},
   "outputs": [],
   "source": [
    "'#'.join(my_string)"
   ]
  },
  {
   "cell_type": "code",
   "execution_count": null,
   "id": "fa0c3ae0-22c1-4973-8301-8d1ae81e7a4a",
   "metadata": {},
   "outputs": [],
   "source": [
    "' '.join(my_string)"
   ]
  },
  {
   "cell_type": "markdown",
   "id": "19ece0a5-b12b-4471-a5f3-7cdb61565995",
   "metadata": {},
   "source": [
    "difference between index() and find()\n",
    "index will through error if it is false, find() does not through any error. instead for failure it shows result -1"
   ]
  },
  {
   "cell_type": "code",
   "execution_count": null,
   "id": "b55accf6-3c16-4b1e-8760-125d30391a63",
   "metadata": {},
   "outputs": [],
   "source": [
    "my_string = 'Hello, World!'\n",
    "index_of_o = my_string.index('o')\n",
    "index_of_World = my_string.find('World')\n",
    "print(\"Index of 'o': \", index_of_o)  \n",
    "print(\"Index of 'World': \", index_of_World)"
   ]
  },
  {
   "cell_type": "code",
   "execution_count": null,
   "id": "acf109e5-d0cc-4ad1-9852-729f92932856",
   "metadata": {},
   "outputs": [],
   "source": [
    "my_string = 'Hello, World'\n",
    "index_of_e = my_string.index('E')\n"
   ]
  },
  {
   "cell_type": "code",
   "execution_count": null,
   "id": "4d5340ca-0c4b-4f1c-89cf-58d85104fac2",
   "metadata": {},
   "outputs": [],
   "source": [
    "my_string = 'Hello, World'\n",
    "index_of_e = my_string.find('E')"
   ]
  },
  {
   "cell_type": "code",
   "execution_count": null,
   "id": "c9525c5a-0914-4f7c-ae08-c9e2cff02dc0",
   "metadata": {},
   "outputs": [],
   "source": [
    "print(\"Index of 'e': \", index_of_e) "
   ]
  },
  {
   "cell_type": "code",
   "execution_count": null,
   "id": "0ef352d4-ef4f-4df4-99fd-16bd6da88c75",
   "metadata": {},
   "outputs": [],
   "source": [
    "_string = 'Hello, World!'\n",
    "count_of_l = my_string.count('l') \n",
    "count_of_o = my_string.count('o')\n",
    "print(\"Occurrences of 'o':\", count_of_o)\n",
    "print(\"Occurrences of 'l':\", count_of_l)"
   ]
  },
  {
   "cell_type": "code",
   "execution_count": null,
   "id": "7e0e4f1b-41f6-4201-984b-e0c42deba300",
   "metadata": {},
   "outputs": [],
   "source": [
    "my_str=  'I find Python programming very interesting!'"
   ]
  },
  {
   "cell_type": "code",
   "execution_count": null,
   "id": "5f3369f0-7ddf-4331-b4d6-ebbf68bc6786",
   "metadata": {},
   "outputs": [],
   "source": [
    "'I fin' in my_str or '!!' in my_str"
   ]
  },
  {
   "cell_type": "markdown",
   "id": "6f73078e-e646-4365-9672-5d9a610721c5",
   "metadata": {},
   "source": [
    "__Merging two lists__"
   ]
  },
  {
   "cell_type": "code",
   "execution_count": null,
   "id": "4c73cdf4-103e-4153-949a-3134e3485ddf",
   "metadata": {},
   "outputs": [],
   "source": [
    "list_one = [1, 2, 3]\n",
    "list_two = [4, 5, 6]\n",
    "merged_list = list_one + list_two"
   ]
  },
  {
   "cell_type": "code",
   "execution_count": null,
   "id": "fb56386a-29dc-41c4-b7b0-09c127d89267",
   "metadata": {},
   "outputs": [],
   "source": [
    "merged_list"
   ]
  },
  {
   "cell_type": "markdown",
   "id": "15966ed6-fba2-470d-b4d1-aea0bb12cecc",
   "metadata": {},
   "source": [
    "__On the other hand, the .extend() method is used to append all the elements from another iterable (such as a list) to the end of a list. It modifies the original list in place, meaning it changes the original list rather than creating a new one.\n",
    "\n",
    "__"
   ]
  },
  {
   "cell_type": "code",
   "execution_count": null,
   "id": "33cd240a-431b-4907-8eef-b572bf5137a0",
   "metadata": {},
   "outputs": [],
   "source": [
    "list_one = [1, 2, 3]\n",
    "list_two = [4, 5, 6]\n",
    "list_one.extend(list_two)\n",
    "print(list_one)"
   ]
  },
  {
   "cell_type": "code",
   "execution_count": null,
   "id": "7f2849ff-231e-4e05-b33a-a5f474edbfc1",
   "metadata": {},
   "outputs": [],
   "source": [
    "print([1, 2, 3] + [4, 5, 6])"
   ]
  },
  {
   "cell_type": "code",
   "execution_count": null,
   "id": "629e9cae-3d53-46e5-8fcd-fbc22e16bc5b",
   "metadata": {},
   "outputs": [],
   "source": [
    "languages=['tamil','english']"
   ]
  },
  {
   "cell_type": "code",
   "execution_count": null,
   "id": "55fb2c27-40d3-4282-afcc-dff1ef7884c7",
   "metadata": {},
   "outputs": [],
   "source": [
    "languages"
   ]
  },
  {
   "cell_type": "code",
   "execution_count": null,
   "id": "3618b466-e844-4c18-8798-4203a87a2cb6",
   "metadata": {},
   "outputs": [],
   "source": [
    "languages"
   ]
  },
  {
   "cell_type": "code",
   "execution_count": null,
   "id": "431f4514-264c-4b40-8511-8ed46c3acc50",
   "metadata": {},
   "outputs": [],
   "source": [
    "new_lang=languages.push('python')"
   ]
  },
  {
   "cell_type": "markdown",
   "id": "53b54cfb-ea61-43df-96b6-a7e102fc1d08",
   "metadata": {},
   "source": [
    "***************************************************"
   ]
  },
  {
   "cell_type": "markdown",
   "id": "740f2482-dd3d-482b-996a-4518f3035120",
   "metadata": {},
   "source": [
    "Mathematical and statistical operations"
   ]
  },
  {
   "cell_type": "code",
   "execution_count": null,
   "id": "eda0b8e3-8302-4432-9653-51b30ece2993",
   "metadata": {},
   "outputs": [],
   "source": [
    "expenses = {'rent': 1200, 'groceries': 300, 'transport': 150}\n",
    "total_expenses = sum(expenses.values())\n",
    "print(total_expenses)"
   ]
  },
  {
   "cell_type": "code",
   "execution_count": null,
   "id": "3212dc31-de17-4fa6-95c5-12a6a351784a",
   "metadata": {},
   "outputs": [],
   "source": [
    "expenses = {'rent': 1200, 'groceries': 300, 'transport': 150}   ### inteams of values\n",
    "max_expenses = max(expenses.values())\n",
    "print(max_expenses)"
   ]
  },
  {
   "cell_type": "code",
   "execution_count": null,
   "id": "4ad0c5ad-d9d0-4e2e-8424-f0ed49a8d51f",
   "metadata": {},
   "outputs": [],
   "source": [
    "expenses = {'rent': 1200, 'groceries': 300, 'transport': 150}\n",
    "min_expenses = min(expenses.values())\n",
    "print(min_expenses)"
   ]
  },
  {
   "cell_type": "code",
   "execution_count": null,
   "id": "72d0574e-f26d-4283-9a00-e48f39ec68c7",
   "metadata": {},
   "outputs": [],
   "source": [
    "expenses = {'rent': 1200, 'groceries': 300, 'transport': 150}\n",
    "max_expenses_keys = max(expenses, key=expenses.get)                      ## asking the key which has max value\n",
    "print(max_expenses_keys)"
   ]
  },
  {
   "cell_type": "code",
   "execution_count": null,
   "id": "6bdcf627-7379-46d5-ac8d-0c284ed2cc69",
   "metadata": {},
   "outputs": [],
   "source": [
    "expenses = {'rent': 1200, 'groceries': 300, 'transport': 150}\n",
    "min_expenses_keys = min(expenses, key=expenses.get)\n",
    "print(min_expenses_keys)"
   ]
  },
  {
   "cell_type": "code",
   "execution_count": null,
   "id": "acef7d6e-1924-49c4-9625-ef7d15cfdbae",
   "metadata": {},
   "outputs": [],
   "source": [
    "expenses = {'rent': 1200, 'groceries': 300, 'transport': 150}\n",
    "sorted_keys = sorted(expenses.keys())                                         ##sorting the keys and values\n",
    "sorted_values = sorted(expenses.values())\n",
    "print('sorted_keys', sorted_keys)\n",
    "print('sorted_values', sorted_values)"
   ]
  },
  {
   "cell_type": "markdown",
   "id": "039e074d-c048-4518-b213-d60f29d1dee1",
   "metadata": {},
   "source": [
    "Operations on Dictionaries - Ungraded Assessment"
   ]
  },
  {
   "cell_type": "code",
   "execution_count": null,
   "id": "874ad089-e232-4072-8f94-4ab7d2ab27db",
   "metadata": {},
   "outputs": [],
   "source": [
    "employee = {'name': 'Vidya', 'gender': 'F', 'age': 25}"
   ]
  },
  {
   "cell_type": "code",
   "execution_count": null,
   "id": "9e465aeb-da8e-4968-a2f2-fa5ed406c29b",
   "metadata": {},
   "outputs": [],
   "source": [
    "employee['city']='chennai'"
   ]
  },
  {
   "cell_type": "code",
   "execution_count": null,
   "id": "930f6943-4b09-43cf-8a77-0799989f6b92",
   "metadata": {},
   "outputs": [],
   "source": [
    "employee"
   ]
  },
  {
   "cell_type": "code",
   "execution_count": null,
   "id": "145d581b-243d-4eaa-ac9b-e6c156684b9c",
   "metadata": {},
   "outputs": [],
   "source": [
    "employee = {'name': 'Vidya', 'gender': 'F', 'age': 25}"
   ]
  },
  {
   "cell_type": "code",
   "execution_count": null,
   "id": "a349b4c5-d3ef-4e40-8a2e-2718892b5e30",
   "metadata": {},
   "outputs": [],
   "source": [
    "employee.append({'city': 'Chennai'})     ### append is used to add the values here keys and values are present"
   ]
  },
  {
   "cell_type": "code",
   "execution_count": null,
   "id": "1e4f79d8-6385-41af-b863-bcbeae24f215",
   "metadata": {},
   "outputs": [],
   "source": [
    "employee.add('city', 'Chennai')"
   ]
  },
  {
   "cell_type": "code",
   "execution_count": null,
   "id": "03a71384-6865-45ac-904c-262d068e69d7",
   "metadata": {},
   "outputs": [],
   "source": [
    "employee.update({'city': 'Chennai'})"
   ]
  },
  {
   "cell_type": "code",
   "execution_count": null,
   "id": "d2499648-1ca5-44e3-995b-d727e45798d2",
   "metadata": {},
   "outputs": [],
   "source": [
    "employee"
   ]
  },
  {
   "cell_type": "markdown",
   "id": "ef520de2-11d7-43b6-9b25-54efad52aef2",
   "metadata": {},
   "source": [
    "Tuples:\n",
    "\n",
    "Tuples are built-in data structures used to store ordered collections of items. They are similar to lists but are immutable, meaning that, once created, their items cannot be changed, added, or removed. This immutability makes tuples a preferable choice for storing data that needs to remain unchanged throughout the lifetime of a program. Now, let's explore the various ways of creating tuples."
   ]
  },
  {
   "cell_type": "code",
   "execution_count": null,
   "id": "471f20cf-dc96-4e85-8274-dc3ea3d85ec9",
   "metadata": {},
   "outputs": [],
   "source": [
    "empty_tuple = ()\n",
    "print(type(empty_tuple))\n",
    "print(empty_tuple)"
   ]
  },
  {
   "cell_type": "code",
   "execution_count": null,
   "id": "d3b74e6d-8264-4fa4-b7de-bc96c0326b68",
   "metadata": {},
   "outputs": [],
   "source": [
    "color_tuple = ('red', 'green', 'blue')\n",
    "print(color_tuple)"
   ]
  },
  {
   "cell_type": "code",
   "execution_count": null,
   "id": "b7c62ec6-3455-4246-8cf9-bbc2eb802cf2",
   "metadata": {},
   "outputs": [],
   "source": [
    "my_tuple = (1,)\n",
    "print(type(my_tuple))\n",
    "print(my_tuple)"
   ]
  },
  {
   "cell_type": "code",
   "execution_count": null,
   "id": "50f18607-e69a-4bf7-8082-d50e804dafec",
   "metadata": {},
   "outputs": [],
   "source": [
    "my_tuple = (1)\n",
    "print(type(my_tuple))\n",
    "print(my_tuple)                          ### if we remove the , it is not a tuple"
   ]
  },
  {
   "cell_type": "code",
   "execution_count": null,
   "id": "92f3183d-e654-4027-9579-8bf1b784a88a",
   "metadata": {},
   "outputs": [],
   "source": [
    "color_tuple = ('red', 'green', 'blue')   #in tuples indexing and slicing is possible not able to remove or add in tuple"
   ]
  },
  {
   "cell_type": "code",
   "execution_count": null,
   "id": "93f43de6-e305-4ada-819a-3b18cc8b27b5",
   "metadata": {},
   "outputs": [],
   "source": [
    "color_tuple[2]"
   ]
  },
  {
   "cell_type": "code",
   "execution_count": null,
   "id": "b9c5c6cc-1638-49a5-a7fd-b5cb24959d1a",
   "metadata": {},
   "outputs": [],
   "source": [
    "color_tuple[3]"
   ]
  },
  {
   "cell_type": "code",
   "execution_count": null,
   "id": "88697626-3550-46e5-98d8-72b57529599c",
   "metadata": {},
   "outputs": [],
   "source": [
    "nested_tuple = ((1, 2), (3, 4))\n",
    "print(nested_tuple[1][0])\n"
   ]
  },
  {
   "cell_type": "code",
   "execution_count": null,
   "id": "5504a753-369f-4e51-b233-17397c38506d",
   "metadata": {},
   "outputs": [],
   "source": [
    "color_tuple = ('red', 'green', 'blue')\n",
    "print(color_tuple[1:3:1])"
   ]
  },
  {
   "cell_type": "code",
   "execution_count": null,
   "id": "5ad3e947-ef8e-4c6f-b7f0-90123707a34a",
   "metadata": {},
   "outputs": [],
   "source": [
    "color_tuple = ('red', 'green', 'blue')\n",
    "print(color_tuple[-1:])\n",
    "print(color_tuple[:-1])\n",
    "print(color_tuple[:-3])\n"
   ]
  },
  {
   "cell_type": "code",
   "execution_count": null,
   "id": "c0b9d3b8-7cbc-4347-9b9c-b8f761549908",
   "metadata": {},
   "outputs": [],
   "source": [
    "color_tuple = ('red', 'green', 'blue')    ###.index() and .find() is used error if the element is not present for index it shows error.if the element is not found it wont through error returns -1 for failure.\n",
    "print(color_tuple.index('blue'))"
   ]
  },
  {
   "cell_type": "code",
   "execution_count": null,
   "id": "59cb3d72-7e68-4ab1-be7e-b34cd8138901",
   "metadata": {},
   "outputs": [],
   "source": [
    "color_tuple = ('red', 'green', 'blue')\n",
    "print(color_tuple.index('yellow'))  "
   ]
  },
  {
   "cell_type": "code",
   "execution_count": null,
   "id": "2ed05aa0-d8f7-4797-abeb-5c8ae14e7013",
   "metadata": {},
   "outputs": [],
   "source": [
    "color_tuple = ('red', 'green', 'blue')\n",
    "print(color_tuple.find('green'))  "
   ]
  },
  {
   "cell_type": "markdown",
   "id": "b8e1fcef-1f07-4365-81ba-beec4215fcf6",
   "metadata": {},
   "source": [
    "unpacking tuples"
   ]
  },
  {
   "cell_type": "code",
   "execution_count": null,
   "id": "7347077c-fdc8-4db4-80ae-9b70e0f16e03",
   "metadata": {},
   "outputs": [],
   "source": [
    "color_tuple = ('red', 'green', 'blue')\n",
    "a, b, c = color_tuple\n",
    "print(a)"
   ]
  },
  {
   "cell_type": "markdown",
   "id": "951db920-8910-4179-a546-a555f1a96b01",
   "metadata": {},
   "source": [
    "Unpacking particular items from tuples\n",
    "\n",
    "Sometimes, you might not be interested in all the items of a tuple. In this case, you can use _ (underscore) as a placeholder for unwanted values during unpacking. Take a look at the example below."
   ]
  },
  {
   "cell_type": "code",
   "execution_count": null,
   "id": "c7e31d12-6b16-40a6-8c41-25f791a6c662",
   "metadata": {},
   "outputs": [],
   "source": [
    "color_tuple = ('red', 'green', 'blue')\n",
    "a, _, c = color_tuple\n",
    "print(a)\n",
    "print(c)"
   ]
  },
  {
   "cell_type": "markdown",
   "id": "0b35fe74-a487-4f75-b6c6-569dd826e500",
   "metadata": {},
   "source": [
    " Adding and removing item from a tuple\n",
    "\n",
    "Tuples are immutable, which means that you cannot manipulate their items. i.e. You can not add, remove, or update items of a tuple.\n",
    "\n",
    "Tuples do not have the .append() method since they are immutable. For example"
   ]
  },
  {
   "cell_type": "code",
   "execution_count": null,
   "id": "48bd09af-891f-4255-92f6-95047a232dee",
   "metadata": {},
   "outputs": [],
   "source": [
    "temp_tuple = (1, 2, 3)\n",
    "(temp_tuple.append(4))"
   ]
  },
  {
   "cell_type": "code",
   "execution_count": null,
   "id": "1abab3bf-708a-4044-843a-2ffeb8cf61dd",
   "metadata": {},
   "outputs": [],
   "source": [
    "temp_tuple = (1, 2, 3)\n",
    "temp_tuple[0] = 4"
   ]
  },
  {
   "cell_type": "markdown",
   "id": "06b9cd86-e74b-48f4-92ff-6a1885a36004",
   "metadata": {},
   "source": [
    "you can't remove items from a tuple also because of their immutability. Tuples have no .remove() or .pop() methods.\n",
    "\n"
   ]
  },
  {
   "cell_type": "code",
   "execution_count": null,
   "id": "60ce8a34-d44b-4e0d-94a7-ebc4652ec49a",
   "metadata": {},
   "outputs": [],
   "source": [
    "temp_tuple = (1, 2, 3)\n",
    "temp_tuple.pop()"
   ]
  },
  {
   "cell_type": "code",
   "execution_count": null,
   "id": "7096a3a7-1674-46db-b8a8-62bb230857a0",
   "metadata": {},
   "outputs": [],
   "source": [
    "temp_tuple = (1, 2, 3)\n",
    "temp_tuple.remove(3)"
   ]
  },
  {
   "cell_type": "code",
   "execution_count": null,
   "id": "0b5e26b9-4afb-499a-932d-3b95cfc68d6e",
   "metadata": {},
   "outputs": [],
   "source": [
    "\n",
    "tuple1 = (1, 2)\n",
    "tuple2 = (3, 4)\n",
    "print(tuple1 + tuple2)\n",
    "print(tuple1)\n",
    "print(tuple2)"
   ]
  },
  {
   "cell_type": "code",
   "execution_count": null,
   "id": "cc38f8e4-5969-49c9-934e-e90d292a4ac5",
   "metadata": {},
   "outputs": [],
   "source": [
    "tuple1 = (0, 1)\n",
    "print(tuple1 * 2)"
   ]
  },
  {
   "cell_type": "markdown",
   "id": "370b2ed3-4649-4259-a9f3-a275b9783482",
   "metadata": {},
   "source": [
    "Finding the largest and smallest items and their index in a tuple"
   ]
  },
  {
   "cell_type": "code",
   "execution_count": null,
   "id": "8e7b47e4-95d6-470f-b102-2a15c41ce68a",
   "metadata": {},
   "outputs": [],
   "source": [
    "num_tuple = (1, 2, 3, 4)\n",
    "max_ele = max(num_tuple)\n",
    "print(max_ele) \n",
    "index_of_max = num_tuple .index(max_ele)\n",
    "print(index_of_max )  \n",
    "min_ele = min(num_tuple)\n",
    "print(min_ele)     \n",
    "index_of_min = num_tuple .index(min_ele)\n",
    "print(index_of_min) \n"
   ]
  },
  {
   "cell_type": "code",
   "execution_count": null,
   "id": "7461466e-7b86-4a30-9b9d-90799bf378d2",
   "metadata": {},
   "outputs": [],
   "source": [
    "my_tuple = ('a', 1)\n",
    "print(max(my_tuple))     #one string another int"
   ]
  },
  {
   "cell_type": "code",
   "execution_count": null,
   "id": "ab361bab-9d53-4be5-96b0-9ec89af4f724",
   "metadata": {},
   "outputs": [],
   "source": [
    "num_tuple = (1, 2, 3, 4)\n",
    "print(sum(num_tuple))"
   ]
  },
  {
   "cell_type": "markdown",
   "id": "75588b11-68f4-482c-ac30-7ebe891b2348",
   "metadata": {},
   "source": [
    "Computing the mean of items in a tuple"
   ]
  },
  {
   "cell_type": "code",
   "execution_count": null,
   "id": "213f5da4-ab49-4379-a8ee-b8977f357f7f",
   "metadata": {},
   "outputs": [],
   "source": [
    "num_tuple = (1, 2, 3, 4)\n",
    "mean_value = sum(num_tuple) / len(num_tuple)\n",
    "print(mean_value)\n"
   ]
  },
  {
   "cell_type": "markdown",
   "id": "9c21f70b-e429-4aef-be47-04398169add1",
   "metadata": {},
   "source": [
    "sorting"
   ]
  },
  {
   "cell_type": "code",
   "execution_count": null,
   "id": "b9ac62ed-401e-4051-9cae-2bcfefe1f3dd",
   "metadata": {},
   "outputs": [],
   "source": [
    "num_tuple = (2, 1, 4, 3)\n",
    "print(sorted(num_tuple))"
   ]
  },
  {
   "cell_type": "markdown",
   "id": "dee4f742-6cb8-4d5e-b8a2-07463d4b5f18",
   "metadata": {},
   "source": [
    "When the code runs, the output will be a list of the items from num_tuple sorted in ascending order. \n",
    "\n",
    "\n",
    "Even though num_tuple is a tuple, the output will be in list format because sorted() always returns a list. Therefore, to get the sorted tuple, you should convert the list into a tuple using the tuple() constructor.\n"
   ]
  },
  {
   "cell_type": "code",
   "execution_count": null,
   "id": "44870097-f15e-4a81-a9cc-5afaeb8fa2af",
   "metadata": {},
   "outputs": [],
   "source": [
    "num_tuple = (2, 1, 4, 3)\n",
    "num_tuple=tuple(sorted(num_tuple))\n",
    "print(num_tuple)"
   ]
  },
  {
   "cell_type": "code",
   "execution_count": null,
   "id": "f3e06749-88af-4e2e-bfd7-a758c5a9cadb",
   "metadata": {},
   "outputs": [],
   "source": [
    "repeat_tuple = (1, 2, 2, 3, 4, 4, 4)\n",
    "print(repeat_tuple.count(4))\n"
   ]
  },
  {
   "cell_type": "markdown",
   "id": "01374e2b-076f-423d-b7ff-a5cbfe9862e7",
   "metadata": {},
   "source": [
    "Ungraded Assessment\n"
   ]
  },
  {
   "cell_type": "code",
   "execution_count": null,
   "id": "2f1d922a-3610-4854-a0bc-470334c36cc3",
   "metadata": {},
   "outputs": [],
   "source": [
    "point(x,y,z)"
   ]
  },
  {
   "cell_type": "code",
   "execution_count": null,
   "id": "63075e77-d0ed-44fe-92df-a086d6f1b3c7",
   "metadata": {},
   "outputs": [],
   "source": [
    "fruits = ['apple', 'banana', 'avocado', 'mango']\n",
    "price = [150, 40, 100, 50]"
   ]
  },
  {
   "cell_type": "code",
   "execution_count": null,
   "id": "6c173085-e2d5-4129-ad78-bf5d94e91171",
   "metadata": {},
   "outputs": [],
   "source": [
    "fruit_prices = (('apple', 150), ('banana', 40), ('avocado', 100), ('mango', 50))"
   ]
  },
  {
   "cell_type": "code",
   "execution_count": null,
   "id": "1cfa4280-511e-41af-b278-79c2fc3876d0",
   "metadata": {},
   "outputs": [],
   "source": [
    "fruit_prices"
   ]
  },
  {
   "cell_type": "code",
   "execution_count": null,
   "id": "0ca59584-a83a-4fc7-9ef3-8d82718fcb40",
   "metadata": {},
   "outputs": [],
   "source": [
    "fruit_prices = tuple(zip(fruits, price))"
   ]
  },
  {
   "cell_type": "code",
   "execution_count": null,
   "id": "49bd0fc3-7f6d-4b4c-88f8-f71f10387d88",
   "metadata": {},
   "outputs": [],
   "source": [
    "fruit_prices"
   ]
  },
  {
   "cell_type": "code",
   "execution_count": null,
   "id": "a2809206-ab50-4eb4-a6bf-ec069807c9ad",
   "metadata": {},
   "outputs": [],
   "source": [
    "fruit_prices = (['apple', 150], ['banana', 40], ['avocado', 100], ['mango', 50])    # it is not correct for tuple"
   ]
  },
  {
   "cell_type": "code",
   "execution_count": null,
   "id": "873c2a00-dfe6-465d-a395-6901992aec46",
   "metadata": {},
   "outputs": [],
   "source": [
    "fruit_prices"
   ]
  },
  {
   "cell_type": "code",
   "execution_count": null,
   "id": "00ba0570-878e-43f2-b9f3-8eac97f40de7",
   "metadata": {},
   "outputs": [],
   "source": [
    "exp_dates = ('2023-01-01', '2023-02-01', '2023-03-01', '2023-04-01', '2023-05-01')"
   ]
  },
  {
   "cell_type": "code",
   "execution_count": null,
   "id": "a2b1a2ce-a79b-488f-b206-a4888bc9ca87",
   "metadata": {},
   "outputs": [],
   "source": [
    "date_1, date_2 = exp_dates[:2]"
   ]
  },
  {
   "cell_type": "code",
   "execution_count": null,
   "id": "340b3d0b-3871-4916-b45b-de3be345e980",
   "metadata": {},
   "outputs": [],
   "source": [
    "date_1, date_2"
   ]
  },
  {
   "cell_type": "code",
   "execution_count": null,
   "id": "76680df1-2b0c-4af8-8592-09919909ddd7",
   "metadata": {},
   "outputs": [],
   "source": [
    "date_1 = exp_dates[0], date_2 = exp_dates[1]"
   ]
  },
  {
   "cell_type": "code",
   "execution_count": null,
   "id": "684d685d-9da5-426e-9587-e961f18b2973",
   "metadata": {},
   "outputs": [],
   "source": [
    "date_1, date_2, *_ = exp_dates"
   ]
  },
  {
   "cell_type": "code",
   "execution_count": null,
   "id": "6aad083b-4223-49a8-8a2d-9d53089c1f89",
   "metadata": {},
   "outputs": [],
   "source": [
    "exp_dates"
   ]
  },
  {
   "cell_type": "code",
   "execution_count": null,
   "id": "be37dab9-7b99-4dac-b4a1-fe704474290d",
   "metadata": {},
   "outputs": [],
   "source": [
    "*date_1, *date_2 = exp_dates"
   ]
  },
  {
   "cell_type": "code",
   "execution_count": null,
   "id": "cd4d0438-0017-42ea-acde-78a9c8f76c8f",
   "metadata": {},
   "outputs": [],
   "source": [
    "exp_dates = ('2023-01-01', '2023-02-01', '2023-03-01', '2023-04-01', '2023-05-01')"
   ]
  },
  {
   "cell_type": "code",
   "execution_count": null,
   "id": "6d618a13-1839-4af8-a980-c6ab31aa65c3",
   "metadata": {},
   "outputs": [],
   "source": [
    "date_1, date_2, *_ = exp_dates"
   ]
  },
  {
   "cell_type": "code",
   "execution_count": null,
   "id": "80e0bd36-ea03-44f2-bc6f-1465887b8735",
   "metadata": {},
   "outputs": [],
   "source": [
    "exp_dates"
   ]
  },
  {
   "cell_type": "code",
   "execution_count": null,
   "id": "6e4bbbd5-0d12-4180-9a1a-33b2f09722d3",
   "metadata": {},
   "outputs": [],
   "source": [
    "date_1, date_2, *_ "
   ]
  },
  {
   "cell_type": "markdown",
   "id": "8dad7049-e665-43c7-ac22-4e678d727d7f",
   "metadata": {},
   "source": [
    "###Given a tuple of expiry dates:\n",
    "\n",
    "exp_dates = ('2023-01-01', '2023-02-01', '2023-03-01', '2023-04-01', '2023-05-01') \n",
    " \n",
    "\n",
    "Unpack only the first two dates into separate variables 'date_1' and 'date_2'.\n",
    "\n",
    "date_1, date_2, *_ = exp_dates     These two are output how \n",
    "date_1, date_2 = exp_dates[:2]"
   ]
  },
  {
   "cell_type": "markdown",
   "id": "cc9e6d74-56b9-44e9-8841-e27100fef7b3",
   "metadata": {},
   "source": [
    "Find the smallest item in my_tuple (multiple options may be correct):\n",
    "\n",
    "my_tuple = (2.5, 1.8, 3.7, 4.2, 0.9)"
   ]
  },
  {
   "cell_type": "code",
   "execution_count": null,
   "id": "3a0a74b5-0b5d-4b2f-ac34-9fdb18f42a30",
   "metadata": {},
   "outputs": [],
   "source": [
    "my_tuple = (2.5, 1.8, 3.7, 4.2, 0.9)\n",
    "min(2.5, 1.8, 3.7, 4.2, 0.9)"
   ]
  },
  {
   "cell_type": "code",
   "execution_count": null,
   "id": "2bfa9cce-d77a-4e77-b0de-3ce761633d0a",
   "metadata": {},
   "outputs": [],
   "source": [
    "my_tuple = (2.5, 1.8, 3.7, 4.2, 0.9)"
   ]
  },
  {
   "cell_type": "code",
   "execution_count": null,
   "id": "5e4621e4-039b-4897-8a93-0d878f2c3d2e",
   "metadata": {},
   "outputs": [],
   "source": [
    "minimum(2.5, 1.8, 3.7, 4.2, 0.9)"
   ]
  },
  {
   "cell_type": "code",
   "execution_count": null,
   "id": "be78b078-a6dc-4dee-b6c6-4f6353f74949",
   "metadata": {},
   "outputs": [],
   "source": [
    "(2.5, 1.8, 3.7, 4.2, 0.9)[0]"
   ]
  },
  {
   "cell_type": "code",
   "execution_count": null,
   "id": "8d2b9ffd-34cd-4586-90ca-878b13ca9cf7",
   "metadata": {},
   "outputs": [],
   "source": [
    "sorted((2.5, 1.8, 3.7, 4.2, 0.9))[0]"
   ]
  },
  {
   "cell_type": "markdown",
   "id": "8ff84189-c41b-4d42-a8cb-6ba8360637c8",
   "metadata": {},
   "source": [
    "Sets\n",
    "\n",
    "Sets are collections that are unordered and mutable. Sets are defined using curly braces {}. Here’s a breakdown of the key characteristics and operations associated with sets:\n",
    "\n",
    "Unordered: The items in a set do not have a defined order. Set items can appear in a different order every time you use them and cannot be referred to by index or key.\n",
    "\n",
    "Mutable: You can add and remove items from a set after its creation. However, every item in a set must be hashable (proper value and index), and sets can't be used as items in other sets.\n",
    "\n",
    "Sets are useful for storing unique items and performing common set operations like unions, intersections, differences, and symmetric differences.  Now, let's explore the various ways of creating sets.\n",
    "\n",
    "Sets are created using curly braces {} or the set() constructor\n",
    "\n"
   ]
  },
  {
   "cell_type": "markdown",
   "id": "484ad2e1-c9a2-406a-bfeb-6401394e4d76",
   "metadata": {},
   "source": [
    "set not follow indexing... index is not a object of set"
   ]
  },
  {
   "cell_type": "code",
   "execution_count": null,
   "id": "dabe0c38-ed18-4e34-8c10-c4442f2a1e53",
   "metadata": {},
   "outputs": [],
   "source": [
    "\n",
    "example_set = {1, 2, 3}\n",
    "print(example_set[0])"
   ]
  },
  {
   "cell_type": "markdown",
   "id": "d1dcdb05-0eb2-4c01-9130-e80c731aad19",
   "metadata": {},
   "source": [
    "convert the set to a list or a tuple---to access index"
   ]
  },
  {
   "cell_type": "code",
   "execution_count": null,
   "id": "c374568c-c0cd-4a80-b074-aa4830e68e92",
   "metadata": {},
   "outputs": [],
   "source": [
    "example_set = {'apple', 'banana', 'cherry'}\n",
    "example_list = list(example_set)\n",
    "print(example_list) \n",
    "print(example_list[0])"
   ]
  },
  {
   "cell_type": "markdown",
   "id": "f5fdded5-678f-4023-bf63-9e3ea20f2070",
   "metadata": {},
   "source": [
    "Manipulating sets involves adding, removing, updating, and performing set-specific operations to modify the contents of sets"
   ]
  },
  {
   "cell_type": "code",
   "execution_count": null,
   "id": "f49a6fc3-cbcf-4203-a8d5-612d191af146",
   "metadata": {},
   "outputs": [],
   "source": [
    "example_set = set()\n",
    "example_set.add('apple')\n",
    "print(example_set)"
   ]
  },
  {
   "cell_type": "code",
   "execution_count": null,
   "id": "bbd32ca3-c0e7-4883-a613-1da779173494",
   "metadata": {},
   "outputs": [],
   "source": [
    "example_set = {'apple'}\n",
    "example_set.add('orange')\n",
    "print(example_set)"
   ]
  },
  {
   "cell_type": "code",
   "execution_count": null,
   "id": "b5c2e419-8eb8-4237-a5c6-36b745ff8148",
   "metadata": {},
   "outputs": [],
   "source": [
    "example_set = set()\n",
    "example_list = ['apple', 'orange', 'cherry', 'banana']    #we cannot add a list into the set\n",
    "example_set.add(example_list)\n",
    "print(example_set)\n"
   ]
  },
  {
   "cell_type": "code",
   "execution_count": null,
   "id": "c6a943c7-7b68-4af1-af4b-1402f7c1a996",
   "metadata": {},
   "outputs": [],
   "source": [
    "example_set = set()\n",
    "example_list = ['apple', 'orange', 'cherry', 'banana']    #But if we use the .update() function, instead of adding the list to the set, it updates the set with items from the list. \n",
    "example_set.update(example_list)\n",
    "print(example_set)\n"
   ]
  },
  {
   "cell_type": "code",
   "execution_count": null,
   "id": "37b3c4fe-f4bc-4da9-8dc0-22c1c31497c6",
   "metadata": {},
   "outputs": [],
   "source": [
    "example_set = {'apple'}\n",
    "example_list = ['apple', 'orange', 'cherry', 'banana']  #removes duplicate\n",
    "example_set.update(example_list)\n",
    "print(example_set)\n",
    "print(type(example_set))\n"
   ]
  },
  {
   "cell_type": "code",
   "execution_count": null,
   "id": "774284af-b60b-4ab3-8209-0567e106dbbd",
   "metadata": {},
   "outputs": [],
   "source": [
    "example_set = {'apple', 'orange', 'cherry', 'banana'}\n",
    "example_set.remove('banana')\n",
    "print(example_set)\n"
   ]
  },
  {
   "cell_type": "code",
   "execution_count": null,
   "id": "5ba2c6e7-1111-4e26-82f7-e9f79a4363e0",
   "metadata": {},
   "outputs": [],
   "source": [
    "example_set = {'apple', 'orange', 'cherry'}\n",
    "example_set.remove('banana')\n",
    "print(example_set)\n"
   ]
  },
  {
   "cell_type": "code",
   "execution_count": null,
   "id": "5e418f2a-88ec-4cce-9881-5cc1f6745f83",
   "metadata": {},
   "outputs": [],
   "source": [
    "example_set = {'apple', 'orange', 'cherry'}\n",
    "example_set.discard('banana')\n",
    "print(example_set)\n"
   ]
  },
  {
   "cell_type": "code",
   "execution_count": null,
   "id": "52161ea3-a08a-4127-afbc-748e7e736776",
   "metadata": {},
   "outputs": [],
   "source": [
    "if the item is not present remove() shows error. but discard doesnot show error"
   ]
  },
  {
   "cell_type": "code",
   "execution_count": null,
   "id": "4ff6c31f-d492-49e2-9f08-faadfc07abea",
   "metadata": {},
   "outputs": [],
   "source": [
    "set1 = {1, 2, 3, 3}\n",
    "set3 = {4, 5, 6}\n",
    "print(set1.union(set3))"
   ]
  },
  {
   "cell_type": "code",
   "execution_count": null,
   "id": "7d177c56-1c74-4dfd-bf3c-56fcc53de218",
   "metadata": {},
   "outputs": [],
   "source": [
    "set1 = {1, 2, 3, 3}\n",
    "set3 = {4, 5, 6}\n",
    "print(set1 | set3)\n"
   ]
  },
  {
   "cell_type": "code",
   "execution_count": null,
   "id": "7de015f3-0a14-4bae-a88b-0e0aec7ca539",
   "metadata": {},
   "outputs": [],
   "source": [
    "#set operation\n",
    "A={0,2,4,6,8}\n",
    "B={1,2,3,4,5}\n",
    "print(\"A|B:\",A|B)\n",
    "print(\"A union B:\",A.union(B))   # here A is a object B is get as a parameter"
   ]
  },
  {
   "cell_type": "code",
   "execution_count": null,
   "id": "17457e0b-7391-443e-a2df-fbb7e72c0d4c",
   "metadata": {},
   "outputs": [],
   "source": [
    "\n",
    "set1 = {1, 2, 3}\n",
    "set4 = {2, 3, 4}\n",
    "print(set1.intersection(set4))"
   ]
  },
  {
   "cell_type": "code",
   "execution_count": null,
   "id": "da91426a-994f-4398-bef3-f01291b9a2a3",
   "metadata": {},
   "outputs": [],
   "source": [
    "set1 = {1, 2, 3}\n",
    "set4 = {2, 3, 4}\n",
    "print(set1 & set4)"
   ]
  },
  {
   "cell_type": "code",
   "execution_count": null,
   "id": "bc786c44-5438-4055-9bcc-c6ffc45b69b9",
   "metadata": {},
   "outputs": [],
   "source": [
    "#set operator\n",
    "A={0,2,4,6,8}\n",
    "B={1,2,3,4,5}\n",
    "print(\"A & B:\",A & B)\n",
    "print(\"A intersection B\",A.intersection(B))"
   ]
  },
  {
   "cell_type": "code",
   "execution_count": null,
   "id": "70ff9220-9c85-4ad1-ad56-16099eded604",
   "metadata": {},
   "outputs": [],
   "source": [
    "#set operator\n",
    "# removing all elements of set b from set a....#only A elements\n",
    "A={0,2,4,6,8}\n",
    "B={1,2,3,4,5}\n",
    "print(\"A - B:\",A-B)\n",
    "print(\"Difference output:\",A.difference(B)) # both the result same.\n",
    "  "
   ]
  },
  {
   "cell_type": "code",
   "execution_count": null,
   "id": "081ecb39-9e1a-4e1a-85fb-d914c72e7c6c",
   "metadata": {},
   "outputs": [],
   "source": [
    "set1 = {1, 2, 3}\n",
    "set5 = {2, 3}\n",
    "print(set1.difference(set5))  "
   ]
  },
  {
   "cell_type": "code",
   "execution_count": null,
   "id": "fa34a340-4299-4b58-8238-b2a4d6b17050",
   "metadata": {},
   "outputs": [],
   "source": [
    "\n",
    "set1 = {1, 2, 3}\n",
    "set5 = {2, 3}\n",
    "print((set1 - set5))\n"
   ]
  },
  {
   "cell_type": "code",
   "execution_count": null,
   "id": "fca4cc1c-4040-4b9a-bbda-7504bdc97895",
   "metadata": {},
   "outputs": [],
   "source": [
    "\n",
    "set1 = {1, 2, 3}\n",
    "set5 = {2, 3,4}\n",
    "print((set1 - set5))\n"
   ]
  },
  {
   "cell_type": "code",
   "execution_count": null,
   "id": "201f92fb-1564-48cc-9eb7-8c666507a62e",
   "metadata": {},
   "outputs": [],
   "source": [
    "\n",
    "set1 = {1, 2, 3}\n",
    "set6 = {2, 3,4}\n",
    "print(set1.symmetric_difference(set6))"
   ]
  },
  {
   "cell_type": "code",
   "execution_count": null,
   "id": "245c3410-ec3a-4bfb-86f3-5382d0d19759",
   "metadata": {},
   "outputs": [],
   "source": [
    "\n",
    "set1 = {1, 2, 3}\n",
    "set6 = {2, 3,4}\n",
    "print((set1^set6))"
   ]
  },
  {
   "cell_type": "code",
   "execution_count": null,
   "id": "eaf024d6-a413-41c9-9998-bba57f4d0502",
   "metadata": {},
   "outputs": [],
   "source": [
    "set1 = {1, 2, 3}\n",
    "set6 = {4, 5, 6}\n",
    "print(set1.isdisjoint(set6))       ###there is no common value means true or else false"
   ]
  },
  {
   "cell_type": "markdown",
   "id": "f11fc167-134e-43a9-b675-0b7f069808ed",
   "metadata": {},
   "source": [
    "Ungraded Assessment"
   ]
  },
  {
   "cell_type": "code",
   "execution_count": null,
   "id": "2784401a-d17f-44f1-9e13-abe25c73399a",
   "metadata": {},
   "outputs": [],
   "source": [
    "weight_of_rabbits = {1.5, 2.0, 1.8, 2.2, 1.9, 1.7, 2.5, 1.9, 2.1, 2.3, 2.0, 2.4}\n",
    "len(weight_of_rabbits)"
   ]
  },
  {
   "cell_type": "code",
   "execution_count": null,
   "id": "fe3df147-3867-4ed9-8fe4-f40874a0604b",
   "metadata": {},
   "outputs": [],
   "source": [
    "current_emp_names = {'Aditya', 'Manoj', 'Eric', 'Sanju', 'Tanveer'}"
   ]
  },
  {
   "cell_type": "code",
   "execution_count": null,
   "id": "db3b5764-86c0-489b-8cbb-8026dbfaac7a",
   "metadata": {},
   "outputs": [],
   "source": [
    "current_emp_names.add('Rashi')\n",
    "current_emp_names.discard('Aditya')"
   ]
  },
  {
   "cell_type": "code",
   "execution_count": null,
   "id": "59b441dd-af3e-4cae-9bcc-81b9f512a240",
   "metadata": {},
   "outputs": [],
   "source": [
    "current_emp_names"
   ]
  },
  {
   "cell_type": "code",
   "execution_count": null,
   "id": "5119daf6-61c1-4943-919f-acf252a1cbbc",
   "metadata": {},
   "outputs": [],
   "source": [
    "current_emp_names = {'Aditya', 'Manoj', 'Eric', 'Sanju', 'Tanveer'}"
   ]
  },
  {
   "cell_type": "code",
   "execution_count": null,
   "id": "81c8e444-8ab6-4446-a9f5-09511bf17488",
   "metadata": {},
   "outputs": [],
   "source": [
    "current_emp_names.update('Rashi')\n",
    "current_emp_names.discard('Aditya')"
   ]
  },
  {
   "cell_type": "code",
   "execution_count": null,
   "id": "70a9fc0d-4ae0-430b-a73d-3c9dc90eea2f",
   "metadata": {},
   "outputs": [],
   "source": [
    "current_emp_names"
   ]
  },
  {
   "cell_type": "code",
   "execution_count": null,
   "id": "c67c0b0e-1363-4b81-b052-38acb510ac70",
   "metadata": {},
   "outputs": [],
   "source": [
    "current_emp_names = {'Aditya', 'Manoj', 'Eric', 'Sanju', 'Tanveer'}"
   ]
  },
  {
   "cell_type": "code",
   "execution_count": null,
   "id": "fea472dd-239a-497b-9db3-92fe55fbd659",
   "metadata": {},
   "outputs": [],
   "source": [
    "current_emp_names.add('Rashi')    ## so use add and remove for adding and removing data\n",
    "current_emp_names.remove('Aditya')"
   ]
  },
  {
   "cell_type": "code",
   "execution_count": null,
   "id": "d3ed5183-0d99-4536-83eb-1f4c4dd51a8e",
   "metadata": {},
   "outputs": [],
   "source": [
    "current_emp_names"
   ]
  },
  {
   "cell_type": "code",
   "execution_count": null,
   "id": "c3937b1a-5ccd-44b1-9a6f-a5055a275613",
   "metadata": {},
   "outputs": [],
   "source": [
    "current_emp_names = {'Aditya', 'Manoj', 'Eric', 'Sanju', 'Tanveer'}"
   ]
  },
  {
   "cell_type": "code",
   "execution_count": null,
   "id": "8fce1cb8-b68c-478a-bb72-e25643ccf8dc",
   "metadata": {},
   "outputs": [],
   "source": [
    "current_emp_names.update('Rashi')      ## update -- char by char update\n",
    "current_emp_names.discard('Aditya')"
   ]
  },
  {
   "cell_type": "code",
   "execution_count": null,
   "id": "9458c8fa-f7ac-49cd-88ac-af5514d6fca8",
   "metadata": {},
   "outputs": [],
   "source": [
    "current_emp_names"
   ]
  },
  {
   "cell_type": "markdown",
   "id": "58fa8d0e-22bc-4a5b-aab3-fb5047b3b282",
   "metadata": {},
   "source": [
    "key-value pairs as tuples, you can use the .items() method."
   ]
  },
  {
   "cell_type": "code",
   "execution_count": null,
   "id": "0c141229-146c-4f2e-a7b4-58016d162543",
   "metadata": {},
   "outputs": [],
   "source": [
    "person = {'name': 'John', 'age': 30}\n",
    "items = person.items() \n",
    "print(items)\n",
    "print(type(items))"
   ]
  },
  {
   "cell_type": "markdown",
   "id": "138a1c28-531a-4b63-8fd3-9e4e16e2e9b4",
   "metadata": {},
   "source": [
    "popitem() last dict keys and value pair removed"
   ]
  },
  {
   "cell_type": "markdown",
   "id": "673731c7-ab58-4c10-871d-d83204f09ffc",
   "metadata": {},
   "source": [
    "Creating dictionaries from other data structures\n",
    "\n",
    "You can convert other data structures, like lists, tuples, or sets into dictionaries. using dict()"
   ]
  },
  {
   "cell_type": "code",
   "execution_count": null,
   "id": "5b85c2d0-a359-4624-9c2f-088694f2c72a",
   "metadata": {},
   "outputs": [],
   "source": [
    "list_of_tuples = [('apple', 1), ('banana', 2), ('cherry', 3)]\n",
    "fruits_dict = dict(list_of_tuples)\n",
    "print(fruits_dict)"
   ]
  },
  {
   "cell_type": "markdown",
   "id": "100b1d33-6353-4911-84c0-49cfd68d57da",
   "metadata": {},
   "source": [
    "can create a dictionary from two lists"
   ]
  },
  {
   "cell_type": "code",
   "execution_count": null,
   "id": "1a2ea727-94f6-43bc-83bd-3584cfd35db9",
   "metadata": {},
   "outputs": [],
   "source": [
    "keys = ['name', 'age', 'city']\n",
    "values = ['Alice', 25, 'London']                       #The zip() function combines corresponding items from the keys and values lists into tuples\n",
    "from_lists_dict = dict(zip(keys, values))\n",
    "print(from_lists_dict)"
   ]
  },
  {
   "cell_type": "code",
   "execution_count": null,
   "id": "d39f89cc-2d47-4deb-ad8f-3a9625175a20",
   "metadata": {},
   "outputs": [],
   "source": [
    "l1 = [\"a\", \"b\", \"c\"]\n",
    "l2 = [1, 2, 3]\n",
    "\n",
    "dict(zip(l1, l2))"
   ]
  },
  {
   "cell_type": "code",
   "execution_count": null,
   "id": "be28773c-57e4-460e-80b6-08682ce8d9af",
   "metadata": {},
   "outputs": [],
   "source": [
    "tuple_list = [(\"a\", 1), (\"b\", 2), (\"c\", 3)]\n",
    "\n",
    "dict(tuple_list)"
   ]
  },
  {
   "cell_type": "code",
   "execution_count": null,
   "id": "e9367da0-e02e-430a-9c7a-7a1ad2d42de5",
   "metadata": {},
   "outputs": [],
   "source": [
    "list_of_lists = [[\"a\", 1], [\"b\", 2], [\"c\", 3]]\n",
    "\n",
    "dict(list_of_lists)"
   ]
  },
  {
   "cell_type": "code",
   "execution_count": null,
   "id": "85553c1e-d01c-49c5-94b5-2026d85791ad",
   "metadata": {},
   "outputs": [],
   "source": [
    "l1 = (\"a\", \"b\", \"c\")\n",
    "l2 = (1, 2, 3)\n",
    "\n",
    "dict(zip(l1, l2))\n"
   ]
  },
  {
   "attachments": {
    "17e671a0-00ba-4d17-a787-571d38d9b76b.png": {
     "image/png": "[encoded data removed]"
    },
    "72eb93f0-332a-4deb-bc14-93d6ca0fda0b.png": {
     "image/png": "[encoded data removed]"
    }
   },
   "cell_type": "markdown",
   "id": "a3040692-d539-4292-8111-84794fbc5dca",
   "metadata": {},
   "source": [
    "![image.png](attachment:17e671a0-00ba-4d17-a787-571d38d9b76b.png)![image.png](attachment:72eb93f0-332a-4deb-bc14-93d6ca0fda0b.png)"
   ]
  },
  {
   "cell_type": "markdown",
   "id": "47dc6065-0c7b-427f-a4b7-a2603f821521",
   "metadata": {},
   "source": [
    "immutable of tuple"
   ]
  },
  {
   "cell_type": "code",
   "execution_count": null,
   "id": "6e01ba4d-ae68-4c0c-9590-a624271e48fe",
   "metadata": {},
   "outputs": [],
   "source": [
    "t=('USA',4,3,\"DISCO\",7.5) ## tuple has mixed element     for index 3 disco\n",
    "t[3]='Hardwork'"
   ]
  },
  {
   "cell_type": "markdown",
   "id": "8d870fb4-4ef5-40f1-bbf1-6faa77facc76",
   "metadata": {},
   "source": [
    "how to change the elements to the tuple. it is immutable by using slicing"
   ]
  },
  {
   "cell_type": "code",
   "execution_count": null,
   "id": "24fe9b2b-325f-47e0-8bbb-8bc5b9ca5590",
   "metadata": {},
   "outputs": [],
   "source": [
    "new_t=t[0:3]+('Hardwork',)+t[4:]         #disco is converted to hardwork\n",
    "new_t"
   ]
  },
  {
   "cell_type": "code",
   "execution_count": null,
   "id": "1e65f24d-7ad1-4bbf-ae55-59050fd5500e",
   "metadata": {},
   "outputs": [],
   "source": [
    "t=1,        #,it becomes tuple"
   ]
  },
  {
   "cell_type": "code",
   "execution_count": null,
   "id": "8cab797c-a2fc-4be0-8ad5-3995898bba77",
   "metadata": {},
   "outputs": [],
   "source": [
    "t"
   ]
  },
  {
   "cell_type": "markdown",
   "id": "8fa29d8a-a396-45ac-8c53-9f600132285c",
   "metadata": {},
   "source": [
    "it shows all the attributes of an oject.. it is tuple attributes and methds"
   ]
  },
  {
   "cell_type": "code",
   "execution_count": null,
   "id": "d7493a57-36fa-4962-938e-7ceac65d6d4f",
   "metadata": {},
   "outputs": [],
   "source": [
    "t=()\n",
    "print(dir(t))"
   ]
  },
  {
   "cell_type": "code",
   "execution_count": null,
   "id": "d1d40b15-fad4-4f3f-a319-32768bc8876e",
   "metadata": {},
   "outputs": [],
   "source": [
    "t = (1,5,\"Disco\", (\"Python\", \"Java\"))\n",
    "type(t[3])\n",
    "tuple"
   ]
  },
  {
   "cell_type": "code",
   "execution_count": null,
   "id": "affc42c9-6667-4b51-b5cd-1062fffcedf0",
   "metadata": {},
   "outputs": [],
   "source": [
    "t = (\"disco\", 12, 4.5)\n",
    "t[0][2]"
   ]
  },
  {
   "cell_type": "code",
   "execution_count": null,
   "id": "365e4229-9eff-4b53-8a5a-8e4d45092c14",
   "metadata": {},
   "outputs": [],
   "source": [
    "t = (1, 2, 4, 3)\n",
    "print(t[4:-1])"
   ]
  },
  {
   "cell_type": "code",
   "execution_count": null,
   "id": "caac9be0-af72-4fd1-ace4-52902fbac0be",
   "metadata": {},
   "outputs": [],
   "source": [
    "t = (1, 2, 4, 3)\n",
    "t[4]"
   ]
  },
  {
   "cell_type": "code",
   "execution_count": null,
   "id": "87089925-7c5a-4264-8dd4-33e3fb54223c",
   "metadata": {},
   "outputs": [],
   "source": [
    "t[3]=5"
   ]
  },
  {
   "cell_type": "code",
   "execution_count": null,
   "id": "d32d8dfa-99bf-45d4-8f4a-6f0143158357",
   "metadata": {},
   "outputs": [],
   "source": [
    "x=('2',)"
   ]
  },
  {
   "cell_type": "code",
   "execution_count": null,
   "id": "ee6879b3-d18e-4513-9221-12c0ed53ede0",
   "metadata": {},
   "outputs": [],
   "source": [
    "type(x)"
   ]
  },
  {
   "cell_type": "code",
   "execution_count": null,
   "id": "efb05cfb-5f5d-4e26-bd94-040517eff215",
   "metadata": {},
   "outputs": [],
   "source": [
    "x=1,2,"
   ]
  },
  {
   "cell_type": "code",
   "execution_count": null,
   "id": "f274e1fe-e78e-49e5-ab3a-71745f4f6c29",
   "metadata": {},
   "outputs": [],
   "source": [
    "type(x)"
   ]
  },
  {
   "cell_type": "code",
   "execution_count": null,
   "id": "4314154e-5e9d-41e6-bbb5-c28aceb1fa53",
   "metadata": {},
   "outputs": [],
   "source": [
    "x = ((1,2,3), 4,5)"
   ]
  },
  {
   "cell_type": "code",
   "execution_count": null,
   "id": "9110ed6d-aefe-4db4-8f54-ccb8dbb9d6c0",
   "metadata": {},
   "outputs": [],
   "source": [
    "type(x)"
   ]
  },
  {
   "cell_type": "code",
   "execution_count": null,
   "id": "31cb6815-5f11-442a-a15a-aefc12fcbcb2",
   "metadata": {},
   "outputs": [],
   "source": [
    "x = (Hello,'2','3')"
   ]
  },
  {
   "cell_type": "code",
   "execution_count": null,
   "id": "4bbc61f7-05b6-426b-80d7-f5d500fcaafd",
   "metadata": {},
   "outputs": [],
   "source": [
    "x = ('Hello',2,3)"
   ]
  },
  {
   "cell_type": "code",
   "execution_count": null,
   "id": "eabf0fa3-2bb9-41ea-bce0-fce787d5a1d0",
   "metadata": {},
   "outputs": [],
   "source": [
    "type(x)"
   ]
  },
  {
   "cell_type": "markdown",
   "id": "3843ed70-936c-484e-a6b5-b20bc3d62225",
   "metadata": {},
   "source": [
    "Which of the following declarations can be used to create a Python tuple? (More than one option may be correct.)\n",
    "x = (Hello,'2','3')  ## doubt this option is wrong"
   ]
  },
  {
   "cell_type": "markdown",
   "id": "dd54993e-0bdc-4b2e-8651-00377f6840bc",
   "metadata": {},
   "source": [
    "in list it is muttable.. it has 2 function extend() and append() .. if u use extend some list it will add but it take it as individual element.\n",
    "but if u use append it add like list itself."
   ]
  },
  {
   "cell_type": "code",
   "execution_count": null,
   "id": "6f9cd670-712b-4c1e-bcf2-d36759c020d7",
   "metadata": {},
   "outputs": [],
   "source": [
    "L=['chemistry','physics',[1980,1984],('cat','mouse')]"
   ]
  },
  {
   "cell_type": "code",
   "execution_count": null,
   "id": "15b88869-7419-43cd-9602-11845a4e5a6d",
   "metadata": {},
   "outputs": [],
   "source": [
    "L"
   ]
  },
  {
   "cell_type": "code",
   "execution_count": null,
   "id": "80e8b1c4-45a0-468a-9377-ecfced699a27",
   "metadata": {},
   "outputs": [],
   "source": [
    "#extend()\n",
    "L=['chemistry','physics',[1980,1984],('cat','mouse')]\n",
    "L.extend([5,8])"
   ]
  },
  {
   "cell_type": "code",
   "execution_count": null,
   "id": "ef6ad361-9a3d-4d4a-8539-9492b0cac46b",
   "metadata": {},
   "outputs": [],
   "source": [
    "L"
   ]
  },
  {
   "cell_type": "code",
   "execution_count": null,
   "id": "19f040a3-7616-4b44-8d53-444744921c5d",
   "metadata": {},
   "outputs": [],
   "source": [
    "#append\n",
    "L=['chemistry','physics',[1980,1984],('cat','mouse')]\n",
    "L.append([5,8])\n",
    "L"
   ]
  },
  {
   "cell_type": "code",
   "execution_count": null,
   "id": "52012ae9-1d9b-40a8-9d80-6bc3e4f30635",
   "metadata": {},
   "outputs": [],
   "source": [
    "#extend()\n",
    "L=['chemistry','physics',[1980,1984],('cat','mouse')]\n",
    "L.extend((5,8))\n",
    "L"
   ]
  },
  {
   "cell_type": "code",
   "execution_count": null,
   "id": "6823822c-d24b-41b7-9b55-9d72d9266dcb",
   "metadata": {},
   "outputs": [],
   "source": [
    "L=['chemistry','physics',[1980,1984],('cat','mouse')]\n",
    "L.append((5,8))\n",
    "L"
   ]
  },
  {
   "cell_type": "markdown",
   "id": "7938845d-f893-4f06-8303-5915899c7587",
   "metadata": {},
   "source": [
    "#difference between sort() and sorted()\n",
    "the sort() function return none\n",
    "sorted() return the ordered values"
   ]
  },
  {
   "cell_type": "code",
   "execution_count": null,
   "id": "e5c63745-ed93-4805-ae72-5bb2237787de",
   "metadata": {},
   "outputs": [],
   "source": [
    "A=['grapes', 'orange', 'apple']\n",
    "B=A.sort()\n",
    "print(A)\n",
    "print(B)"
   ]
  },
  {
   "cell_type": "code",
   "execution_count": null,
   "id": "f5d152ef-95c1-4d0d-8044-8b0e90b0705e",
   "metadata": {},
   "outputs": [],
   "source": [
    "A=['grapes', 'orange', 'apple']\n",
    "B=sorted(A)\n",
    "print(A)\n",
    "print(B)"
   ]
  },
  {
   "cell_type": "code",
   "execution_count": null,
   "id": "00c4d34c-1829-4530-af49-cafa8e96ad3b",
   "metadata": {},
   "outputs": [],
   "source": [
    "nums = set([1,1,2,3,3,3,4])\n",
    "print(len(nums))"
   ]
  },
  {
   "cell_type": "code",
   "execution_count": null,
   "id": "ba2a4863-2096-4a7f-8c05-71982d04c5b1",
   "metadata": {},
   "outputs": [],
   "source": [
    "odd={1,3,5,7,9}\n",
    "even={2,4,6,8,0}\n",
    "prime={2,3,5,7,11}\n",
    "set1=odd.union(even)\n",
    "set2=set1.difference(prime)\n",
    "print(set2)"
   ]
  },
  {
   "cell_type": "code",
   "execution_count": null,
   "id": "6a83e7c8-92ff-42cb-a685-14fbb909e773",
   "metadata": {},
   "outputs": [],
   "source": [
    "s = {1, 2, 4}\n",
    "s.add(3)\n",
    "s.remove(2)\n",
    "s"
   ]
  },
  {
   "cell_type": "code",
   "execution_count": null,
   "id": "c7488822-241b-440b-abf7-d0eabfda5e11",
   "metadata": {},
   "outputs": [],
   "source": [
    "set('banana')"
   ]
  },
  {
   "cell_type": "code",
   "execution_count": null,
   "id": "e4f6fef7-8377-4371-a3e4-5d7f4a8cbed5",
   "metadata": {},
   "outputs": [],
   "source": [
    "x='DataScience'\n",
    "print(len(x))\n"
   ]
  },
  {
   "cell_type": "code",
   "execution_count": null,
   "id": "225815e5-ed18-4d3c-ab54-fdad70a3c9ee",
   "metadata": {},
   "outputs": [],
   "source": [
    "x=str(input())\n",
    "print(len(x))\n"
   ]
  },
  {
   "cell_type": "markdown",
   "id": "e101e62d-bbc9-41cd-bb6c-6a9aee73bfcb",
   "metadata": {},
   "source": [
    "Write a Python program to reverse the given string and convert the lower case to upper case and vice-versa.\n",
    "\n",
    "Sample Input:\n",
    "\n",
    "Python Programming\n",
    "\n",
    "Sample Output: \n",
    "\n",
    "GNIMMARGORp NOHTYp"
   ]
  },
  {
   "cell_type": "code",
   "execution_count": 5,
   "id": "d14fc2bd-653a-49af-b669-e4e6bbd51975",
   "metadata": {},
   "outputs": [
    {
     "name": "stdin",
     "output_type": "stream",
     "text": [
      " Python Programming\n"
     ]
    },
    {
     "name": "stdout",
     "output_type": "stream",
     "text": [
      "GNIMMARGORp NOHTYp\n"
     ]
    }
   ],
   "source": [
    "x=str(input())\n",
    "x=x[::-1].swapcase()\n",
    "print(x)"
   ]
  },
  {
   "cell_type": "markdown",
   "id": "90b6af54-417b-4867-8fcf-20f93b8df824",
   "metadata": {},
   "source": [
    " Python Control Structures module!"
   ]
  },
  {
   "cell_type": "code",
   "execution_count": null,
   "id": "974dbf67-aad9-4256-a37a-b3e3e949e2dc",
   "metadata": {},
   "outputs": [],
   "source": []
  }
 ],
 "metadata": {
  "kernelspec": {
   "display_name": "Python [conda env:base] *",
   "language": "python",
   "name": "conda-base-py"
  },
  "language_info": {
   "codemirror_mode": {
    "name": "ipython",
    "version": 3
   },
   "file_extension": ".py",
   "mimetype": "text/x-python",
   "name": "python",
   "nbconvert_exporter": "python",
   "pygments_lexer": "ipython3",
   "version": "3.12.7"
  }
 },
 "nbformat": 4,
 "nbformat_minor": 5
}
