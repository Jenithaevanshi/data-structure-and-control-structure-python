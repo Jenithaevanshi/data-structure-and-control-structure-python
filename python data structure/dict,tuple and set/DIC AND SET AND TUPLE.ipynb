{
 "cells": [
  {
   "cell_type": "markdown",
   "id": "45ea596a-7095-456d-aba5-c252bf802ca5",
   "metadata": {},
   "source": [
    "# Dictionaries\n",
    "A dictionary is a data type in Python that stores data in key-value pairs. It has a structure like a a traditional dictionary where words correspond to their definitions. They are indexed by keys, unordered, mutable, and does not allow duplicates.\n",
    "\n",
    "Each element in a dictionary consists of a key and its corresponding value:\n",
    "- **Keys** are unique, immutable, and are used for indexing\n",
    "- **Values** can be of any data type, including other dictionaries"
   ]
  },
  {
   "cell_type": "markdown",
   "id": "08124a60-8b34-43a7-ac23-4b0dc6f5b502",
   "metadata": {},
   "source": [
    "## Creating dictionaries\n",
    "Dictionaries can be created using curly braces `{}` or the `dict()` constructor"
   ]
  },
  {
   "cell_type": "markdown",
   "id": "b92a2177-6155-4a8f-beb9-f974534f2f85",
   "metadata": {},
   "source": [
    "### Example\n",
    "Creating empty dictionaries"
   ]
  },
  {
   "cell_type": "code",
   "execution_count": null,
   "id": "11a5037e-e207-493b-a38c-576d011b2b3e",
   "metadata": {},
   "outputs": [],
   "source": [
    "numbers = {}"
   ]
  },
  {
   "cell_type": "code",
   "execution_count": null,
   "id": "cc867577-fb63-4c0b-a429-6b5420ac0c42",
   "metadata": {},
   "outputs": [],
   "source": [
    "numbers"
   ]
  },
  {
   "cell_type": "code",
   "execution_count": null,
   "id": "db33e638-1c57-4b8c-a86f-332d29e03e8b",
   "metadata": {},
   "outputs": [],
   "source": [
    "print(numbers)"
   ]
  },
  {
   "cell_type": "code",
   "execution_count": null,
   "id": "987f78ba-271a-4d04-bf90-b6c53c42bc6d",
   "metadata": {},
   "outputs": [],
   "source": [
    "type(numbers)"
   ]
  },
  {
   "cell_type": "code",
   "execution_count": null,
   "id": "06ca0c09-797f-471a-bd1f-d45954a2c927",
   "metadata": {},
   "outputs": [],
   "source": [
    "numbers = dict()"
   ]
  },
  {
   "cell_type": "code",
   "execution_count": null,
   "id": "e5da00d8-ebdf-47fa-b972-2c6c8628b141",
   "metadata": {},
   "outputs": [],
   "source": [
    "numbers"
   ]
  },
  {
   "cell_type": "code",
   "execution_count": null,
   "id": "b5eb1b11-4eef-4479-bd2b-f682d79d23f1",
   "metadata": {},
   "outputs": [],
   "source": [
    "type(numbers)"
   ]
  },
  {
   "cell_type": "code",
   "execution_count": null,
   "id": "bf1fb79c-db02-4fdd-a916-d1a3c45543af",
   "metadata": {},
   "outputs": [],
   "source": [
    "print(numbers)"
   ]
  },
  {
   "cell_type": "markdown",
   "id": "6aab79f4-b08c-49bc-af3f-dba5776e3eb0",
   "metadata": {},
   "source": [
    "Example\n",
    "\n",
    "Creating non-empty dictionaries"
   ]
  },
  {
   "cell_type": "code",
   "execution_count": null,
   "id": "eaf271a4-377d-462e-a68a-e39cc5120510",
   "metadata": {},
   "outputs": [],
   "source": [
    "number = {'x': 0}"
   ]
  },
  {
   "cell_type": "code",
   "execution_count": null,
   "id": "be2c25b2-995a-4ed1-83b6-0f596edbcf53",
   "metadata": {},
   "outputs": [],
   "source": [
    "number"
   ]
  },
  {
   "cell_type": "code",
   "execution_count": null,
   "id": "2ad92058-464d-4895-bde4-9cf79abd71a5",
   "metadata": {},
   "outputs": [],
   "source": [
    "print(number)"
   ]
  },
  {
   "cell_type": "code",
   "execution_count": null,
   "id": "55e99826-ce3d-459f-83a7-079f4b2dc723",
   "metadata": {},
   "outputs": [],
   "source": [
    "type(number)"
   ]
  },
  {
   "cell_type": "code",
   "execution_count": null,
   "id": "d589feaf-2a0f-4b7f-9cb5-4e4fe7e172fc",
   "metadata": {},
   "outputs": [],
   "source": [
    "numbers = dict(x = 0)"
   ]
  },
  {
   "cell_type": "code",
   "execution_count": null,
   "id": "98a5f56d-41af-45ec-bfc2-e7c72dd7f529",
   "metadata": {},
   "outputs": [],
   "source": [
    "numbers"
   ]
  },
  {
   "cell_type": "code",
   "execution_count": null,
   "id": "42d9781a-4446-4be6-b3cd-15183e6387bf",
   "metadata": {},
   "outputs": [],
   "source": [
    "type(numbers)"
   ]
  },
  {
   "cell_type": "code",
   "execution_count": null,
   "id": "494833d2-ec90-4c1a-bf22-4ee816eeebcd",
   "metadata": {},
   "outputs": [],
   "source": [
    "print(numbers)"
   ]
  },
  {
   "cell_type": "code",
   "execution_count": null,
   "id": "762f0a88-7c92-462e-8778-d8340d454dcb",
   "metadata": {},
   "outputs": [],
   "source": [
    "numbers = {'x': 0, 'y': 5}"
   ]
  },
  {
   "cell_type": "code",
   "execution_count": null,
   "id": "04967c4b-d7fd-459b-8289-4c0adc444274",
   "metadata": {},
   "outputs": [],
   "source": [
    "numbers"
   ]
  },
  {
   "cell_type": "code",
   "execution_count": null,
   "id": "d0a986ba-ff3e-4faf-b1e7-4b0d0571bb42",
   "metadata": {},
   "outputs": [],
   "source": [
    "type(numbers)"
   ]
  },
  {
   "cell_type": "code",
   "execution_count": null,
   "id": "1055bf04-cad6-4a05-af91-b17218284589",
   "metadata": {},
   "outputs": [],
   "source": [
    "print(numbers)"
   ]
  },
  {
   "cell_type": "markdown",
   "id": "6dd3bfac-72e9-4e29-be55-26e29a8245bf",
   "metadata": {},
   "source": [
    "### Example\n",
    "Creating dictionaries with different data types as values"
   ]
  },
  {
   "cell_type": "code",
   "execution_count": null,
   "id": "0f58367c-0e6a-4e91-a1e5-e69d7420ee91",
   "metadata": {},
   "outputs": [],
   "source": [
    "person = {'name': 'Dinesh', 'age': 45, 'salary': 45800.67, 'married': True}"
   ]
  },
  {
   "cell_type": "code",
   "execution_count": null,
   "id": "27ac49fb-916d-4e7c-8df3-ae3fa04e4d20",
   "metadata": {},
   "outputs": [],
   "source": [
    "person"
   ]
  },
  {
   "cell_type": "raw",
   "id": "d559a53f-4830-4d00-8e64-a7bb0a99b4b7",
   "metadata": {},
   "source": [
    "person = {'name': 'Dinesh',\n",
    "          'age': 45,\n",
    "          'salary': 45800.67,\n",
    "          'married': True}"
   ]
  },
  {
   "cell_type": "code",
   "execution_count": null,
   "id": "3d1e5d47-388c-4a1f-94e0-cd1a3923d965",
   "metadata": {},
   "outputs": [],
   "source": [
    "print(person)"
   ]
  },
  {
   "cell_type": "code",
   "execution_count": null,
   "id": "2cbd58a0-22c8-41e2-90e2-1cc3573eb331",
   "metadata": {},
   "outputs": [],
   "source": [
    "type(person)"
   ]
  },
  {
   "cell_type": "code",
   "execution_count": null,
   "id": "720d46d1-27f0-4f5d-8d8e-7c4394bcb76a",
   "metadata": {},
   "outputs": [],
   "source": [
    "person = {'name': 'Dinesh', 'age': 45, 'salary': 45800.67, 'married': True, 'qualification': ['BE', 'MSc']}"
   ]
  },
  {
   "cell_type": "code",
   "execution_count": null,
   "id": "856d8af8-eced-46f7-817e-f8cd653a242e",
   "metadata": {},
   "outputs": [],
   "source": [
    "person"
   ]
  },
  {
   "cell_type": "code",
   "execution_count": null,
   "id": "c5ee65b0-2928-456b-8c5a-bbc8630565b4",
   "metadata": {},
   "outputs": [],
   "source": [
    "person = {'name': 'Dinesh', 'age': 45, 'salary': 45800.67, 'married': True, 'qualification': ('BE', 'MSc')}"
   ]
  },
  {
   "cell_type": "code",
   "execution_count": null,
   "id": "31b8c7fc-cd0d-4807-9e31-70ccd9e54059",
   "metadata": {},
   "outputs": [],
   "source": [
    "person"
   ]
  },
  {
   "cell_type": "code",
   "execution_count": null,
   "id": "5a1571c3-9cb0-497e-8aea-99ab9bb6ecaf",
   "metadata": {},
   "outputs": [],
   "source": [
    "person = {'name': 'Dinesh', 'age': 45, 'salary': 45800.67, 'married': True, 'qualification': {'BE', 'MSc'}}"
   ]
  },
  {
   "cell_type": "code",
   "execution_count": null,
   "id": "856194a3-c71a-4a93-ba93-93e60ab8899a",
   "metadata": {},
   "outputs": [],
   "source": [
    "person"
   ]
  },
  {
   "cell_type": "markdown",
   "id": "3c756ffb-b39d-44d2-848b-c1fb31e7cecb",
   "metadata": {},
   "source": [
    "### Example\n",
    "Creating dictionaries with different data types as keys"
   ]
  },
  {
   "cell_type": "code",
   "execution_count": null,
   "id": "2dab6513-1305-4373-82d0-a11a29e9c932",
   "metadata": {},
   "outputs": [],
   "source": [
    "person = {'name': 'Dinesh', 45: 'age', 45800.67: 'salary', True: 'married', ('BE', 'MSc') : 'qualification'}"
   ]
  },
  {
   "cell_type": "code",
   "execution_count": null,
   "id": "9a67bccb-a441-4c57-b825-0787ab71b689",
   "metadata": {},
   "outputs": [],
   "source": [
    "person"
   ]
  },
  {
   "cell_type": "markdown",
   "id": "4d0a64d7-c002-44e2-8272-871a2f320642",
   "metadata": {},
   "source": [
    "You will typically see dictionaries indexed by keys that generally serve the purpose of unique identification, such as strings or integers."
   ]
  },
  {
   "cell_type": "markdown",
   "id": "7b668987-94ee-4765-ac66-c1c6aee510e1",
   "metadata": {},
   "source": [
    "### Example\n",
    "Duplicates in dictionaries"
   ]
  },
  {
   "cell_type": "code",
   "execution_count": null,
   "id": "56f79a81-5cf8-45a0-bbaf-7706f00a5af9",
   "metadata": {},
   "outputs": [],
   "source": [
    "person = {'name': 'Dinesh', 'age': 30, 'married': True, 'age': 30}    # dic removes duplicates"
   ]
  },
  {
   "cell_type": "code",
   "execution_count": null,
   "id": "ab5422ae-adab-4f91-a285-04fae15e73d0",
   "metadata": {},
   "outputs": [],
   "source": [
    "person"
   ]
  },
  {
   "cell_type": "markdown",
   "id": "c3ef62da-abf8-4e6e-a62d-6394ef864d27",
   "metadata": {},
   "source": [
    "### Example\n",
    "Creating dictionaries with common default values using the `.from_keys()` method"
   ]
  },
  {
   "cell_type": "code",
   "execution_count": null,
   "id": "8e920b5c-6c75-4a3b-9ace-d001444a5d9c",
   "metadata": {},
   "outputs": [],
   "source": [
    "keys_list = ['a', 'b', 'c']\n",
    "default_value = '0'"
   ]
  },
  {
   "cell_type": "code",
   "execution_count": null,
   "id": "56491c2d-ef46-4362-a628-cf4d63e3f84d",
   "metadata": {},
   "outputs": [],
   "source": [
    "#dic(zip key value and default value)"
   ]
  },
  {
   "cell_type": "code",
   "execution_count": null,
   "id": "584bc86e-ad42-4912-b3bd-cd6ca5f9337e",
   "metadata": {},
   "outputs": [],
   "source": [
    "default_dict = dict.fromkeys(keys_list, default_value)"
   ]
  },
  {
   "cell_type": "code",
   "execution_count": null,
   "id": "4fdbd6a6-172b-4149-875b-356e043c18a4",
   "metadata": {},
   "outputs": [],
   "source": [
    "default_dict"
   ]
  },
  {
   "cell_type": "markdown",
   "id": "e14ebd4f-1db1-4973-af56-e1a195665505",
   "metadata": {},
   "source": [
    "## Accessing dictionary elements"
   ]
  },
  {
   "cell_type": "markdown",
   "id": "28137a26-5736-41c7-933e-074aa7cdcbe5",
   "metadata": {},
   "source": [
    "### Example\n",
    "Accessing specific values from dictionaries"
   ]
  },
  {
   "cell_type": "code",
   "execution_count": null,
   "id": "5ee46735-f8e7-4138-9b11-1624064dd3b4",
   "metadata": {},
   "outputs": [],
   "source": [
    "person = {'first_name': 'Diya',\n",
    "          'last_name': 'Kumar',\n",
    "          'age': 30,\n",
    "          'gender': 'F',\n",
    "          'phone': 87387190,\n",
    "          'is_employed': True}"
   ]
  },
  {
   "cell_type": "code",
   "execution_count": null,
   "id": "bb75f742-dc50-4f51-b926-96b89fe69cca",
   "metadata": {},
   "outputs": [],
   "source": [
    "person"
   ]
  },
  {
   "cell_type": "code",
   "execution_count": null,
   "id": "3d2c5bed-7596-4b1d-852f-934a35bc74d2",
   "metadata": {},
   "outputs": [],
   "source": [
    "person['first_name']"
   ]
  },
  {
   "cell_type": "code",
   "execution_count": null,
   "id": "74c39c32-a579-47f0-ba2f-4e85a46eed45",
   "metadata": {},
   "outputs": [],
   "source": [
    "person['is_employed']"
   ]
  },
  {
   "cell_type": "code",
   "execution_count": null,
   "id": "28f6c29c-8cb8-49df-8389-9a827f7d6a2a",
   "metadata": {},
   "outputs": [],
   "source": [
    "person['is_married']"
   ]
  },
  {
   "cell_type": "code",
   "execution_count": null,
   "id": "f36ac251-26d8-4405-bf03-029a258d6604",
   "metadata": {},
   "outputs": [],
   "source": [
    "person['first_name' ,'last_name']"
   ]
  },
  {
   "cell_type": "code",
   "execution_count": null,
   "id": "084c1077-9b0f-4320-826b-abaa753a5570",
   "metadata": {},
   "outputs": [],
   "source": [
    "person[['first_name', 'last_name']]"
   ]
  },
  {
   "cell_type": "code",
   "execution_count": null,
   "id": "03f0a99a-37a7-474b-a26c-4278313ad68d",
   "metadata": {},
   "outputs": [],
   "source": [
    "person['first_name']['last_name']"
   ]
  },
  {
   "cell_type": "markdown",
   "id": "4fab354b-dcaf-4c3f-a140-5c9e4cd345cc",
   "metadata": {},
   "source": [
    "### Example\n",
    "Accessing a value safely using the `.get()` method"
   ]
  },
  {
   "cell_type": "code",
   "execution_count": null,
   "id": "deb4bfa9-d72e-475e-ab7b-e24b93580abb",
   "metadata": {},
   "outputs": [],
   "source": [
    "person.get('first_name')"
   ]
  },
  {
   "cell_type": "code",
   "execution_count": null,
   "id": "da0c940b-e2b3-4b93-a963-6879088086f7",
   "metadata": {},
   "outputs": [],
   "source": [
    "person.get('first_name', 'First name not available')"
   ]
  },
  {
   "cell_type": "code",
   "execution_count": null,
   "id": "e1b767cf-54ef-44a5-93b2-76016591b23a",
   "metadata": {},
   "outputs": [],
   "source": [
    "person.get('is_married', 'No marriage information available')"
   ]
  },
  {
   "cell_type": "markdown",
   "id": "fb3f5d2e-ad65-4bfb-91b2-da2ce37c08be",
   "metadata": {},
   "source": [
    "### Example\n",
    "Accessing values in nested dictionaries"
   ]
  },
  {
   "cell_type": "code",
   "execution_count": null,
   "id": "c16bc307-28f7-41b2-9932-d63804c5fc53",
   "metadata": {},
   "outputs": [],
   "source": [
    "nested_person = {'first_name': 'Gopal',\n",
    "                 'last_name': 'Verma',\n",
    "                 'age': 30,\n",
    "                 'gender': 'Male',\n",
    "                 'address': {'street': '2nd Main Road',\n",
    "                             'city': 'Bengaluru',\n",
    "                             'state': 'Karnataka',\n",
    "                             'zip_code': 56873},\n",
    "                 'email': 'gopalverma@upgradlearn.com',\n",
    "                 'phone': 21218765,\n",
    "                 'is_employed': True}"
   ]
  },
  {
   "cell_type": "code",
   "execution_count": null,
   "id": "ba332f0e-d2cf-4189-813a-ee2b691da3d7",
   "metadata": {},
   "outputs": [],
   "source": [
    "nested_person"
   ]
  },
  {
   "cell_type": "code",
   "execution_count": null,
   "id": "7e127498-3ec8-47b3-b461-0d7c0cb3deec",
   "metadata": {},
   "outputs": [],
   "source": [
    "nested_person['address']"
   ]
  },
  {
   "cell_type": "code",
   "execution_count": null,
   "id": "2947b0f0-a354-4333-af8c-ab756af50e99",
   "metadata": {},
   "outputs": [],
   "source": [
    "nested_person['age']"
   ]
  },
  {
   "cell_type": "code",
   "execution_count": null,
   "id": "cfaa0236-15ee-4c5e-8a7a-59088e3d857d",
   "metadata": {},
   "outputs": [],
   "source": [
    "nested_person['address']['street']"
   ]
  },
  {
   "cell_type": "code",
   "execution_count": null,
   "id": "3775989f-0401-4e78-a40c-0fd68c716a84",
   "metadata": {},
   "outputs": [],
   "source": [
    "nested_person['address']['city']"
   ]
  },
  {
   "cell_type": "code",
   "execution_count": null,
   "id": "799df2fa-63ed-4809-be9d-ec4a08bf2b14",
   "metadata": {},
   "outputs": [],
   "source": [
    "nested_person.get('address')"
   ]
  },
  {
   "cell_type": "code",
   "execution_count": null,
   "id": "586f5b9c-4cce-4b73-a8d8-b06e9e412926",
   "metadata": {},
   "outputs": [],
   "source": [
    "nested_person.get('address', 'Address is not available')"
   ]
  },
  {
   "cell_type": "code",
   "execution_count": null,
   "id": "3c78b8c0-6348-4fca-b739-8d08c1500beb",
   "metadata": {},
   "outputs": [],
   "source": [
    "nested_person['address'].get('state')"
   ]
  },
  {
   "cell_type": "code",
   "execution_count": null,
   "id": "fbb7d5f5-4f32-4e24-b975-3cfbc0e0bf39",
   "metadata": {},
   "outputs": [],
   "source": [
    "nested_person['address'].get('state', 'State is not available')"
   ]
  },
  {
   "cell_type": "code",
   "execution_count": null,
   "id": "fa5ad1b8-9ecd-4ea3-ba7a-70fdede7b2f2",
   "metadata": {},
   "outputs": [],
   "source": [
    "nested_person['address'].get('country', 'Country is not available')"
   ]
  },
  {
   "cell_type": "markdown",
   "id": "792def94-fe47-45d7-af69-87189fd7f049",
   "metadata": {},
   "source": [
    "Quiz\n",
    "\n",
    "Consider the following dictionary that has details about a university student:\n",
    "\n",
    "university_student = {'student_id': '123456',\n",
    "                      'name': {'first_name': 'Surendar',\n",
    "                               'last_name': 'Dixit'},\n",
    "                      'age': 21,\n",
    "                      'email': 'emma.j@example.com',\n",
    "                      'phone': '555-987-6543',\n",
    "                      'courses': ['Math', 'English', 'Computer Science'],\n",
    "                      'is_international': False}\n",
    "\n",
    "Extract the first name and age of the student and output these as a new dictionary with just the first_name and age keys."
   ]
  },
  {
   "cell_type": "code",
   "execution_count": null,
   "id": "68c19165-e587-4c6e-be30-466c8a97a262",
   "metadata": {},
   "outputs": [],
   "source": [
    "university_student = {'student_id': '123456', 'name': {'first_name': 'Surendar', 'last_name': 'Dixit'}, 'age': 21, 'email': 'emma.j@example.com', 'phone': '555-987-6543', 'courses': ['Math', 'English', 'Computer Science'], 'is_international': False}"
   ]
  },
  {
   "cell_type": "code",
   "execution_count": null,
   "id": "aa37e652-7085-4222-adf7-b0610986524c",
   "metadata": {},
   "outputs": [],
   "source": [
    "university_student"
   ]
  },
  {
   "cell_type": "code",
   "execution_count": null,
   "id": "a0dbd05e-c082-48b4-95a5-42d9653ddcff",
   "metadata": {},
   "outputs": [],
   "source": [
    "university_student=university_student['name'].get('first_name','first_name not found')\n",
    "print('university_student:',)"
   ]
  },
  {
   "cell_type": "code",
   "execution_count": null,
   "id": "c6f8028d-f2f7-4a8e-ad20-390a9ef49c69",
   "metadata": {},
   "outputs": [],
   "source": [
    "university_student"
   ]
  },
  {
   "cell_type": "code",
   "execution_count": null,
   "id": "de602525-0c57-44af-94c4-aba8bb9122a7",
   "metadata": {},
   "outputs": [],
   "source": [
    "university_student['age']"
   ]
  },
  {
   "cell_type": "code",
   "execution_count": null,
   "id": "bb7831a4-10fc-44c4-bf65-ced95c4bccf3",
   "metadata": {},
   "outputs": [],
   "source": [
    "university_student   ## dount"
   ]
  },
  {
   "cell_type": "code",
   "execution_count": null,
   "id": "2acaee8f-8f29-4b44-804a-25c5a44b225c",
   "metadata": {},
   "outputs": [],
   "source": [
    "new_age=university_student['age']"
   ]
  },
  {
   "cell_type": "markdown",
   "id": "39fa2c2e-8662-40ea-8d35-48a0b429a445",
   "metadata": {},
   "source": [
    "## Operations on dictionaries - getting information about dictionaries"
   ]
  },
  {
   "cell_type": "markdown",
   "id": "1557efe9-1b88-44a6-afa5-ee74ef57ce07",
   "metadata": {},
   "source": [
    "### Example\n",
    "Finding the length of a dictionary"
   ]
  },
  {
   "cell_type": "code",
   "execution_count": null,
   "id": "c9281be8-4366-4862-a377-ffdfa1d91585",
   "metadata": {},
   "outputs": [],
   "source": [
    "person = {'name': 'Dinesh', 'age': 45, 'salary': 45800.67, 'married': True, 'qualification': ('BE', 'MSc')}"
   ]
  },
  {
   "cell_type": "code",
   "execution_count": null,
   "id": "b96434bd-a89a-4743-9054-7606802630f4",
   "metadata": {},
   "outputs": [],
   "source": [
    "len(person)"
   ]
  },
  {
   "cell_type": "code",
   "execution_count": null,
   "id": "7b02f846-4229-49e0-a330-3afc8ecb9474",
   "metadata": {},
   "outputs": [],
   "source": [
    "nested_person = {'first_name': 'Gopal',\n",
    "                 'last_name': 'Verma',\n",
    "                 'age': 30,\n",
    "                 'gender': 'Male',\n",
    "                 'address': {'street': '2nd Main Road',\n",
    "                             'city': 'Bengaluru',\n",
    "                             'state': 'Karnataka',\n",
    "                             'zip_code': 56873},\n",
    "                 'email': 'gopalverma@upgradlearn.com',\n",
    "                 'phone': 21218765,\n",
    "                 'is_employed': True}"
   ]
  },
  {
   "cell_type": "code",
   "execution_count": null,
   "id": "85e65585-7ea6-4654-b7a6-c5ff4e78a9ce",
   "metadata": {},
   "outputs": [],
   "source": [
    "len(nested_person)"
   ]
  },
  {
   "cell_type": "code",
   "execution_count": null,
   "id": "fa3392f7-6b17-402a-8485-0acf34226336",
   "metadata": {},
   "outputs": [],
   "source": [
    "len(nested_person['address'])"
   ]
  },
  {
   "cell_type": "markdown",
   "id": "53ee82ac-417d-4509-918c-48273d362b95",
   "metadata": {},
   "source": [
    "### Example\n",
    "Retrieving keys"
   ]
  },
  {
   "cell_type": "code",
   "execution_count": null,
   "id": "e5cc6424-abca-45b2-9593-ed430fb99cf6",
   "metadata": {},
   "outputs": [],
   "source": [
    "person = {'name': 'Dinesh', 'age': 45, 'salary': 45800.67, 'married': True, 'qualification': ('BE', 'MSc')}"
   ]
  },
  {
   "cell_type": "code",
   "execution_count": null,
   "id": "1a8dd19f-888f-43ea-9810-6aac839fad25",
   "metadata": {},
   "outputs": [],
   "source": [
    "person"
   ]
  },
  {
   "cell_type": "code",
   "execution_count": null,
   "id": "efb4ba85-f37c-4f7d-b226-bfefc7fbfca2",
   "metadata": {},
   "outputs": [],
   "source": [
    "person.keys()"
   ]
  },
  {
   "cell_type": "code",
   "execution_count": null,
   "id": "3d8b8322-6d81-400c-8bff-4fffb1e70ce2",
   "metadata": {},
   "outputs": [],
   "source": [
    "personkeys = person.keys()"
   ]
  },
  {
   "cell_type": "code",
   "execution_count": null,
   "id": "b8c6e15c-a524-4e43-8cfa-c139e611c3ce",
   "metadata": {},
   "outputs": [],
   "source": [
    "personkeys"
   ]
  },
  {
   "cell_type": "code",
   "execution_count": null,
   "id": "a93cb6f4-8fdc-47b1-9bda-59b1716ea05c",
   "metadata": {},
   "outputs": [],
   "source": [
    "type(personkeys)"
   ]
  },
  {
   "cell_type": "code",
   "execution_count": null,
   "id": "b2288878-21ae-4e82-9f28-a01eb6a082f5",
   "metadata": {},
   "outputs": [],
   "source": [
    "list(personkeys)"
   ]
  },
  {
   "cell_type": "markdown",
   "id": "e1162e8c-b88a-47c3-b75e-0a2992e7a301",
   "metadata": {},
   "source": [
    "### Example\n",
    "Retrieving values"
   ]
  },
  {
   "cell_type": "code",
   "execution_count": null,
   "id": "ea8eb046-25f8-4ea5-aa8f-9c8ab34fa7ee",
   "metadata": {},
   "outputs": [],
   "source": [
    "person = {'name': 'Dinesh', 'age': 45, 'salary': 45800.67, 'married': True, 'qualification': ('BE', 'MSc')}"
   ]
  },
  {
   "cell_type": "code",
   "execution_count": null,
   "id": "3d809407-6106-41e7-883d-3ef6e5935d3e",
   "metadata": {},
   "outputs": [],
   "source": [
    "person"
   ]
  },
  {
   "cell_type": "code",
   "execution_count": null,
   "id": "4b5c135b-2887-4f23-a30c-164aac6a2477",
   "metadata": {},
   "outputs": [],
   "source": [
    "person.values()"
   ]
  },
  {
   "cell_type": "code",
   "execution_count": null,
   "id": "e9d04c21-48b8-4b54-b04a-06650a01c75e",
   "metadata": {},
   "outputs": [],
   "source": [
    "persons=person.values()"
   ]
  },
  {
   "cell_type": "code",
   "execution_count": null,
   "id": "44ba38c8-c880-46b4-a9bd-0cad49ff486a",
   "metadata": {},
   "outputs": [],
   "source": [
    "persons"
   ]
  },
  {
   "cell_type": "code",
   "execution_count": null,
   "id": "df966a9a-af49-4f7f-84c7-c9398e119fe9",
   "metadata": {},
   "outputs": [],
   "source": [
    "type(persons)"
   ]
  },
  {
   "cell_type": "code",
   "execution_count": null,
   "id": "21f16ac1-ae86-4f9b-8beb-bb414f48d40b",
   "metadata": {},
   "outputs": [],
   "source": [
    "list(persons)"
   ]
  },
  {
   "cell_type": "markdown",
   "id": "9fb16d60-6f2f-4573-a84d-1452e5976c50",
   "metadata": {},
   "source": [
    "### Example\n",
    "Checking if a key exists"
   ]
  },
  {
   "cell_type": "code",
   "execution_count": null,
   "id": "ff0ff47c-85d3-4e9b-8082-9bdaf921a394",
   "metadata": {},
   "outputs": [],
   "source": [
    "person = {'name': 'Dinesh', 'age': 45, 'salary': 45800.67, 'married': True, 'qualification': ('BE', 'MSc')}"
   ]
  },
  {
   "cell_type": "code",
   "execution_count": null,
   "id": "2c84f4bc-65e2-4e6b-b41e-3a86aa588621",
   "metadata": {},
   "outputs": [],
   "source": [
    "person"
   ]
  },
  {
   "cell_type": "code",
   "execution_count": null,
   "id": "2d9baab2-ca87-46d9-bb33-7f9402fc7235",
   "metadata": {},
   "outputs": [],
   "source": [
    "'salary' in person"
   ]
  },
  {
   "cell_type": "code",
   "execution_count": null,
   "id": "1a3ab93a-7bf9-4394-877a-91622d2e15c0",
   "metadata": {},
   "outputs": [],
   "source": [
    "'qualification' in person"
   ]
  },
  {
   "cell_type": "code",
   "execution_count": null,
   "id": "a657779d-d0b2-4c41-a619-f4fa61c9a5cc",
   "metadata": {},
   "outputs": [],
   "source": [
    "'marital status' in person"
   ]
  },
  {
   "cell_type": "markdown",
   "id": "27e7c327-d806-44be-b846-8e9176032e45",
   "metadata": {},
   "source": [
    "### Example\n",
    "Comparing dictionaries"
   ]
  },
  {
   "cell_type": "code",
   "execution_count": null,
   "id": "259dfcda-3f77-4c1f-b838-3dd51044b963",
   "metadata": {},
   "outputs": [],
   "source": [
    "dict1 = {'a': 1, 'b': 2, 'c': 3}\n",
    "dict2 = {'b': 2, 'c': 3, 'a': 1}"
   ]
  },
  {
   "cell_type": "code",
   "execution_count": null,
   "id": "2bec044e-4af9-4e92-a9c4-90ebd7bdf3f0",
   "metadata": {},
   "outputs": [],
   "source": [
    "dict1==dict2"
   ]
  },
  {
   "cell_type": "markdown",
   "id": "4e256637-bd62-4e57-915c-6b6d339506c7",
   "metadata": {},
   "source": [
    "## Operations on dictionaries - manipulating dictionaries"
   ]
  },
  {
   "cell_type": "markdown",
   "id": "4a6b12bb-5cc5-43a6-8a93-e9a1f696833e",
   "metadata": {},
   "source": [
    "### Example\n",
    "Adding new key-value pairs to a dictionaries"
   ]
  },
  {
   "cell_type": "code",
   "execution_count": null,
   "id": "268d0eeb-bb59-498c-b266-4a5d529b7a2f",
   "metadata": {},
   "outputs": [],
   "source": [
    "person = {'name': 'Dinesh', 'age': 45, 'salary': 45800.67, 'married': True, 'qualification': ('BE', 'MSc')}"
   ]
  },
  {
   "cell_type": "code",
   "execution_count": null,
   "id": "f2369c2e-dd40-4fc2-9448-f5f3080541f6",
   "metadata": {},
   "outputs": [],
   "source": [
    "person"
   ]
  },
  {
   "cell_type": "code",
   "execution_count": null,
   "id": "fd9dbe7e-769d-4da8-a1fa-4dab888c654c",
   "metadata": {},
   "outputs": [],
   "source": [
    "person['gender']='M'"
   ]
  },
  {
   "cell_type": "code",
   "execution_count": null,
   "id": "8eda1917-3e51-44aa-aa42-562a7abd3275",
   "metadata": {},
   "outputs": [],
   "source": [
    "person"
   ]
  },
  {
   "cell_type": "code",
   "execution_count": null,
   "id": "539f2fb9-9901-481a-a19e-6be83a6cce54",
   "metadata": {},
   "outputs": [],
   "source": [
    "person['city'] = 'Pune'"
   ]
  },
  {
   "cell_type": "code",
   "execution_count": null,
   "id": "bf6d386b-b6f0-4b7d-b66d-254070dfcd38",
   "metadata": {},
   "outputs": [],
   "source": [
    "person"
   ]
  },
  {
   "cell_type": "markdown",
   "id": "bd5f827b-d364-4173-9d58-c3fd6b8597e0",
   "metadata": {},
   "source": [
    "### Example\n",
    "Adding items to dictionaries using the `.update()` and `.__setitem__()` methods"
   ]
  },
  {
   "cell_type": "code",
   "execution_count": null,
   "id": "131e0cdb-ce29-486c-8508-953595728545",
   "metadata": {},
   "outputs": [],
   "source": [
    "person = {'name': 'Dinesh', 'age': 45, 'salary': 45800.67, 'married': True, 'qualification': ('BE', 'MSc')}"
   ]
  },
  {
   "cell_type": "code",
   "execution_count": null,
   "id": "d6f28535-3c37-4699-9858-10f733ef7252",
   "metadata": {},
   "outputs": [],
   "source": [
    "person"
   ]
  },
  {
   "cell_type": "code",
   "execution_count": null,
   "id": "f63bbde5-d987-4e24-96d8-3a687fd57554",
   "metadata": {},
   "outputs": [],
   "source": [
    "person.update({'country':'India'})"
   ]
  },
  {
   "cell_type": "code",
   "execution_count": null,
   "id": "c17a50ed-3267-48dc-8b23-2f7a78b66b13",
   "metadata": {},
   "outputs": [],
   "source": [
    "person"
   ]
  },
  {
   "cell_type": "code",
   "execution_count": null,
   "id": "3a46438a-8333-4de0-be27-f2e63c5e6eb0",
   "metadata": {},
   "outputs": [],
   "source": [
    "person.__setitem__('city', 'Pune')"
   ]
  },
  {
   "cell_type": "code",
   "execution_count": null,
   "id": "3c391a02-9cfa-477a-a364-bdb2cb949b18",
   "metadata": {},
   "outputs": [],
   "source": [
    "person"
   ]
  },
  {
   "cell_type": "markdown",
   "id": "c5b9aa61-ae3c-4245-9b51-105b5c32ffee",
   "metadata": {},
   "source": [
    "### Example\n",
    "Deleting an element at a specific position"
   ]
  },
  {
   "cell_type": "code",
   "execution_count": null,
   "id": "433d05af-eff9-4b63-8bb1-d67720f5fe75",
   "metadata": {},
   "outputs": [],
   "source": [
    "temp_person = {'name': 'Dinesh', 'age': 45, 'salary': 45800.67,\n",
    "               'married': True, 'qualification': ('BE', 'MSc')}"
   ]
  },
  {
   "cell_type": "code",
   "execution_count": null,
   "id": "40cad0f5-4c1f-49da-94dc-8b87504692c2",
   "metadata": {},
   "outputs": [],
   "source": [
    "temp_person"
   ]
  },
  {
   "cell_type": "code",
   "execution_count": null,
   "id": "3758ba2e-8bce-4449-a931-8e7a83bfd9da",
   "metadata": {},
   "outputs": [],
   "source": [
    "del temp_person['salary']"
   ]
  },
  {
   "cell_type": "code",
   "execution_count": null,
   "id": "65ab86d8-7581-455d-af94-a87174b3ccb9",
   "metadata": {},
   "outputs": [],
   "source": [
    "temp_person"
   ]
  },
  {
   "cell_type": "code",
   "execution_count": null,
   "id": "d0caab33-83b6-47ba-8fa4-6c458445b78e",
   "metadata": {},
   "outputs": [],
   "source": [
    "del temp_person['age']"
   ]
  },
  {
   "cell_type": "code",
   "execution_count": null,
   "id": "7090c87c-6818-44db-a103-a02b330cd57f",
   "metadata": {},
   "outputs": [],
   "source": [
    "temp_person"
   ]
  },
  {
   "cell_type": "code",
   "execution_count": null,
   "id": "da82c6ec-eded-4dc4-94b6-6ff5c8f0be0f",
   "metadata": {},
   "outputs": [],
   "source": [
    "temp_person.pop('qualification')"
   ]
  },
  {
   "cell_type": "code",
   "execution_count": null,
   "id": "711cf07d-cd64-4cbf-ab85-5215e60c2fd5",
   "metadata": {},
   "outputs": [],
   "source": [
    "temp_person"
   ]
  },
  {
   "cell_type": "markdown",
   "id": "deefea81-dca2-4d88-bb0c-d3d1c28171df",
   "metadata": {},
   "source": [
    "### Example\n",
    "Editing specific values in dictionaries"
   ]
  },
  {
   "cell_type": "code",
   "execution_count": null,
   "id": "1dd8fe83-7eb9-4a03-ad15-c6cc1e02f18a",
   "metadata": {},
   "outputs": [],
   "source": [
    "temp_person = {'name': 'Dinesh', 'age': 45, 'salary': 45800.67,\n",
    "               'married': True, 'qualification': ('BE', 'MSc')}"
   ]
  },
  {
   "cell_type": "code",
   "execution_count": null,
   "id": "47000c5b-2334-4ebe-8bbb-fbaea92f82ec",
   "metadata": {},
   "outputs": [],
   "source": [
    "temp_person"
   ]
  },
  {
   "cell_type": "code",
   "execution_count": null,
   "id": "be8f3211-6225-4db7-b4f5-1ed8e225be32",
   "metadata": {},
   "outputs": [],
   "source": [
    "temp_person['name'] = 'Virat'    ### one way of change the existing data"
   ]
  },
  {
   "cell_type": "code",
   "execution_count": null,
   "id": "345bcec2-d42d-4b64-b4c7-6358cb0c76c2",
   "metadata": {},
   "outputs": [],
   "source": [
    "temp_person"
   ]
  },
  {
   "cell_type": "code",
   "execution_count": null,
   "id": "bc4d703a-6a8a-40ce-9562-a5e0887460ea",
   "metadata": {},
   "outputs": [],
   "source": [
    "temp_person.update({'married': False})    ## this is another way to change the data present in dictionary"
   ]
  },
  {
   "cell_type": "code",
   "execution_count": null,
   "id": "86dd2153-dbe3-4334-a35f-500326b91faa",
   "metadata": {},
   "outputs": [],
   "source": [
    "temp_person"
   ]
  },
  {
   "cell_type": "code",
   "execution_count": null,
   "id": "265400bc-55eb-47be-9c85-6672dffa8345",
   "metadata": {},
   "outputs": [],
   "source": [
    "temp_person.update({'name': 'Suraj', 'married': True, 'salary': 50871.65})"
   ]
  },
  {
   "cell_type": "code",
   "execution_count": null,
   "id": "34dab2f2-9901-4163-bf5a-6acffde16db2",
   "metadata": {},
   "outputs": [],
   "source": [
    "temp_person"
   ]
  },
  {
   "cell_type": "markdown",
   "id": "0faebe6c-6bf3-4d1e-9ace-c0d5250368c6",
   "metadata": {},
   "source": [
    "### Example\n",
    "Merging dictionaries"
   ]
  },
  {
   "cell_type": "code",
   "execution_count": null,
   "id": "a9bed2c1-b528-452c-9808-a95133ee3d64",
   "metadata": {},
   "outputs": [],
   "source": [
    "employee_personal = {'name': 'David', 'age': 42, 'nationality': 'Indian'}\n",
    "employee_professional = {'name': 'David', 'salary': 87645.48, 'exp': 19}"
   ]
  },
  {
   "cell_type": "code",
   "execution_count": null,
   "id": "ad9c7203-2d6f-4670-8e8c-c0f1f34a63d3",
   "metadata": {},
   "outputs": [],
   "source": [
    "employee_dict = {**employee_personal, **employee_professional} # for Python 3.8 and earlier"
   ]
  },
  {
   "cell_type": "code",
   "execution_count": null,
   "id": "0d8240eb-abc7-4e4f-b559-cd564271207a",
   "metadata": {},
   "outputs": [],
   "source": [
    "employee_dict"
   ]
  },
  {
   "cell_type": "code",
   "execution_count": null,
   "id": "49d426d5-0bbd-4f35-bc0c-a9416ba0eb14",
   "metadata": {},
   "outputs": [],
   "source": [
    "employee_dict = employee_personal | employee_professional # for Python 3.9 and later"
   ]
  },
  {
   "cell_type": "code",
   "execution_count": null,
   "id": "922701ea-b051-4786-948a-f28eba2bcb8c",
   "metadata": {},
   "outputs": [],
   "source": [
    "employee_dict"
   ]
  },
  {
   "cell_type": "markdown",
   "id": "2467e33f-ad4a-447e-b88e-fe6d2076968c",
   "metadata": {},
   "source": [
    "### Example\n",
    "Removing all items from a dictionary"
   ]
  },
  {
   "cell_type": "code",
   "execution_count": null,
   "id": "47e6f982-9876-494c-8305-6428d62ec09a",
   "metadata": {},
   "outputs": [],
   "source": [
    "employee_dict"
   ]
  },
  {
   "cell_type": "code",
   "execution_count": null,
   "id": "253df7aa-98e4-40cc-94cc-c9273165b784",
   "metadata": {},
   "outputs": [],
   "source": [
    "employee_dict.clear()"
   ]
  },
  {
   "cell_type": "code",
   "execution_count": null,
   "id": "6e93f5f9-7aaf-4531-8e2b-338041957e4e",
   "metadata": {},
   "outputs": [],
   "source": [
    "employee_dict"
   ]
  },
  {
   "cell_type": "markdown",
   "id": "399c2d22-f73a-4912-a012-dea5bb240f8a",
   "metadata": {},
   "source": [
    "### Example\n",
    "Making a copy of a dictionary"
   ]
  },
  {
   "cell_type": "code",
   "execution_count": null,
   "id": "65675118-3b1a-466e-8104-16fe56ea7a5d",
   "metadata": {},
   "outputs": [],
   "source": [
    "temp_person = {'name': 'Dinesh', 'age': 45, 'salary': 45800.67,\n",
    "               'married': True, 'qualification': ('BE', 'MSc')}"
   ]
  },
  {
   "cell_type": "code",
   "execution_count": null,
   "id": "6b4a95f5-9472-4153-980a-bedb3051083c",
   "metadata": {},
   "outputs": [],
   "source": [
    "temp_person"
   ]
  },
  {
   "cell_type": "code",
   "execution_count": null,
   "id": "e8145349-5c21-4639-8a22-1d4e29bd5719",
   "metadata": {},
   "outputs": [],
   "source": [
    "copy_dict = temp_person.copy()"
   ]
  },
  {
   "cell_type": "code",
   "execution_count": null,
   "id": "04c04355-e205-43e9-9bca-d0e7524a4afc",
   "metadata": {},
   "outputs": [],
   "source": [
    "copy_dict"
   ]
  },
  {
   "cell_type": "code",
   "execution_count": null,
   "id": "3f6ffc18-01d6-4792-afbc-4968fb952faf",
   "metadata": {},
   "outputs": [],
   "source": [
    "del copy_dict['name']"
   ]
  },
  {
   "cell_type": "code",
   "execution_count": null,
   "id": "b55dbbce-ed22-41f3-9ee1-1a424bf42ff2",
   "metadata": {},
   "outputs": [],
   "source": [
    "copy_dict"
   ]
  },
  {
   "cell_type": "code",
   "execution_count": null,
   "id": "b43d88e2-ee3d-4ffe-a4c3-9bb13ee98d42",
   "metadata": {},
   "outputs": [],
   "source": [
    "temp_person"
   ]
  },
  {
   "cell_type": "markdown",
   "id": "01ef836a-9271-44a3-b6a4-efe448395aca",
   "metadata": {},
   "source": [
    "### Quiz\n",
    "Given the dictionary\n",
    "```\n",
    "university_student = {'name': 'Sonali', 'age': 25, 'email': 'sonali123@mailmail.com'}\n",
    "```\n",
    "Remove the `email` key from this dictionary and add the `address` key with value `Mumbai`. Output the resulting dictionary."
   ]
  },
  {
   "cell_type": "code",
   "execution_count": 3,
   "id": "ed4fde76-52b2-4883-9ac0-80fbaba8f2a4",
   "metadata": {},
   "outputs": [],
   "source": [
    "university_student = {'name': 'Sonali', 'age': 25, 'email': 'sonali123@mailmail.com'}"
   ]
  },
  {
   "cell_type": "code",
   "execution_count": 5,
   "id": "4018de4a-94af-480f-b682-2a0d7e9c4b9e",
   "metadata": {},
   "outputs": [
    {
     "data": {
      "text/plain": [
       "{'name': 'Sonali', 'age': 25, 'email': 'sonali123@mailmail.com'}"
      ]
     },
     "execution_count": 5,
     "metadata": {},
     "output_type": "execute_result"
    }
   ],
   "source": [
    "university_student"
   ]
  },
  {
   "cell_type": "code",
   "execution_count": 7,
   "id": "c930239d-9713-4830-a092-f80128c36f18",
   "metadata": {},
   "outputs": [],
   "source": [
    "del university_student['email']"
   ]
  },
  {
   "cell_type": "code",
   "execution_count": 9,
   "id": "8d434d1d-2a49-43fc-ab53-8a58ca3774e9",
   "metadata": {},
   "outputs": [
    {
     "data": {
      "text/plain": [
       "{'name': 'Sonali', 'age': 25}"
      ]
     },
     "execution_count": 9,
     "metadata": {},
     "output_type": "execute_result"
    }
   ],
   "source": [
    "university_student"
   ]
  },
  {
   "cell_type": "code",
   "execution_count": 11,
   "id": "a01abd31-c334-4dba-81bc-feba37de93f9",
   "metadata": {},
   "outputs": [],
   "source": [
    "university_student['address']='Mumbai'"
   ]
  },
  {
   "cell_type": "code",
   "execution_count": 13,
   "id": "fab333f3-892d-4d27-b667-4716683a4ff4",
   "metadata": {},
   "outputs": [
    {
     "data": {
      "text/plain": [
       "{'name': 'Sonali', 'age': 25, 'address': 'Mumbai'}"
      ]
     },
     "execution_count": 13,
     "metadata": {},
     "output_type": "execute_result"
    }
   ],
   "source": [
    "university_student"
   ]
  },
  {
   "cell_type": "markdown",
   "id": "fe3f100f-41f0-4d98-ac7c-3d615d12a40d",
   "metadata": {},
   "source": [
    "## Operations on dictionaries - mathematical and statistical operations"
   ]
  },
  {
   "cell_type": "markdown",
   "id": "87951dfc-ef23-4cb5-9baa-72cad442949c",
   "metadata": {},
   "source": [
    "### Example\n",
    "Summation of values in a dictionary"
   ]
  },
  {
   "cell_type": "code",
   "execution_count": 19,
   "id": "8464d517-2be0-42bc-b778-1eaa914089e9",
   "metadata": {},
   "outputs": [],
   "source": [
    "revenue_dict = {'q1': 78, 'q2': 73, 'q3': 109, 'q4': 94}"
   ]
  },
  {
   "cell_type": "code",
   "execution_count": 21,
   "id": "6f2e1537-4b06-47b9-9298-17309edef927",
   "metadata": {},
   "outputs": [
    {
     "data": {
      "text/plain": [
       "354"
      ]
     },
     "execution_count": 21,
     "metadata": {},
     "output_type": "execute_result"
    }
   ],
   "source": [
    "revenue_dict['q1'] + revenue_dict['q2'] + revenue_dict['q3'] + revenue_dict['q4']  ## this is one way"
   ]
  },
  {
   "cell_type": "code",
   "execution_count": 23,
   "id": "40758f25-8cb4-49b9-b80f-deaa63a99629",
   "metadata": {},
   "outputs": [
    {
     "data": {
      "text/plain": [
       "354"
      ]
     },
     "execution_count": 23,
     "metadata": {},
     "output_type": "execute_result"
    }
   ],
   "source": [
    "sum(revenue_dict.values())  ## ths is another way"
   ]
  },
  {
   "cell_type": "code",
   "execution_count": 29,
   "id": "957c548b-1a8b-459b-b04b-1a23a5bcefa9",
   "metadata": {},
   "outputs": [
    {
     "ename": "AttributeError",
     "evalue": "'dict' object has no attribute 'sum'",
     "output_type": "error",
     "traceback": [
      "\u001b[1;31m---------------------------------------------------------------------------\u001b[0m",
      "\u001b[1;31mAttributeError\u001b[0m                            Traceback (most recent call last)",
      "Cell \u001b[1;32mIn[29], line 1\u001b[0m\n\u001b[1;32m----> 1\u001b[0m revenue_dict\u001b[38;5;241m.\u001b[39msum()\n",
      "\u001b[1;31mAttributeError\u001b[0m: 'dict' object has no attribute 'sum'"
     ]
    }
   ],
   "source": [
    "revenue_dict.sum()"
   ]
  },
  {
   "cell_type": "markdown",
   "id": "f10359d7-ba62-4f94-bc4c-03a9f8431691",
   "metadata": {},
   "source": [
    "### Example\n",
    "Maximum and minimum values in a dictionary"
   ]
  },
  {
   "cell_type": "code",
   "execution_count": 32,
   "id": "7aad8f46-0db7-4e5b-a6a5-942462b01e63",
   "metadata": {},
   "outputs": [
    {
     "data": {
      "text/plain": [
       "{'q1': 78, 'q2': 73, 'q3': 109, 'q4': 94}"
      ]
     },
     "execution_count": 32,
     "metadata": {},
     "output_type": "execute_result"
    }
   ],
   "source": [
    "revenue_dict"
   ]
  },
  {
   "cell_type": "code",
   "execution_count": 34,
   "id": "5d8d8800-8724-441e-b23d-c2b72722f27f",
   "metadata": {},
   "outputs": [
    {
     "data": {
      "text/plain": [
       "109"
      ]
     },
     "execution_count": 34,
     "metadata": {},
     "output_type": "execute_result"
    }
   ],
   "source": [
    "max(revenue_dict.values())"
   ]
  },
  {
   "cell_type": "code",
   "execution_count": 36,
   "id": "e11874f6-f730-4084-9bdb-cec2f50282a2",
   "metadata": {},
   "outputs": [
    {
     "data": {
      "text/plain": [
       "73"
      ]
     },
     "execution_count": 36,
     "metadata": {},
     "output_type": "execute_result"
    }
   ],
   "source": [
    "min(revenue_dict.values())"
   ]
  },
  {
   "cell_type": "markdown",
   "id": "07d41bf1-6b52-4bb7-954f-b392f1107411",
   "metadata": {},
   "source": [
    "### Example\n",
    "Indices of maximum and minimum values in a dictionary"
   ]
  },
  {
   "cell_type": "code",
   "execution_count": 39,
   "id": "f9a5e029-64dd-48a1-bc38-d4f73b4d9c4a",
   "metadata": {},
   "outputs": [
    {
     "data": {
      "text/plain": [
       "{'q1': 78, 'q2': 73, 'q3': 109, 'q4': 94}"
      ]
     },
     "execution_count": 39,
     "metadata": {},
     "output_type": "execute_result"
    }
   ],
   "source": [
    "revenue_dict"
   ]
  },
  {
   "cell_type": "code",
   "execution_count": 41,
   "id": "8a04ccf6-4947-4e19-ad4f-db7ca2451dea",
   "metadata": {},
   "outputs": [
    {
     "data": {
      "text/plain": [
       "'q3'"
      ]
     },
     "execution_count": 41,
     "metadata": {},
     "output_type": "execute_result"
    }
   ],
   "source": [
    "max(revenue_dict, key = revenue_dict.get)"
   ]
  },
  {
   "cell_type": "code",
   "execution_count": 43,
   "id": "93bf3a1e-453c-4c1c-842b-7b82d3542afa",
   "metadata": {},
   "outputs": [
    {
     "data": {
      "text/plain": [
       "'q2'"
      ]
     },
     "execution_count": 43,
     "metadata": {},
     "output_type": "execute_result"
    }
   ],
   "source": [
    "min(revenue_dict, key = revenue_dict.get)"
   ]
  },
  {
   "cell_type": "markdown",
   "id": "90278a01-c3af-4441-8e69-4a77105af1eb",
   "metadata": {},
   "source": [
    "### Quiz\n",
    "Given the dictionary\n",
    "```\n",
    "daily_sales = {'mon': 0, 'tue': 1, 'wed': 3, 'thu': 5, 'fri': 3}\n",
    "```\n",
    "Find the total number of sales, the day with the most sales and the day with the least sales made during the week."
   ]
  },
  {
   "cell_type": "code",
   "execution_count": 46,
   "id": "34b0717f-d598-460a-8427-1f7f1d2e7143",
   "metadata": {},
   "outputs": [],
   "source": [
    "daily_sales = {'mon': 0, 'tue': 1, 'wed': 3, 'thu': 5, 'fri': 3}"
   ]
  },
  {
   "cell_type": "code",
   "execution_count": 48,
   "id": "4769c8e5-4c78-485b-b8f4-74ecaa3f2108",
   "metadata": {},
   "outputs": [
    {
     "data": {
      "text/plain": [
       "{'mon': 0, 'tue': 1, 'wed': 3, 'thu': 5, 'fri': 3}"
      ]
     },
     "execution_count": 48,
     "metadata": {},
     "output_type": "execute_result"
    }
   ],
   "source": [
    "daily_sales"
   ]
  },
  {
   "cell_type": "code",
   "execution_count": 58,
   "id": "87196a70-e89b-4493-90cb-fc59cb3c82c7",
   "metadata": {},
   "outputs": [
    {
     "data": {
      "text/plain": [
       "12"
      ]
     },
     "execution_count": 58,
     "metadata": {},
     "output_type": "execute_result"
    }
   ],
   "source": [
    "daily_sales['mon']+daily_sales['tue']+daily_sales['wed']+daily_sales['thu']+daily_sales['fri']  ## one way"
   ]
  },
  {
   "cell_type": "code",
   "execution_count": 60,
   "id": "7c74de21-15c6-488d-a03e-46969c3d6b93",
   "metadata": {},
   "outputs": [
    {
     "data": {
      "text/plain": [
       "12"
      ]
     },
     "execution_count": 60,
     "metadata": {},
     "output_type": "execute_result"
    }
   ],
   "source": [
    "sum(daily_sales.values())  ## another way"
   ]
  },
  {
   "cell_type": "code",
   "execution_count": 52,
   "id": "27ce485a-c401-4ad8-9a18-9374999f0b1f",
   "metadata": {},
   "outputs": [
    {
     "data": {
      "text/plain": [
       "5"
      ]
     },
     "execution_count": 52,
     "metadata": {},
     "output_type": "execute_result"
    }
   ],
   "source": [
    "max(daily_sales.values())"
   ]
  },
  {
   "cell_type": "code",
   "execution_count": 54,
   "id": "ccc13d7e-5246-4de3-b3ff-9cc3d7f0829a",
   "metadata": {},
   "outputs": [
    {
     "data": {
      "text/plain": [
       "0"
      ]
     },
     "execution_count": 54,
     "metadata": {},
     "output_type": "execute_result"
    }
   ],
   "source": [
    "min(daily_sales.values())"
   ]
  },
  {
   "cell_type": "code",
   "execution_count": 62,
   "id": "fbcd49aa-a61a-451b-b73d-f50381515597",
   "metadata": {},
   "outputs": [
    {
     "name": "stdout",
     "output_type": "stream",
     "text": [
      "12\n"
     ]
    }
   ],
   "source": [
    "print(sum(daily_sales.values()))"
   ]
  },
  {
   "cell_type": "markdown",
   "id": "0bb67102-db26-42b0-ae5f-a516cefbcdc3",
   "metadata": {},
   "source": [
    "# Tuples\n",
    "Tuples are a type of fundamental Python data structure that are widely used in the DS/ML/AI industry. Similar to lists, tuples are ordered and indexed collections of objects. Created using parentheses `()`, tuples are immutable (they cannot be modified after being defined), ensuring data integrity."
   ]
  },
  {
   "cell_type": "markdown",
   "id": "db8713b7-5cd9-42bb-98b1-940bbdc4416d",
   "metadata": {},
   "source": [
    "### Example\n",
    "Creating tuples"
   ]
  },
  {
   "cell_type": "code",
   "execution_count": 68,
   "id": "67cab0f8-f3a8-46f5-96ad-a5a76858e542",
   "metadata": {},
   "outputs": [],
   "source": [
    "my_tuple = (1, 2, 3, 4)"
   ]
  },
  {
   "cell_type": "code",
   "execution_count": 70,
   "id": "4e9972d3-e03d-414f-ab2e-a3eae5f485a4",
   "metadata": {},
   "outputs": [
    {
     "data": {
      "text/plain": [
       "(1, 2, 3, 4)"
      ]
     },
     "execution_count": 70,
     "metadata": {},
     "output_type": "execute_result"
    }
   ],
   "source": [
    "my_tuple"
   ]
  },
  {
   "cell_type": "code",
   "execution_count": 72,
   "id": "d70eafe2-55e7-40e7-b7db-c7cd45ddd9e9",
   "metadata": {},
   "outputs": [
    {
     "data": {
      "text/plain": [
       "tuple"
      ]
     },
     "execution_count": 72,
     "metadata": {},
     "output_type": "execute_result"
    }
   ],
   "source": [
    "type(my_tuple)"
   ]
  },
  {
   "cell_type": "code",
   "execution_count": 74,
   "id": "2bf88bcb-e9e6-407a-822e-127817df8245",
   "metadata": {},
   "outputs": [],
   "source": [
    "my_list = [1, 3, 5, 7]"
   ]
  },
  {
   "cell_type": "code",
   "execution_count": 76,
   "id": "b5bcda21-51a6-4ba7-a6ef-58c1b772aad2",
   "metadata": {},
   "outputs": [
    {
     "data": {
      "text/plain": [
       "[1, 3, 5, 7]"
      ]
     },
     "execution_count": 76,
     "metadata": {},
     "output_type": "execute_result"
    }
   ],
   "source": [
    "my_list"
   ]
  },
  {
   "cell_type": "code",
   "execution_count": 78,
   "id": "253dbb27-466c-4901-94d5-d2f42eb09228",
   "metadata": {},
   "outputs": [],
   "source": [
    "my_tuple=tuple(my_list)"
   ]
  },
  {
   "cell_type": "code",
   "execution_count": 80,
   "id": "17febbd4-9863-4309-8143-8482f256e1c2",
   "metadata": {},
   "outputs": [
    {
     "data": {
      "text/plain": [
       "(1, 3, 5, 7)"
      ]
     },
     "execution_count": 80,
     "metadata": {},
     "output_type": "execute_result"
    }
   ],
   "source": [
    "my_tuple"
   ]
  },
  {
   "cell_type": "markdown",
   "id": "cc2a70e3-618b-4a13-a215-cff4ac900de2",
   "metadata": {},
   "source": [
    "### Example\n",
    "Creating tuples by combining two iterables (lists, tuples, and so on) element-wise using the `zip()` method"
   ]
  },
  {
   "cell_type": "code",
   "execution_count": 89,
   "id": "6df89466-74de-43f8-b46c-f54952dccc71",
   "metadata": {},
   "outputs": [],
   "source": [
    "list_1 = [1, 2, 3]\n",
    "list_2 = [4, 5, 6]"
   ]
  },
  {
   "cell_type": "code",
   "execution_count": 91,
   "id": "9b8a2a28-d87c-4f94-82b4-dd39bf0d7497",
   "metadata": {},
   "outputs": [],
   "source": [
    "my_tuple = zip(list_1, list_2)"
   ]
  },
  {
   "cell_type": "code",
   "execution_count": 93,
   "id": "8bc79b67-6295-4cfa-9434-55e5e9677d59",
   "metadata": {},
   "outputs": [
    {
     "data": {
      "text/plain": [
       "<zip at 0x1f1c9109340>"
      ]
     },
     "execution_count": 93,
     "metadata": {},
     "output_type": "execute_result"
    }
   ],
   "source": [
    "my_tuple"
   ]
  },
  {
   "cell_type": "markdown",
   "id": "c45b882e-9f01-4f86-bce6-c0d059944e69",
   "metadata": {},
   "source": [
    "Notice that the output is a zip object. To see the content, you need to convert the object into a tuple using the `tuple()` method"
   ]
  },
  {
   "cell_type": "code",
   "execution_count": 96,
   "id": "c3aae3f3-9c8b-45b2-883f-6b5216554d19",
   "metadata": {},
   "outputs": [],
   "source": [
    "result = tuple(my_tuple)"
   ]
  },
  {
   "cell_type": "code",
   "execution_count": 98,
   "id": "9ca0ec51-d4ab-4d4d-b62a-428f7fd89075",
   "metadata": {},
   "outputs": [
    {
     "data": {
      "text/plain": [
       "((1, 4), (2, 5), (3, 6))"
      ]
     },
     "execution_count": 98,
     "metadata": {},
     "output_type": "execute_result"
    }
   ],
   "source": [
    "result"
   ]
  },
  {
   "cell_type": "markdown",
   "id": "dba59fc0-5cd1-4f52-9e00-34c24f233967",
   "metadata": {},
   "source": [
    "Note that the result is a nested tuple containing tuples that contain the corresponding values of `list_1` and `list_2`"
   ]
  },
  {
   "cell_type": "markdown",
   "id": "b8e66c27-c1c5-4bc8-8712-3ae0158a0a0c",
   "metadata": {},
   "source": [
    "### Example\n",
    "Indexing and slicing tuples"
   ]
  },
  {
   "cell_type": "code",
   "execution_count": 102,
   "id": "df540777-59b6-4943-a719-232bc5c5b298",
   "metadata": {},
   "outputs": [
    {
     "data": {
      "text/plain": [
       "(10, 3, 5, 6, 2.5, 12)"
      ]
     },
     "execution_count": 102,
     "metadata": {},
     "output_type": "execute_result"
    }
   ],
   "source": [
    "my_tuple = (10, 3, 5, 6, 2.5, 12)\n",
    "my_tuple"
   ]
  },
  {
   "cell_type": "code",
   "execution_count": 104,
   "id": "8c8b86ba-d53e-40b9-9c07-a60a948bf1ac",
   "metadata": {},
   "outputs": [
    {
     "data": {
      "text/plain": [
       "12"
      ]
     },
     "execution_count": 104,
     "metadata": {},
     "output_type": "execute_result"
    }
   ],
   "source": [
    "my_tuple[5]"
   ]
  },
  {
   "cell_type": "code",
   "execution_count": 106,
   "id": "1558308c-7089-4711-b0c7-86176c96ceb8",
   "metadata": {},
   "outputs": [
    {
     "data": {
      "text/plain": [
       "2.5"
      ]
     },
     "execution_count": 106,
     "metadata": {},
     "output_type": "execute_result"
    }
   ],
   "source": [
    "my_tuple[-2]"
   ]
  },
  {
   "cell_type": "code",
   "execution_count": 108,
   "id": "b3b7b2ce-8393-48eb-a847-755a14e27f2a",
   "metadata": {},
   "outputs": [
    {
     "data": {
      "text/plain": [
       "(3, 5, 6, 2.5, 12)"
      ]
     },
     "execution_count": 108,
     "metadata": {},
     "output_type": "execute_result"
    }
   ],
   "source": [
    "my_tuple[1:6]"
   ]
  },
  {
   "cell_type": "markdown",
   "id": "5eb4029e-2138-4240-944b-f0c0d6a5ff99",
   "metadata": {},
   "source": [
    "The indexing and accessing methods for tuples are similar to the ones used for lists"
   ]
  },
  {
   "cell_type": "markdown",
   "id": "52d874e0-4783-4135-83e3-d393d77af0cf",
   "metadata": {},
   "source": [
    "### Example\n",
    "Adding and removing elements from a tuple"
   ]
  },
  {
   "cell_type": "markdown",
   "id": "6978b78c-0c6f-43d2-bff2-0fad3369f8a3",
   "metadata": {},
   "source": [
    "temp_tuple = (1, 2, 3)\n",
    "temp_tuple.append(4)"
   ]
  },
  {
   "cell_type": "code",
   "execution_count": null,
   "id": "b61c5252-5b82-439e-bcac-4a5f62587367",
   "metadata": {},
   "outputs": [],
   "source": []
  },
  {
   "cell_type": "markdown",
   "id": "76801d97-c1bb-448c-bcdc-51ee9b78bcf0",
   "metadata": {},
   "source": [
    "### Example\n",
    "Finding the length of a tuple"
   ]
  },
  {
   "cell_type": "code",
   "execution_count": 119,
   "id": "039c0392-c910-4361-b49b-f1168868f4fb",
   "metadata": {},
   "outputs": [
    {
     "data": {
      "text/plain": [
       "(13, 20, 33, 41, 55, 20)"
      ]
     },
     "execution_count": 119,
     "metadata": {},
     "output_type": "execute_result"
    }
   ],
   "source": [
    "my_tuple = (13, 20, 33, 41, 55, 20)\n",
    "my_tuple"
   ]
  },
  {
   "cell_type": "code",
   "execution_count": 121,
   "id": "e7075995-44bc-4de5-b720-d34315787826",
   "metadata": {},
   "outputs": [
    {
     "data": {
      "text/plain": [
       "6"
      ]
     },
     "execution_count": 121,
     "metadata": {},
     "output_type": "execute_result"
    }
   ],
   "source": [
    "len(my_tuple)"
   ]
  },
  {
   "cell_type": "markdown",
   "id": "de8242ee-5dfd-401e-b968-bb41fd4f182e",
   "metadata": {},
   "source": [
    "Checking for the presence or absence of elements in a tuple"
   ]
  },
  {
   "cell_type": "code",
   "execution_count": 124,
   "id": "7b46a52f-05ae-4e57-a797-22b7203ef72f",
   "metadata": {},
   "outputs": [
    {
     "data": {
      "text/plain": [
       "True"
      ]
     },
     "execution_count": 124,
     "metadata": {},
     "output_type": "execute_result"
    }
   ],
   "source": [
    "20 in my_tuple"
   ]
  },
  {
   "cell_type": "code",
   "execution_count": 126,
   "id": "cb5751a2-3a4a-4c2e-86b9-a0b89e14e76d",
   "metadata": {},
   "outputs": [
    {
     "data": {
      "text/plain": [
       "False"
      ]
     },
     "execution_count": 126,
     "metadata": {},
     "output_type": "execute_result"
    }
   ],
   "source": [
    "45 in my_tuple"
   ]
  },
  {
   "cell_type": "markdown",
   "id": "50e06c06-1319-4668-ae3a-0da09f7be8a7",
   "metadata": {},
   "source": [
    "Finding the index of an element in a tuple"
   ]
  },
  {
   "cell_type": "code",
   "execution_count": 129,
   "id": "4ef7b7ed-bcf0-4a84-bd86-587ee8c01539",
   "metadata": {},
   "outputs": [
    {
     "data": {
      "text/plain": [
       "3"
      ]
     },
     "execution_count": 129,
     "metadata": {},
     "output_type": "execute_result"
    }
   ],
   "source": [
    "my_tuple.index(41)"
   ]
  },
  {
   "cell_type": "markdown",
   "id": "f72e4c30-0405-48c0-808d-e8340735c937",
   "metadata": {},
   "source": [
    "Finding the maximum element in a tuple"
   ]
  },
  {
   "cell_type": "code",
   "execution_count": 132,
   "id": "b7b2ff99-bb51-4e69-8160-6ebbaf23f668",
   "metadata": {},
   "outputs": [
    {
     "data": {
      "text/plain": [
       "55"
      ]
     },
     "execution_count": 132,
     "metadata": {},
     "output_type": "execute_result"
    }
   ],
   "source": [
    "max(my_tuple)"
   ]
  },
  {
   "cell_type": "markdown",
   "id": "77fe0c64-35bb-46fc-9411-810ca71e7329",
   "metadata": {},
   "source": [
    "Finding the minimum element in a tuple"
   ]
  },
  {
   "cell_type": "code",
   "execution_count": 134,
   "id": "3bf1e41e-9be7-4f06-868d-d5b1ddc741ea",
   "metadata": {},
   "outputs": [
    {
     "data": {
      "text/plain": [
       "13"
      ]
     },
     "execution_count": 134,
     "metadata": {},
     "output_type": "execute_result"
    }
   ],
   "source": [
    "min(my_tuple)"
   ]
  },
  {
   "cell_type": "markdown",
   "id": "371fb304-d62d-41a8-8192-6a536593beba",
   "metadata": {},
   "source": [
    "Computing the sum of all elements in a tuple"
   ]
  },
  {
   "cell_type": "code",
   "execution_count": 136,
   "id": "d2f6e158-e751-40b9-8655-6fec938caa5d",
   "metadata": {},
   "outputs": [
    {
     "data": {
      "text/plain": [
       "182"
      ]
     },
     "execution_count": 136,
     "metadata": {},
     "output_type": "execute_result"
    }
   ],
   "source": [
    "sum(my_tuple)"
   ]
  },
  {
   "cell_type": "markdown",
   "id": "e9207c67-7559-4c97-ac8f-68649fcc8933",
   "metadata": {},
   "source": [
    "Finding the frequency of an element in a tuple"
   ]
  },
  {
   "cell_type": "code",
   "execution_count": 141,
   "id": "ea0104d7-a3d3-4547-b29c-60557e905a48",
   "metadata": {},
   "outputs": [
    {
     "data": {
      "text/plain": [
       "2"
      ]
     },
     "execution_count": 141,
     "metadata": {},
     "output_type": "execute_result"
    }
   ],
   "source": [
    "my_tuple.count(20)"
   ]
  },
  {
   "cell_type": "markdown",
   "id": "eacb916a-0f2f-4e5e-b67c-9b0df1c9ef07",
   "metadata": {},
   "source": [
    "Unpacking elements of a tuple"
   ]
  },
  {
   "cell_type": "code",
   "execution_count": 146,
   "id": "07e8b50f-ed2c-4919-ae4c-c3580d5be87f",
   "metadata": {},
   "outputs": [],
   "source": [
    "ele_1, ele_2, ele_3, ele_4, ele_5, ele_6 = my_tuple"
   ]
  },
  {
   "cell_type": "code",
   "execution_count": 148,
   "id": "88304f2d-2a42-4e36-9eca-5d16ea93801d",
   "metadata": {},
   "outputs": [
    {
     "data": {
      "text/plain": [
       "13"
      ]
     },
     "execution_count": 148,
     "metadata": {},
     "output_type": "execute_result"
    }
   ],
   "source": [
    "ele_1"
   ]
  },
  {
   "cell_type": "code",
   "execution_count": 150,
   "id": "e0c81abb-8af4-44c6-bace-edea76eb2043",
   "metadata": {},
   "outputs": [
    {
     "data": {
      "text/plain": [
       "20"
      ]
     },
     "execution_count": 150,
     "metadata": {},
     "output_type": "execute_result"
    }
   ],
   "source": [
    "ele_2"
   ]
  },
  {
   "cell_type": "code",
   "execution_count": 152,
   "id": "9277bb38-5a1f-4bbf-aaf3-d25f5c951571",
   "metadata": {},
   "outputs": [],
   "source": [
    "ele_1, _, ele_3, ele_4, _, _ = my_tuple"
   ]
  },
  {
   "cell_type": "code",
   "execution_count": 154,
   "id": "a0c76201-1791-4759-bdc1-dc25178f3370",
   "metadata": {},
   "outputs": [
    {
     "data": {
      "text/plain": [
       "20"
      ]
     },
     "execution_count": 154,
     "metadata": {},
     "output_type": "execute_result"
    }
   ],
   "source": [
    "_"
   ]
  },
  {
   "cell_type": "markdown",
   "id": "eaaadd3e-e257-4db2-a521-cf64ae7c9819",
   "metadata": {},
   "source": [
    "### Example\n",
    "Concatenating, repeating and extending tuples"
   ]
  },
  {
   "cell_type": "code",
   "execution_count": 157,
   "id": "5e977224-a01d-4648-94ef-b6d0f6f14c26",
   "metadata": {},
   "outputs": [
    {
     "data": {
      "text/plain": [
       "('H', 'E', 'L', 'L', 'O')"
      ]
     },
     "execution_count": 157,
     "metadata": {},
     "output_type": "execute_result"
    }
   ],
   "source": [
    "tuple_1 = ('H', 'E', 'L', 'L', 'O')\n",
    "tuple_1"
   ]
  },
  {
   "cell_type": "code",
   "execution_count": 159,
   "id": "a3bb4d4e-711a-41f5-9907-6b59d629fb30",
   "metadata": {},
   "outputs": [
    {
     "data": {
      "text/plain": [
       "('T', 'H', 'E', 'R', 'E')"
      ]
     },
     "execution_count": 159,
     "metadata": {},
     "output_type": "execute_result"
    }
   ],
   "source": [
    "tuple_2 = ('T', 'H', 'E', 'R', 'E')\n",
    "tuple_2"
   ]
  },
  {
   "cell_type": "code",
   "execution_count": 161,
   "id": "3a09f0f0-74df-49ee-8774-69fd9acac7db",
   "metadata": {},
   "outputs": [],
   "source": [
    "new_tuple = tuple_1 + tuple_2"
   ]
  },
  {
   "cell_type": "code",
   "execution_count": 163,
   "id": "685d2ea6-85d3-4728-8201-ba2d7bf94915",
   "metadata": {},
   "outputs": [
    {
     "data": {
      "text/plain": [
       "('H', 'E', 'L', 'L', 'O', 'T', 'H', 'E', 'R', 'E')"
      ]
     },
     "execution_count": 163,
     "metadata": {},
     "output_type": "execute_result"
    }
   ],
   "source": [
    "new_tuple"
   ]
  },
  {
   "cell_type": "code",
   "execution_count": 165,
   "id": "20060506-8d9b-4376-a5dd-8fb2bf3698f3",
   "metadata": {},
   "outputs": [
    {
     "data": {
      "text/plain": [
       "('H', 'E', 'L', 'L', 'O', 'H', 'E', 'L', 'L', 'O')"
      ]
     },
     "execution_count": 165,
     "metadata": {},
     "output_type": "execute_result"
    }
   ],
   "source": [
    "tuple_1 + tuple_1"
   ]
  },
  {
   "cell_type": "code",
   "execution_count": 167,
   "id": "571a7e49-77a3-4ea3-9774-452b30d1f507",
   "metadata": {},
   "outputs": [
    {
     "data": {
      "text/plain": [
       "('H', 'E', 'L', 'L', 'O', 'H', 'E', 'L', 'L', 'O', 'H', 'E', 'L', 'L', 'O')"
      ]
     },
     "execution_count": 167,
     "metadata": {},
     "output_type": "execute_result"
    }
   ],
   "source": [
    "tuple_1 * 3"
   ]
  },
  {
   "cell_type": "markdown",
   "id": "2272cb1a-1089-46ef-bb2d-713522b47a3b",
   "metadata": {},
   "source": [
    "### Example\n",
    "Sorting tuple elements using the `sorted()` function"
   ]
  },
  {
   "cell_type": "markdown",
   "id": "d393a3c3-9f21-41f4-ad2e-45a83cf0b84e",
   "metadata": {},
   "source": [
    "It is important to note that tuples are immutable. Therefore, sorting a tuple creates a new sorted list rather than modifying the original tuple in-place."
   ]
  },
  {
   "cell_type": "code",
   "execution_count": 171,
   "id": "74128274-7e38-4373-aed2-8f54b725cd59",
   "metadata": {},
   "outputs": [],
   "source": [
    "my_tuple = (41, 13, 55, 20, 33)"
   ]
  },
  {
   "cell_type": "code",
   "execution_count": 173,
   "id": "56c00ccf-ad7e-4215-9f45-62c580c3f379",
   "metadata": {},
   "outputs": [],
   "source": [
    "sorted_elements = sorted(my_tuple)"
   ]
  },
  {
   "cell_type": "code",
   "execution_count": 175,
   "id": "736de975-00ed-44e8-b7d5-14ba33478701",
   "metadata": {},
   "outputs": [
    {
     "data": {
      "text/plain": [
       "[13, 20, 33, 41, 55]"
      ]
     },
     "execution_count": 175,
     "metadata": {},
     "output_type": "execute_result"
    }
   ],
   "source": [
    "sorted_elements"
   ]
  },
  {
   "cell_type": "code",
   "execution_count": 177,
   "id": "85f4355e-8487-4ed5-a354-b07738e70333",
   "metadata": {},
   "outputs": [],
   "source": [
    "sorted_elements=sorted(my_tuple,reverse=True)"
   ]
  },
  {
   "cell_type": "code",
   "execution_count": 179,
   "id": "b236e1f2-d0e7-4430-8c92-8556ec84816d",
   "metadata": {},
   "outputs": [
    {
     "data": {
      "text/plain": [
       "[55, 41, 33, 20, 13]"
      ]
     },
     "execution_count": 179,
     "metadata": {},
     "output_type": "execute_result"
    }
   ],
   "source": [
    "sorted_elements"
   ]
  },
  {
   "cell_type": "markdown",
   "id": "a0ad1d6a-f793-426d-b11a-a1fa01a718a9",
   "metadata": {},
   "source": [
    "Notice that the `sorted()` function returns a list of ordered elements. Therefore, to get the sorted tuple, you should convert the list into a tuple by using the `tuple()` function."
   ]
  },
  {
   "cell_type": "code",
   "execution_count": 182,
   "id": "5cab3b04-2835-4a06-941c-67f854684b65",
   "metadata": {},
   "outputs": [
    {
     "data": {
      "text/plain": [
       "(55, 41, 33, 20, 13)"
      ]
     },
     "execution_count": 182,
     "metadata": {},
     "output_type": "execute_result"
    }
   ],
   "source": [
    "ascending_tuple = tuple(sorted_elements)\n",
    "ascending_tuple"
   ]
  },
  {
   "cell_type": "code",
   "execution_count": null,
   "id": "1f61b007-44b3-4dea-b507-3685688809ac",
   "metadata": {},
   "outputs": [],
   "source": [
    "### Quiz\n",
    "*The following question is similar to ones that can be asked in interviews at companies such as Amazon and KPMG for roles such as Python Developer and Data Analyst. Make sure to attempt this question!*\n",
    "\n",
    "> What is the difference between a list and a tuple?"
   ]
  },
  {
   "cell_type": "markdown",
   "id": "36fa687e-0bb0-4fd6-82ec-6645b0eda1d8",
   "metadata": {},
   "source": [
    "# Sets\n",
    "Similar to lists and tuples, sets are collections of objects, but they are distinct in that they are unordered and do not support indexing. Created using curly braces `{}`, sets offer unique elements, eliminating duplicates and providing a mechanism for efficient membership testing."
   ]
  },
  {
   "cell_type": "markdown",
   "id": "4284c7fa-8d08-4493-864a-42998d55ac11",
   "metadata": {},
   "source": [
    "### Example\n",
    "Creating an empty set"
   ]
  },
  {
   "cell_type": "code",
   "execution_count": 186,
   "id": "c5df8095-6479-4c5f-af5f-d03e3143a697",
   "metadata": {},
   "outputs": [],
   "source": [
    "my_set = {}"
   ]
  },
  {
   "cell_type": "code",
   "execution_count": 188,
   "id": "bfa23939-89b1-405e-b1e8-5df027ebd35d",
   "metadata": {},
   "outputs": [
    {
     "data": {
      "text/plain": [
       "dict"
      ]
     },
     "execution_count": 188,
     "metadata": {},
     "output_type": "execute_result"
    }
   ],
   "source": [
    "type(my_set)"
   ]
  },
  {
   "cell_type": "markdown",
   "id": "65e3c08b-1c98-4e61-a6bb-790cbb92b4c9",
   "metadata": {},
   "source": [
    "Note that the syntax to create empty sets and dictionaries is identical, and using `{}` defaults to creating a dictionary."
   ]
  },
  {
   "cell_type": "code",
   "execution_count": 191,
   "id": "6144ecc4-31ac-4700-95c4-6d408ab78be7",
   "metadata": {},
   "outputs": [],
   "source": [
    "my_list = []"
   ]
  },
  {
   "cell_type": "code",
   "execution_count": 193,
   "id": "206db66f-132f-4eba-8a53-6bbd98824712",
   "metadata": {},
   "outputs": [],
   "source": [
    "my_set = set(my_list)"
   ]
  },
  {
   "cell_type": "code",
   "execution_count": 195,
   "id": "4962ba73-4aff-41fa-a5c5-8741cbd8289f",
   "metadata": {},
   "outputs": [
    {
     "data": {
      "text/plain": [
       "set()"
      ]
     },
     "execution_count": 195,
     "metadata": {},
     "output_type": "execute_result"
    }
   ],
   "source": [
    "my_set"
   ]
  },
  {
   "cell_type": "code",
   "execution_count": 197,
   "id": "f871f079-c40a-4c19-955c-68f76d931955",
   "metadata": {},
   "outputs": [],
   "source": [
    "my_set = {3, 2, 4, 1, 0}"
   ]
  },
  {
   "cell_type": "code",
   "execution_count": 199,
   "id": "2ec5e587-f2b3-45f2-80bf-8b592f6e87ec",
   "metadata": {},
   "outputs": [
    {
     "data": {
      "text/plain": [
       "set"
      ]
     },
     "execution_count": 199,
     "metadata": {},
     "output_type": "execute_result"
    }
   ],
   "source": [
    "type(my_set)"
   ]
  },
  {
   "cell_type": "code",
   "execution_count": 201,
   "id": "516b2048-8903-40d9-bfa9-ef928d8260ff",
   "metadata": {},
   "outputs": [
    {
     "data": {
      "text/plain": [
       "{0, 1, 2, 3, 4}"
      ]
     },
     "execution_count": 201,
     "metadata": {},
     "output_type": "execute_result"
    }
   ],
   "source": [
    "my_set     ### ordered dic"
   ]
  },
  {
   "cell_type": "markdown",
   "id": "f2fed0b1-5b71-4c55-8507-bc8e31301729",
   "metadata": {},
   "source": [
    "**Note:** You may notice the elements have been sorted in an ascending order. However, if you consistently observe the elements of your set being printed in the same order, it's important to note that this behavior is not guaranteed by the Python language specification.\n",
    "\n",
    "The ordering of elements in a set is not something that you should rely on."
   ]
  },
  {
   "cell_type": "code",
   "execution_count": 204,
   "id": "3f9b3019-e332-4853-b6ad-bbf86f9a3d33",
   "metadata": {},
   "outputs": [],
   "source": [
    "my_string = 'Hello'"
   ]
  },
  {
   "cell_type": "code",
   "execution_count": 206,
   "id": "b3c467b4-9d74-409d-97b0-59a0876646e1",
   "metadata": {},
   "outputs": [],
   "source": [
    "my_set = set(my_string)"
   ]
  },
  {
   "cell_type": "code",
   "execution_count": 208,
   "id": "495d17da-125c-4ac3-859e-419f6a035f68",
   "metadata": {},
   "outputs": [
    {
     "data": {
      "text/plain": [
       "{'H', 'e', 'l', 'o'}"
      ]
     },
     "execution_count": 208,
     "metadata": {},
     "output_type": "execute_result"
    }
   ],
   "source": [
    "my_set"
   ]
  },
  {
   "cell_type": "markdown",
   "id": "0d4a024e-53f1-4841-a530-a6ad9c745177",
   "metadata": {},
   "source": [
    "**Note:** Duplicate items have been removed when we created the set. Sets only store unique elements."
   ]
  },
  {
   "cell_type": "markdown",
   "id": "619c3cf9-a798-412c-b06f-e5fea1d0b1d6",
   "metadata": {},
   "source": [
    "### Example\n",
    "Indexing elements in a set"
   ]
  },
  {
   "cell_type": "code",
   "execution_count": 212,
   "id": "a4ec71eb-bfbb-4320-af66-c72cd97e2b11",
   "metadata": {},
   "outputs": [],
   "source": [
    "my_set = {1, 2, 3, 4, 5}"
   ]
  },
  {
   "cell_type": "markdown",
   "id": "d3c85a38-3506-4cd5-8a84-d26ae1c1503e",
   "metadata": {},
   "source": [
    "**Note:** Unlike other data structures like arrays or lists, sets do not maintain an inherent order or index for their elements. This means that you cannot access set elements using numerical indices. One may convert sets to lists or tuples to access the elements within, but it is important to note again that the ordering of elements within a set is not guaranteed."
   ]
  },
  {
   "cell_type": "markdown",
   "id": "5c2675d6-979f-41d3-807c-a3a00848ce02",
   "metadata": {},
   "source": [
    "### Example\n",
    "Finding the length of a set"
   ]
  },
  {
   "cell_type": "code",
   "execution_count": 222,
   "id": "76d06949-1a29-4366-a25d-a442ee83818c",
   "metadata": {},
   "outputs": [
    {
     "data": {
      "text/plain": [
       "5"
      ]
     },
     "execution_count": 222,
     "metadata": {},
     "output_type": "execute_result"
    }
   ],
   "source": [
    "len(my_set)"
   ]
  },
  {
   "cell_type": "markdown",
   "id": "2caa2d3a-d889-4e0e-91bf-d2af7230d00e",
   "metadata": {},
   "source": [
    "Check for the presence or absence of elements in a set"
   ]
  },
  {
   "cell_type": "code",
   "execution_count": 225,
   "id": "1612e1a7-058f-47b9-b120-2ffc19b96c2f",
   "metadata": {},
   "outputs": [
    {
     "data": {
      "text/plain": [
       "False"
      ]
     },
     "execution_count": 225,
     "metadata": {},
     "output_type": "execute_result"
    }
   ],
   "source": [
    "3.5 in my_set"
   ]
  },
  {
   "cell_type": "code",
   "execution_count": 227,
   "id": "bab469ca-8824-4311-a1e8-492d53b1d8cf",
   "metadata": {},
   "outputs": [
    {
     "data": {
      "text/plain": [
       "True"
      ]
     },
     "execution_count": 227,
     "metadata": {},
     "output_type": "execute_result"
    }
   ],
   "source": [
    "3 in my_set"
   ]
  },
  {
   "cell_type": "markdown",
   "id": "9a39e6cb-84ee-4c29-8f59-17cac4ad2587",
   "metadata": {},
   "source": [
    "### Example\n",
    "Adding elements to and removing elements from sets"
   ]
  },
  {
   "cell_type": "code",
   "execution_count": 252,
   "id": "e07c9e0e-94b6-402e-9985-266a817b63ba",
   "metadata": {},
   "outputs": [
    {
     "data": {
      "text/plain": [
       "{1, 2, 3, 4, 5}"
      ]
     },
     "execution_count": 252,
     "metadata": {},
     "output_type": "execute_result"
    }
   ],
   "source": [
    "my_set = {1, 2, 3, 4, 5}\n",
    "my_set"
   ]
  },
  {
   "cell_type": "code",
   "execution_count": 254,
   "id": "40cd2288-20fe-451f-aa2d-1317c1e171a5",
   "metadata": {},
   "outputs": [],
   "source": [
    "my_set.add(6)"
   ]
  },
  {
   "cell_type": "code",
   "execution_count": 256,
   "id": "9d94a2a1-c535-4eb8-a9d1-a22c6e181d16",
   "metadata": {},
   "outputs": [
    {
     "data": {
      "text/plain": [
       "{1, 2, 3, 4, 5, 6}"
      ]
     },
     "execution_count": 256,
     "metadata": {},
     "output_type": "execute_result"
    }
   ],
   "source": [
    "my_set"
   ]
  },
  {
   "cell_type": "code",
   "execution_count": 258,
   "id": "ffc1cf49-4de4-4792-95a2-9094e1d941a1",
   "metadata": {},
   "outputs": [],
   "source": [
    "my_set = my_set.add(7)"
   ]
  },
  {
   "cell_type": "code",
   "execution_count": 260,
   "id": "99707cb6-8153-417a-9438-18f873f29438",
   "metadata": {},
   "outputs": [],
   "source": [
    "my_set"
   ]
  },
  {
   "cell_type": "code",
   "execution_count": 262,
   "id": "00f32fd8-dc8f-4e8a-b2a7-bfc265e27d5f",
   "metadata": {},
   "outputs": [
    {
     "data": {
      "text/plain": [
       "NoneType"
      ]
     },
     "execution_count": 262,
     "metadata": {},
     "output_type": "execute_result"
    }
   ],
   "source": [
    "type(my_set)"
   ]
  },
  {
   "cell_type": "markdown",
   "id": "b9879eaa-6057-4280-9af9-d56e68ef74c3",
   "metadata": {},
   "source": [
    "Since the operation is being executed in-place, the output is `None`."
   ]
  },
  {
   "cell_type": "code",
   "execution_count": 265,
   "id": "df8f1e88-fe55-48b9-a3ad-178719cd0f97",
   "metadata": {},
   "outputs": [
    {
     "data": {
      "text/plain": [
       "{1, 2, 3, 4, 5}"
      ]
     },
     "execution_count": 265,
     "metadata": {},
     "output_type": "execute_result"
    }
   ],
   "source": [
    "my_set = {1, 2, 3, 4, 5}\n",
    "my_set"
   ]
  },
  {
   "cell_type": "code",
   "execution_count": 267,
   "id": "35b50961-9af3-4f05-9aa7-d8b00a44f90d",
   "metadata": {},
   "outputs": [],
   "source": [
    "my_set.remove(4)"
   ]
  },
  {
   "cell_type": "code",
   "execution_count": 269,
   "id": "9e8dcc59-ca56-4f1e-bd20-5e4e4fa6185e",
   "metadata": {},
   "outputs": [
    {
     "data": {
      "text/plain": [
       "{1, 2, 3, 5}"
      ]
     },
     "execution_count": 269,
     "metadata": {},
     "output_type": "execute_result"
    }
   ],
   "source": [
    "my_set"
   ]
  },
  {
   "cell_type": "code",
   "execution_count": 273,
   "id": "0aa23582-705c-4db5-bc12-48ba4a693942",
   "metadata": {},
   "outputs": [],
   "source": [
    "my_set=my_set.remove(3)"
   ]
  },
  {
   "cell_type": "code",
   "execution_count": 277,
   "id": "9e35a37d-be10-49f1-8722-e96a697a0742",
   "metadata": {},
   "outputs": [],
   "source": [
    "my_set"
   ]
  },
  {
   "cell_type": "code",
   "execution_count": 279,
   "id": "d9528d1c-d303-47dd-893f-ad1426ac2c7a",
   "metadata": {},
   "outputs": [
    {
     "data": {
      "text/plain": [
       "NoneType"
      ]
     },
     "execution_count": 279,
     "metadata": {},
     "output_type": "execute_result"
    }
   ],
   "source": [
    "type(my_set)"
   ]
  },
  {
   "cell_type": "code",
   "execution_count": 281,
   "id": "3fd0ac3c-11ba-4c11-af4a-92987d33df51",
   "metadata": {},
   "outputs": [],
   "source": [
    "my_set = {1, 2, 3, 4, 5}"
   ]
  },
  {
   "cell_type": "code",
   "execution_count": 283,
   "id": "c2a7ef7c-251a-4759-9ccf-53854ee3bbca",
   "metadata": {},
   "outputs": [],
   "source": [
    "my_set.discard(2)"
   ]
  },
  {
   "cell_type": "code",
   "execution_count": 285,
   "id": "402e0f97-0f7b-46c8-8deb-cee6969b8e8c",
   "metadata": {},
   "outputs": [
    {
     "data": {
      "text/plain": [
       "{1, 3, 4, 5}"
      ]
     },
     "execution_count": 285,
     "metadata": {},
     "output_type": "execute_result"
    }
   ],
   "source": [
    "my_set"
   ]
  },
  {
   "cell_type": "markdown",
   "id": "0828629c-8a1a-4aad-896f-a4a969ae5afe",
   "metadata": {},
   "source": [
    "### Example\n",
    "Subsets"
   ]
  },
  {
   "cell_type": "code",
   "execution_count": 288,
   "id": "b0ca5481-e81f-49a2-873f-768072f5833d",
   "metadata": {},
   "outputs": [
    {
     "data": {
      "text/plain": [
       "{1, 2, 3, 4}"
      ]
     },
     "execution_count": 288,
     "metadata": {},
     "output_type": "execute_result"
    }
   ],
   "source": [
    "A = {1, 2, 3, 4}   ##super set\n",
    "A"
   ]
  },
  {
   "cell_type": "code",
   "execution_count": 290,
   "id": "248cb47a-21c8-4bce-b49d-288389987bab",
   "metadata": {},
   "outputs": [
    {
     "data": {
      "text/plain": [
       "{1, 2, 3}"
      ]
     },
     "execution_count": 290,
     "metadata": {},
     "output_type": "execute_result"
    }
   ],
   "source": [
    "B = {1, 2, 3}  #subset\n",
    "B"
   ]
  },
  {
   "cell_type": "code",
   "execution_count": 292,
   "id": "4a4e220a-522c-4481-a5f5-7055ba64e935",
   "metadata": {},
   "outputs": [
    {
     "data": {
      "text/plain": [
       "True"
      ]
     },
     "execution_count": 292,
     "metadata": {},
     "output_type": "execute_result"
    }
   ],
   "source": [
    "B.issubset(A)"
   ]
  },
  {
   "cell_type": "code",
   "execution_count": 294,
   "id": "ad9f4f6a-4805-4aa0-b115-990bb1f9270e",
   "metadata": {},
   "outputs": [
    {
     "data": {
      "text/plain": [
       "False"
      ]
     },
     "execution_count": 294,
     "metadata": {},
     "output_type": "execute_result"
    }
   ],
   "source": [
    "A.issubset(B)"
   ]
  },
  {
   "cell_type": "markdown",
   "id": "2b958634-ee6c-47d0-bd16-7853f875a981",
   "metadata": {},
   "source": [
    "### Example\n",
    "Finding the union of sets"
   ]
  },
  {
   "cell_type": "code",
   "execution_count": 297,
   "id": "6c5fd6c7-190a-4c01-98b9-619432aad057",
   "metadata": {},
   "outputs": [
    {
     "data": {
      "text/plain": [
       "{'A', 'B', 'C', 'D', 'E'}"
      ]
     },
     "execution_count": 297,
     "metadata": {},
     "output_type": "execute_result"
    }
   ],
   "source": [
    "A = {'A', 'B', 'C', 'D', 'E'}\n",
    "A"
   ]
  },
  {
   "cell_type": "code",
   "execution_count": 299,
   "id": "9f0d8fc0-f87a-4b45-ba4f-035e4ff6a284",
   "metadata": {},
   "outputs": [
    {
     "data": {
      "text/plain": [
       "{6, 7, 8, 9}"
      ]
     },
     "execution_count": 299,
     "metadata": {},
     "output_type": "execute_result"
    }
   ],
   "source": [
    "B = {6, 7, 8, 9}\n",
    "B"
   ]
  },
  {
   "cell_type": "code",
   "execution_count": 301,
   "id": "37531a50-10e5-4485-a209-760041bc6d55",
   "metadata": {},
   "outputs": [],
   "source": [
    "union_AB = A | B"
   ]
  },
  {
   "cell_type": "code",
   "execution_count": 303,
   "id": "5812fe0e-5c89-4524-959d-322dbf502faf",
   "metadata": {},
   "outputs": [
    {
     "data": {
      "text/plain": [
       "{6, 7, 8, 9, 'A', 'B', 'C', 'D', 'E'}"
      ]
     },
     "execution_count": 303,
     "metadata": {},
     "output_type": "execute_result"
    }
   ],
   "source": [
    "union_AB"
   ]
  },
  {
   "cell_type": "code",
   "execution_count": 305,
   "id": "52c733ae-c244-4483-85f1-7b450708651c",
   "metadata": {},
   "outputs": [
    {
     "data": {
      "text/plain": [
       "True"
      ]
     },
     "execution_count": 305,
     "metadata": {},
     "output_type": "execute_result"
    }
   ],
   "source": [
    "A | B == B | A"
   ]
  },
  {
   "cell_type": "code",
   "execution_count": 307,
   "id": "e32172f5-b75f-4d00-8554-49cddb746652",
   "metadata": {},
   "outputs": [
    {
     "data": {
      "text/plain": [
       "{'A', 'B', 'C', 'D', 'E'}"
      ]
     },
     "execution_count": 307,
     "metadata": {},
     "output_type": "execute_result"
    }
   ],
   "source": [
    "A or B     ##doubt"
   ]
  },
  {
   "cell_type": "code",
   "execution_count": 309,
   "id": "ba4230ce-61a1-4611-a30d-ffea57b99a96",
   "metadata": {},
   "outputs": [
    {
     "data": {
      "text/plain": [
       "{6, 7, 8, 9}"
      ]
     },
     "execution_count": 309,
     "metadata": {},
     "output_type": "execute_result"
    }
   ],
   "source": [
    "B or A  ##doubt"
   ]
  },
  {
   "cell_type": "markdown",
   "id": "6524c33f-a93b-4351-89c8-8d086da0b167",
   "metadata": {},
   "source": [
    "Finding the intersection of two sets"
   ]
  },
  {
   "cell_type": "code",
   "execution_count": 312,
   "id": "ee6ddcb4-6938-4865-87c9-14d3ec10acb3",
   "metadata": {},
   "outputs": [
    {
     "data": {
      "text/plain": [
       "{'A', 'B', 'C', 'D', 'E'}"
      ]
     },
     "execution_count": 312,
     "metadata": {},
     "output_type": "execute_result"
    }
   ],
   "source": [
    "A"
   ]
  },
  {
   "cell_type": "code",
   "execution_count": 314,
   "id": "20f5f64a-d9bc-45f6-a025-d2b74d2e4cf7",
   "metadata": {},
   "outputs": [
    {
     "data": {
      "text/plain": [
       "{10, 11, 12, 13, 'A', 'D'}"
      ]
     },
     "execution_count": 314,
     "metadata": {},
     "output_type": "execute_result"
    }
   ],
   "source": [
    "C = {10, 'A', 11, 'D', 12, 13}\n",
    "C"
   ]
  },
  {
   "cell_type": "code",
   "execution_count": 316,
   "id": "a7e15ba1-42d7-4f4e-99af-09de14ae99da",
   "metadata": {},
   "outputs": [],
   "source": [
    "intersection_AC = A & C"
   ]
  },
  {
   "cell_type": "code",
   "execution_count": 318,
   "id": "54d1cdae-c09d-4c48-a6c2-b73ff6dbf0c0",
   "metadata": {},
   "outputs": [
    {
     "data": {
      "text/plain": [
       "{'A', 'D'}"
      ]
     },
     "execution_count": 318,
     "metadata": {},
     "output_type": "execute_result"
    }
   ],
   "source": [
    "intersection_AC"
   ]
  },
  {
   "cell_type": "code",
   "execution_count": 320,
   "id": "a0b9affb-e54b-498f-91c2-1c5438b92254",
   "metadata": {},
   "outputs": [
    {
     "data": {
      "text/plain": [
       "True"
      ]
     },
     "execution_count": 320,
     "metadata": {},
     "output_type": "execute_result"
    }
   ],
   "source": [
    "A & C == C & A"
   ]
  },
  {
   "cell_type": "code",
   "execution_count": 322,
   "id": "4ac2c7e7-786f-4e9e-9e39-e97f7aa3fc52",
   "metadata": {},
   "outputs": [
    {
     "data": {
      "text/plain": [
       "{10, 11, 12, 13, 'A', 'D'}"
      ]
     },
     "execution_count": 322,
     "metadata": {},
     "output_type": "execute_result"
    }
   ],
   "source": [
    "A and C   ## doubt"
   ]
  },
  {
   "cell_type": "code",
   "execution_count": 324,
   "id": "2fc72bc9-2794-4ffe-9bc0-a1c327d52589",
   "metadata": {},
   "outputs": [
    {
     "data": {
      "text/plain": [
       "{'A', 'B', 'C', 'D', 'E'}"
      ]
     },
     "execution_count": 324,
     "metadata": {},
     "output_type": "execute_result"
    }
   ],
   "source": [
    "C and A  ## doubt"
   ]
  },
  {
   "cell_type": "markdown",
   "id": "7ad23db7-8bd4-46f1-a064-c34d1845db8a",
   "metadata": {},
   "source": [
    "Finding the difference between two sets"
   ]
  },
  {
   "cell_type": "code",
   "execution_count": 329,
   "id": "83c5201d-4c8b-431e-9989-d3866c264706",
   "metadata": {},
   "outputs": [
    {
     "data": {
      "text/plain": [
       "{'A', 'B', 'C', 'D', 'E'}"
      ]
     },
     "execution_count": 329,
     "metadata": {},
     "output_type": "execute_result"
    }
   ],
   "source": [
    "A"
   ]
  },
  {
   "cell_type": "code",
   "execution_count": 331,
   "id": "52f664ad-73a0-4e1b-b31f-8556be2a5d71",
   "metadata": {},
   "outputs": [
    {
     "data": {
      "text/plain": [
       "{10, 11, 12, 13, 'A', 'D'}"
      ]
     },
     "execution_count": 331,
     "metadata": {},
     "output_type": "execute_result"
    }
   ],
   "source": [
    "C"
   ]
  },
  {
   "cell_type": "code",
   "execution_count": 333,
   "id": "0cabc00e-012b-46c6-91f7-6ae903bde7aa",
   "metadata": {},
   "outputs": [
    {
     "data": {
      "text/plain": [
       "{'B', 'C', 'E'}"
      ]
     },
     "execution_count": 333,
     "metadata": {},
     "output_type": "execute_result"
    }
   ],
   "source": [
    "A-C"
   ]
  },
  {
   "cell_type": "code",
   "execution_count": 335,
   "id": "13998a39-f99f-46e5-af52-451d3103b875",
   "metadata": {},
   "outputs": [
    {
     "data": {
      "text/plain": [
       "{10, 11, 12, 13}"
      ]
     },
     "execution_count": 335,
     "metadata": {},
     "output_type": "execute_result"
    }
   ],
   "source": [
    "C-A"
   ]
  },
  {
   "cell_type": "code",
   "execution_count": 337,
   "id": "b8a0eb75-89c9-4f2b-ae60-6db7c6b82626",
   "metadata": {},
   "outputs": [
    {
     "data": {
      "text/plain": [
       "False"
      ]
     },
     "execution_count": 337,
     "metadata": {},
     "output_type": "execute_result"
    }
   ],
   "source": [
    "A - C == C - A"
   ]
  },
  {
   "cell_type": "markdown",
   "id": "107762c6-5c04-4d27-b646-ca30b715252e",
   "metadata": {},
   "source": [
    "Finding the symmetric difference between two sets"
   ]
  },
  {
   "cell_type": "code",
   "execution_count": 340,
   "id": "0b583e7a-ff8d-43a1-b829-7709be208f5e",
   "metadata": {},
   "outputs": [
    {
     "data": {
      "text/plain": [
       "{'A', 'B', 'C', 'D', 'E'}"
      ]
     },
     "execution_count": 340,
     "metadata": {},
     "output_type": "execute_result"
    }
   ],
   "source": [
    "A"
   ]
  },
  {
   "cell_type": "code",
   "execution_count": 342,
   "id": "476b552b-a2a7-49c6-8c24-56e5f118ac3b",
   "metadata": {},
   "outputs": [
    {
     "data": {
      "text/plain": [
       "{10, 11, 12, 13, 'A', 'D'}"
      ]
     },
     "execution_count": 342,
     "metadata": {},
     "output_type": "execute_result"
    }
   ],
   "source": [
    "C"
   ]
  },
  {
   "cell_type": "code",
   "execution_count": 344,
   "id": "06b91084-d2d3-43f6-b713-afebf83f4e54",
   "metadata": {},
   "outputs": [
    {
     "data": {
      "text/plain": [
       "{10, 11, 12, 13, 'B', 'C', 'E'}"
      ]
     },
     "execution_count": 344,
     "metadata": {},
     "output_type": "execute_result"
    }
   ],
   "source": [
    "A^C"
   ]
  },
  {
   "cell_type": "code",
   "execution_count": 349,
   "id": "5a417e0a-4801-4c19-aa13-a97e2d77bf29",
   "metadata": {},
   "outputs": [
    {
     "data": {
      "text/plain": [
       "True"
      ]
     },
     "execution_count": 349,
     "metadata": {},
     "output_type": "execute_result"
    }
   ],
   "source": [
    "A ^ C == C ^ A"
   ]
  },
  {
   "cell_type": "markdown",
   "id": "2fa7e93f-1686-43b7-b412-8a66bcf4a620",
   "metadata": {},
   "source": [
    "Check if two sets are disjoint"
   ]
  },
  {
   "cell_type": "code",
   "execution_count": 352,
   "id": "cdb8d07f-ed9c-4ab4-a273-bf61d926abea",
   "metadata": {},
   "outputs": [],
   "source": [
    "set_1 = {1, 2, 3}\n",
    "set_2 = {4, 5, 6}"
   ]
  },
  {
   "cell_type": "code",
   "execution_count": 354,
   "id": "1181623c-80c8-4a96-9198-a4bd4342ba83",
   "metadata": {},
   "outputs": [
    {
     "data": {
      "text/plain": [
       "True"
      ]
     },
     "execution_count": 354,
     "metadata": {},
     "output_type": "execute_result"
    }
   ],
   "source": [
    "set_1.isdisjoint(set_2)"
   ]
  },
  {
   "cell_type": "markdown",
   "id": "2168c323-5db9-4a0f-b91c-d4a65b1c134d",
   "metadata": {},
   "source": [
    "# More operations on dictionaries\n",
    "\n",
    "Here are some further operations on dictionaries which may involve tuples and sets"
   ]
  },
  {
   "cell_type": "markdown",
   "id": "54e634bc-7a12-4965-8046-14c0ac6c2cbf",
   "metadata": {},
   "source": [
    "### Example\n",
    "Retrieving key-value pairs"
   ]
  },
  {
   "cell_type": "code",
   "execution_count": 358,
   "id": "992e106a-624c-4d01-81ce-43c49e96b700",
   "metadata": {},
   "outputs": [],
   "source": [
    "person = {'name': 'Dinesh', 'age': 45, 'salary': 45800.67, 'married': True, 'qualification': ('BE', 'MSc')}"
   ]
  },
  {
   "cell_type": "code",
   "execution_count": 360,
   "id": "e2bf9af0-051b-4cdd-9252-dc78fe142ae0",
   "metadata": {},
   "outputs": [
    {
     "data": {
      "text/plain": [
       "{'name': 'Dinesh',\n",
       " 'age': 45,\n",
       " 'salary': 45800.67,\n",
       " 'married': True,\n",
       " 'qualification': ('BE', 'MSc')}"
      ]
     },
     "execution_count": 360,
     "metadata": {},
     "output_type": "execute_result"
    }
   ],
   "source": [
    "person"
   ]
  },
  {
   "cell_type": "code",
   "execution_count": 362,
   "id": "5bf99c12-02a8-4243-ba30-357cb49c38aa",
   "metadata": {},
   "outputs": [
    {
     "data": {
      "text/plain": [
       "dict_items([('name', 'Dinesh'), ('age', 45), ('salary', 45800.67), ('married', True), ('qualification', ('BE', 'MSc'))])"
      ]
     },
     "execution_count": 362,
     "metadata": {},
     "output_type": "execute_result"
    }
   ],
   "source": [
    "person.items()"
   ]
  },
  {
   "cell_type": "code",
   "execution_count": 364,
   "id": "ba5eda42-a185-4e05-911a-2cdd6d538022",
   "metadata": {},
   "outputs": [],
   "source": [
    "personitems = person.items()"
   ]
  },
  {
   "cell_type": "code",
   "execution_count": 366,
   "id": "4f2af4d2-1691-44f4-9759-db21385edd08",
   "metadata": {},
   "outputs": [
    {
     "data": {
      "text/plain": [
       "dict_items([('name', 'Dinesh'), ('age', 45), ('salary', 45800.67), ('married', True), ('qualification', ('BE', 'MSc'))])"
      ]
     },
     "execution_count": 366,
     "metadata": {},
     "output_type": "execute_result"
    }
   ],
   "source": [
    "personitems"
   ]
  },
  {
   "cell_type": "code",
   "execution_count": 368,
   "id": "adffa7cd-a412-4840-8cc3-3e7781b5ea6c",
   "metadata": {},
   "outputs": [
    {
     "data": {
      "text/plain": [
       "dict_items"
      ]
     },
     "execution_count": 368,
     "metadata": {},
     "output_type": "execute_result"
    }
   ],
   "source": [
    "type(personitems)"
   ]
  },
  {
   "cell_type": "code",
   "execution_count": 370,
   "id": "0743dcb1-616f-41d7-8de7-5975cfc5b201",
   "metadata": {},
   "outputs": [
    {
     "data": {
      "text/plain": [
       "[('name', 'Dinesh'),\n",
       " ('age', 45),\n",
       " ('salary', 45800.67),\n",
       " ('married', True),\n",
       " ('qualification', ('BE', 'MSc'))]"
      ]
     },
     "execution_count": 370,
     "metadata": {},
     "output_type": "execute_result"
    }
   ],
   "source": [
    "list(personitems)"
   ]
  },
  {
   "cell_type": "markdown",
   "id": "679b6a4c-191c-4ac5-85bf-cecc231f88d2",
   "metadata": {},
   "source": [
    "### Example\n",
    "Removing the most recent entry from a dictionary"
   ]
  },
  {
   "cell_type": "code",
   "execution_count": 375,
   "id": "f43a2cc7-622e-4267-ad6b-b22510e0d78f",
   "metadata": {},
   "outputs": [],
   "source": [
    "temp_person = {'name': 'Dinesh', 'age': 45, 'salary': 45800.67,\n",
    "               'married': True, 'qualification': ('BE', 'MSc')}"
   ]
  },
  {
   "cell_type": "code",
   "execution_count": 377,
   "id": "834f2f84-8b09-4d3e-bf39-6e61ea213fec",
   "metadata": {},
   "outputs": [
    {
     "data": {
      "text/plain": [
       "{'name': 'Dinesh',\n",
       " 'age': 45,\n",
       " 'salary': 45800.67,\n",
       " 'married': True,\n",
       " 'qualification': ('BE', 'MSc')}"
      ]
     },
     "execution_count": 377,
     "metadata": {},
     "output_type": "execute_result"
    }
   ],
   "source": [
    "temp_person"
   ]
  },
  {
   "cell_type": "code",
   "execution_count": 379,
   "id": "da25cc24-9090-43a5-9ca2-fc8e2d12a6ed",
   "metadata": {},
   "outputs": [
    {
     "data": {
      "text/plain": [
       "('qualification', ('BE', 'MSc'))"
      ]
     },
     "execution_count": 379,
     "metadata": {},
     "output_type": "execute_result"
    }
   ],
   "source": [
    "temp_person.popitem()"
   ]
  },
  {
   "cell_type": "code",
   "execution_count": 381,
   "id": "6a14bab0-6e16-4abf-93aa-508e38c5ff5a",
   "metadata": {},
   "outputs": [
    {
     "data": {
      "text/plain": [
       "{'name': 'Dinesh', 'age': 45, 'salary': 45800.67, 'married': True}"
      ]
     },
     "execution_count": 381,
     "metadata": {},
     "output_type": "execute_result"
    }
   ],
   "source": [
    "temp_person"
   ]
  },
  {
   "cell_type": "markdown",
   "id": "2c544099-7558-4318-895d-f6740174e9c8",
   "metadata": {},
   "source": [
    "### Example\n",
    "Creating dictionaries from other data structures"
   ]
  },
  {
   "cell_type": "code",
   "execution_count": 384,
   "id": "797e6843-3b97-49e9-bdb7-f1056cf21106",
   "metadata": {},
   "outputs": [],
   "source": [
    "keys = ['name', 'age', 'city']\n",
    "values = ['Alice', 25, 'London']   ## list is converted into dict"
   ]
  },
  {
   "cell_type": "code",
   "execution_count": 390,
   "id": "aaec3ffc-7576-456b-8f06-d64db53bb804",
   "metadata": {},
   "outputs": [
    {
     "data": {
      "text/plain": [
       "list"
      ]
     },
     "execution_count": 390,
     "metadata": {},
     "output_type": "execute_result"
    }
   ],
   "source": [
    "type(keys)"
   ]
  },
  {
   "cell_type": "code",
   "execution_count": 394,
   "id": "4863dd51-cfbe-4bee-82d6-d60e722a9d7c",
   "metadata": {},
   "outputs": [
    {
     "data": {
      "text/plain": [
       "list"
      ]
     },
     "execution_count": 394,
     "metadata": {},
     "output_type": "execute_result"
    }
   ],
   "source": [
    "type(values)"
   ]
  },
  {
   "cell_type": "code",
   "execution_count": 396,
   "id": "81a7630e-9f68-4802-9292-8bea1af895b3",
   "metadata": {},
   "outputs": [],
   "source": [
    "from_lists_dict = dict(zip(keys, values))"
   ]
  },
  {
   "cell_type": "markdown",
   "id": "fd3381ef-d849-409e-9454-9bca542a9d31",
   "metadata": {},
   "source": [
    "The `zip()` operator in Python iterates over multiple iterators."
   ]
  },
  {
   "cell_type": "code",
   "execution_count": 399,
   "id": "a5bf35c5-b9e5-440c-9183-1d9c02a9696e",
   "metadata": {},
   "outputs": [
    {
     "data": {
      "text/plain": [
       "{'name': 'Alice', 'age': 25, 'city': 'London'}"
      ]
     },
     "execution_count": 399,
     "metadata": {},
     "output_type": "execute_result"
    }
   ],
   "source": [
    "from_lists_dict"
   ]
  },
  {
   "cell_type": "code",
   "execution_count": 401,
   "id": "cb196caa-5547-47b5-9bd4-1e251ffe254c",
   "metadata": {},
   "outputs": [
    {
     "data": {
      "text/plain": [
       "dict"
      ]
     },
     "execution_count": 401,
     "metadata": {},
     "output_type": "execute_result"
    }
   ],
   "source": [
    "type(from_lists_dict)"
   ]
  },
  {
   "cell_type": "code",
   "execution_count": 403,
   "id": "0124c8d1-7397-4fb4-a457-28d407c84d3e",
   "metadata": {},
   "outputs": [],
   "source": [
    "keys = ('name', 'age', 'city')              ## convert tuple to dict\n",
    "values = ('Alice', 25, 'London')"
   ]
  },
  {
   "cell_type": "code",
   "execution_count": 405,
   "id": "de01081d-ec60-44c8-9dbf-5d0e273220fd",
   "metadata": {},
   "outputs": [
    {
     "data": {
      "text/plain": [
       "tuple"
      ]
     },
     "execution_count": 405,
     "metadata": {},
     "output_type": "execute_result"
    }
   ],
   "source": [
    "type(keys)"
   ]
  },
  {
   "cell_type": "code",
   "execution_count": 407,
   "id": "f8c7ec22-882d-4fb5-b28a-1fa00fc348f6",
   "metadata": {},
   "outputs": [
    {
     "data": {
      "text/plain": [
       "tuple"
      ]
     },
     "execution_count": 407,
     "metadata": {},
     "output_type": "execute_result"
    }
   ],
   "source": [
    "type(values)"
   ]
  },
  {
   "cell_type": "code",
   "execution_count": 409,
   "id": "70c46568-0bb1-4c37-98b8-3c22627c573d",
   "metadata": {},
   "outputs": [],
   "source": [
    "from_tuples_dict = dict(zip(keys, values))"
   ]
  },
  {
   "cell_type": "code",
   "execution_count": 411,
   "id": "5b510fb3-5023-4e65-b09e-3aa12cd3bffa",
   "metadata": {},
   "outputs": [
    {
     "data": {
      "text/plain": [
       "{'name': 'Alice', 'age': 25, 'city': 'London'}"
      ]
     },
     "execution_count": 411,
     "metadata": {},
     "output_type": "execute_result"
    }
   ],
   "source": [
    "from_tuples_dict"
   ]
  },
  {
   "cell_type": "code",
   "execution_count": 415,
   "id": "9946dee1-3827-4d4a-a9e5-a72cb896262f",
   "metadata": {},
   "outputs": [
    {
     "data": {
      "text/plain": [
       "dict"
      ]
     },
     "execution_count": 415,
     "metadata": {},
     "output_type": "execute_result"
    }
   ],
   "source": [
    "type(from_tuples_dict)"
   ]
  },
  {
   "cell_type": "code",
   "execution_count": 417,
   "id": "a2132143-e1a7-4b37-8073-2dd4060fe861",
   "metadata": {},
   "outputs": [],
   "source": [
    "keys = {'name', 'age', 'city'}\n",
    "values = {'Alice', 25, 'London'}     ##convert set to dict"
   ]
  },
  {
   "cell_type": "code",
   "execution_count": 419,
   "id": "331fab37-63a1-47ed-82e2-7b7b42cb68ae",
   "metadata": {},
   "outputs": [
    {
     "data": {
      "text/plain": [
       "set"
      ]
     },
     "execution_count": 419,
     "metadata": {},
     "output_type": "execute_result"
    }
   ],
   "source": [
    "type(keys)"
   ]
  },
  {
   "cell_type": "code",
   "execution_count": 421,
   "id": "398fb1da-ef4d-40f1-86ef-a5b9ea2081f2",
   "metadata": {},
   "outputs": [
    {
     "data": {
      "text/plain": [
       "set"
      ]
     },
     "execution_count": 421,
     "metadata": {},
     "output_type": "execute_result"
    }
   ],
   "source": [
    "type(values)"
   ]
  },
  {
   "cell_type": "code",
   "execution_count": 423,
   "id": "1c6afe4d-af97-4487-a77a-574afbf1690e",
   "metadata": {},
   "outputs": [],
   "source": [
    "from_set_dict = dict(zip(keys, values))"
   ]
  },
  {
   "cell_type": "code",
   "execution_count": 425,
   "id": "c1d10643-e617-47a8-ba9a-b844425c29d6",
   "metadata": {},
   "outputs": [
    {
     "data": {
      "text/plain": [
       "{'age': 'Alice', 'name': 25, 'city': 'London'}"
      ]
     },
     "execution_count": 425,
     "metadata": {},
     "output_type": "execute_result"
    }
   ],
   "source": [
    "from_set_dict"
   ]
  },
  {
   "cell_type": "code",
   "execution_count": 427,
   "id": "1073d67d-f2ab-4e88-8fb4-ca0526f0ca15",
   "metadata": {},
   "outputs": [
    {
     "data": {
      "text/plain": [
       "dict"
      ]
     },
     "execution_count": 427,
     "metadata": {},
     "output_type": "execute_result"
    }
   ],
   "source": [
    "type(from_set_dict)"
   ]
  },
  {
   "cell_type": "markdown",
   "id": "46cf49c5-b619-460f-bfc4-f902d3dd9631",
   "metadata": {},
   "source": [
    "Though dictionaries themselves are not ordered, they require a one-to-one map of keys and values."
   ]
  },
  {
   "cell_type": "code",
   "execution_count": null,
   "id": "1199a32f-1b7e-41d1-8bbd-92f271da92c2",
   "metadata": {},
   "outputs": [],
   "source": []
  }
 ],
 "metadata": {
  "kernelspec": {
   "display_name": "Python [conda env:base] *",
   "language": "python",
   "name": "conda-base-py"
  },
  "language_info": {
   "codemirror_mode": {
    "name": "ipython",
    "version": 3
   },
   "file_extension": ".py",
   "mimetype": "text/x-python",
   "name": "python",
   "nbconvert_exporter": "python",
   "pygments_lexer": "ipython3",
   "version": "3.12.7"
  }
 },
 "nbformat": 4,
 "nbformat_minor": 5
}
